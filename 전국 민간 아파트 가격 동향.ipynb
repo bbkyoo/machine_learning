{
 "cells": [
  {
   "cell_type": "markdown",
   "id": "0deb6848",
   "metadata": {},
   "source": [
    "## 데이터셋"
   ]
  },
  {
   "cell_type": "markdown",
   "id": "55442224",
   "metadata": {},
   "source": [
    "https://www.data.go.kr/data/15061057/fileData.do"
   ]
  },
  {
   "cell_type": "code",
   "execution_count": 1,
   "id": "e64327f8",
   "metadata": {},
   "outputs": [],
   "source": [
    "import pandas as pd\n",
    "import numpy as np\n",
    "import matplotlib.pyplot as plt\n",
    "import seaborn as sns"
   ]
  },
  {
   "cell_type": "markdown",
   "id": "ac64b533",
   "metadata": {},
   "source": [
    "* 데이터 적재"
   ]
  },
  {
   "cell_type": "code",
   "execution_count": 2,
   "id": "7c473915",
   "metadata": {},
   "outputs": [],
   "source": [
    "df = pd.read_csv(\"주택도시보증공사_전국 신규 민간아파트 분양가격 동향_20210531.csv\", encoding=\"cp949\")"
   ]
  },
  {
   "cell_type": "markdown",
   "id": "4b523213",
   "metadata": {},
   "source": [
    "* 데이터 형상"
   ]
  },
  {
   "cell_type": "code",
   "execution_count": 3,
   "id": "0f5b6daf",
   "metadata": {},
   "outputs": [
    {
     "data": {
      "text/plain": [
       "(5780, 5)"
      ]
     },
     "execution_count": 3,
     "metadata": {},
     "output_type": "execute_result"
    }
   ],
   "source": [
    "df.shape"
   ]
  },
  {
   "cell_type": "markdown",
   "id": "62e4a3cc",
   "metadata": {},
   "source": [
    "* 데이터 미리보기"
   ]
  },
  {
   "cell_type": "code",
   "execution_count": 4,
   "id": "725f532f",
   "metadata": {},
   "outputs": [
    {
     "data": {
      "text/html": [
       "<div>\n",
       "<style scoped>\n",
       "    .dataframe tbody tr th:only-of-type {\n",
       "        vertical-align: middle;\n",
       "    }\n",
       "\n",
       "    .dataframe tbody tr th {\n",
       "        vertical-align: top;\n",
       "    }\n",
       "\n",
       "    .dataframe thead th {\n",
       "        text-align: right;\n",
       "    }\n",
       "</style>\n",
       "<table border=\"1\" class=\"dataframe\">\n",
       "  <thead>\n",
       "    <tr style=\"text-align: right;\">\n",
       "      <th></th>\n",
       "      <th>지역명</th>\n",
       "      <th>규모구분</th>\n",
       "      <th>연도</th>\n",
       "      <th>월</th>\n",
       "      <th>분양가격(㎡)</th>\n",
       "    </tr>\n",
       "  </thead>\n",
       "  <tbody>\n",
       "    <tr>\n",
       "      <th>0</th>\n",
       "      <td>서울</td>\n",
       "      <td>모든면적</td>\n",
       "      <td>2015</td>\n",
       "      <td>10</td>\n",
       "      <td>5841</td>\n",
       "    </tr>\n",
       "    <tr>\n",
       "      <th>1</th>\n",
       "      <td>서울</td>\n",
       "      <td>전용면적 60㎡이하</td>\n",
       "      <td>2015</td>\n",
       "      <td>10</td>\n",
       "      <td>5652</td>\n",
       "    </tr>\n",
       "    <tr>\n",
       "      <th>2</th>\n",
       "      <td>서울</td>\n",
       "      <td>전용면적 60㎡초과 85㎡이하</td>\n",
       "      <td>2015</td>\n",
       "      <td>10</td>\n",
       "      <td>5882</td>\n",
       "    </tr>\n",
       "    <tr>\n",
       "      <th>3</th>\n",
       "      <td>서울</td>\n",
       "      <td>전용면적 85㎡초과 102㎡이하</td>\n",
       "      <td>2015</td>\n",
       "      <td>10</td>\n",
       "      <td>5721</td>\n",
       "    </tr>\n",
       "    <tr>\n",
       "      <th>4</th>\n",
       "      <td>서울</td>\n",
       "      <td>전용면적 102㎡초과</td>\n",
       "      <td>2015</td>\n",
       "      <td>10</td>\n",
       "      <td>5879</td>\n",
       "    </tr>\n",
       "  </tbody>\n",
       "</table>\n",
       "</div>"
      ],
      "text/plain": [
       "  지역명               규모구분    연도   월 분양가격(㎡)\n",
       "0  서울               모든면적  2015  10    5841\n",
       "1  서울         전용면적 60㎡이하  2015  10    5652\n",
       "2  서울   전용면적 60㎡초과 85㎡이하  2015  10    5882\n",
       "3  서울  전용면적 85㎡초과 102㎡이하  2015  10    5721\n",
       "4  서울        전용면적 102㎡초과  2015  10    5879"
      ]
     },
     "execution_count": 4,
     "metadata": {},
     "output_type": "execute_result"
    }
   ],
   "source": [
    "df.head()"
   ]
  },
  {
   "cell_type": "code",
   "execution_count": 5,
   "id": "09683474",
   "metadata": {},
   "outputs": [
    {
     "data": {
      "text/html": [
       "<div>\n",
       "<style scoped>\n",
       "    .dataframe tbody tr th:only-of-type {\n",
       "        vertical-align: middle;\n",
       "    }\n",
       "\n",
       "    .dataframe tbody tr th {\n",
       "        vertical-align: top;\n",
       "    }\n",
       "\n",
       "    .dataframe thead th {\n",
       "        text-align: right;\n",
       "    }\n",
       "</style>\n",
       "<table border=\"1\" class=\"dataframe\">\n",
       "  <thead>\n",
       "    <tr style=\"text-align: right;\">\n",
       "      <th></th>\n",
       "      <th>지역명</th>\n",
       "      <th>규모구분</th>\n",
       "      <th>연도</th>\n",
       "      <th>월</th>\n",
       "      <th>분양가격(㎡)</th>\n",
       "    </tr>\n",
       "  </thead>\n",
       "  <tbody>\n",
       "    <tr>\n",
       "      <th>5775</th>\n",
       "      <td>제주</td>\n",
       "      <td>모든면적</td>\n",
       "      <td>2021</td>\n",
       "      <td>5</td>\n",
       "      <td>7510</td>\n",
       "    </tr>\n",
       "    <tr>\n",
       "      <th>5776</th>\n",
       "      <td>제주</td>\n",
       "      <td>전용면적 60㎡이하</td>\n",
       "      <td>2021</td>\n",
       "      <td>5</td>\n",
       "      <td>NaN</td>\n",
       "    </tr>\n",
       "    <tr>\n",
       "      <th>5777</th>\n",
       "      <td>제주</td>\n",
       "      <td>전용면적 60㎡초과 85㎡이하</td>\n",
       "      <td>2021</td>\n",
       "      <td>5</td>\n",
       "      <td>7497</td>\n",
       "    </tr>\n",
       "    <tr>\n",
       "      <th>5778</th>\n",
       "      <td>제주</td>\n",
       "      <td>전용면적 85㎡초과 102㎡이하</td>\n",
       "      <td>2021</td>\n",
       "      <td>5</td>\n",
       "      <td>NaN</td>\n",
       "    </tr>\n",
       "    <tr>\n",
       "      <th>5779</th>\n",
       "      <td>제주</td>\n",
       "      <td>전용면적 102㎡초과</td>\n",
       "      <td>2021</td>\n",
       "      <td>5</td>\n",
       "      <td>7727</td>\n",
       "    </tr>\n",
       "  </tbody>\n",
       "</table>\n",
       "</div>"
      ],
      "text/plain": [
       "     지역명               규모구분    연도  월 분양가격(㎡)\n",
       "5775  제주               모든면적  2021  5    7510\n",
       "5776  제주         전용면적 60㎡이하  2021  5     NaN\n",
       "5777  제주   전용면적 60㎡초과 85㎡이하  2021  5    7497\n",
       "5778  제주  전용면적 85㎡초과 102㎡이하  2021  5     NaN\n",
       "5779  제주        전용면적 102㎡초과  2021  5    7727"
      ]
     },
     "execution_count": 5,
     "metadata": {},
     "output_type": "execute_result"
    }
   ],
   "source": [
    "df.tail()"
   ]
  },
  {
   "cell_type": "markdown",
   "id": "526d25fd",
   "metadata": {},
   "source": [
    "* 데이터 요약하기"
   ]
  },
  {
   "cell_type": "code",
   "execution_count": 6,
   "id": "d9030b8a",
   "metadata": {},
   "outputs": [
    {
     "name": "stdout",
     "output_type": "stream",
     "text": [
      "<class 'pandas.core.frame.DataFrame'>\n",
      "RangeIndex: 5780 entries, 0 to 5779\n",
      "Data columns (total 5 columns):\n",
      " #   Column   Non-Null Count  Dtype \n",
      "---  ------   --------------  ----- \n",
      " 0   지역명      5780 non-null   object\n",
      " 1   규모구분     5780 non-null   object\n",
      " 2   연도       5780 non-null   int64 \n",
      " 3   월        5780 non-null   int64 \n",
      " 4   분양가격(㎡)  5331 non-null   object\n",
      "dtypes: int64(2), object(3)\n",
      "memory usage: 225.9+ KB\n"
     ]
    }
   ],
   "source": [
    "df.info()"
   ]
  },
  {
   "cell_type": "markdown",
   "id": "619020f9",
   "metadata": {},
   "source": [
    "* 결측치 확인"
   ]
  },
  {
   "cell_type": "code",
   "execution_count": 7,
   "id": "4b41def1",
   "metadata": {},
   "outputs": [
    {
     "data": {
      "text/html": [
       "<div>\n",
       "<style scoped>\n",
       "    .dataframe tbody tr th:only-of-type {\n",
       "        vertical-align: middle;\n",
       "    }\n",
       "\n",
       "    .dataframe tbody tr th {\n",
       "        vertical-align: top;\n",
       "    }\n",
       "\n",
       "    .dataframe thead th {\n",
       "        text-align: right;\n",
       "    }\n",
       "</style>\n",
       "<table border=\"1\" class=\"dataframe\">\n",
       "  <thead>\n",
       "    <tr style=\"text-align: right;\">\n",
       "      <th></th>\n",
       "      <th>지역명</th>\n",
       "      <th>규모구분</th>\n",
       "      <th>연도</th>\n",
       "      <th>월</th>\n",
       "      <th>분양가격(㎡)</th>\n",
       "    </tr>\n",
       "  </thead>\n",
       "  <tbody>\n",
       "    <tr>\n",
       "      <th>0</th>\n",
       "      <td>False</td>\n",
       "      <td>False</td>\n",
       "      <td>False</td>\n",
       "      <td>False</td>\n",
       "      <td>False</td>\n",
       "    </tr>\n",
       "    <tr>\n",
       "      <th>1</th>\n",
       "      <td>False</td>\n",
       "      <td>False</td>\n",
       "      <td>False</td>\n",
       "      <td>False</td>\n",
       "      <td>False</td>\n",
       "    </tr>\n",
       "    <tr>\n",
       "      <th>2</th>\n",
       "      <td>False</td>\n",
       "      <td>False</td>\n",
       "      <td>False</td>\n",
       "      <td>False</td>\n",
       "      <td>False</td>\n",
       "    </tr>\n",
       "    <tr>\n",
       "      <th>3</th>\n",
       "      <td>False</td>\n",
       "      <td>False</td>\n",
       "      <td>False</td>\n",
       "      <td>False</td>\n",
       "      <td>False</td>\n",
       "    </tr>\n",
       "    <tr>\n",
       "      <th>4</th>\n",
       "      <td>False</td>\n",
       "      <td>False</td>\n",
       "      <td>False</td>\n",
       "      <td>False</td>\n",
       "      <td>False</td>\n",
       "    </tr>\n",
       "    <tr>\n",
       "      <th>...</th>\n",
       "      <td>...</td>\n",
       "      <td>...</td>\n",
       "      <td>...</td>\n",
       "      <td>...</td>\n",
       "      <td>...</td>\n",
       "    </tr>\n",
       "    <tr>\n",
       "      <th>5775</th>\n",
       "      <td>False</td>\n",
       "      <td>False</td>\n",
       "      <td>False</td>\n",
       "      <td>False</td>\n",
       "      <td>False</td>\n",
       "    </tr>\n",
       "    <tr>\n",
       "      <th>5776</th>\n",
       "      <td>False</td>\n",
       "      <td>False</td>\n",
       "      <td>False</td>\n",
       "      <td>False</td>\n",
       "      <td>True</td>\n",
       "    </tr>\n",
       "    <tr>\n",
       "      <th>5777</th>\n",
       "      <td>False</td>\n",
       "      <td>False</td>\n",
       "      <td>False</td>\n",
       "      <td>False</td>\n",
       "      <td>False</td>\n",
       "    </tr>\n",
       "    <tr>\n",
       "      <th>5778</th>\n",
       "      <td>False</td>\n",
       "      <td>False</td>\n",
       "      <td>False</td>\n",
       "      <td>False</td>\n",
       "      <td>True</td>\n",
       "    </tr>\n",
       "    <tr>\n",
       "      <th>5779</th>\n",
       "      <td>False</td>\n",
       "      <td>False</td>\n",
       "      <td>False</td>\n",
       "      <td>False</td>\n",
       "      <td>False</td>\n",
       "    </tr>\n",
       "  </tbody>\n",
       "</table>\n",
       "<p>5780 rows × 5 columns</p>\n",
       "</div>"
      ],
      "text/plain": [
       "        지역명   규모구분     연도      월  분양가격(㎡)\n",
       "0     False  False  False  False    False\n",
       "1     False  False  False  False    False\n",
       "2     False  False  False  False    False\n",
       "3     False  False  False  False    False\n",
       "4     False  False  False  False    False\n",
       "...     ...    ...    ...    ...      ...\n",
       "5775  False  False  False  False    False\n",
       "5776  False  False  False  False     True\n",
       "5777  False  False  False  False    False\n",
       "5778  False  False  False  False     True\n",
       "5779  False  False  False  False    False\n",
       "\n",
       "[5780 rows x 5 columns]"
      ]
     },
     "execution_count": 7,
     "metadata": {},
     "output_type": "execute_result"
    }
   ],
   "source": [
    "df.isnull()"
   ]
  },
  {
   "cell_type": "code",
   "execution_count": 8,
   "id": "750521ae",
   "metadata": {},
   "outputs": [
    {
     "data": {
      "text/plain": [
       "지역명          0\n",
       "규모구분         0\n",
       "연도           0\n",
       "월            0\n",
       "분양가격(㎡)    449\n",
       "dtype: int64"
      ]
     },
     "execution_count": 8,
     "metadata": {},
     "output_type": "execute_result"
    }
   ],
   "source": [
    "df.isnull().sum()"
   ]
  },
  {
   "cell_type": "markdown",
   "id": "048acb2a",
   "metadata": {},
   "source": [
    "* 분양각격 data type"
   ]
  },
  {
   "cell_type": "code",
   "execution_count": 10,
   "id": "b5f1421d",
   "metadata": {},
   "outputs": [
    {
     "data": {
      "text/plain": [
       "0    5841\n",
       "1    5652\n",
       "2    5882\n",
       "3    5721\n",
       "4    5879\n",
       "Name: 분양가격(㎡), dtype: object"
      ]
     },
     "execution_count": 10,
     "metadata": {},
     "output_type": "execute_result"
    }
   ],
   "source": [
    "df[\"분양가격(㎡)\"].head()"
   ]
  },
  {
   "cell_type": "code",
   "execution_count": 11,
   "id": "c9430263",
   "metadata": {},
   "outputs": [
    {
     "ename": "ValueError",
     "evalue": "invalid literal for int() with base 10: '  '",
     "output_type": "error",
     "traceback": [
      "\u001b[1;31m---------------------------------------------------------------------------\u001b[0m",
      "\u001b[1;31mValueError\u001b[0m                                Traceback (most recent call last)",
      "\u001b[1;32m<ipython-input-11-11fa3041f66f>\u001b[0m in \u001b[0;36m<module>\u001b[1;34m\u001b[0m\n\u001b[1;32m----> 1\u001b[1;33m \u001b[0mdf\u001b[0m\u001b[1;33m[\u001b[0m\u001b[1;34m\"분양가격(㎡)\"\u001b[0m\u001b[1;33m]\u001b[0m\u001b[1;33m.\u001b[0m\u001b[0mastype\u001b[0m\u001b[1;33m(\u001b[0m\u001b[0mint\u001b[0m\u001b[1;33m)\u001b[0m\u001b[1;33m\u001b[0m\u001b[1;33m\u001b[0m\u001b[0m\n\u001b[0m",
      "\u001b[1;32m~\\Anaconda3\\lib\\site-packages\\pandas\\core\\generic.py\u001b[0m in \u001b[0;36mastype\u001b[1;34m(self, dtype, copy, errors)\u001b[0m\n\u001b[0;32m   5875\u001b[0m         \u001b[1;32melse\u001b[0m\u001b[1;33m:\u001b[0m\u001b[1;33m\u001b[0m\u001b[1;33m\u001b[0m\u001b[0m\n\u001b[0;32m   5876\u001b[0m             \u001b[1;31m# else, only a single dtype is given\u001b[0m\u001b[1;33m\u001b[0m\u001b[1;33m\u001b[0m\u001b[1;33m\u001b[0m\u001b[0m\n\u001b[1;32m-> 5877\u001b[1;33m             \u001b[0mnew_data\u001b[0m \u001b[1;33m=\u001b[0m \u001b[0mself\u001b[0m\u001b[1;33m.\u001b[0m\u001b[0m_mgr\u001b[0m\u001b[1;33m.\u001b[0m\u001b[0mastype\u001b[0m\u001b[1;33m(\u001b[0m\u001b[0mdtype\u001b[0m\u001b[1;33m=\u001b[0m\u001b[0mdtype\u001b[0m\u001b[1;33m,\u001b[0m \u001b[0mcopy\u001b[0m\u001b[1;33m=\u001b[0m\u001b[0mcopy\u001b[0m\u001b[1;33m,\u001b[0m \u001b[0merrors\u001b[0m\u001b[1;33m=\u001b[0m\u001b[0merrors\u001b[0m\u001b[1;33m)\u001b[0m\u001b[1;33m\u001b[0m\u001b[1;33m\u001b[0m\u001b[0m\n\u001b[0m\u001b[0;32m   5878\u001b[0m             \u001b[1;32mreturn\u001b[0m \u001b[0mself\u001b[0m\u001b[1;33m.\u001b[0m\u001b[0m_constructor\u001b[0m\u001b[1;33m(\u001b[0m\u001b[0mnew_data\u001b[0m\u001b[1;33m)\u001b[0m\u001b[1;33m.\u001b[0m\u001b[0m__finalize__\u001b[0m\u001b[1;33m(\u001b[0m\u001b[0mself\u001b[0m\u001b[1;33m,\u001b[0m \u001b[0mmethod\u001b[0m\u001b[1;33m=\u001b[0m\u001b[1;34m\"astype\"\u001b[0m\u001b[1;33m)\u001b[0m\u001b[1;33m\u001b[0m\u001b[1;33m\u001b[0m\u001b[0m\n\u001b[0;32m   5879\u001b[0m \u001b[1;33m\u001b[0m\u001b[0m\n",
      "\u001b[1;32m~\\Anaconda3\\lib\\site-packages\\pandas\\core\\internals\\managers.py\u001b[0m in \u001b[0;36mastype\u001b[1;34m(self, dtype, copy, errors)\u001b[0m\n\u001b[0;32m    629\u001b[0m         \u001b[0mself\u001b[0m\u001b[1;33m,\u001b[0m \u001b[0mdtype\u001b[0m\u001b[1;33m,\u001b[0m \u001b[0mcopy\u001b[0m\u001b[1;33m:\u001b[0m \u001b[0mbool\u001b[0m \u001b[1;33m=\u001b[0m \u001b[1;32mFalse\u001b[0m\u001b[1;33m,\u001b[0m \u001b[0merrors\u001b[0m\u001b[1;33m:\u001b[0m \u001b[0mstr\u001b[0m \u001b[1;33m=\u001b[0m \u001b[1;34m\"raise\"\u001b[0m\u001b[1;33m\u001b[0m\u001b[1;33m\u001b[0m\u001b[0m\n\u001b[0;32m    630\u001b[0m     ) -> \"BlockManager\":\n\u001b[1;32m--> 631\u001b[1;33m         \u001b[1;32mreturn\u001b[0m \u001b[0mself\u001b[0m\u001b[1;33m.\u001b[0m\u001b[0mapply\u001b[0m\u001b[1;33m(\u001b[0m\u001b[1;34m\"astype\"\u001b[0m\u001b[1;33m,\u001b[0m \u001b[0mdtype\u001b[0m\u001b[1;33m=\u001b[0m\u001b[0mdtype\u001b[0m\u001b[1;33m,\u001b[0m \u001b[0mcopy\u001b[0m\u001b[1;33m=\u001b[0m\u001b[0mcopy\u001b[0m\u001b[1;33m,\u001b[0m \u001b[0merrors\u001b[0m\u001b[1;33m=\u001b[0m\u001b[0merrors\u001b[0m\u001b[1;33m)\u001b[0m\u001b[1;33m\u001b[0m\u001b[1;33m\u001b[0m\u001b[0m\n\u001b[0m\u001b[0;32m    632\u001b[0m \u001b[1;33m\u001b[0m\u001b[0m\n\u001b[0;32m    633\u001b[0m     def convert(\n",
      "\u001b[1;32m~\\Anaconda3\\lib\\site-packages\\pandas\\core\\internals\\managers.py\u001b[0m in \u001b[0;36mapply\u001b[1;34m(self, f, align_keys, ignore_failures, **kwargs)\u001b[0m\n\u001b[0;32m    425\u001b[0m                     \u001b[0mapplied\u001b[0m \u001b[1;33m=\u001b[0m \u001b[0mb\u001b[0m\u001b[1;33m.\u001b[0m\u001b[0mapply\u001b[0m\u001b[1;33m(\u001b[0m\u001b[0mf\u001b[0m\u001b[1;33m,\u001b[0m \u001b[1;33m**\u001b[0m\u001b[0mkwargs\u001b[0m\u001b[1;33m)\u001b[0m\u001b[1;33m\u001b[0m\u001b[1;33m\u001b[0m\u001b[0m\n\u001b[0;32m    426\u001b[0m                 \u001b[1;32melse\u001b[0m\u001b[1;33m:\u001b[0m\u001b[1;33m\u001b[0m\u001b[1;33m\u001b[0m\u001b[0m\n\u001b[1;32m--> 427\u001b[1;33m                     \u001b[0mapplied\u001b[0m \u001b[1;33m=\u001b[0m \u001b[0mgetattr\u001b[0m\u001b[1;33m(\u001b[0m\u001b[0mb\u001b[0m\u001b[1;33m,\u001b[0m \u001b[0mf\u001b[0m\u001b[1;33m)\u001b[0m\u001b[1;33m(\u001b[0m\u001b[1;33m**\u001b[0m\u001b[0mkwargs\u001b[0m\u001b[1;33m)\u001b[0m\u001b[1;33m\u001b[0m\u001b[1;33m\u001b[0m\u001b[0m\n\u001b[0m\u001b[0;32m    428\u001b[0m             \u001b[1;32mexcept\u001b[0m \u001b[1;33m(\u001b[0m\u001b[0mTypeError\u001b[0m\u001b[1;33m,\u001b[0m \u001b[0mNotImplementedError\u001b[0m\u001b[1;33m)\u001b[0m\u001b[1;33m:\u001b[0m\u001b[1;33m\u001b[0m\u001b[1;33m\u001b[0m\u001b[0m\n\u001b[0;32m    429\u001b[0m                 \u001b[1;32mif\u001b[0m \u001b[1;32mnot\u001b[0m \u001b[0mignore_failures\u001b[0m\u001b[1;33m:\u001b[0m\u001b[1;33m\u001b[0m\u001b[1;33m\u001b[0m\u001b[0m\n",
      "\u001b[1;32m~\\Anaconda3\\lib\\site-packages\\pandas\\core\\internals\\blocks.py\u001b[0m in \u001b[0;36mastype\u001b[1;34m(self, dtype, copy, errors)\u001b[0m\n\u001b[0;32m    671\u001b[0m             \u001b[0mvals1d\u001b[0m \u001b[1;33m=\u001b[0m \u001b[0mvalues\u001b[0m\u001b[1;33m.\u001b[0m\u001b[0mravel\u001b[0m\u001b[1;33m(\u001b[0m\u001b[1;33m)\u001b[0m\u001b[1;33m\u001b[0m\u001b[1;33m\u001b[0m\u001b[0m\n\u001b[0;32m    672\u001b[0m             \u001b[1;32mtry\u001b[0m\u001b[1;33m:\u001b[0m\u001b[1;33m\u001b[0m\u001b[1;33m\u001b[0m\u001b[0m\n\u001b[1;32m--> 673\u001b[1;33m                 \u001b[0mvalues\u001b[0m \u001b[1;33m=\u001b[0m \u001b[0mastype_nansafe\u001b[0m\u001b[1;33m(\u001b[0m\u001b[0mvals1d\u001b[0m\u001b[1;33m,\u001b[0m \u001b[0mdtype\u001b[0m\u001b[1;33m,\u001b[0m \u001b[0mcopy\u001b[0m\u001b[1;33m=\u001b[0m\u001b[1;32mTrue\u001b[0m\u001b[1;33m)\u001b[0m\u001b[1;33m\u001b[0m\u001b[1;33m\u001b[0m\u001b[0m\n\u001b[0m\u001b[0;32m    674\u001b[0m             \u001b[1;32mexcept\u001b[0m \u001b[1;33m(\u001b[0m\u001b[0mValueError\u001b[0m\u001b[1;33m,\u001b[0m \u001b[0mTypeError\u001b[0m\u001b[1;33m)\u001b[0m\u001b[1;33m:\u001b[0m\u001b[1;33m\u001b[0m\u001b[1;33m\u001b[0m\u001b[0m\n\u001b[0;32m    675\u001b[0m                 \u001b[1;31m# e.g. astype_nansafe can fail on object-dtype of strings\u001b[0m\u001b[1;33m\u001b[0m\u001b[1;33m\u001b[0m\u001b[1;33m\u001b[0m\u001b[0m\n",
      "\u001b[1;32m~\\Anaconda3\\lib\\site-packages\\pandas\\core\\dtypes\\cast.py\u001b[0m in \u001b[0;36mastype_nansafe\u001b[1;34m(arr, dtype, copy, skipna)\u001b[0m\n\u001b[0;32m   1072\u001b[0m         \u001b[1;31m# work around NumPy brokenness, #1987\u001b[0m\u001b[1;33m\u001b[0m\u001b[1;33m\u001b[0m\u001b[1;33m\u001b[0m\u001b[0m\n\u001b[0;32m   1073\u001b[0m         \u001b[1;32mif\u001b[0m \u001b[0mnp\u001b[0m\u001b[1;33m.\u001b[0m\u001b[0missubdtype\u001b[0m\u001b[1;33m(\u001b[0m\u001b[0mdtype\u001b[0m\u001b[1;33m.\u001b[0m\u001b[0mtype\u001b[0m\u001b[1;33m,\u001b[0m \u001b[0mnp\u001b[0m\u001b[1;33m.\u001b[0m\u001b[0minteger\u001b[0m\u001b[1;33m)\u001b[0m\u001b[1;33m:\u001b[0m\u001b[1;33m\u001b[0m\u001b[1;33m\u001b[0m\u001b[0m\n\u001b[1;32m-> 1074\u001b[1;33m             \u001b[1;32mreturn\u001b[0m \u001b[0mlib\u001b[0m\u001b[1;33m.\u001b[0m\u001b[0mastype_intsafe\u001b[0m\u001b[1;33m(\u001b[0m\u001b[0marr\u001b[0m\u001b[1;33m.\u001b[0m\u001b[0mravel\u001b[0m\u001b[1;33m(\u001b[0m\u001b[1;33m)\u001b[0m\u001b[1;33m,\u001b[0m \u001b[0mdtype\u001b[0m\u001b[1;33m)\u001b[0m\u001b[1;33m.\u001b[0m\u001b[0mreshape\u001b[0m\u001b[1;33m(\u001b[0m\u001b[0marr\u001b[0m\u001b[1;33m.\u001b[0m\u001b[0mshape\u001b[0m\u001b[1;33m)\u001b[0m\u001b[1;33m\u001b[0m\u001b[1;33m\u001b[0m\u001b[0m\n\u001b[0m\u001b[0;32m   1075\u001b[0m \u001b[1;33m\u001b[0m\u001b[0m\n\u001b[0;32m   1076\u001b[0m         \u001b[1;31m# if we have a datetime/timedelta array of objects\u001b[0m\u001b[1;33m\u001b[0m\u001b[1;33m\u001b[0m\u001b[1;33m\u001b[0m\u001b[0m\n",
      "\u001b[1;32mpandas\\_libs\\lib.pyx\u001b[0m in \u001b[0;36mpandas._libs.lib.astype_intsafe\u001b[1;34m()\u001b[0m\n",
      "\u001b[1;31mValueError\u001b[0m: invalid literal for int() with base 10: '  '"
     ]
    }
   ],
   "source": [
    "df[\"분양가격(㎡)\"].astype(int)"
   ]
  },
  {
   "cell_type": "code",
   "execution_count": 16,
   "id": "fb67e573",
   "metadata": {},
   "outputs": [
    {
     "data": {
      "text/plain": [
       "0       False\n",
       "1       False\n",
       "2       False\n",
       "3       False\n",
       "4       False\n",
       "        ...  \n",
       "5775    False\n",
       "5776    False\n",
       "5777    False\n",
       "5778    False\n",
       "5779    False\n",
       "Name: 분양가격(㎡), Length: 5780, dtype: bool"
      ]
     },
     "execution_count": 16,
     "metadata": {},
     "output_type": "execute_result"
    }
   ],
   "source": [
    "df[\"분양가격(㎡)\"] == '  '"
   ]
  },
  {
   "cell_type": "code",
   "execution_count": 15,
   "id": "bc1fba6c",
   "metadata": {},
   "outputs": [
    {
     "data": {
      "text/html": [
       "<div>\n",
       "<style scoped>\n",
       "    .dataframe tbody tr th:only-of-type {\n",
       "        vertical-align: middle;\n",
       "    }\n",
       "\n",
       "    .dataframe tbody tr th {\n",
       "        vertical-align: top;\n",
       "    }\n",
       "\n",
       "    .dataframe thead th {\n",
       "        text-align: right;\n",
       "    }\n",
       "</style>\n",
       "<table border=\"1\" class=\"dataframe\">\n",
       "  <thead>\n",
       "    <tr style=\"text-align: right;\">\n",
       "      <th></th>\n",
       "      <th>지역명</th>\n",
       "      <th>규모구분</th>\n",
       "      <th>연도</th>\n",
       "      <th>월</th>\n",
       "      <th>분양가격(㎡)</th>\n",
       "    </tr>\n",
       "  </thead>\n",
       "  <tbody>\n",
       "    <tr>\n",
       "      <th>28</th>\n",
       "      <td>광주</td>\n",
       "      <td>전용면적 85㎡초과 102㎡이하</td>\n",
       "      <td>2015</td>\n",
       "      <td>10</td>\n",
       "      <td></td>\n",
       "    </tr>\n",
       "    <tr>\n",
       "      <th>29</th>\n",
       "      <td>광주</td>\n",
       "      <td>전용면적 102㎡초과</td>\n",
       "      <td>2015</td>\n",
       "      <td>10</td>\n",
       "      <td></td>\n",
       "    </tr>\n",
       "    <tr>\n",
       "      <th>34</th>\n",
       "      <td>대전</td>\n",
       "      <td>전용면적 102㎡초과</td>\n",
       "      <td>2015</td>\n",
       "      <td>10</td>\n",
       "      <td></td>\n",
       "    </tr>\n",
       "    <tr>\n",
       "      <th>81</th>\n",
       "      <td>제주</td>\n",
       "      <td>전용면적 60㎡이하</td>\n",
       "      <td>2015</td>\n",
       "      <td>10</td>\n",
       "      <td></td>\n",
       "    </tr>\n",
       "    <tr>\n",
       "      <th>113</th>\n",
       "      <td>광주</td>\n",
       "      <td>전용면적 85㎡초과 102㎡이하</td>\n",
       "      <td>2015</td>\n",
       "      <td>11</td>\n",
       "      <td></td>\n",
       "    </tr>\n",
       "    <tr>\n",
       "      <th>114</th>\n",
       "      <td>광주</td>\n",
       "      <td>전용면적 102㎡초과</td>\n",
       "      <td>2015</td>\n",
       "      <td>11</td>\n",
       "      <td></td>\n",
       "    </tr>\n",
       "    <tr>\n",
       "      <th>119</th>\n",
       "      <td>대전</td>\n",
       "      <td>전용면적 102㎡초과</td>\n",
       "      <td>2015</td>\n",
       "      <td>11</td>\n",
       "      <td></td>\n",
       "    </tr>\n",
       "    <tr>\n",
       "      <th>166</th>\n",
       "      <td>제주</td>\n",
       "      <td>전용면적 60㎡이하</td>\n",
       "      <td>2015</td>\n",
       "      <td>11</td>\n",
       "      <td></td>\n",
       "    </tr>\n",
       "    <tr>\n",
       "      <th>198</th>\n",
       "      <td>광주</td>\n",
       "      <td>전용면적 85㎡초과 102㎡이하</td>\n",
       "      <td>2015</td>\n",
       "      <td>12</td>\n",
       "      <td></td>\n",
       "    </tr>\n",
       "    <tr>\n",
       "      <th>199</th>\n",
       "      <td>광주</td>\n",
       "      <td>전용면적 102㎡초과</td>\n",
       "      <td>2015</td>\n",
       "      <td>12</td>\n",
       "      <td></td>\n",
       "    </tr>\n",
       "    <tr>\n",
       "      <th>204</th>\n",
       "      <td>대전</td>\n",
       "      <td>전용면적 102㎡초과</td>\n",
       "      <td>2015</td>\n",
       "      <td>12</td>\n",
       "      <td></td>\n",
       "    </tr>\n",
       "    <tr>\n",
       "      <th>251</th>\n",
       "      <td>제주</td>\n",
       "      <td>전용면적 60㎡이하</td>\n",
       "      <td>2015</td>\n",
       "      <td>12</td>\n",
       "      <td></td>\n",
       "    </tr>\n",
       "    <tr>\n",
       "      <th>283</th>\n",
       "      <td>광주</td>\n",
       "      <td>전용면적 85㎡초과 102㎡이하</td>\n",
       "      <td>2016</td>\n",
       "      <td>1</td>\n",
       "      <td></td>\n",
       "    </tr>\n",
       "    <tr>\n",
       "      <th>284</th>\n",
       "      <td>광주</td>\n",
       "      <td>전용면적 102㎡초과</td>\n",
       "      <td>2016</td>\n",
       "      <td>1</td>\n",
       "      <td></td>\n",
       "    </tr>\n",
       "    <tr>\n",
       "      <th>289</th>\n",
       "      <td>대전</td>\n",
       "      <td>전용면적 102㎡초과</td>\n",
       "      <td>2016</td>\n",
       "      <td>1</td>\n",
       "      <td></td>\n",
       "    </tr>\n",
       "    <tr>\n",
       "      <th>336</th>\n",
       "      <td>제주</td>\n",
       "      <td>전용면적 60㎡이하</td>\n",
       "      <td>2016</td>\n",
       "      <td>1</td>\n",
       "      <td></td>\n",
       "    </tr>\n",
       "  </tbody>\n",
       "</table>\n",
       "</div>"
      ],
      "text/plain": [
       "    지역명               규모구분    연도   월 분양가격(㎡)\n",
       "28   광주  전용면적 85㎡초과 102㎡이하  2015  10        \n",
       "29   광주        전용면적 102㎡초과  2015  10        \n",
       "34   대전        전용면적 102㎡초과  2015  10        \n",
       "81   제주         전용면적 60㎡이하  2015  10        \n",
       "113  광주  전용면적 85㎡초과 102㎡이하  2015  11        \n",
       "114  광주        전용면적 102㎡초과  2015  11        \n",
       "119  대전        전용면적 102㎡초과  2015  11        \n",
       "166  제주         전용면적 60㎡이하  2015  11        \n",
       "198  광주  전용면적 85㎡초과 102㎡이하  2015  12        \n",
       "199  광주        전용면적 102㎡초과  2015  12        \n",
       "204  대전        전용면적 102㎡초과  2015  12        \n",
       "251  제주         전용면적 60㎡이하  2015  12        \n",
       "283  광주  전용면적 85㎡초과 102㎡이하  2016   1        \n",
       "284  광주        전용면적 102㎡초과  2016   1        \n",
       "289  대전        전용면적 102㎡초과  2016   1        \n",
       "336  제주         전용면적 60㎡이하  2016   1        "
      ]
     },
     "execution_count": 15,
     "metadata": {},
     "output_type": "execute_result"
    }
   ],
   "source": [
    "df[df[\"분양가격(㎡)\"] == '  ']"
   ]
  },
  {
   "cell_type": "code",
   "execution_count": 17,
   "id": "9a5038ed",
   "metadata": {},
   "outputs": [],
   "source": [
    "df[\"분양가격(㎡)\"] = df[\"분양가격(㎡)\"].replace('  ', np.nan) "
   ]
  },
  {
   "cell_type": "code",
   "execution_count": 18,
   "id": "8682939f",
   "metadata": {},
   "outputs": [
    {
     "data": {
      "text/html": [
       "<div>\n",
       "<style scoped>\n",
       "    .dataframe tbody tr th:only-of-type {\n",
       "        vertical-align: middle;\n",
       "    }\n",
       "\n",
       "    .dataframe tbody tr th {\n",
       "        vertical-align: top;\n",
       "    }\n",
       "\n",
       "    .dataframe thead th {\n",
       "        text-align: right;\n",
       "    }\n",
       "</style>\n",
       "<table border=\"1\" class=\"dataframe\">\n",
       "  <thead>\n",
       "    <tr style=\"text-align: right;\">\n",
       "      <th></th>\n",
       "      <th>지역명</th>\n",
       "      <th>규모구분</th>\n",
       "      <th>연도</th>\n",
       "      <th>월</th>\n",
       "      <th>분양가격(㎡)</th>\n",
       "    </tr>\n",
       "  </thead>\n",
       "  <tbody>\n",
       "  </tbody>\n",
       "</table>\n",
       "</div>"
      ],
      "text/plain": [
       "Empty DataFrame\n",
       "Columns: [지역명, 규모구분, 연도, 월, 분양가격(㎡)]\n",
       "Index: []"
      ]
     },
     "execution_count": 18,
     "metadata": {},
     "output_type": "execute_result"
    }
   ],
   "source": [
    "df[df[\"분양가격(㎡)\"] == '  ']"
   ]
  },
  {
   "cell_type": "code",
   "execution_count": 19,
   "id": "c3551513",
   "metadata": {},
   "outputs": [
    {
     "ename": "ValueError",
     "evalue": "cannot convert float NaN to integer",
     "output_type": "error",
     "traceback": [
      "\u001b[1;31m---------------------------------------------------------------------------\u001b[0m",
      "\u001b[1;31mValueError\u001b[0m                                Traceback (most recent call last)",
      "\u001b[1;32m<ipython-input-19-11fa3041f66f>\u001b[0m in \u001b[0;36m<module>\u001b[1;34m\u001b[0m\n\u001b[1;32m----> 1\u001b[1;33m \u001b[0mdf\u001b[0m\u001b[1;33m[\u001b[0m\u001b[1;34m\"분양가격(㎡)\"\u001b[0m\u001b[1;33m]\u001b[0m\u001b[1;33m.\u001b[0m\u001b[0mastype\u001b[0m\u001b[1;33m(\u001b[0m\u001b[0mint\u001b[0m\u001b[1;33m)\u001b[0m\u001b[1;33m\u001b[0m\u001b[1;33m\u001b[0m\u001b[0m\n\u001b[0m",
      "\u001b[1;32m~\\Anaconda3\\lib\\site-packages\\pandas\\core\\generic.py\u001b[0m in \u001b[0;36mastype\u001b[1;34m(self, dtype, copy, errors)\u001b[0m\n\u001b[0;32m   5875\u001b[0m         \u001b[1;32melse\u001b[0m\u001b[1;33m:\u001b[0m\u001b[1;33m\u001b[0m\u001b[1;33m\u001b[0m\u001b[0m\n\u001b[0;32m   5876\u001b[0m             \u001b[1;31m# else, only a single dtype is given\u001b[0m\u001b[1;33m\u001b[0m\u001b[1;33m\u001b[0m\u001b[1;33m\u001b[0m\u001b[0m\n\u001b[1;32m-> 5877\u001b[1;33m             \u001b[0mnew_data\u001b[0m \u001b[1;33m=\u001b[0m \u001b[0mself\u001b[0m\u001b[1;33m.\u001b[0m\u001b[0m_mgr\u001b[0m\u001b[1;33m.\u001b[0m\u001b[0mastype\u001b[0m\u001b[1;33m(\u001b[0m\u001b[0mdtype\u001b[0m\u001b[1;33m=\u001b[0m\u001b[0mdtype\u001b[0m\u001b[1;33m,\u001b[0m \u001b[0mcopy\u001b[0m\u001b[1;33m=\u001b[0m\u001b[0mcopy\u001b[0m\u001b[1;33m,\u001b[0m \u001b[0merrors\u001b[0m\u001b[1;33m=\u001b[0m\u001b[0merrors\u001b[0m\u001b[1;33m)\u001b[0m\u001b[1;33m\u001b[0m\u001b[1;33m\u001b[0m\u001b[0m\n\u001b[0m\u001b[0;32m   5878\u001b[0m             \u001b[1;32mreturn\u001b[0m \u001b[0mself\u001b[0m\u001b[1;33m.\u001b[0m\u001b[0m_constructor\u001b[0m\u001b[1;33m(\u001b[0m\u001b[0mnew_data\u001b[0m\u001b[1;33m)\u001b[0m\u001b[1;33m.\u001b[0m\u001b[0m__finalize__\u001b[0m\u001b[1;33m(\u001b[0m\u001b[0mself\u001b[0m\u001b[1;33m,\u001b[0m \u001b[0mmethod\u001b[0m\u001b[1;33m=\u001b[0m\u001b[1;34m\"astype\"\u001b[0m\u001b[1;33m)\u001b[0m\u001b[1;33m\u001b[0m\u001b[1;33m\u001b[0m\u001b[0m\n\u001b[0;32m   5879\u001b[0m \u001b[1;33m\u001b[0m\u001b[0m\n",
      "\u001b[1;32m~\\Anaconda3\\lib\\site-packages\\pandas\\core\\internals\\managers.py\u001b[0m in \u001b[0;36mastype\u001b[1;34m(self, dtype, copy, errors)\u001b[0m\n\u001b[0;32m    629\u001b[0m         \u001b[0mself\u001b[0m\u001b[1;33m,\u001b[0m \u001b[0mdtype\u001b[0m\u001b[1;33m,\u001b[0m \u001b[0mcopy\u001b[0m\u001b[1;33m:\u001b[0m \u001b[0mbool\u001b[0m \u001b[1;33m=\u001b[0m \u001b[1;32mFalse\u001b[0m\u001b[1;33m,\u001b[0m \u001b[0merrors\u001b[0m\u001b[1;33m:\u001b[0m \u001b[0mstr\u001b[0m \u001b[1;33m=\u001b[0m \u001b[1;34m\"raise\"\u001b[0m\u001b[1;33m\u001b[0m\u001b[1;33m\u001b[0m\u001b[0m\n\u001b[0;32m    630\u001b[0m     ) -> \"BlockManager\":\n\u001b[1;32m--> 631\u001b[1;33m         \u001b[1;32mreturn\u001b[0m \u001b[0mself\u001b[0m\u001b[1;33m.\u001b[0m\u001b[0mapply\u001b[0m\u001b[1;33m(\u001b[0m\u001b[1;34m\"astype\"\u001b[0m\u001b[1;33m,\u001b[0m \u001b[0mdtype\u001b[0m\u001b[1;33m=\u001b[0m\u001b[0mdtype\u001b[0m\u001b[1;33m,\u001b[0m \u001b[0mcopy\u001b[0m\u001b[1;33m=\u001b[0m\u001b[0mcopy\u001b[0m\u001b[1;33m,\u001b[0m \u001b[0merrors\u001b[0m\u001b[1;33m=\u001b[0m\u001b[0merrors\u001b[0m\u001b[1;33m)\u001b[0m\u001b[1;33m\u001b[0m\u001b[1;33m\u001b[0m\u001b[0m\n\u001b[0m\u001b[0;32m    632\u001b[0m \u001b[1;33m\u001b[0m\u001b[0m\n\u001b[0;32m    633\u001b[0m     def convert(\n",
      "\u001b[1;32m~\\Anaconda3\\lib\\site-packages\\pandas\\core\\internals\\managers.py\u001b[0m in \u001b[0;36mapply\u001b[1;34m(self, f, align_keys, ignore_failures, **kwargs)\u001b[0m\n\u001b[0;32m    425\u001b[0m                     \u001b[0mapplied\u001b[0m \u001b[1;33m=\u001b[0m \u001b[0mb\u001b[0m\u001b[1;33m.\u001b[0m\u001b[0mapply\u001b[0m\u001b[1;33m(\u001b[0m\u001b[0mf\u001b[0m\u001b[1;33m,\u001b[0m \u001b[1;33m**\u001b[0m\u001b[0mkwargs\u001b[0m\u001b[1;33m)\u001b[0m\u001b[1;33m\u001b[0m\u001b[1;33m\u001b[0m\u001b[0m\n\u001b[0;32m    426\u001b[0m                 \u001b[1;32melse\u001b[0m\u001b[1;33m:\u001b[0m\u001b[1;33m\u001b[0m\u001b[1;33m\u001b[0m\u001b[0m\n\u001b[1;32m--> 427\u001b[1;33m                     \u001b[0mapplied\u001b[0m \u001b[1;33m=\u001b[0m \u001b[0mgetattr\u001b[0m\u001b[1;33m(\u001b[0m\u001b[0mb\u001b[0m\u001b[1;33m,\u001b[0m \u001b[0mf\u001b[0m\u001b[1;33m)\u001b[0m\u001b[1;33m(\u001b[0m\u001b[1;33m**\u001b[0m\u001b[0mkwargs\u001b[0m\u001b[1;33m)\u001b[0m\u001b[1;33m\u001b[0m\u001b[1;33m\u001b[0m\u001b[0m\n\u001b[0m\u001b[0;32m    428\u001b[0m             \u001b[1;32mexcept\u001b[0m \u001b[1;33m(\u001b[0m\u001b[0mTypeError\u001b[0m\u001b[1;33m,\u001b[0m \u001b[0mNotImplementedError\u001b[0m\u001b[1;33m)\u001b[0m\u001b[1;33m:\u001b[0m\u001b[1;33m\u001b[0m\u001b[1;33m\u001b[0m\u001b[0m\n\u001b[0;32m    429\u001b[0m                 \u001b[1;32mif\u001b[0m \u001b[1;32mnot\u001b[0m \u001b[0mignore_failures\u001b[0m\u001b[1;33m:\u001b[0m\u001b[1;33m\u001b[0m\u001b[1;33m\u001b[0m\u001b[0m\n",
      "\u001b[1;32m~\\Anaconda3\\lib\\site-packages\\pandas\\core\\internals\\blocks.py\u001b[0m in \u001b[0;36mastype\u001b[1;34m(self, dtype, copy, errors)\u001b[0m\n\u001b[0;32m    671\u001b[0m             \u001b[0mvals1d\u001b[0m \u001b[1;33m=\u001b[0m \u001b[0mvalues\u001b[0m\u001b[1;33m.\u001b[0m\u001b[0mravel\u001b[0m\u001b[1;33m(\u001b[0m\u001b[1;33m)\u001b[0m\u001b[1;33m\u001b[0m\u001b[1;33m\u001b[0m\u001b[0m\n\u001b[0;32m    672\u001b[0m             \u001b[1;32mtry\u001b[0m\u001b[1;33m:\u001b[0m\u001b[1;33m\u001b[0m\u001b[1;33m\u001b[0m\u001b[0m\n\u001b[1;32m--> 673\u001b[1;33m                 \u001b[0mvalues\u001b[0m \u001b[1;33m=\u001b[0m \u001b[0mastype_nansafe\u001b[0m\u001b[1;33m(\u001b[0m\u001b[0mvals1d\u001b[0m\u001b[1;33m,\u001b[0m \u001b[0mdtype\u001b[0m\u001b[1;33m,\u001b[0m \u001b[0mcopy\u001b[0m\u001b[1;33m=\u001b[0m\u001b[1;32mTrue\u001b[0m\u001b[1;33m)\u001b[0m\u001b[1;33m\u001b[0m\u001b[1;33m\u001b[0m\u001b[0m\n\u001b[0m\u001b[0;32m    674\u001b[0m             \u001b[1;32mexcept\u001b[0m \u001b[1;33m(\u001b[0m\u001b[0mValueError\u001b[0m\u001b[1;33m,\u001b[0m \u001b[0mTypeError\u001b[0m\u001b[1;33m)\u001b[0m\u001b[1;33m:\u001b[0m\u001b[1;33m\u001b[0m\u001b[1;33m\u001b[0m\u001b[0m\n\u001b[0;32m    675\u001b[0m                 \u001b[1;31m# e.g. astype_nansafe can fail on object-dtype of strings\u001b[0m\u001b[1;33m\u001b[0m\u001b[1;33m\u001b[0m\u001b[1;33m\u001b[0m\u001b[0m\n",
      "\u001b[1;32m~\\Anaconda3\\lib\\site-packages\\pandas\\core\\dtypes\\cast.py\u001b[0m in \u001b[0;36mastype_nansafe\u001b[1;34m(arr, dtype, copy, skipna)\u001b[0m\n\u001b[0;32m   1072\u001b[0m         \u001b[1;31m# work around NumPy brokenness, #1987\u001b[0m\u001b[1;33m\u001b[0m\u001b[1;33m\u001b[0m\u001b[1;33m\u001b[0m\u001b[0m\n\u001b[0;32m   1073\u001b[0m         \u001b[1;32mif\u001b[0m \u001b[0mnp\u001b[0m\u001b[1;33m.\u001b[0m\u001b[0missubdtype\u001b[0m\u001b[1;33m(\u001b[0m\u001b[0mdtype\u001b[0m\u001b[1;33m.\u001b[0m\u001b[0mtype\u001b[0m\u001b[1;33m,\u001b[0m \u001b[0mnp\u001b[0m\u001b[1;33m.\u001b[0m\u001b[0minteger\u001b[0m\u001b[1;33m)\u001b[0m\u001b[1;33m:\u001b[0m\u001b[1;33m\u001b[0m\u001b[1;33m\u001b[0m\u001b[0m\n\u001b[1;32m-> 1074\u001b[1;33m             \u001b[1;32mreturn\u001b[0m \u001b[0mlib\u001b[0m\u001b[1;33m.\u001b[0m\u001b[0mastype_intsafe\u001b[0m\u001b[1;33m(\u001b[0m\u001b[0marr\u001b[0m\u001b[1;33m.\u001b[0m\u001b[0mravel\u001b[0m\u001b[1;33m(\u001b[0m\u001b[1;33m)\u001b[0m\u001b[1;33m,\u001b[0m \u001b[0mdtype\u001b[0m\u001b[1;33m)\u001b[0m\u001b[1;33m.\u001b[0m\u001b[0mreshape\u001b[0m\u001b[1;33m(\u001b[0m\u001b[0marr\u001b[0m\u001b[1;33m.\u001b[0m\u001b[0mshape\u001b[0m\u001b[1;33m)\u001b[0m\u001b[1;33m\u001b[0m\u001b[1;33m\u001b[0m\u001b[0m\n\u001b[0m\u001b[0;32m   1075\u001b[0m \u001b[1;33m\u001b[0m\u001b[0m\n\u001b[0;32m   1076\u001b[0m         \u001b[1;31m# if we have a datetime/timedelta array of objects\u001b[0m\u001b[1;33m\u001b[0m\u001b[1;33m\u001b[0m\u001b[1;33m\u001b[0m\u001b[0m\n",
      "\u001b[1;32mpandas\\_libs\\lib.pyx\u001b[0m in \u001b[0;36mpandas._libs.lib.astype_intsafe\u001b[1;34m()\u001b[0m\n",
      "\u001b[1;31mValueError\u001b[0m: cannot convert float NaN to integer"
     ]
    }
   ],
   "source": [
    "df[\"분양가격(㎡)\"].astype(int)"
   ]
  },
  {
   "cell_type": "code",
   "execution_count": 21,
   "id": "39878f77",
   "metadata": {},
   "outputs": [
    {
     "data": {
      "text/plain": [
       "float"
      ]
     },
     "execution_count": 21,
     "metadata": {},
     "output_type": "execute_result"
    }
   ],
   "source": [
    "type(np.nan)"
   ]
  },
  {
   "cell_type": "code",
   "execution_count": 22,
   "id": "a3d56813",
   "metadata": {},
   "outputs": [
    {
     "ename": "ValueError",
     "evalue": "could not convert string to float: '6,657'",
     "output_type": "error",
     "traceback": [
      "\u001b[1;31m---------------------------------------------------------------------------\u001b[0m",
      "\u001b[1;31mValueError\u001b[0m                                Traceback (most recent call last)",
      "\u001b[1;32m<ipython-input-22-fbe3408031c4>\u001b[0m in \u001b[0;36m<module>\u001b[1;34m\u001b[0m\n\u001b[1;32m----> 1\u001b[1;33m \u001b[0mdf\u001b[0m\u001b[1;33m[\u001b[0m\u001b[1;34m\"분양가격(㎡)\"\u001b[0m\u001b[1;33m]\u001b[0m\u001b[1;33m.\u001b[0m\u001b[0mastype\u001b[0m\u001b[1;33m(\u001b[0m\u001b[0mfloat\u001b[0m\u001b[1;33m)\u001b[0m\u001b[1;33m\u001b[0m\u001b[1;33m\u001b[0m\u001b[0m\n\u001b[0m",
      "\u001b[1;32m~\\Anaconda3\\lib\\site-packages\\pandas\\core\\generic.py\u001b[0m in \u001b[0;36mastype\u001b[1;34m(self, dtype, copy, errors)\u001b[0m\n\u001b[0;32m   5875\u001b[0m         \u001b[1;32melse\u001b[0m\u001b[1;33m:\u001b[0m\u001b[1;33m\u001b[0m\u001b[1;33m\u001b[0m\u001b[0m\n\u001b[0;32m   5876\u001b[0m             \u001b[1;31m# else, only a single dtype is given\u001b[0m\u001b[1;33m\u001b[0m\u001b[1;33m\u001b[0m\u001b[1;33m\u001b[0m\u001b[0m\n\u001b[1;32m-> 5877\u001b[1;33m             \u001b[0mnew_data\u001b[0m \u001b[1;33m=\u001b[0m \u001b[0mself\u001b[0m\u001b[1;33m.\u001b[0m\u001b[0m_mgr\u001b[0m\u001b[1;33m.\u001b[0m\u001b[0mastype\u001b[0m\u001b[1;33m(\u001b[0m\u001b[0mdtype\u001b[0m\u001b[1;33m=\u001b[0m\u001b[0mdtype\u001b[0m\u001b[1;33m,\u001b[0m \u001b[0mcopy\u001b[0m\u001b[1;33m=\u001b[0m\u001b[0mcopy\u001b[0m\u001b[1;33m,\u001b[0m \u001b[0merrors\u001b[0m\u001b[1;33m=\u001b[0m\u001b[0merrors\u001b[0m\u001b[1;33m)\u001b[0m\u001b[1;33m\u001b[0m\u001b[1;33m\u001b[0m\u001b[0m\n\u001b[0m\u001b[0;32m   5878\u001b[0m             \u001b[1;32mreturn\u001b[0m \u001b[0mself\u001b[0m\u001b[1;33m.\u001b[0m\u001b[0m_constructor\u001b[0m\u001b[1;33m(\u001b[0m\u001b[0mnew_data\u001b[0m\u001b[1;33m)\u001b[0m\u001b[1;33m.\u001b[0m\u001b[0m__finalize__\u001b[0m\u001b[1;33m(\u001b[0m\u001b[0mself\u001b[0m\u001b[1;33m,\u001b[0m \u001b[0mmethod\u001b[0m\u001b[1;33m=\u001b[0m\u001b[1;34m\"astype\"\u001b[0m\u001b[1;33m)\u001b[0m\u001b[1;33m\u001b[0m\u001b[1;33m\u001b[0m\u001b[0m\n\u001b[0;32m   5879\u001b[0m \u001b[1;33m\u001b[0m\u001b[0m\n",
      "\u001b[1;32m~\\Anaconda3\\lib\\site-packages\\pandas\\core\\internals\\managers.py\u001b[0m in \u001b[0;36mastype\u001b[1;34m(self, dtype, copy, errors)\u001b[0m\n\u001b[0;32m    629\u001b[0m         \u001b[0mself\u001b[0m\u001b[1;33m,\u001b[0m \u001b[0mdtype\u001b[0m\u001b[1;33m,\u001b[0m \u001b[0mcopy\u001b[0m\u001b[1;33m:\u001b[0m \u001b[0mbool\u001b[0m \u001b[1;33m=\u001b[0m \u001b[1;32mFalse\u001b[0m\u001b[1;33m,\u001b[0m \u001b[0merrors\u001b[0m\u001b[1;33m:\u001b[0m \u001b[0mstr\u001b[0m \u001b[1;33m=\u001b[0m \u001b[1;34m\"raise\"\u001b[0m\u001b[1;33m\u001b[0m\u001b[1;33m\u001b[0m\u001b[0m\n\u001b[0;32m    630\u001b[0m     ) -> \"BlockManager\":\n\u001b[1;32m--> 631\u001b[1;33m         \u001b[1;32mreturn\u001b[0m \u001b[0mself\u001b[0m\u001b[1;33m.\u001b[0m\u001b[0mapply\u001b[0m\u001b[1;33m(\u001b[0m\u001b[1;34m\"astype\"\u001b[0m\u001b[1;33m,\u001b[0m \u001b[0mdtype\u001b[0m\u001b[1;33m=\u001b[0m\u001b[0mdtype\u001b[0m\u001b[1;33m,\u001b[0m \u001b[0mcopy\u001b[0m\u001b[1;33m=\u001b[0m\u001b[0mcopy\u001b[0m\u001b[1;33m,\u001b[0m \u001b[0merrors\u001b[0m\u001b[1;33m=\u001b[0m\u001b[0merrors\u001b[0m\u001b[1;33m)\u001b[0m\u001b[1;33m\u001b[0m\u001b[1;33m\u001b[0m\u001b[0m\n\u001b[0m\u001b[0;32m    632\u001b[0m \u001b[1;33m\u001b[0m\u001b[0m\n\u001b[0;32m    633\u001b[0m     def convert(\n",
      "\u001b[1;32m~\\Anaconda3\\lib\\site-packages\\pandas\\core\\internals\\managers.py\u001b[0m in \u001b[0;36mapply\u001b[1;34m(self, f, align_keys, ignore_failures, **kwargs)\u001b[0m\n\u001b[0;32m    425\u001b[0m                     \u001b[0mapplied\u001b[0m \u001b[1;33m=\u001b[0m \u001b[0mb\u001b[0m\u001b[1;33m.\u001b[0m\u001b[0mapply\u001b[0m\u001b[1;33m(\u001b[0m\u001b[0mf\u001b[0m\u001b[1;33m,\u001b[0m \u001b[1;33m**\u001b[0m\u001b[0mkwargs\u001b[0m\u001b[1;33m)\u001b[0m\u001b[1;33m\u001b[0m\u001b[1;33m\u001b[0m\u001b[0m\n\u001b[0;32m    426\u001b[0m                 \u001b[1;32melse\u001b[0m\u001b[1;33m:\u001b[0m\u001b[1;33m\u001b[0m\u001b[1;33m\u001b[0m\u001b[0m\n\u001b[1;32m--> 427\u001b[1;33m                     \u001b[0mapplied\u001b[0m \u001b[1;33m=\u001b[0m \u001b[0mgetattr\u001b[0m\u001b[1;33m(\u001b[0m\u001b[0mb\u001b[0m\u001b[1;33m,\u001b[0m \u001b[0mf\u001b[0m\u001b[1;33m)\u001b[0m\u001b[1;33m(\u001b[0m\u001b[1;33m**\u001b[0m\u001b[0mkwargs\u001b[0m\u001b[1;33m)\u001b[0m\u001b[1;33m\u001b[0m\u001b[1;33m\u001b[0m\u001b[0m\n\u001b[0m\u001b[0;32m    428\u001b[0m             \u001b[1;32mexcept\u001b[0m \u001b[1;33m(\u001b[0m\u001b[0mTypeError\u001b[0m\u001b[1;33m,\u001b[0m \u001b[0mNotImplementedError\u001b[0m\u001b[1;33m)\u001b[0m\u001b[1;33m:\u001b[0m\u001b[1;33m\u001b[0m\u001b[1;33m\u001b[0m\u001b[0m\n\u001b[0;32m    429\u001b[0m                 \u001b[1;32mif\u001b[0m \u001b[1;32mnot\u001b[0m \u001b[0mignore_failures\u001b[0m\u001b[1;33m:\u001b[0m\u001b[1;33m\u001b[0m\u001b[1;33m\u001b[0m\u001b[0m\n",
      "\u001b[1;32m~\\Anaconda3\\lib\\site-packages\\pandas\\core\\internals\\blocks.py\u001b[0m in \u001b[0;36mastype\u001b[1;34m(self, dtype, copy, errors)\u001b[0m\n\u001b[0;32m    671\u001b[0m             \u001b[0mvals1d\u001b[0m \u001b[1;33m=\u001b[0m \u001b[0mvalues\u001b[0m\u001b[1;33m.\u001b[0m\u001b[0mravel\u001b[0m\u001b[1;33m(\u001b[0m\u001b[1;33m)\u001b[0m\u001b[1;33m\u001b[0m\u001b[1;33m\u001b[0m\u001b[0m\n\u001b[0;32m    672\u001b[0m             \u001b[1;32mtry\u001b[0m\u001b[1;33m:\u001b[0m\u001b[1;33m\u001b[0m\u001b[1;33m\u001b[0m\u001b[0m\n\u001b[1;32m--> 673\u001b[1;33m                 \u001b[0mvalues\u001b[0m \u001b[1;33m=\u001b[0m \u001b[0mastype_nansafe\u001b[0m\u001b[1;33m(\u001b[0m\u001b[0mvals1d\u001b[0m\u001b[1;33m,\u001b[0m \u001b[0mdtype\u001b[0m\u001b[1;33m,\u001b[0m \u001b[0mcopy\u001b[0m\u001b[1;33m=\u001b[0m\u001b[1;32mTrue\u001b[0m\u001b[1;33m)\u001b[0m\u001b[1;33m\u001b[0m\u001b[1;33m\u001b[0m\u001b[0m\n\u001b[0m\u001b[0;32m    674\u001b[0m             \u001b[1;32mexcept\u001b[0m \u001b[1;33m(\u001b[0m\u001b[0mValueError\u001b[0m\u001b[1;33m,\u001b[0m \u001b[0mTypeError\u001b[0m\u001b[1;33m)\u001b[0m\u001b[1;33m:\u001b[0m\u001b[1;33m\u001b[0m\u001b[1;33m\u001b[0m\u001b[0m\n\u001b[0;32m    675\u001b[0m                 \u001b[1;31m# e.g. astype_nansafe can fail on object-dtype of strings\u001b[0m\u001b[1;33m\u001b[0m\u001b[1;33m\u001b[0m\u001b[1;33m\u001b[0m\u001b[0m\n",
      "\u001b[1;32m~\\Anaconda3\\lib\\site-packages\\pandas\\core\\dtypes\\cast.py\u001b[0m in \u001b[0;36mastype_nansafe\u001b[1;34m(arr, dtype, copy, skipna)\u001b[0m\n\u001b[0;32m   1095\u001b[0m     \u001b[1;32mif\u001b[0m \u001b[0mcopy\u001b[0m \u001b[1;32mor\u001b[0m \u001b[0mis_object_dtype\u001b[0m\u001b[1;33m(\u001b[0m\u001b[0marr\u001b[0m\u001b[1;33m)\u001b[0m \u001b[1;32mor\u001b[0m \u001b[0mis_object_dtype\u001b[0m\u001b[1;33m(\u001b[0m\u001b[0mdtype\u001b[0m\u001b[1;33m)\u001b[0m\u001b[1;33m:\u001b[0m\u001b[1;33m\u001b[0m\u001b[1;33m\u001b[0m\u001b[0m\n\u001b[0;32m   1096\u001b[0m         \u001b[1;31m# Explicit copy, or required since NumPy can't view from / to object.\u001b[0m\u001b[1;33m\u001b[0m\u001b[1;33m\u001b[0m\u001b[1;33m\u001b[0m\u001b[0m\n\u001b[1;32m-> 1097\u001b[1;33m         \u001b[1;32mreturn\u001b[0m \u001b[0marr\u001b[0m\u001b[1;33m.\u001b[0m\u001b[0mastype\u001b[0m\u001b[1;33m(\u001b[0m\u001b[0mdtype\u001b[0m\u001b[1;33m,\u001b[0m \u001b[0mcopy\u001b[0m\u001b[1;33m=\u001b[0m\u001b[1;32mTrue\u001b[0m\u001b[1;33m)\u001b[0m\u001b[1;33m\u001b[0m\u001b[1;33m\u001b[0m\u001b[0m\n\u001b[0m\u001b[0;32m   1098\u001b[0m \u001b[1;33m\u001b[0m\u001b[0m\n\u001b[0;32m   1099\u001b[0m     \u001b[1;32mreturn\u001b[0m \u001b[0marr\u001b[0m\u001b[1;33m.\u001b[0m\u001b[0mview\u001b[0m\u001b[1;33m(\u001b[0m\u001b[0mdtype\u001b[0m\u001b[1;33m)\u001b[0m\u001b[1;33m\u001b[0m\u001b[1;33m\u001b[0m\u001b[0m\n",
      "\u001b[1;31mValueError\u001b[0m: could not convert string to float: '6,657'"
     ]
    }
   ],
   "source": [
    "df[\"분양가격(㎡)\"].astype(float)"
   ]
  },
  {
   "cell_type": "code",
   "execution_count": 24,
   "id": "2715d69c",
   "metadata": {},
   "outputs": [
    {
     "data": {
      "text/plain": [
       "0       False\n",
       "1       False\n",
       "2       False\n",
       "3       False\n",
       "4       False\n",
       "        ...  \n",
       "5775    False\n",
       "5776      NaN\n",
       "5777    False\n",
       "5778      NaN\n",
       "5779    False\n",
       "Name: 분양가격(㎡), Length: 5780, dtype: object"
      ]
     },
     "execution_count": 24,
     "metadata": {},
     "output_type": "execute_result"
    }
   ],
   "source": [
    "df[\"분양가격(㎡)\"].str.contains(',')"
   ]
  },
  {
   "cell_type": "code",
   "execution_count": 25,
   "id": "75a56547",
   "metadata": {},
   "outputs": [
    {
     "data": {
      "text/plain": [
       "76"
      ]
     },
     "execution_count": 25,
     "metadata": {},
     "output_type": "execute_result"
    }
   ],
   "source": [
    "df[\"분양가격(㎡)\"].str.contains(',').sum()"
   ]
  },
  {
   "cell_type": "code",
   "execution_count": 28,
   "id": "8f687c62",
   "metadata": {},
   "outputs": [
    {
     "data": {
      "text/html": [
       "<div>\n",
       "<style scoped>\n",
       "    .dataframe tbody tr th:only-of-type {\n",
       "        vertical-align: middle;\n",
       "    }\n",
       "\n",
       "    .dataframe tbody tr th {\n",
       "        vertical-align: top;\n",
       "    }\n",
       "\n",
       "    .dataframe thead th {\n",
       "        text-align: right;\n",
       "    }\n",
       "</style>\n",
       "<table border=\"1\" class=\"dataframe\">\n",
       "  <thead>\n",
       "    <tr style=\"text-align: right;\">\n",
       "      <th></th>\n",
       "      <th>지역명</th>\n",
       "      <th>규모구분</th>\n",
       "      <th>연도</th>\n",
       "      <th>월</th>\n",
       "      <th>분양가격(㎡)</th>\n",
       "    </tr>\n",
       "  </thead>\n",
       "  <tbody>\n",
       "    <tr>\n",
       "      <th>2125</th>\n",
       "      <td>서울</td>\n",
       "      <td>모든면적</td>\n",
       "      <td>2017</td>\n",
       "      <td>11</td>\n",
       "      <td>6,657</td>\n",
       "    </tr>\n",
       "    <tr>\n",
       "      <th>2126</th>\n",
       "      <td>서울</td>\n",
       "      <td>전용면적 60㎡이하</td>\n",
       "      <td>2017</td>\n",
       "      <td>11</td>\n",
       "      <td>6,931</td>\n",
       "    </tr>\n",
       "    <tr>\n",
       "      <th>2127</th>\n",
       "      <td>서울</td>\n",
       "      <td>전용면적 60㎡초과 85㎡이하</td>\n",
       "      <td>2017</td>\n",
       "      <td>11</td>\n",
       "      <td>5,899</td>\n",
       "    </tr>\n",
       "    <tr>\n",
       "      <th>2128</th>\n",
       "      <td>서울</td>\n",
       "      <td>전용면적 85㎡초과 102㎡이하</td>\n",
       "      <td>2017</td>\n",
       "      <td>11</td>\n",
       "      <td>7,311</td>\n",
       "    </tr>\n",
       "    <tr>\n",
       "      <th>2129</th>\n",
       "      <td>서울</td>\n",
       "      <td>전용면적 102㎡초과</td>\n",
       "      <td>2017</td>\n",
       "      <td>11</td>\n",
       "      <td>6,880</td>\n",
       "    </tr>\n",
       "    <tr>\n",
       "      <th>...</th>\n",
       "      <td>...</td>\n",
       "      <td>...</td>\n",
       "      <td>...</td>\n",
       "      <td>...</td>\n",
       "      <td>...</td>\n",
       "    </tr>\n",
       "    <tr>\n",
       "      <th>2203</th>\n",
       "      <td>경남</td>\n",
       "      <td>전용면적 85㎡초과 102㎡이하</td>\n",
       "      <td>2017</td>\n",
       "      <td>11</td>\n",
       "      <td>2,914</td>\n",
       "    </tr>\n",
       "    <tr>\n",
       "      <th>2204</th>\n",
       "      <td>경남</td>\n",
       "      <td>전용면적 102㎡초과</td>\n",
       "      <td>2017</td>\n",
       "      <td>11</td>\n",
       "      <td>2,838</td>\n",
       "    </tr>\n",
       "    <tr>\n",
       "      <th>2205</th>\n",
       "      <td>제주</td>\n",
       "      <td>모든면적</td>\n",
       "      <td>2017</td>\n",
       "      <td>11</td>\n",
       "      <td>3,560</td>\n",
       "    </tr>\n",
       "    <tr>\n",
       "      <th>2206</th>\n",
       "      <td>제주</td>\n",
       "      <td>전용면적 60㎡이하</td>\n",
       "      <td>2017</td>\n",
       "      <td>11</td>\n",
       "      <td>5,380</td>\n",
       "    </tr>\n",
       "    <tr>\n",
       "      <th>2207</th>\n",
       "      <td>제주</td>\n",
       "      <td>전용면적 60㎡초과 85㎡이하</td>\n",
       "      <td>2017</td>\n",
       "      <td>11</td>\n",
       "      <td>3,477</td>\n",
       "    </tr>\n",
       "  </tbody>\n",
       "</table>\n",
       "<p>76 rows × 5 columns</p>\n",
       "</div>"
      ],
      "text/plain": [
       "     지역명               규모구분    연도   월 분양가격(㎡)\n",
       "2125  서울               모든면적  2017  11   6,657\n",
       "2126  서울         전용면적 60㎡이하  2017  11   6,931\n",
       "2127  서울   전용면적 60㎡초과 85㎡이하  2017  11   5,899\n",
       "2128  서울  전용면적 85㎡초과 102㎡이하  2017  11   7,311\n",
       "2129  서울        전용면적 102㎡초과  2017  11   6,880\n",
       "...   ..                ...   ...  ..     ...\n",
       "2203  경남  전용면적 85㎡초과 102㎡이하  2017  11   2,914\n",
       "2204  경남        전용면적 102㎡초과  2017  11   2,838\n",
       "2205  제주               모든면적  2017  11   3,560\n",
       "2206  제주         전용면적 60㎡이하  2017  11   5,380\n",
       "2207  제주   전용면적 60㎡초과 85㎡이하  2017  11   3,477\n",
       "\n",
       "[76 rows x 5 columns]"
      ]
     },
     "execution_count": 28,
     "metadata": {},
     "output_type": "execute_result"
    }
   ],
   "source": [
    "df[df[\"분양가격(㎡)\"].str.contains(',') == True]"
   ]
  },
  {
   "cell_type": "code",
   "execution_count": 29,
   "id": "a92ea8a9",
   "metadata": {},
   "outputs": [],
   "source": [
    "df[\"분양가격(㎡)\"] = df[\"분양가격(㎡)\"].str.replace(',', '')"
   ]
  },
  {
   "cell_type": "code",
   "execution_count": 30,
   "id": "1bd9fe8c",
   "metadata": {},
   "outputs": [
    {
     "data": {
      "text/html": [
       "<div>\n",
       "<style scoped>\n",
       "    .dataframe tbody tr th:only-of-type {\n",
       "        vertical-align: middle;\n",
       "    }\n",
       "\n",
       "    .dataframe tbody tr th {\n",
       "        vertical-align: top;\n",
       "    }\n",
       "\n",
       "    .dataframe thead th {\n",
       "        text-align: right;\n",
       "    }\n",
       "</style>\n",
       "<table border=\"1\" class=\"dataframe\">\n",
       "  <thead>\n",
       "    <tr style=\"text-align: right;\">\n",
       "      <th></th>\n",
       "      <th>지역명</th>\n",
       "      <th>규모구분</th>\n",
       "      <th>연도</th>\n",
       "      <th>월</th>\n",
       "      <th>분양가격(㎡)</th>\n",
       "    </tr>\n",
       "  </thead>\n",
       "  <tbody>\n",
       "  </tbody>\n",
       "</table>\n",
       "</div>"
      ],
      "text/plain": [
       "Empty DataFrame\n",
       "Columns: [지역명, 규모구분, 연도, 월, 분양가격(㎡)]\n",
       "Index: []"
      ]
     },
     "execution_count": 30,
     "metadata": {},
     "output_type": "execute_result"
    }
   ],
   "source": [
    "df[df[\"분양가격(㎡)\"].str.contains(',') == True]"
   ]
  },
  {
   "cell_type": "code",
   "execution_count": 31,
   "id": "d546a28d",
   "metadata": {},
   "outputs": [
    {
     "name": "stdout",
     "output_type": "stream",
     "text": [
      "<class 'pandas.core.frame.DataFrame'>\n",
      "RangeIndex: 5780 entries, 0 to 5779\n",
      "Data columns (total 5 columns):\n",
      " #   Column   Non-Null Count  Dtype \n",
      "---  ------   --------------  ----- \n",
      " 0   지역명      5780 non-null   object\n",
      " 1   규모구분     5780 non-null   object\n",
      " 2   연도       5780 non-null   int64 \n",
      " 3   월        5780 non-null   int64 \n",
      " 4   분양가격(㎡)  5315 non-null   object\n",
      "dtypes: int64(2), object(3)\n",
      "memory usage: 225.9+ KB\n"
     ]
    }
   ],
   "source": [
    "df.info()"
   ]
  },
  {
   "cell_type": "code",
   "execution_count": 33,
   "id": "aa533028",
   "metadata": {},
   "outputs": [],
   "source": [
    "df[\"분양가격(㎡)\"] = df[\"분양가격(㎡)\"].astype(float)"
   ]
  },
  {
   "cell_type": "code",
   "execution_count": 34,
   "id": "1a8fbfc5",
   "metadata": {},
   "outputs": [
    {
     "name": "stdout",
     "output_type": "stream",
     "text": [
      "<class 'pandas.core.frame.DataFrame'>\n",
      "RangeIndex: 5780 entries, 0 to 5779\n",
      "Data columns (total 5 columns):\n",
      " #   Column   Non-Null Count  Dtype  \n",
      "---  ------   --------------  -----  \n",
      " 0   지역명      5780 non-null   object \n",
      " 1   규모구분     5780 non-null   object \n",
      " 2   연도       5780 non-null   int64  \n",
      " 3   월        5780 non-null   int64  \n",
      " 4   분양가격(㎡)  5315 non-null   float64\n",
      "dtypes: float64(1), int64(2), object(2)\n",
      "memory usage: 225.9+ KB\n"
     ]
    }
   ],
   "source": [
    "df.info()"
   ]
  },
  {
   "cell_type": "code",
   "execution_count": 35,
   "id": "05c63df1",
   "metadata": {},
   "outputs": [
    {
     "data": {
      "text/plain": [
       "13835.0"
      ]
     },
     "execution_count": 35,
     "metadata": {},
     "output_type": "execute_result"
    }
   ],
   "source": [
    "df[\"분양가격(㎡)\"].max()"
   ]
  },
  {
   "cell_type": "code",
   "execution_count": 36,
   "id": "1efe445c",
   "metadata": {},
   "outputs": [
    {
     "data": {
      "text/plain": [
       "1868.0"
      ]
     },
     "execution_count": 36,
     "metadata": {},
     "output_type": "execute_result"
    }
   ],
   "source": [
    "df[\"분양가격(㎡)\"].min()"
   ]
  },
  {
   "cell_type": "markdown",
   "id": "68a7457d",
   "metadata": {},
   "source": [
    "* 분양가격 요약정보"
   ]
  },
  {
   "cell_type": "code",
   "execution_count": 37,
   "id": "f859f224",
   "metadata": {},
   "outputs": [
    {
     "data": {
      "text/plain": [
       "count     5315.000000\n",
       "mean      3420.317027\n",
       "std       1391.492734\n",
       "min       1868.000000\n",
       "25%       2547.000000\n",
       "50%       3045.000000\n",
       "75%       3872.500000\n",
       "max      13835.000000\n",
       "Name: 분양가격(㎡), dtype: float64"
      ]
     },
     "execution_count": 37,
     "metadata": {},
     "output_type": "execute_result"
    }
   ],
   "source": [
    "df[\"분양가격(㎡)\"].describe()"
   ]
  },
  {
   "cell_type": "code",
   "execution_count": 38,
   "id": "a61f0859",
   "metadata": {},
   "outputs": [
    {
     "data": {
      "text/html": [
       "<div>\n",
       "<style scoped>\n",
       "    .dataframe tbody tr th:only-of-type {\n",
       "        vertical-align: middle;\n",
       "    }\n",
       "\n",
       "    .dataframe tbody tr th {\n",
       "        vertical-align: top;\n",
       "    }\n",
       "\n",
       "    .dataframe thead th {\n",
       "        text-align: right;\n",
       "    }\n",
       "</style>\n",
       "<table border=\"1\" class=\"dataframe\">\n",
       "  <thead>\n",
       "    <tr style=\"text-align: right;\">\n",
       "      <th></th>\n",
       "      <th>지역명</th>\n",
       "      <th>규모구분</th>\n",
       "      <th>연도</th>\n",
       "      <th>월</th>\n",
       "      <th>분양가격(㎡)</th>\n",
       "    </tr>\n",
       "  </thead>\n",
       "  <tbody>\n",
       "    <tr>\n",
       "      <th>0</th>\n",
       "      <td>서울</td>\n",
       "      <td>모든면적</td>\n",
       "      <td>2015</td>\n",
       "      <td>10</td>\n",
       "      <td>5841.0</td>\n",
       "    </tr>\n",
       "    <tr>\n",
       "      <th>1</th>\n",
       "      <td>서울</td>\n",
       "      <td>전용면적 60㎡이하</td>\n",
       "      <td>2015</td>\n",
       "      <td>10</td>\n",
       "      <td>5652.0</td>\n",
       "    </tr>\n",
       "    <tr>\n",
       "      <th>2</th>\n",
       "      <td>서울</td>\n",
       "      <td>전용면적 60㎡초과 85㎡이하</td>\n",
       "      <td>2015</td>\n",
       "      <td>10</td>\n",
       "      <td>5882.0</td>\n",
       "    </tr>\n",
       "    <tr>\n",
       "      <th>3</th>\n",
       "      <td>서울</td>\n",
       "      <td>전용면적 85㎡초과 102㎡이하</td>\n",
       "      <td>2015</td>\n",
       "      <td>10</td>\n",
       "      <td>5721.0</td>\n",
       "    </tr>\n",
       "    <tr>\n",
       "      <th>4</th>\n",
       "      <td>서울</td>\n",
       "      <td>전용면적 102㎡초과</td>\n",
       "      <td>2015</td>\n",
       "      <td>10</td>\n",
       "      <td>5879.0</td>\n",
       "    </tr>\n",
       "  </tbody>\n",
       "</table>\n",
       "</div>"
      ],
      "text/plain": [
       "  지역명               규모구분    연도   월  분양가격(㎡)\n",
       "0  서울               모든면적  2015  10   5841.0\n",
       "1  서울         전용면적 60㎡이하  2015  10   5652.0\n",
       "2  서울   전용면적 60㎡초과 85㎡이하  2015  10   5882.0\n",
       "3  서울  전용면적 85㎡초과 102㎡이하  2015  10   5721.0\n",
       "4  서울        전용면적 102㎡초과  2015  10   5879.0"
      ]
     },
     "execution_count": 38,
     "metadata": {},
     "output_type": "execute_result"
    }
   ],
   "source": [
    "df.head()"
   ]
  },
  {
   "cell_type": "code",
   "execution_count": 39,
   "id": "8c48c27c",
   "metadata": {},
   "outputs": [
    {
     "data": {
      "text/html": [
       "<div>\n",
       "<style scoped>\n",
       "    .dataframe tbody tr th:only-of-type {\n",
       "        vertical-align: middle;\n",
       "    }\n",
       "\n",
       "    .dataframe tbody tr th {\n",
       "        vertical-align: top;\n",
       "    }\n",
       "\n",
       "    .dataframe thead th {\n",
       "        text-align: right;\n",
       "    }\n",
       "</style>\n",
       "<table border=\"1\" class=\"dataframe\">\n",
       "  <thead>\n",
       "    <tr style=\"text-align: right;\">\n",
       "      <th></th>\n",
       "      <th>지역명</th>\n",
       "      <th>규모구분</th>\n",
       "      <th>연도</th>\n",
       "      <th>월</th>\n",
       "      <th>분양가격(㎡)</th>\n",
       "    </tr>\n",
       "  </thead>\n",
       "  <tbody>\n",
       "    <tr>\n",
       "      <th>5775</th>\n",
       "      <td>제주</td>\n",
       "      <td>모든면적</td>\n",
       "      <td>2021</td>\n",
       "      <td>5</td>\n",
       "      <td>7510.0</td>\n",
       "    </tr>\n",
       "    <tr>\n",
       "      <th>5776</th>\n",
       "      <td>제주</td>\n",
       "      <td>전용면적 60㎡이하</td>\n",
       "      <td>2021</td>\n",
       "      <td>5</td>\n",
       "      <td>NaN</td>\n",
       "    </tr>\n",
       "    <tr>\n",
       "      <th>5777</th>\n",
       "      <td>제주</td>\n",
       "      <td>전용면적 60㎡초과 85㎡이하</td>\n",
       "      <td>2021</td>\n",
       "      <td>5</td>\n",
       "      <td>7497.0</td>\n",
       "    </tr>\n",
       "    <tr>\n",
       "      <th>5778</th>\n",
       "      <td>제주</td>\n",
       "      <td>전용면적 85㎡초과 102㎡이하</td>\n",
       "      <td>2021</td>\n",
       "      <td>5</td>\n",
       "      <td>NaN</td>\n",
       "    </tr>\n",
       "    <tr>\n",
       "      <th>5779</th>\n",
       "      <td>제주</td>\n",
       "      <td>전용면적 102㎡초과</td>\n",
       "      <td>2021</td>\n",
       "      <td>5</td>\n",
       "      <td>7727.0</td>\n",
       "    </tr>\n",
       "  </tbody>\n",
       "</table>\n",
       "</div>"
      ],
      "text/plain": [
       "     지역명               규모구분    연도  월  분양가격(㎡)\n",
       "5775  제주               모든면적  2021  5   7510.0\n",
       "5776  제주         전용면적 60㎡이하  2021  5      NaN\n",
       "5777  제주   전용면적 60㎡초과 85㎡이하  2021  5   7497.0\n",
       "5778  제주  전용면적 85㎡초과 102㎡이하  2021  5      NaN\n",
       "5779  제주        전용면적 102㎡초과  2021  5   7727.0"
      ]
     },
     "execution_count": 39,
     "metadata": {},
     "output_type": "execute_result"
    }
   ],
   "source": [
    "df.tail()"
   ]
  },
  {
   "cell_type": "code",
   "execution_count": 41,
   "id": "28564e07",
   "metadata": {},
   "outputs": [
    {
     "data": {
      "text/plain": [
       "array(['모든면적', '전용면적 60㎡이하', '전용면적 60㎡초과 85㎡이하', '전용면적 85㎡초과 102㎡이하',\n",
       "       '전용면적 102㎡초과'], dtype=object)"
      ]
     },
     "execution_count": 41,
     "metadata": {},
     "output_type": "execute_result"
    }
   ],
   "source": [
    "df[\"규모구분\"].unique()"
   ]
  },
  {
   "cell_type": "code",
   "execution_count": 42,
   "id": "1a76aba4",
   "metadata": {},
   "outputs": [
    {
     "data": {
      "text/plain": [
       "전용면적 85㎡초과 102㎡이하    1156\n",
       "전용면적 60㎡이하           1156\n",
       "모든면적                 1156\n",
       "전용면적 102㎡초과          1156\n",
       "전용면적 60㎡초과 85㎡이하     1156\n",
       "Name: 규모구분, dtype: int64"
      ]
     },
     "execution_count": 42,
     "metadata": {},
     "output_type": "execute_result"
    }
   ],
   "source": [
    "df[\"규모구분\"].value_counts()"
   ]
  },
  {
   "cell_type": "code",
   "execution_count": 43,
   "id": "fd41de67",
   "metadata": {},
   "outputs": [
    {
     "data": {
      "text/html": [
       "<div>\n",
       "<style scoped>\n",
       "    .dataframe tbody tr th:only-of-type {\n",
       "        vertical-align: middle;\n",
       "    }\n",
       "\n",
       "    .dataframe tbody tr th {\n",
       "        vertical-align: top;\n",
       "    }\n",
       "\n",
       "    .dataframe thead th {\n",
       "        text-align: right;\n",
       "    }\n",
       "</style>\n",
       "<table border=\"1\" class=\"dataframe\">\n",
       "  <thead>\n",
       "    <tr style=\"text-align: right;\">\n",
       "      <th></th>\n",
       "      <th>연도</th>\n",
       "      <th>월</th>\n",
       "      <th>분양가격(㎡)</th>\n",
       "    </tr>\n",
       "    <tr>\n",
       "      <th>지역명</th>\n",
       "      <th></th>\n",
       "      <th></th>\n",
       "      <th></th>\n",
       "    </tr>\n",
       "  </thead>\n",
       "  <tbody>\n",
       "    <tr>\n",
       "      <th>강원</th>\n",
       "      <td>2018.088235</td>\n",
       "      <td>6.441176</td>\n",
       "      <td>2576.746951</td>\n",
       "    </tr>\n",
       "    <tr>\n",
       "      <th>경기</th>\n",
       "      <td>2018.088235</td>\n",
       "      <td>6.441176</td>\n",
       "      <td>4165.891176</td>\n",
       "    </tr>\n",
       "    <tr>\n",
       "      <th>경남</th>\n",
       "      <td>2018.088235</td>\n",
       "      <td>6.441176</td>\n",
       "      <td>2935.441088</td>\n",
       "    </tr>\n",
       "    <tr>\n",
       "      <th>경북</th>\n",
       "      <td>2018.088235</td>\n",
       "      <td>6.441176</td>\n",
       "      <td>2678.669811</td>\n",
       "    </tr>\n",
       "    <tr>\n",
       "      <th>광주</th>\n",
       "      <td>2018.088235</td>\n",
       "      <td>6.441176</td>\n",
       "      <td>3315.045614</td>\n",
       "    </tr>\n",
       "    <tr>\n",
       "      <th>대구</th>\n",
       "      <td>2018.088235</td>\n",
       "      <td>6.441176</td>\n",
       "      <td>3897.111782</td>\n",
       "    </tr>\n",
       "    <tr>\n",
       "      <th>대전</th>\n",
       "      <td>2018.088235</td>\n",
       "      <td>6.441176</td>\n",
       "      <td>3164.450980</td>\n",
       "    </tr>\n",
       "    <tr>\n",
       "      <th>부산</th>\n",
       "      <td>2018.088235</td>\n",
       "      <td>6.441176</td>\n",
       "      <td>3768.705882</td>\n",
       "    </tr>\n",
       "    <tr>\n",
       "      <th>서울</th>\n",
       "      <td>2018.088235</td>\n",
       "      <td>6.441176</td>\n",
       "      <td>7592.514706</td>\n",
       "    </tr>\n",
       "    <tr>\n",
       "      <th>세종</th>\n",
       "      <td>2018.088235</td>\n",
       "      <td>6.441176</td>\n",
       "      <td>3072.119298</td>\n",
       "    </tr>\n",
       "    <tr>\n",
       "      <th>울산</th>\n",
       "      <td>2018.088235</td>\n",
       "      <td>6.441176</td>\n",
       "      <td>3331.279817</td>\n",
       "    </tr>\n",
       "    <tr>\n",
       "      <th>인천</th>\n",
       "      <td>2018.088235</td>\n",
       "      <td>6.441176</td>\n",
       "      <td>3871.714286</td>\n",
       "    </tr>\n",
       "    <tr>\n",
       "      <th>전남</th>\n",
       "      <td>2018.088235</td>\n",
       "      <td>6.441176</td>\n",
       "      <td>2446.883234</td>\n",
       "    </tr>\n",
       "    <tr>\n",
       "      <th>전북</th>\n",
       "      <td>2018.088235</td>\n",
       "      <td>6.441176</td>\n",
       "      <td>2402.038576</td>\n",
       "    </tr>\n",
       "    <tr>\n",
       "      <th>제주</th>\n",
       "      <td>2018.088235</td>\n",
       "      <td>6.441176</td>\n",
       "      <td>3714.593525</td>\n",
       "    </tr>\n",
       "    <tr>\n",
       "      <th>충남</th>\n",
       "      <td>2018.088235</td>\n",
       "      <td>6.441176</td>\n",
       "      <td>2567.788162</td>\n",
       "    </tr>\n",
       "    <tr>\n",
       "      <th>충북</th>\n",
       "      <td>2018.088235</td>\n",
       "      <td>6.441176</td>\n",
       "      <td>2376.174556</td>\n",
       "    </tr>\n",
       "  </tbody>\n",
       "</table>\n",
       "</div>"
      ],
      "text/plain": [
       "              연도         월      분양가격(㎡)\n",
       "지역명                                    \n",
       "강원   2018.088235  6.441176  2576.746951\n",
       "경기   2018.088235  6.441176  4165.891176\n",
       "경남   2018.088235  6.441176  2935.441088\n",
       "경북   2018.088235  6.441176  2678.669811\n",
       "광주   2018.088235  6.441176  3315.045614\n",
       "대구   2018.088235  6.441176  3897.111782\n",
       "대전   2018.088235  6.441176  3164.450980\n",
       "부산   2018.088235  6.441176  3768.705882\n",
       "서울   2018.088235  6.441176  7592.514706\n",
       "세종   2018.088235  6.441176  3072.119298\n",
       "울산   2018.088235  6.441176  3331.279817\n",
       "인천   2018.088235  6.441176  3871.714286\n",
       "전남   2018.088235  6.441176  2446.883234\n",
       "전북   2018.088235  6.441176  2402.038576\n",
       "제주   2018.088235  6.441176  3714.593525\n",
       "충남   2018.088235  6.441176  2567.788162\n",
       "충북   2018.088235  6.441176  2376.174556"
      ]
     },
     "execution_count": 43,
     "metadata": {},
     "output_type": "execute_result"
    }
   ],
   "source": [
    "df.groupby(\"지역명\").mean()"
   ]
  },
  {
   "cell_type": "code",
   "execution_count": 44,
   "id": "fda106ba",
   "metadata": {},
   "outputs": [
    {
     "data": {
      "text/plain": [
       "지역명\n",
       "강원    2576.746951\n",
       "경기    4165.891176\n",
       "경남    2935.441088\n",
       "경북    2678.669811\n",
       "광주    3315.045614\n",
       "대구    3897.111782\n",
       "대전    3164.450980\n",
       "부산    3768.705882\n",
       "서울    7592.514706\n",
       "세종    3072.119298\n",
       "울산    3331.279817\n",
       "인천    3871.714286\n",
       "전남    2446.883234\n",
       "전북    2402.038576\n",
       "제주    3714.593525\n",
       "충남    2567.788162\n",
       "충북    2376.174556\n",
       "Name: 분양가격(㎡), dtype: float64"
      ]
     },
     "execution_count": 44,
     "metadata": {},
     "output_type": "execute_result"
    }
   ],
   "source": [
    "df.groupby(\"지역명\")[\"분양가격(㎡)\"].mean()"
   ]
  },
  {
   "cell_type": "code",
   "execution_count": 45,
   "id": "90c3b879",
   "metadata": {},
   "outputs": [
    {
     "data": {
      "text/html": [
       "<div>\n",
       "<style scoped>\n",
       "    .dataframe tbody tr th:only-of-type {\n",
       "        vertical-align: middle;\n",
       "    }\n",
       "\n",
       "    .dataframe tbody tr th {\n",
       "        vertical-align: top;\n",
       "    }\n",
       "\n",
       "    .dataframe thead th {\n",
       "        text-align: right;\n",
       "    }\n",
       "</style>\n",
       "<table border=\"1\" class=\"dataframe\">\n",
       "  <thead>\n",
       "    <tr style=\"text-align: right;\">\n",
       "      <th></th>\n",
       "      <th>count</th>\n",
       "      <th>mean</th>\n",
       "      <th>std</th>\n",
       "      <th>min</th>\n",
       "      <th>25%</th>\n",
       "      <th>50%</th>\n",
       "      <th>75%</th>\n",
       "      <th>max</th>\n",
       "    </tr>\n",
       "    <tr>\n",
       "      <th>지역명</th>\n",
       "      <th></th>\n",
       "      <th></th>\n",
       "      <th></th>\n",
       "      <th></th>\n",
       "      <th></th>\n",
       "      <th></th>\n",
       "      <th></th>\n",
       "      <th></th>\n",
       "    </tr>\n",
       "  </thead>\n",
       "  <tbody>\n",
       "    <tr>\n",
       "      <th>강원</th>\n",
       "      <td>328.0</td>\n",
       "      <td>2576.746951</td>\n",
       "      <td>499.818524</td>\n",
       "      <td>2012.0</td>\n",
       "      <td>2221.00</td>\n",
       "      <td>2401.0</td>\n",
       "      <td>2830.00</td>\n",
       "      <td>4273.0</td>\n",
       "    </tr>\n",
       "    <tr>\n",
       "      <th>경기</th>\n",
       "      <td>340.0</td>\n",
       "      <td>4165.891176</td>\n",
       "      <td>591.738255</td>\n",
       "      <td>3079.0</td>\n",
       "      <td>3628.75</td>\n",
       "      <td>4217.5</td>\n",
       "      <td>4493.50</td>\n",
       "      <td>5745.0</td>\n",
       "    </tr>\n",
       "    <tr>\n",
       "      <th>경남</th>\n",
       "      <td>331.0</td>\n",
       "      <td>2935.441088</td>\n",
       "      <td>532.955884</td>\n",
       "      <td>2200.0</td>\n",
       "      <td>2651.00</td>\n",
       "      <td>2872.0</td>\n",
       "      <td>3067.00</td>\n",
       "      <td>5020.0</td>\n",
       "    </tr>\n",
       "    <tr>\n",
       "      <th>경북</th>\n",
       "      <td>318.0</td>\n",
       "      <td>2678.669811</td>\n",
       "      <td>404.728177</td>\n",
       "      <td>2106.0</td>\n",
       "      <td>2390.00</td>\n",
       "      <td>2612.5</td>\n",
       "      <td>2867.00</td>\n",
       "      <td>4076.0</td>\n",
       "    </tr>\n",
       "    <tr>\n",
       "      <th>광주</th>\n",
       "      <td>285.0</td>\n",
       "      <td>3315.045614</td>\n",
       "      <td>649.375937</td>\n",
       "      <td>2251.0</td>\n",
       "      <td>2778.00</td>\n",
       "      <td>3207.0</td>\n",
       "      <td>3836.00</td>\n",
       "      <td>4881.0</td>\n",
       "    </tr>\n",
       "    <tr>\n",
       "      <th>대구</th>\n",
       "      <td>331.0</td>\n",
       "      <td>3897.111782</td>\n",
       "      <td>702.152662</td>\n",
       "      <td>2503.0</td>\n",
       "      <td>3216.00</td>\n",
       "      <td>3956.0</td>\n",
       "      <td>4543.00</td>\n",
       "      <td>5158.0</td>\n",
       "    </tr>\n",
       "    <tr>\n",
       "      <th>대전</th>\n",
       "      <td>255.0</td>\n",
       "      <td>3164.450980</td>\n",
       "      <td>627.022784</td>\n",
       "      <td>2425.0</td>\n",
       "      <td>2660.00</td>\n",
       "      <td>3061.0</td>\n",
       "      <td>3478.50</td>\n",
       "      <td>4877.0</td>\n",
       "    </tr>\n",
       "    <tr>\n",
       "      <th>부산</th>\n",
       "      <td>340.0</td>\n",
       "      <td>3768.705882</td>\n",
       "      <td>428.433383</td>\n",
       "      <td>2930.0</td>\n",
       "      <td>3456.50</td>\n",
       "      <td>3843.0</td>\n",
       "      <td>4051.75</td>\n",
       "      <td>4623.0</td>\n",
       "    </tr>\n",
       "    <tr>\n",
       "      <th>서울</th>\n",
       "      <td>340.0</td>\n",
       "      <td>7592.514706</td>\n",
       "      <td>1445.315679</td>\n",
       "      <td>5061.0</td>\n",
       "      <td>6561.50</td>\n",
       "      <td>7247.0</td>\n",
       "      <td>8224.75</td>\n",
       "      <td>13835.0</td>\n",
       "    </tr>\n",
       "    <tr>\n",
       "      <th>세종</th>\n",
       "      <td>285.0</td>\n",
       "      <td>3072.119298</td>\n",
       "      <td>407.186092</td>\n",
       "      <td>2572.0</td>\n",
       "      <td>2706.00</td>\n",
       "      <td>3064.0</td>\n",
       "      <td>3395.00</td>\n",
       "      <td>4041.0</td>\n",
       "    </tr>\n",
       "    <tr>\n",
       "      <th>울산</th>\n",
       "      <td>218.0</td>\n",
       "      <td>3331.279817</td>\n",
       "      <td>574.774866</td>\n",
       "      <td>2422.0</td>\n",
       "      <td>2967.00</td>\n",
       "      <td>3143.0</td>\n",
       "      <td>3582.00</td>\n",
       "      <td>4637.0</td>\n",
       "    </tr>\n",
       "    <tr>\n",
       "      <th>인천</th>\n",
       "      <td>336.0</td>\n",
       "      <td>3871.714286</td>\n",
       "      <td>652.239725</td>\n",
       "      <td>2890.0</td>\n",
       "      <td>3327.75</td>\n",
       "      <td>3614.5</td>\n",
       "      <td>4520.00</td>\n",
       "      <td>6053.0</td>\n",
       "    </tr>\n",
       "    <tr>\n",
       "      <th>전남</th>\n",
       "      <td>334.0</td>\n",
       "      <td>2446.883234</td>\n",
       "      <td>377.261925</td>\n",
       "      <td>1906.0</td>\n",
       "      <td>2215.75</td>\n",
       "      <td>2356.5</td>\n",
       "      <td>2627.00</td>\n",
       "      <td>3873.0</td>\n",
       "    </tr>\n",
       "    <tr>\n",
       "      <th>전북</th>\n",
       "      <td>337.0</td>\n",
       "      <td>2402.038576</td>\n",
       "      <td>257.282065</td>\n",
       "      <td>1900.0</td>\n",
       "      <td>2261.00</td>\n",
       "      <td>2397.0</td>\n",
       "      <td>2627.00</td>\n",
       "      <td>3052.0</td>\n",
       "    </tr>\n",
       "    <tr>\n",
       "      <th>제주</th>\n",
       "      <td>278.0</td>\n",
       "      <td>3714.593525</td>\n",
       "      <td>1023.101505</td>\n",
       "      <td>2225.0</td>\n",
       "      <td>3082.00</td>\n",
       "      <td>3475.0</td>\n",
       "      <td>4089.50</td>\n",
       "      <td>7727.0</td>\n",
       "    </tr>\n",
       "    <tr>\n",
       "      <th>충남</th>\n",
       "      <td>321.0</td>\n",
       "      <td>2567.788162</td>\n",
       "      <td>262.326905</td>\n",
       "      <td>2099.0</td>\n",
       "      <td>2355.00</td>\n",
       "      <td>2569.0</td>\n",
       "      <td>2729.00</td>\n",
       "      <td>3381.0</td>\n",
       "    </tr>\n",
       "    <tr>\n",
       "      <th>충북</th>\n",
       "      <td>338.0</td>\n",
       "      <td>2376.174556</td>\n",
       "      <td>250.171032</td>\n",
       "      <td>1868.0</td>\n",
       "      <td>2162.00</td>\n",
       "      <td>2367.0</td>\n",
       "      <td>2591.00</td>\n",
       "      <td>2855.0</td>\n",
       "    </tr>\n",
       "  </tbody>\n",
       "</table>\n",
       "</div>"
      ],
      "text/plain": [
       "     count         mean          std     min      25%     50%      75%  \\\n",
       "지역명                                                                      \n",
       "강원   328.0  2576.746951   499.818524  2012.0  2221.00  2401.0  2830.00   \n",
       "경기   340.0  4165.891176   591.738255  3079.0  3628.75  4217.5  4493.50   \n",
       "경남   331.0  2935.441088   532.955884  2200.0  2651.00  2872.0  3067.00   \n",
       "경북   318.0  2678.669811   404.728177  2106.0  2390.00  2612.5  2867.00   \n",
       "광주   285.0  3315.045614   649.375937  2251.0  2778.00  3207.0  3836.00   \n",
       "대구   331.0  3897.111782   702.152662  2503.0  3216.00  3956.0  4543.00   \n",
       "대전   255.0  3164.450980   627.022784  2425.0  2660.00  3061.0  3478.50   \n",
       "부산   340.0  3768.705882   428.433383  2930.0  3456.50  3843.0  4051.75   \n",
       "서울   340.0  7592.514706  1445.315679  5061.0  6561.50  7247.0  8224.75   \n",
       "세종   285.0  3072.119298   407.186092  2572.0  2706.00  3064.0  3395.00   \n",
       "울산   218.0  3331.279817   574.774866  2422.0  2967.00  3143.0  3582.00   \n",
       "인천   336.0  3871.714286   652.239725  2890.0  3327.75  3614.5  4520.00   \n",
       "전남   334.0  2446.883234   377.261925  1906.0  2215.75  2356.5  2627.00   \n",
       "전북   337.0  2402.038576   257.282065  1900.0  2261.00  2397.0  2627.00   \n",
       "제주   278.0  3714.593525  1023.101505  2225.0  3082.00  3475.0  4089.50   \n",
       "충남   321.0  2567.788162   262.326905  2099.0  2355.00  2569.0  2729.00   \n",
       "충북   338.0  2376.174556   250.171032  1868.0  2162.00  2367.0  2591.00   \n",
       "\n",
       "         max  \n",
       "지역명           \n",
       "강원    4273.0  \n",
       "경기    5745.0  \n",
       "경남    5020.0  \n",
       "경북    4076.0  \n",
       "광주    4881.0  \n",
       "대구    5158.0  \n",
       "대전    4877.0  \n",
       "부산    4623.0  \n",
       "서울   13835.0  \n",
       "세종    4041.0  \n",
       "울산    4637.0  \n",
       "인천    6053.0  \n",
       "전남    3873.0  \n",
       "전북    3052.0  \n",
       "제주    7727.0  \n",
       "충남    3381.0  \n",
       "충북    2855.0  "
      ]
     },
     "execution_count": 45,
     "metadata": {},
     "output_type": "execute_result"
    }
   ],
   "source": [
    "df.groupby(\"지역명\")[\"분양가격(㎡)\"].describe()"
   ]
  },
  {
   "cell_type": "code",
   "execution_count": 47,
   "id": "fb829b85",
   "metadata": {},
   "outputs": [
    {
     "data": {
      "text/html": [
       "<div>\n",
       "<style scoped>\n",
       "    .dataframe tbody tr th:only-of-type {\n",
       "        vertical-align: middle;\n",
       "    }\n",
       "\n",
       "    .dataframe tbody tr th {\n",
       "        vertical-align: top;\n",
       "    }\n",
       "\n",
       "    .dataframe thead th {\n",
       "        text-align: right;\n",
       "    }\n",
       "</style>\n",
       "<table border=\"1\" class=\"dataframe\">\n",
       "  <thead>\n",
       "    <tr style=\"text-align: right;\">\n",
       "      <th></th>\n",
       "      <th>분양가격(㎡)</th>\n",
       "    </tr>\n",
       "    <tr>\n",
       "      <th>지역명</th>\n",
       "      <th></th>\n",
       "    </tr>\n",
       "  </thead>\n",
       "  <tbody>\n",
       "    <tr>\n",
       "      <th>강원</th>\n",
       "      <td>2576.746951</td>\n",
       "    </tr>\n",
       "    <tr>\n",
       "      <th>경기</th>\n",
       "      <td>4165.891176</td>\n",
       "    </tr>\n",
       "    <tr>\n",
       "      <th>경남</th>\n",
       "      <td>2935.441088</td>\n",
       "    </tr>\n",
       "    <tr>\n",
       "      <th>경북</th>\n",
       "      <td>2678.669811</td>\n",
       "    </tr>\n",
       "    <tr>\n",
       "      <th>광주</th>\n",
       "      <td>3315.045614</td>\n",
       "    </tr>\n",
       "    <tr>\n",
       "      <th>대구</th>\n",
       "      <td>3897.111782</td>\n",
       "    </tr>\n",
       "    <tr>\n",
       "      <th>대전</th>\n",
       "      <td>3164.450980</td>\n",
       "    </tr>\n",
       "    <tr>\n",
       "      <th>부산</th>\n",
       "      <td>3768.705882</td>\n",
       "    </tr>\n",
       "    <tr>\n",
       "      <th>서울</th>\n",
       "      <td>7592.514706</td>\n",
       "    </tr>\n",
       "    <tr>\n",
       "      <th>세종</th>\n",
       "      <td>3072.119298</td>\n",
       "    </tr>\n",
       "    <tr>\n",
       "      <th>울산</th>\n",
       "      <td>3331.279817</td>\n",
       "    </tr>\n",
       "    <tr>\n",
       "      <th>인천</th>\n",
       "      <td>3871.714286</td>\n",
       "    </tr>\n",
       "    <tr>\n",
       "      <th>전남</th>\n",
       "      <td>2446.883234</td>\n",
       "    </tr>\n",
       "    <tr>\n",
       "      <th>전북</th>\n",
       "      <td>2402.038576</td>\n",
       "    </tr>\n",
       "    <tr>\n",
       "      <th>제주</th>\n",
       "      <td>3714.593525</td>\n",
       "    </tr>\n",
       "    <tr>\n",
       "      <th>충남</th>\n",
       "      <td>2567.788162</td>\n",
       "    </tr>\n",
       "    <tr>\n",
       "      <th>충북</th>\n",
       "      <td>2376.174556</td>\n",
       "    </tr>\n",
       "  </tbody>\n",
       "</table>\n",
       "</div>"
      ],
      "text/plain": [
       "         분양가격(㎡)\n",
       "지역명             \n",
       "강원   2576.746951\n",
       "경기   4165.891176\n",
       "경남   2935.441088\n",
       "경북   2678.669811\n",
       "광주   3315.045614\n",
       "대구   3897.111782\n",
       "대전   3164.450980\n",
       "부산   3768.705882\n",
       "서울   7592.514706\n",
       "세종   3072.119298\n",
       "울산   3331.279817\n",
       "인천   3871.714286\n",
       "전남   2446.883234\n",
       "전북   2402.038576\n",
       "제주   3714.593525\n",
       "충남   2567.788162\n",
       "충북   2376.174556"
      ]
     },
     "execution_count": 47,
     "metadata": {},
     "output_type": "execute_result"
    }
   ],
   "source": [
    "#df.groupby(\"지역명\")[[\"분양가격(㎡)\"]].mean()\n",
    "pd.pivot_table(df, index=\"지역명\", values=\"분양가격(㎡)\" )"
   ]
  },
  {
   "cell_type": "code",
   "execution_count": 51,
   "id": "475bcd3d",
   "metadata": {},
   "outputs": [],
   "source": [
    "plt.rc(\"font\", family=\"Malgun Gothic\")"
   ]
  },
  {
   "cell_type": "code",
   "execution_count": 52,
   "id": "c12d686c",
   "metadata": {},
   "outputs": [
    {
     "data": {
      "text/plain": [
       "<AxesSubplot:xlabel='지역명'>"
      ]
     },
     "execution_count": 52,
     "metadata": {},
     "output_type": "execute_result"
    },
    {
     "data": {
      "image/png": "[encoded data removed]",
      "text/plain": [
       "<Figure size 432x288 with 1 Axes>"
      ]
     },
     "metadata": {
      "needs_background": "light"
     },
     "output_type": "display_data"
    }
   ],
   "source": [
    "g = df.groupby(\"지역명\")[\"분양가격(㎡)\"].mean()\n",
    "g.plot(kind=\"bar\")"
   ]
  },
  {
   "cell_type": "code",
   "execution_count": 54,
   "id": "3d377ef7",
   "metadata": {},
   "outputs": [
    {
     "data": {
      "text/plain": [
       "<AxesSubplot:xlabel='지역명'>"
      ]
     },
     "execution_count": 54,
     "metadata": {},
     "output_type": "execute_result"
    },
    {
     "data": {
      "image/png": "[encoded data removed]",
      "text/plain": [
       "<Figure size 720x216 with 1 Axes>"
      ]
     },
     "metadata": {
      "needs_background": "light"
     },
     "output_type": "display_data"
    }
   ],
   "source": [
    "g.plot(kind=\"bar\", rot=0, figsize=(10, 3))"
   ]
  },
  {
   "cell_type": "code",
   "execution_count": 55,
   "id": "aeed46fa",
   "metadata": {},
   "outputs": [
    {
     "data": {
      "text/html": [
       "<div>\n",
       "<style scoped>\n",
       "    .dataframe tbody tr th:only-of-type {\n",
       "        vertical-align: middle;\n",
       "    }\n",
       "\n",
       "    .dataframe tbody tr th {\n",
       "        vertical-align: top;\n",
       "    }\n",
       "\n",
       "    .dataframe thead th {\n",
       "        text-align: right;\n",
       "    }\n",
       "</style>\n",
       "<table border=\"1\" class=\"dataframe\">\n",
       "  <thead>\n",
       "    <tr style=\"text-align: right;\">\n",
       "      <th></th>\n",
       "      <th></th>\n",
       "      <th>연도</th>\n",
       "      <th>월</th>\n",
       "      <th>분양가격(㎡)</th>\n",
       "    </tr>\n",
       "    <tr>\n",
       "      <th>지역명</th>\n",
       "      <th>규모구분</th>\n",
       "      <th></th>\n",
       "      <th></th>\n",
       "      <th></th>\n",
       "    </tr>\n",
       "  </thead>\n",
       "  <tbody>\n",
       "    <tr>\n",
       "      <th rowspan=\"5\" valign=\"top\">강원</th>\n",
       "      <th>모든면적</th>\n",
       "      <td>2018.088235</td>\n",
       "      <td>6.441176</td>\n",
       "      <td>2418.882353</td>\n",
       "    </tr>\n",
       "    <tr>\n",
       "      <th>전용면적 102㎡초과</th>\n",
       "      <td>2018.088235</td>\n",
       "      <td>6.441176</td>\n",
       "      <td>2898.573529</td>\n",
       "    </tr>\n",
       "    <tr>\n",
       "      <th>전용면적 60㎡이하</th>\n",
       "      <td>2018.088235</td>\n",
       "      <td>6.441176</td>\n",
       "      <td>2484.029412</td>\n",
       "    </tr>\n",
       "    <tr>\n",
       "      <th>전용면적 60㎡초과 85㎡이하</th>\n",
       "      <td>2018.088235</td>\n",
       "      <td>6.441176</td>\n",
       "      <td>2409.794118</td>\n",
       "    </tr>\n",
       "    <tr>\n",
       "      <th>전용면적 85㎡초과 102㎡이하</th>\n",
       "      <td>2018.088235</td>\n",
       "      <td>6.441176</td>\n",
       "      <td>2692.964286</td>\n",
       "    </tr>\n",
       "    <tr>\n",
       "      <th>...</th>\n",
       "      <th>...</th>\n",
       "      <td>...</td>\n",
       "      <td>...</td>\n",
       "      <td>...</td>\n",
       "    </tr>\n",
       "    <tr>\n",
       "      <th rowspan=\"5\" valign=\"top\">충북</th>\n",
       "      <th>모든면적</th>\n",
       "      <td>2018.088235</td>\n",
       "      <td>6.441176</td>\n",
       "      <td>2256.000000</td>\n",
       "    </tr>\n",
       "    <tr>\n",
       "      <th>전용면적 102㎡초과</th>\n",
       "      <td>2018.088235</td>\n",
       "      <td>6.441176</td>\n",
       "      <td>2553.808824</td>\n",
       "    </tr>\n",
       "    <tr>\n",
       "      <th>전용면적 60㎡이하</th>\n",
       "      <td>2018.088235</td>\n",
       "      <td>6.441176</td>\n",
       "      <td>2232.941176</td>\n",
       "    </tr>\n",
       "    <tr>\n",
       "      <th>전용면적 60㎡초과 85㎡이하</th>\n",
       "      <td>2018.088235</td>\n",
       "      <td>6.441176</td>\n",
       "      <td>2270.279412</td>\n",
       "    </tr>\n",
       "    <tr>\n",
       "      <th>전용면적 85㎡초과 102㎡이하</th>\n",
       "      <td>2018.088235</td>\n",
       "      <td>6.441176</td>\n",
       "      <td>2573.651515</td>\n",
       "    </tr>\n",
       "  </tbody>\n",
       "</table>\n",
       "<p>85 rows × 3 columns</p>\n",
       "</div>"
      ],
      "text/plain": [
       "                                연도         월      분양가격(㎡)\n",
       "지역명 규모구분                                                 \n",
       "강원  모든면적               2018.088235  6.441176  2418.882353\n",
       "    전용면적 102㎡초과        2018.088235  6.441176  2898.573529\n",
       "    전용면적 60㎡이하         2018.088235  6.441176  2484.029412\n",
       "    전용면적 60㎡초과 85㎡이하   2018.088235  6.441176  2409.794118\n",
       "    전용면적 85㎡초과 102㎡이하  2018.088235  6.441176  2692.964286\n",
       "...                            ...       ...          ...\n",
       "충북  모든면적               2018.088235  6.441176  2256.000000\n",
       "    전용면적 102㎡초과        2018.088235  6.441176  2553.808824\n",
       "    전용면적 60㎡이하         2018.088235  6.441176  2232.941176\n",
       "    전용면적 60㎡초과 85㎡이하   2018.088235  6.441176  2270.279412\n",
       "    전용면적 85㎡초과 102㎡이하  2018.088235  6.441176  2573.651515\n",
       "\n",
       "[85 rows x 3 columns]"
      ]
     },
     "execution_count": 55,
     "metadata": {},
     "output_type": "execute_result"
    }
   ],
   "source": [
    "df.groupby([\"지역명\", \"규모구분\"]).mean()"
   ]
  },
  {
   "cell_type": "code",
   "execution_count": 56,
   "id": "fcb38e67",
   "metadata": {},
   "outputs": [
    {
     "data": {
      "text/plain": [
       "지역명  규모구분             \n",
       "강원   모든면적                 2418.882353\n",
       "     전용면적 102㎡초과          2898.573529\n",
       "     전용면적 60㎡이하           2484.029412\n",
       "     전용면적 60㎡초과 85㎡이하     2409.794118\n",
       "     전용면적 85㎡초과 102㎡이하    2692.964286\n",
       "                             ...     \n",
       "충북   모든면적                 2256.000000\n",
       "     전용면적 102㎡초과          2553.808824\n",
       "     전용면적 60㎡이하           2232.941176\n",
       "     전용면적 60㎡초과 85㎡이하     2270.279412\n",
       "     전용면적 85㎡초과 102㎡이하    2573.651515\n",
       "Name: 분양가격(㎡), Length: 85, dtype: float64"
      ]
     },
     "execution_count": 56,
     "metadata": {},
     "output_type": "execute_result"
    }
   ],
   "source": [
    "df.groupby([\"지역명\", \"규모구분\"])[\"분양가격(㎡)\"].mean()"
   ]
  },
  {
   "cell_type": "code",
   "execution_count": 57,
   "id": "625c4759",
   "metadata": {},
   "outputs": [
    {
     "data": {
      "text/html": [
       "<div>\n",
       "<style scoped>\n",
       "    .dataframe tbody tr th:only-of-type {\n",
       "        vertical-align: middle;\n",
       "    }\n",
       "\n",
       "    .dataframe tbody tr th {\n",
       "        vertical-align: top;\n",
       "    }\n",
       "\n",
       "    .dataframe thead th {\n",
       "        text-align: right;\n",
       "    }\n",
       "</style>\n",
       "<table border=\"1\" class=\"dataframe\">\n",
       "  <thead>\n",
       "    <tr style=\"text-align: right;\">\n",
       "      <th>규모구분</th>\n",
       "      <th>모든면적</th>\n",
       "      <th>전용면적 102㎡초과</th>\n",
       "      <th>전용면적 60㎡이하</th>\n",
       "      <th>전용면적 60㎡초과 85㎡이하</th>\n",
       "      <th>전용면적 85㎡초과 102㎡이하</th>\n",
       "    </tr>\n",
       "    <tr>\n",
       "      <th>지역명</th>\n",
       "      <th></th>\n",
       "      <th></th>\n",
       "      <th></th>\n",
       "      <th></th>\n",
       "      <th></th>\n",
       "    </tr>\n",
       "  </thead>\n",
       "  <tbody>\n",
       "    <tr>\n",
       "      <th>강원</th>\n",
       "      <td>2418.882353</td>\n",
       "      <td>2898.573529</td>\n",
       "      <td>2484.029412</td>\n",
       "      <td>2409.794118</td>\n",
       "      <td>2692.964286</td>\n",
       "    </tr>\n",
       "    <tr>\n",
       "      <th>경기</th>\n",
       "      <td>3939.308824</td>\n",
       "      <td>4580.338235</td>\n",
       "      <td>4087.073529</td>\n",
       "      <td>3927.911765</td>\n",
       "      <td>4294.823529</td>\n",
       "    </tr>\n",
       "    <tr>\n",
       "      <th>경남</th>\n",
       "      <td>2738.764706</td>\n",
       "      <td>3130.590164</td>\n",
       "      <td>2709.712121</td>\n",
       "      <td>2727.676471</td>\n",
       "      <td>3383.911765</td>\n",
       "    </tr>\n",
       "    <tr>\n",
       "      <th>경북</th>\n",
       "      <td>2571.720588</td>\n",
       "      <td>2896.830769</td>\n",
       "      <td>2565.573529</td>\n",
       "      <td>2566.441176</td>\n",
       "      <td>2850.387755</td>\n",
       "    </tr>\n",
       "    <tr>\n",
       "      <th>광주</th>\n",
       "      <td>3223.544118</td>\n",
       "      <td>3687.872727</td>\n",
       "      <td>3106.714286</td>\n",
       "      <td>3208.647059</td>\n",
       "      <td>3511.064516</td>\n",
       "    </tr>\n",
       "    <tr>\n",
       "      <th>대구</th>\n",
       "      <td>3830.602941</td>\n",
       "      <td>4203.750000</td>\n",
       "      <td>3851.279412</td>\n",
       "      <td>3832.602941</td>\n",
       "      <td>3747.525424</td>\n",
       "    </tr>\n",
       "    <tr>\n",
       "      <th>대전</th>\n",
       "      <td>3068.647059</td>\n",
       "      <td>4507.600000</td>\n",
       "      <td>2922.596774</td>\n",
       "      <td>3052.455882</td>\n",
       "      <td>2750.777778</td>\n",
       "    </tr>\n",
       "    <tr>\n",
       "      <th>부산</th>\n",
       "      <td>3742.235294</td>\n",
       "      <td>4021.573529</td>\n",
       "      <td>3597.705882</td>\n",
       "      <td>3726.426471</td>\n",
       "      <td>3755.588235</td>\n",
       "    </tr>\n",
       "    <tr>\n",
       "      <th>서울</th>\n",
       "      <td>7205.352941</td>\n",
       "      <td>7609.132353</td>\n",
       "      <td>7393.647059</td>\n",
       "      <td>7174.750000</td>\n",
       "      <td>8579.691176</td>\n",
       "    </tr>\n",
       "    <tr>\n",
       "      <th>세종</th>\n",
       "      <td>3080.048387</td>\n",
       "      <td>3151.177419</td>\n",
       "      <td>2965.255814</td>\n",
       "      <td>3059.932203</td>\n",
       "      <td>3070.779661</td>\n",
       "    </tr>\n",
       "    <tr>\n",
       "      <th>울산</th>\n",
       "      <td>3380.627119</td>\n",
       "      <td>3491.710526</td>\n",
       "      <td>3215.702128</td>\n",
       "      <td>3406.813559</td>\n",
       "      <td>2795.800000</td>\n",
       "    </tr>\n",
       "    <tr>\n",
       "      <th>인천</th>\n",
       "      <td>3687.794118</td>\n",
       "      <td>4545.187500</td>\n",
       "      <td>3663.602941</td>\n",
       "      <td>3714.852941</td>\n",
       "      <td>3786.750000</td>\n",
       "    </tr>\n",
       "    <tr>\n",
       "      <th>전남</th>\n",
       "      <td>2338.764706</td>\n",
       "      <td>2721.441176</td>\n",
       "      <td>2296.590909</td>\n",
       "      <td>2336.632353</td>\n",
       "      <td>2542.171875</td>\n",
       "    </tr>\n",
       "    <tr>\n",
       "      <th>전북</th>\n",
       "      <td>2297.044118</td>\n",
       "      <td>2525.779412</td>\n",
       "      <td>2368.000000</td>\n",
       "      <td>2289.852941</td>\n",
       "      <td>2535.400000</td>\n",
       "    </tr>\n",
       "    <tr>\n",
       "      <th>제주</th>\n",
       "      <td>3708.102941</td>\n",
       "      <td>3468.943396</td>\n",
       "      <td>4302.763636</td>\n",
       "      <td>3671.529412</td>\n",
       "      <td>3245.176471</td>\n",
       "    </tr>\n",
       "    <tr>\n",
       "      <th>충남</th>\n",
       "      <td>2451.941176</td>\n",
       "      <td>2686.000000</td>\n",
       "      <td>2441.132353</td>\n",
       "      <td>2458.970588</td>\n",
       "      <td>2862.473684</td>\n",
       "    </tr>\n",
       "    <tr>\n",
       "      <th>충북</th>\n",
       "      <td>2256.000000</td>\n",
       "      <td>2553.808824</td>\n",
       "      <td>2232.941176</td>\n",
       "      <td>2270.279412</td>\n",
       "      <td>2573.651515</td>\n",
       "    </tr>\n",
       "  </tbody>\n",
       "</table>\n",
       "</div>"
      ],
      "text/plain": [
       "규모구분         모든면적  전용면적 102㎡초과   전용면적 60㎡이하  전용면적 60㎡초과 85㎡이하  \\\n",
       "지역명                                                             \n",
       "강원    2418.882353  2898.573529  2484.029412       2409.794118   \n",
       "경기    3939.308824  4580.338235  4087.073529       3927.911765   \n",
       "경남    2738.764706  3130.590164  2709.712121       2727.676471   \n",
       "경북    2571.720588  2896.830769  2565.573529       2566.441176   \n",
       "광주    3223.544118  3687.872727  3106.714286       3208.647059   \n",
       "대구    3830.602941  4203.750000  3851.279412       3832.602941   \n",
       "대전    3068.647059  4507.600000  2922.596774       3052.455882   \n",
       "부산    3742.235294  4021.573529  3597.705882       3726.426471   \n",
       "서울    7205.352941  7609.132353  7393.647059       7174.750000   \n",
       "세종    3080.048387  3151.177419  2965.255814       3059.932203   \n",
       "울산    3380.627119  3491.710526  3215.702128       3406.813559   \n",
       "인천    3687.794118  4545.187500  3663.602941       3714.852941   \n",
       "전남    2338.764706  2721.441176  2296.590909       2336.632353   \n",
       "전북    2297.044118  2525.779412  2368.000000       2289.852941   \n",
       "제주    3708.102941  3468.943396  4302.763636       3671.529412   \n",
       "충남    2451.941176  2686.000000  2441.132353       2458.970588   \n",
       "충북    2256.000000  2553.808824  2232.941176       2270.279412   \n",
       "\n",
       "규모구분  전용면적 85㎡초과 102㎡이하  \n",
       "지역명                      \n",
       "강원          2692.964286  \n",
       "경기          4294.823529  \n",
       "경남          3383.911765  \n",
       "경북          2850.387755  \n",
       "광주          3511.064516  \n",
       "대구          3747.525424  \n",
       "대전          2750.777778  \n",
       "부산          3755.588235  \n",
       "서울          8579.691176  \n",
       "세종          3070.779661  \n",
       "울산          2795.800000  \n",
       "인천          3786.750000  \n",
       "전남          2542.171875  \n",
       "전북          2535.400000  \n",
       "제주          3245.176471  \n",
       "충남          2862.473684  \n",
       "충북          2573.651515  "
      ]
     },
     "execution_count": 57,
     "metadata": {},
     "output_type": "execute_result"
    }
   ],
   "source": [
    "df.groupby([\"지역명\", \"규모구분\"])[\"분양가격(㎡)\"].mean().unstack()"
   ]
  },
  {
   "cell_type": "code",
   "execution_count": 58,
   "id": "311afff9",
   "metadata": {},
   "outputs": [
    {
     "data": {
      "text/plain": [
       "연도    지역명\n",
       "2015  강원     2178.200000\n",
       "      경기     3351.800000\n",
       "      경남     2563.400000\n",
       "      경북     2261.866667\n",
       "      광주     2399.000000\n",
       "                ...     \n",
       "2021  전남     2981.560000\n",
       "      전북     2571.240000\n",
       "      제주     6264.352941\n",
       "      충남     2887.217391\n",
       "      충북     2668.720000\n",
       "Name: 분양가격(㎡), Length: 119, dtype: float64"
      ]
     },
     "execution_count": 58,
     "metadata": {},
     "output_type": "execute_result"
    }
   ],
   "source": [
    "df.groupby([\"연도\", \"지역명\"])[\"분양가격(㎡)\"].mean()"
   ]
  },
  {
   "cell_type": "code",
   "execution_count": 59,
   "id": "218c9bee",
   "metadata": {},
   "outputs": [
    {
     "data": {
      "text/html": [
       "<div>\n",
       "<style scoped>\n",
       "    .dataframe tbody tr th:only-of-type {\n",
       "        vertical-align: middle;\n",
       "    }\n",
       "\n",
       "    .dataframe tbody tr th {\n",
       "        vertical-align: top;\n",
       "    }\n",
       "\n",
       "    .dataframe thead th {\n",
       "        text-align: right;\n",
       "    }\n",
       "</style>\n",
       "<table border=\"1\" class=\"dataframe\">\n",
       "  <thead>\n",
       "    <tr style=\"text-align: right;\">\n",
       "      <th>지역명</th>\n",
       "      <th>강원</th>\n",
       "      <th>경기</th>\n",
       "      <th>경남</th>\n",
       "      <th>경북</th>\n",
       "      <th>광주</th>\n",
       "      <th>대구</th>\n",
       "      <th>대전</th>\n",
       "      <th>부산</th>\n",
       "      <th>서울</th>\n",
       "      <th>세종</th>\n",
       "      <th>울산</th>\n",
       "      <th>인천</th>\n",
       "      <th>전남</th>\n",
       "      <th>전북</th>\n",
       "      <th>제주</th>\n",
       "      <th>충남</th>\n",
       "      <th>충북</th>\n",
       "    </tr>\n",
       "    <tr>\n",
       "      <th>연도</th>\n",
       "      <th></th>\n",
       "      <th></th>\n",
       "      <th></th>\n",
       "      <th></th>\n",
       "      <th></th>\n",
       "      <th></th>\n",
       "      <th></th>\n",
       "      <th></th>\n",
       "      <th></th>\n",
       "      <th></th>\n",
       "      <th></th>\n",
       "      <th></th>\n",
       "      <th></th>\n",
       "      <th></th>\n",
       "      <th></th>\n",
       "      <th></th>\n",
       "      <th></th>\n",
       "    </tr>\n",
       "  </thead>\n",
       "  <tbody>\n",
       "    <tr>\n",
       "      <th>2015</th>\n",
       "      <td>2178.200000</td>\n",
       "      <td>3351.800000</td>\n",
       "      <td>2563.400000</td>\n",
       "      <td>2261.866667</td>\n",
       "      <td>2399.000000</td>\n",
       "      <td>2733.000000</td>\n",
       "      <td>2482.000000</td>\n",
       "      <td>3144.666667</td>\n",
       "      <td>6156.266667</td>\n",
       "      <td>2656.066667</td>\n",
       "      <td>2838.666667</td>\n",
       "      <td>3326.066667</td>\n",
       "      <td>2060.266667</td>\n",
       "      <td>2154.666667</td>\n",
       "      <td>2409.416667</td>\n",
       "      <td>2330.266667</td>\n",
       "      <td>2069.333333</td>\n",
       "    </tr>\n",
       "    <tr>\n",
       "      <th>2016</th>\n",
       "      <td>2170.576923</td>\n",
       "      <td>3540.900000</td>\n",
       "      <td>2574.766667</td>\n",
       "      <td>2349.516667</td>\n",
       "      <td>2785.055556</td>\n",
       "      <td>3115.766667</td>\n",
       "      <td>2700.222222</td>\n",
       "      <td>3255.616667</td>\n",
       "      <td>6591.950000</td>\n",
       "      <td>2684.183333</td>\n",
       "      <td>2903.810345</td>\n",
       "      <td>3363.350000</td>\n",
       "      <td>2102.000000</td>\n",
       "      <td>2092.916667</td>\n",
       "      <td>2899.236364</td>\n",
       "      <td>2411.583333</td>\n",
       "      <td>2161.616667</td>\n",
       "    </tr>\n",
       "    <tr>\n",
       "      <th>2017</th>\n",
       "      <td>2217.833333</td>\n",
       "      <td>3726.116667</td>\n",
       "      <td>2668.666667</td>\n",
       "      <td>2511.534483</td>\n",
       "      <td>2909.000000</td>\n",
       "      <td>3694.537037</td>\n",
       "      <td>3003.912281</td>\n",
       "      <td>3526.550000</td>\n",
       "      <td>6625.483333</td>\n",
       "      <td>2767.559322</td>\n",
       "      <td>3221.260870</td>\n",
       "      <td>3537.100000</td>\n",
       "      <td>2246.433333</td>\n",
       "      <td>2244.280702</td>\n",
       "      <td>3826.830189</td>\n",
       "      <td>2471.913793</td>\n",
       "      <td>2261.383333</td>\n",
       "    </tr>\n",
       "    <tr>\n",
       "      <th>2018</th>\n",
       "      <td>2490.683333</td>\n",
       "      <td>4320.733333</td>\n",
       "      <td>2826.566667</td>\n",
       "      <td>2630.538462</td>\n",
       "      <td>2886.955556</td>\n",
       "      <td>3678.561404</td>\n",
       "      <td>3101.244444</td>\n",
       "      <td>3906.050000</td>\n",
       "      <td>7030.983333</td>\n",
       "      <td>3133.473684</td>\n",
       "      <td>3103.454545</td>\n",
       "      <td>3600.464286</td>\n",
       "      <td>2402.983333</td>\n",
       "      <td>2477.150000</td>\n",
       "      <td>3616.960000</td>\n",
       "      <td>2485.400000</td>\n",
       "      <td>2469.483333</td>\n",
       "    </tr>\n",
       "    <tr>\n",
       "      <th>2019</th>\n",
       "      <td>2707.416667</td>\n",
       "      <td>4747.133333</td>\n",
       "      <td>3241.701754</td>\n",
       "      <td>2742.500000</td>\n",
       "      <td>3670.204545</td>\n",
       "      <td>4267.166667</td>\n",
       "      <td>3824.000000</td>\n",
       "      <td>4102.383333</td>\n",
       "      <td>8571.766667</td>\n",
       "      <td>3424.058824</td>\n",
       "      <td>3095.833333</td>\n",
       "      <td>4015.083333</td>\n",
       "      <td>2490.689655</td>\n",
       "      <td>2585.533333</td>\n",
       "      <td>3584.384615</td>\n",
       "      <td>2651.163636</td>\n",
       "      <td>2415.416667</td>\n",
       "    </tr>\n",
       "    <tr>\n",
       "      <th>2020</th>\n",
       "      <td>3121.946429</td>\n",
       "      <td>4577.600000</td>\n",
       "      <td>3308.870370</td>\n",
       "      <td>3029.604167</td>\n",
       "      <td>4062.571429</td>\n",
       "      <td>4640.666667</td>\n",
       "      <td>3405.710526</td>\n",
       "      <td>4046.366667</td>\n",
       "      <td>9024.550000</td>\n",
       "      <td>3523.666667</td>\n",
       "      <td>3890.181818</td>\n",
       "      <td>4540.300000</td>\n",
       "      <td>2897.696429</td>\n",
       "      <td>2593.766667</td>\n",
       "      <td>4300.871795</td>\n",
       "      <td>2769.509091</td>\n",
       "      <td>2533.017241</td>\n",
       "    </tr>\n",
       "    <tr>\n",
       "      <th>2021</th>\n",
       "      <td>3193.800000</td>\n",
       "      <td>4455.080000</td>\n",
       "      <td>3420.960000</td>\n",
       "      <td>3379.600000</td>\n",
       "      <td>4155.041667</td>\n",
       "      <td>4734.000000</td>\n",
       "      <td>3400.866667</td>\n",
       "      <td>4158.880000</td>\n",
       "      <td>8737.080000</td>\n",
       "      <td>3788.600000</td>\n",
       "      <td>4306.952381</td>\n",
       "      <td>4881.160000</td>\n",
       "      <td>2981.560000</td>\n",
       "      <td>2571.240000</td>\n",
       "      <td>6264.352941</td>\n",
       "      <td>2887.217391</td>\n",
       "      <td>2668.720000</td>\n",
       "    </tr>\n",
       "  </tbody>\n",
       "</table>\n",
       "</div>"
      ],
      "text/plain": [
       "지역명            강원           경기           경남           경북           광주  \\\n",
       "연도                                                                      \n",
       "2015  2178.200000  3351.800000  2563.400000  2261.866667  2399.000000   \n",
       "2016  2170.576923  3540.900000  2574.766667  2349.516667  2785.055556   \n",
       "2017  2217.833333  3726.116667  2668.666667  2511.534483  2909.000000   \n",
       "2018  2490.683333  4320.733333  2826.566667  2630.538462  2886.955556   \n",
       "2019  2707.416667  4747.133333  3241.701754  2742.500000  3670.204545   \n",
       "2020  3121.946429  4577.600000  3308.870370  3029.604167  4062.571429   \n",
       "2021  3193.800000  4455.080000  3420.960000  3379.600000  4155.041667   \n",
       "\n",
       "지역명            대구           대전           부산           서울           세종  \\\n",
       "연도                                                                      \n",
       "2015  2733.000000  2482.000000  3144.666667  6156.266667  2656.066667   \n",
       "2016  3115.766667  2700.222222  3255.616667  6591.950000  2684.183333   \n",
       "2017  3694.537037  3003.912281  3526.550000  6625.483333  2767.559322   \n",
       "2018  3678.561404  3101.244444  3906.050000  7030.983333  3133.473684   \n",
       "2019  4267.166667  3824.000000  4102.383333  8571.766667  3424.058824   \n",
       "2020  4640.666667  3405.710526  4046.366667  9024.550000  3523.666667   \n",
       "2021  4734.000000  3400.866667  4158.880000  8737.080000  3788.600000   \n",
       "\n",
       "지역명            울산           인천           전남           전북           제주  \\\n",
       "연도                                                                      \n",
       "2015  2838.666667  3326.066667  2060.266667  2154.666667  2409.416667   \n",
       "2016  2903.810345  3363.350000  2102.000000  2092.916667  2899.236364   \n",
       "2017  3221.260870  3537.100000  2246.433333  2244.280702  3826.830189   \n",
       "2018  3103.454545  3600.464286  2402.983333  2477.150000  3616.960000   \n",
       "2019  3095.833333  4015.083333  2490.689655  2585.533333  3584.384615   \n",
       "2020  3890.181818  4540.300000  2897.696429  2593.766667  4300.871795   \n",
       "2021  4306.952381  4881.160000  2981.560000  2571.240000  6264.352941   \n",
       "\n",
       "지역명            충남           충북  \n",
       "연도                              \n",
       "2015  2330.266667  2069.333333  \n",
       "2016  2411.583333  2161.616667  \n",
       "2017  2471.913793  2261.383333  \n",
       "2018  2485.400000  2469.483333  \n",
       "2019  2651.163636  2415.416667  \n",
       "2020  2769.509091  2533.017241  \n",
       "2021  2887.217391  2668.720000  "
      ]
     },
     "execution_count": 59,
     "metadata": {},
     "output_type": "execute_result"
    }
   ],
   "source": [
    "df.groupby([\"연도\", \"지역명\"])[\"분양가격(㎡)\"].mean().unstack()"
   ]
  },
  {
   "cell_type": "code",
   "execution_count": 60,
   "id": "c0a33bf4",
   "metadata": {},
   "outputs": [
    {
     "data": {
      "text/plain": [
       "연도    지역명\n",
       "2015  강원     2178.200000\n",
       "      경기     3351.800000\n",
       "      경남     2563.400000\n",
       "      경북     2261.866667\n",
       "      광주     2399.000000\n",
       "                ...     \n",
       "2021  전남     2981.560000\n",
       "      전북     2571.240000\n",
       "      제주     6264.352941\n",
       "      충남     2887.217391\n",
       "      충북     2668.720000\n",
       "Name: 분양가격(㎡), Length: 119, dtype: float64"
      ]
     },
     "execution_count": 60,
     "metadata": {},
     "output_type": "execute_result"
    }
   ],
   "source": [
    "df.groupby([\"연도\", \"지역명\"])[\"분양가격(㎡)\"].mean()"
   ]
  },
  {
   "cell_type": "code",
   "execution_count": 61,
   "id": "4a1459ff",
   "metadata": {},
   "outputs": [
    {
     "data": {
      "text/html": [
       "<div>\n",
       "<style scoped>\n",
       "    .dataframe tbody tr th:only-of-type {\n",
       "        vertical-align: middle;\n",
       "    }\n",
       "\n",
       "    .dataframe tbody tr th {\n",
       "        vertical-align: top;\n",
       "    }\n",
       "\n",
       "    .dataframe thead th {\n",
       "        text-align: right;\n",
       "    }\n",
       "</style>\n",
       "<table border=\"1\" class=\"dataframe\">\n",
       "  <thead>\n",
       "    <tr style=\"text-align: right;\">\n",
       "      <th></th>\n",
       "      <th></th>\n",
       "      <th>분양가격(㎡)</th>\n",
       "    </tr>\n",
       "    <tr>\n",
       "      <th>연도</th>\n",
       "      <th>지역명</th>\n",
       "      <th></th>\n",
       "    </tr>\n",
       "  </thead>\n",
       "  <tbody>\n",
       "    <tr>\n",
       "      <th rowspan=\"5\" valign=\"top\">2015</th>\n",
       "      <th>강원</th>\n",
       "      <td>2178.200000</td>\n",
       "    </tr>\n",
       "    <tr>\n",
       "      <th>경기</th>\n",
       "      <td>3351.800000</td>\n",
       "    </tr>\n",
       "    <tr>\n",
       "      <th>경남</th>\n",
       "      <td>2563.400000</td>\n",
       "    </tr>\n",
       "    <tr>\n",
       "      <th>경북</th>\n",
       "      <td>2261.866667</td>\n",
       "    </tr>\n",
       "    <tr>\n",
       "      <th>광주</th>\n",
       "      <td>2399.000000</td>\n",
       "    </tr>\n",
       "    <tr>\n",
       "      <th>...</th>\n",
       "      <th>...</th>\n",
       "      <td>...</td>\n",
       "    </tr>\n",
       "    <tr>\n",
       "      <th rowspan=\"5\" valign=\"top\">2021</th>\n",
       "      <th>전남</th>\n",
       "      <td>2981.560000</td>\n",
       "    </tr>\n",
       "    <tr>\n",
       "      <th>전북</th>\n",
       "      <td>2571.240000</td>\n",
       "    </tr>\n",
       "    <tr>\n",
       "      <th>제주</th>\n",
       "      <td>6264.352941</td>\n",
       "    </tr>\n",
       "    <tr>\n",
       "      <th>충남</th>\n",
       "      <td>2887.217391</td>\n",
       "    </tr>\n",
       "    <tr>\n",
       "      <th>충북</th>\n",
       "      <td>2668.720000</td>\n",
       "    </tr>\n",
       "  </tbody>\n",
       "</table>\n",
       "<p>119 rows × 1 columns</p>\n",
       "</div>"
      ],
      "text/plain": [
       "              분양가격(㎡)\n",
       "연도   지역명             \n",
       "2015 강원   2178.200000\n",
       "     경기   3351.800000\n",
       "     경남   2563.400000\n",
       "     경북   2261.866667\n",
       "     광주   2399.000000\n",
       "...               ...\n",
       "2021 전남   2981.560000\n",
       "     전북   2571.240000\n",
       "     제주   6264.352941\n",
       "     충남   2887.217391\n",
       "     충북   2668.720000\n",
       "\n",
       "[119 rows x 1 columns]"
      ]
     },
     "execution_count": 61,
     "metadata": {},
     "output_type": "execute_result"
    }
   ],
   "source": [
    "pd.pivot_table(df, index=[\"연도\", \"지역명\"], values=[\"분양가격(㎡)\"])"
   ]
  },
  {
   "cell_type": "code",
   "execution_count": 62,
   "id": "741b7a3f",
   "metadata": {},
   "outputs": [
    {
     "data": {
      "text/html": [
       "<div>\n",
       "<style scoped>\n",
       "    .dataframe tbody tr th:only-of-type {\n",
       "        vertical-align: middle;\n",
       "    }\n",
       "\n",
       "    .dataframe tbody tr th {\n",
       "        vertical-align: top;\n",
       "    }\n",
       "\n",
       "    .dataframe thead th {\n",
       "        text-align: right;\n",
       "    }\n",
       "</style>\n",
       "<table border=\"1\" class=\"dataframe\">\n",
       "  <thead>\n",
       "    <tr style=\"text-align: right;\">\n",
       "      <th></th>\n",
       "      <th>분양가격(㎡)</th>\n",
       "    </tr>\n",
       "    <tr>\n",
       "      <th>지역명</th>\n",
       "      <th></th>\n",
       "    </tr>\n",
       "  </thead>\n",
       "  <tbody>\n",
       "    <tr>\n",
       "      <th>강원</th>\n",
       "      <td>3193.800000</td>\n",
       "    </tr>\n",
       "    <tr>\n",
       "      <th>경기</th>\n",
       "      <td>4455.080000</td>\n",
       "    </tr>\n",
       "    <tr>\n",
       "      <th>경남</th>\n",
       "      <td>3420.960000</td>\n",
       "    </tr>\n",
       "    <tr>\n",
       "      <th>경북</th>\n",
       "      <td>3379.600000</td>\n",
       "    </tr>\n",
       "    <tr>\n",
       "      <th>광주</th>\n",
       "      <td>4155.041667</td>\n",
       "    </tr>\n",
       "    <tr>\n",
       "      <th>대구</th>\n",
       "      <td>4734.000000</td>\n",
       "    </tr>\n",
       "    <tr>\n",
       "      <th>대전</th>\n",
       "      <td>3400.866667</td>\n",
       "    </tr>\n",
       "    <tr>\n",
       "      <th>부산</th>\n",
       "      <td>4158.880000</td>\n",
       "    </tr>\n",
       "    <tr>\n",
       "      <th>서울</th>\n",
       "      <td>8737.080000</td>\n",
       "    </tr>\n",
       "    <tr>\n",
       "      <th>세종</th>\n",
       "      <td>3788.600000</td>\n",
       "    </tr>\n",
       "    <tr>\n",
       "      <th>울산</th>\n",
       "      <td>4306.952381</td>\n",
       "    </tr>\n",
       "    <tr>\n",
       "      <th>인천</th>\n",
       "      <td>4881.160000</td>\n",
       "    </tr>\n",
       "    <tr>\n",
       "      <th>전남</th>\n",
       "      <td>2981.560000</td>\n",
       "    </tr>\n",
       "    <tr>\n",
       "      <th>전북</th>\n",
       "      <td>2571.240000</td>\n",
       "    </tr>\n",
       "    <tr>\n",
       "      <th>제주</th>\n",
       "      <td>6264.352941</td>\n",
       "    </tr>\n",
       "    <tr>\n",
       "      <th>충남</th>\n",
       "      <td>2887.217391</td>\n",
       "    </tr>\n",
       "    <tr>\n",
       "      <th>충북</th>\n",
       "      <td>2668.720000</td>\n",
       "    </tr>\n",
       "  </tbody>\n",
       "</table>\n",
       "</div>"
      ],
      "text/plain": [
       "         분양가격(㎡)\n",
       "지역명             \n",
       "강원   3193.800000\n",
       "경기   4455.080000\n",
       "경남   3420.960000\n",
       "경북   3379.600000\n",
       "광주   4155.041667\n",
       "대구   4734.000000\n",
       "대전   3400.866667\n",
       "부산   4158.880000\n",
       "서울   8737.080000\n",
       "세종   3788.600000\n",
       "울산   4306.952381\n",
       "인천   4881.160000\n",
       "전남   2981.560000\n",
       "전북   2571.240000\n",
       "제주   6264.352941\n",
       "충남   2887.217391\n",
       "충북   2668.720000"
      ]
     },
     "execution_count": 62,
     "metadata": {},
     "output_type": "execute_result"
    }
   ],
   "source": [
    "pd.pivot_table(df, index=[\"연도\", \"지역명\"], values=[\"분양가격(㎡)\"]).loc[2021]"
   ]
  },
  {
   "cell_type": "markdown",
   "id": "0036c5f4",
   "metadata": {},
   "source": [
    "* seaborn"
   ]
  },
  {
   "cell_type": "code",
   "execution_count": 64,
   "id": "c5f4d292",
   "metadata": {},
   "outputs": [
    {
     "data": {
      "text/plain": [
       "<AxesSubplot:xlabel='지역명'>"
      ]
     },
     "execution_count": 64,
     "metadata": {},
     "output_type": "execute_result"
    },
    {
     "data": {
      "image/png": "[encoded data removed]",
      "text/plain": [
       "<Figure size 432x288 with 1 Axes>"
      ]
     },
     "metadata": {
      "needs_background": "light"
     },
     "output_type": "display_data"
    }
   ],
   "source": [
    "g = df.groupby(\"지역명\")[\"분양가격(㎡)\"].mean().sort_values(ascending=False)\n",
    "g.plot(kind=\"bar\")"
   ]
  },
  {
   "cell_type": "code",
   "execution_count": 67,
   "id": "cde48550",
   "metadata": {},
   "outputs": [
    {
     "data": {
      "text/plain": [
       "<AxesSubplot:xlabel='지역명', ylabel='분양가격(㎡)'>"
      ]
     },
     "execution_count": 67,
     "metadata": {},
     "output_type": "execute_result"
    },
    {
     "data": {
      "image/png": "[encoded data removed]",
      "text/plain": [
       "<Figure size 432x288 with 1 Axes>"
      ]
     },
     "metadata": {
      "needs_background": "light"
     },
     "output_type": "display_data"
    }
   ],
   "source": [
    "sns.barplot(data=df, x=\"지역명\", y=\"분양가격(㎡)\")"
   ]
  },
  {
   "cell_type": "code",
   "execution_count": 68,
   "id": "fcbb4caf",
   "metadata": {},
   "outputs": [
    {
     "data": {
      "text/plain": [
       "<AxesSubplot:xlabel='연도', ylabel='분양가격(㎡)'>"
      ]
     },
     "execution_count": 68,
     "metadata": {},
     "output_type": "execute_result"
    },
    {
     "data": {
      "image/png": "[encoded data removed]",
      "text/plain": [
       "<Figure size 432x288 with 1 Axes>"
      ]
     },
     "metadata": {
      "needs_background": "light"
     },
     "output_type": "display_data"
    }
   ],
   "source": [
    "sns.barplot(data=df, x=\"연도\", y=\"분양가격(㎡)\")"
   ]
  },
  {
   "cell_type": "code",
   "execution_count": 69,
   "id": "a3d66732",
   "metadata": {},
   "outputs": [
    {
     "data": {
      "text/plain": [
       "<AxesSubplot:xlabel='연도', ylabel='분양가격(㎡)'>"
      ]
     },
     "execution_count": 69,
     "metadata": {},
     "output_type": "execute_result"
    },
    {
     "data": {
      "image/png": "[encoded data removed]",
      "text/plain": [
       "<Figure size 432x288 with 1 Axes>"
      ]
     },
     "metadata": {
      "needs_background": "light"
     },
     "output_type": "display_data"
    }
   ],
   "source": [
    "sns.lineplot(data=df, x=\"연도\", y=\"분양가격(㎡)\")"
   ]
  },
  {
   "cell_type": "code",
   "execution_count": 70,
   "id": "25ec78e1",
   "metadata": {},
   "outputs": [
    {
     "data": {
      "text/plain": [
       "<AxesSubplot:xlabel='연도', ylabel='분양가격(㎡)'>"
      ]
     },
     "execution_count": 70,
     "metadata": {},
     "output_type": "execute_result"
    },
    {
     "data": {
      "image/png": "[encoded data removed]",
      "text/plain": [
       "<Figure size 432x288 with 1 Axes>"
      ]
     },
     "metadata": {
      "needs_background": "light"
     },
     "output_type": "display_data"
    }
   ],
   "source": [
    "sns.lineplot(data=df, x=\"연도\", y=\"분양가격(㎡)\", hue=\"규모구분\")"
   ]
  },
  {
   "cell_type": "markdown",
   "id": "326db8a6",
   "metadata": {},
   "source": [
    "* barplot vs boxplot vs violionplot"
   ]
  },
  {
   "cell_type": "code",
   "execution_count": 71,
   "id": "cd38ee39",
   "metadata": {},
   "outputs": [
    {
     "data": {
      "text/plain": [
       "<AxesSubplot:xlabel='연도', ylabel='분양가격(㎡)'>"
      ]
     },
     "execution_count": 71,
     "metadata": {},
     "output_type": "execute_result"
    },
    {
     "data": {
      "image/png": "[encoded data removed]",
      "text/plain": [
       "<Figure size 432x288 with 1 Axes>"
      ]
     },
     "metadata": {
      "needs_background": "light"
     },
     "output_type": "display_data"
    }
   ],
   "source": [
    "sns.barplot(data=df, x=\"연도\", y=\"분양가격(㎡)\")"
   ]
  },
  {
   "cell_type": "code",
   "execution_count": 73,
   "id": "2a61ab92",
   "metadata": {},
   "outputs": [
    {
     "data": {
      "text/plain": [
       "<AxesSubplot:xlabel='연도', ylabel='분양가격(㎡)'>"
      ]
     },
     "execution_count": 73,
     "metadata": {},
     "output_type": "execute_result"
    },
    {
     "data": {
      "image/png": "[encoded data removed]",
      "text/plain": [
       "<Figure size 432x288 with 1 Axes>"
      ]
     },
     "metadata": {
      "needs_background": "light"
     },
     "output_type": "display_data"
    }
   ],
   "source": [
    "sns.boxplot(data=df, x=\"연도\", y=\"분양가격(㎡)\")"
   ]
  },
  {
   "cell_type": "code",
   "execution_count": 74,
   "id": "6b8a65b3",
   "metadata": {},
   "outputs": [
    {
     "data": {
      "text/plain": [
       "count     5315.000000\n",
       "mean      3420.317027\n",
       "std       1391.492734\n",
       "min       1868.000000\n",
       "25%       2547.000000\n",
       "50%       3045.000000\n",
       "75%       3872.500000\n",
       "max      13835.000000\n",
       "Name: 분양가격(㎡), dtype: float64"
      ]
     },
     "execution_count": 74,
     "metadata": {},
     "output_type": "execute_result"
    }
   ],
   "source": [
    "df[\"분양가격(㎡)\"].describe()"
   ]
  },
  {
   "cell_type": "code",
   "execution_count": 76,
   "id": "c4055b1f",
   "metadata": {},
   "outputs": [
    {
     "data": {
      "text/plain": [
       "13835.0"
      ]
     },
     "execution_count": 76,
     "metadata": {},
     "output_type": "execute_result"
    }
   ],
   "source": [
    "max_price = df[\"분양가격(㎡)\"].max()\n",
    "max_price"
   ]
  },
  {
   "cell_type": "code",
   "execution_count": 78,
   "id": "9ea332da",
   "metadata": {},
   "outputs": [
    {
     "data": {
      "text/html": [
       "<div>\n",
       "<style scoped>\n",
       "    .dataframe tbody tr th:only-of-type {\n",
       "        vertical-align: middle;\n",
       "    }\n",
       "\n",
       "    .dataframe tbody tr th {\n",
       "        vertical-align: top;\n",
       "    }\n",
       "\n",
       "    .dataframe thead th {\n",
       "        text-align: right;\n",
       "    }\n",
       "</style>\n",
       "<table border=\"1\" class=\"dataframe\">\n",
       "  <thead>\n",
       "    <tr style=\"text-align: right;\">\n",
       "      <th></th>\n",
       "      <th>지역명</th>\n",
       "      <th>규모구분</th>\n",
       "      <th>연도</th>\n",
       "      <th>월</th>\n",
       "      <th>분양가격(㎡)</th>\n",
       "    </tr>\n",
       "  </thead>\n",
       "  <tbody>\n",
       "    <tr>\n",
       "      <th>4423</th>\n",
       "      <td>서울</td>\n",
       "      <td>전용면적 85㎡초과 102㎡이하</td>\n",
       "      <td>2020</td>\n",
       "      <td>2</td>\n",
       "      <td>13835.0</td>\n",
       "    </tr>\n",
       "    <tr>\n",
       "      <th>4508</th>\n",
       "      <td>서울</td>\n",
       "      <td>전용면적 85㎡초과 102㎡이하</td>\n",
       "      <td>2020</td>\n",
       "      <td>3</td>\n",
       "      <td>13835.0</td>\n",
       "    </tr>\n",
       "    <tr>\n",
       "      <th>4593</th>\n",
       "      <td>서울</td>\n",
       "      <td>전용면적 85㎡초과 102㎡이하</td>\n",
       "      <td>2020</td>\n",
       "      <td>4</td>\n",
       "      <td>13835.0</td>\n",
       "    </tr>\n",
       "  </tbody>\n",
       "</table>\n",
       "</div>"
      ],
      "text/plain": [
       "     지역명               규모구분    연도  월  분양가격(㎡)\n",
       "4423  서울  전용면적 85㎡초과 102㎡이하  2020  2  13835.0\n",
       "4508  서울  전용면적 85㎡초과 102㎡이하  2020  3  13835.0\n",
       "4593  서울  전용면적 85㎡초과 102㎡이하  2020  4  13835.0"
      ]
     },
     "execution_count": 78,
     "metadata": {},
     "output_type": "execute_result"
    }
   ],
   "source": [
    "df[df[\"분양가격(㎡)\"] == max_price]"
   ]
  },
  {
   "cell_type": "code",
   "execution_count": 79,
   "id": "25d11965",
   "metadata": {},
   "outputs": [
    {
     "data": {
      "text/plain": [
       "<AxesSubplot:xlabel='연도', ylabel='분양가격(㎡)'>"
      ]
     },
     "execution_count": 79,
     "metadata": {},
     "output_type": "execute_result"
    },
    {
     "data": {
      "image/png": "[encoded data removed]",
      "text/plain": [
       "<Figure size 432x288 with 1 Axes>"
      ]
     },
     "metadata": {
      "needs_background": "light"
     },
     "output_type": "display_data"
    }
   ],
   "source": [
    "sns.violinplot(data=df, x=\"연도\", y=\"분양가격(㎡)\")"
   ]
  },
  {
   "cell_type": "code",
   "execution_count": 80,
   "id": "70c61233",
   "metadata": {},
   "outputs": [
    {
     "data": {
      "text/plain": [
       "<AxesSubplot:>"
      ]
     },
     "execution_count": 80,
     "metadata": {},
     "output_type": "execute_result"
    },
    {
     "data": {
      "image/png": "[encoded data removed]",
      "text/plain": [
       "<Figure size 432x288 with 1 Axes>"
      ]
     },
     "metadata": {
      "needs_background": "light"
     },
     "output_type": "display_data"
    }
   ],
   "source": [
    "df[\"분양가격(㎡)\"].hist()"
   ]
  },
  {
   "cell_type": "code",
   "execution_count": 81,
   "id": "738245fa",
   "metadata": {},
   "outputs": [
    {
     "data": {
      "text/plain": [
       "<seaborn.axisgrid.FacetGrid at 0x26f63b048e0>"
      ]
     },
     "execution_count": 81,
     "metadata": {},
     "output_type": "execute_result"
    },
    {
     "data": {
      "image/png": "[encoded data removed]",
      "text/plain": [
       "<Figure size 360x360 with 1 Axes>"
      ]
     },
     "metadata": {
      "needs_background": "light"
     },
     "output_type": "display_data"
    }
   ],
   "source": [
    "sns.displot(df[\"분양가격(㎡)\"])"
   ]
  },
  {
   "cell_type": "code",
   "execution_count": 82,
   "id": "c18fac71",
   "metadata": {},
   "outputs": [
    {
     "data": {
      "text/plain": [
       "<seaborn.axisgrid.FacetGrid at 0x26f63c55520>"
      ]
     },
     "execution_count": 82,
     "metadata": {},
     "output_type": "execute_result"
    },
    {
     "data": {
      "image/png": "[encoded data removed]",
      "text/plain": [
       "<Figure size 360x360 with 1 Axes>"
      ]
     },
     "metadata": {
      "needs_background": "light"
     },
     "output_type": "display_data"
    }
   ],
   "source": [
    "sns.displot(df[\"분양가격(㎡)\"], kind=\"kde\")"
   ]
  },
  {
   "cell_type": "code",
   "execution_count": 83,
   "id": "76eda6c8",
   "metadata": {},
   "outputs": [
    {
     "data": {
      "text/plain": [
       "연도    지역명\n",
       "2015  강원     2178.200000\n",
       "      경기     3351.800000\n",
       "      경남     2563.400000\n",
       "      경북     2261.866667\n",
       "      광주     2399.000000\n",
       "                ...     \n",
       "2021  전남     2981.560000\n",
       "      전북     2571.240000\n",
       "      제주     6264.352941\n",
       "      충남     2887.217391\n",
       "      충북     2668.720000\n",
       "Name: 분양가격(㎡), Length: 119, dtype: float64"
      ]
     },
     "execution_count": 83,
     "metadata": {},
     "output_type": "execute_result"
    }
   ],
   "source": [
    "df.groupby([\"연도\", \"지역명\"])[\"분양가격(㎡)\"].mean()"
   ]
  },
  {
   "cell_type": "code",
   "execution_count": 84,
   "id": "077558be",
   "metadata": {},
   "outputs": [
    {
     "data": {
      "text/html": [
       "<div>\n",
       "<style scoped>\n",
       "    .dataframe tbody tr th:only-of-type {\n",
       "        vertical-align: middle;\n",
       "    }\n",
       "\n",
       "    .dataframe tbody tr th {\n",
       "        vertical-align: top;\n",
       "    }\n",
       "\n",
       "    .dataframe thead th {\n",
       "        text-align: right;\n",
       "    }\n",
       "</style>\n",
       "<table border=\"1\" class=\"dataframe\">\n",
       "  <thead>\n",
       "    <tr style=\"text-align: right;\">\n",
       "      <th>지역명</th>\n",
       "      <th>강원</th>\n",
       "      <th>경기</th>\n",
       "      <th>경남</th>\n",
       "      <th>경북</th>\n",
       "      <th>광주</th>\n",
       "      <th>대구</th>\n",
       "      <th>대전</th>\n",
       "      <th>부산</th>\n",
       "      <th>서울</th>\n",
       "      <th>세종</th>\n",
       "      <th>울산</th>\n",
       "      <th>인천</th>\n",
       "      <th>전남</th>\n",
       "      <th>전북</th>\n",
       "      <th>제주</th>\n",
       "      <th>충남</th>\n",
       "      <th>충북</th>\n",
       "    </tr>\n",
       "    <tr>\n",
       "      <th>연도</th>\n",
       "      <th></th>\n",
       "      <th></th>\n",
       "      <th></th>\n",
       "      <th></th>\n",
       "      <th></th>\n",
       "      <th></th>\n",
       "      <th></th>\n",
       "      <th></th>\n",
       "      <th></th>\n",
       "      <th></th>\n",
       "      <th></th>\n",
       "      <th></th>\n",
       "      <th></th>\n",
       "      <th></th>\n",
       "      <th></th>\n",
       "      <th></th>\n",
       "      <th></th>\n",
       "    </tr>\n",
       "  </thead>\n",
       "  <tbody>\n",
       "    <tr>\n",
       "      <th>2015</th>\n",
       "      <td>2178.200000</td>\n",
       "      <td>3351.800000</td>\n",
       "      <td>2563.400000</td>\n",
       "      <td>2261.866667</td>\n",
       "      <td>2399.000000</td>\n",
       "      <td>2733.000000</td>\n",
       "      <td>2482.000000</td>\n",
       "      <td>3144.666667</td>\n",
       "      <td>6156.266667</td>\n",
       "      <td>2656.066667</td>\n",
       "      <td>2838.666667</td>\n",
       "      <td>3326.066667</td>\n",
       "      <td>2060.266667</td>\n",
       "      <td>2154.666667</td>\n",
       "      <td>2409.416667</td>\n",
       "      <td>2330.266667</td>\n",
       "      <td>2069.333333</td>\n",
       "    </tr>\n",
       "    <tr>\n",
       "      <th>2016</th>\n",
       "      <td>2170.576923</td>\n",
       "      <td>3540.900000</td>\n",
       "      <td>2574.766667</td>\n",
       "      <td>2349.516667</td>\n",
       "      <td>2785.055556</td>\n",
       "      <td>3115.766667</td>\n",
       "      <td>2700.222222</td>\n",
       "      <td>3255.616667</td>\n",
       "      <td>6591.950000</td>\n",
       "      <td>2684.183333</td>\n",
       "      <td>2903.810345</td>\n",
       "      <td>3363.350000</td>\n",
       "      <td>2102.000000</td>\n",
       "      <td>2092.916667</td>\n",
       "      <td>2899.236364</td>\n",
       "      <td>2411.583333</td>\n",
       "      <td>2161.616667</td>\n",
       "    </tr>\n",
       "    <tr>\n",
       "      <th>2017</th>\n",
       "      <td>2217.833333</td>\n",
       "      <td>3726.116667</td>\n",
       "      <td>2668.666667</td>\n",
       "      <td>2511.534483</td>\n",
       "      <td>2909.000000</td>\n",
       "      <td>3694.537037</td>\n",
       "      <td>3003.912281</td>\n",
       "      <td>3526.550000</td>\n",
       "      <td>6625.483333</td>\n",
       "      <td>2767.559322</td>\n",
       "      <td>3221.260870</td>\n",
       "      <td>3537.100000</td>\n",
       "      <td>2246.433333</td>\n",
       "      <td>2244.280702</td>\n",
       "      <td>3826.830189</td>\n",
       "      <td>2471.913793</td>\n",
       "      <td>2261.383333</td>\n",
       "    </tr>\n",
       "    <tr>\n",
       "      <th>2018</th>\n",
       "      <td>2490.683333</td>\n",
       "      <td>4320.733333</td>\n",
       "      <td>2826.566667</td>\n",
       "      <td>2630.538462</td>\n",
       "      <td>2886.955556</td>\n",
       "      <td>3678.561404</td>\n",
       "      <td>3101.244444</td>\n",
       "      <td>3906.050000</td>\n",
       "      <td>7030.983333</td>\n",
       "      <td>3133.473684</td>\n",
       "      <td>3103.454545</td>\n",
       "      <td>3600.464286</td>\n",
       "      <td>2402.983333</td>\n",
       "      <td>2477.150000</td>\n",
       "      <td>3616.960000</td>\n",
       "      <td>2485.400000</td>\n",
       "      <td>2469.483333</td>\n",
       "    </tr>\n",
       "    <tr>\n",
       "      <th>2019</th>\n",
       "      <td>2707.416667</td>\n",
       "      <td>4747.133333</td>\n",
       "      <td>3241.701754</td>\n",
       "      <td>2742.500000</td>\n",
       "      <td>3670.204545</td>\n",
       "      <td>4267.166667</td>\n",
       "      <td>3824.000000</td>\n",
       "      <td>4102.383333</td>\n",
       "      <td>8571.766667</td>\n",
       "      <td>3424.058824</td>\n",
       "      <td>3095.833333</td>\n",
       "      <td>4015.083333</td>\n",
       "      <td>2490.689655</td>\n",
       "      <td>2585.533333</td>\n",
       "      <td>3584.384615</td>\n",
       "      <td>2651.163636</td>\n",
       "      <td>2415.416667</td>\n",
       "    </tr>\n",
       "    <tr>\n",
       "      <th>2020</th>\n",
       "      <td>3121.946429</td>\n",
       "      <td>4577.600000</td>\n",
       "      <td>3308.870370</td>\n",
       "      <td>3029.604167</td>\n",
       "      <td>4062.571429</td>\n",
       "      <td>4640.666667</td>\n",
       "      <td>3405.710526</td>\n",
       "      <td>4046.366667</td>\n",
       "      <td>9024.550000</td>\n",
       "      <td>3523.666667</td>\n",
       "      <td>3890.181818</td>\n",
       "      <td>4540.300000</td>\n",
       "      <td>2897.696429</td>\n",
       "      <td>2593.766667</td>\n",
       "      <td>4300.871795</td>\n",
       "      <td>2769.509091</td>\n",
       "      <td>2533.017241</td>\n",
       "    </tr>\n",
       "    <tr>\n",
       "      <th>2021</th>\n",
       "      <td>3193.800000</td>\n",
       "      <td>4455.080000</td>\n",
       "      <td>3420.960000</td>\n",
       "      <td>3379.600000</td>\n",
       "      <td>4155.041667</td>\n",
       "      <td>4734.000000</td>\n",
       "      <td>3400.866667</td>\n",
       "      <td>4158.880000</td>\n",
       "      <td>8737.080000</td>\n",
       "      <td>3788.600000</td>\n",
       "      <td>4306.952381</td>\n",
       "      <td>4881.160000</td>\n",
       "      <td>2981.560000</td>\n",
       "      <td>2571.240000</td>\n",
       "      <td>6264.352941</td>\n",
       "      <td>2887.217391</td>\n",
       "      <td>2668.720000</td>\n",
       "    </tr>\n",
       "  </tbody>\n",
       "</table>\n",
       "</div>"
      ],
      "text/plain": [
       "지역명            강원           경기           경남           경북           광주  \\\n",
       "연도                                                                      \n",
       "2015  2178.200000  3351.800000  2563.400000  2261.866667  2399.000000   \n",
       "2016  2170.576923  3540.900000  2574.766667  2349.516667  2785.055556   \n",
       "2017  2217.833333  3726.116667  2668.666667  2511.534483  2909.000000   \n",
       "2018  2490.683333  4320.733333  2826.566667  2630.538462  2886.955556   \n",
       "2019  2707.416667  4747.133333  3241.701754  2742.500000  3670.204545   \n",
       "2020  3121.946429  4577.600000  3308.870370  3029.604167  4062.571429   \n",
       "2021  3193.800000  4455.080000  3420.960000  3379.600000  4155.041667   \n",
       "\n",
       "지역명            대구           대전           부산           서울           세종  \\\n",
       "연도                                                                      \n",
       "2015  2733.000000  2482.000000  3144.666667  6156.266667  2656.066667   \n",
       "2016  3115.766667  2700.222222  3255.616667  6591.950000  2684.183333   \n",
       "2017  3694.537037  3003.912281  3526.550000  6625.483333  2767.559322   \n",
       "2018  3678.561404  3101.244444  3906.050000  7030.983333  3133.473684   \n",
       "2019  4267.166667  3824.000000  4102.383333  8571.766667  3424.058824   \n",
       "2020  4640.666667  3405.710526  4046.366667  9024.550000  3523.666667   \n",
       "2021  4734.000000  3400.866667  4158.880000  8737.080000  3788.600000   \n",
       "\n",
       "지역명            울산           인천           전남           전북           제주  \\\n",
       "연도                                                                      \n",
       "2015  2838.666667  3326.066667  2060.266667  2154.666667  2409.416667   \n",
       "2016  2903.810345  3363.350000  2102.000000  2092.916667  2899.236364   \n",
       "2017  3221.260870  3537.100000  2246.433333  2244.280702  3826.830189   \n",
       "2018  3103.454545  3600.464286  2402.983333  2477.150000  3616.960000   \n",
       "2019  3095.833333  4015.083333  2490.689655  2585.533333  3584.384615   \n",
       "2020  3890.181818  4540.300000  2897.696429  2593.766667  4300.871795   \n",
       "2021  4306.952381  4881.160000  2981.560000  2571.240000  6264.352941   \n",
       "\n",
       "지역명            충남           충북  \n",
       "연도                              \n",
       "2015  2330.266667  2069.333333  \n",
       "2016  2411.583333  2161.616667  \n",
       "2017  2471.913793  2261.383333  \n",
       "2018  2485.400000  2469.483333  \n",
       "2019  2651.163636  2415.416667  \n",
       "2020  2769.509091  2533.017241  \n",
       "2021  2887.217391  2668.720000  "
      ]
     },
     "execution_count": 84,
     "metadata": {},
     "output_type": "execute_result"
    }
   ],
   "source": [
    "df.groupby([\"연도\", \"지역명\"])[\"분양가격(㎡)\"].mean().unstack()"
   ]
  },
  {
   "cell_type": "code",
   "execution_count": 87,
   "id": "3f5cd771",
   "metadata": {},
   "outputs": [],
   "source": [
    "h = pd.pivot_table(df, index=\"연도\", columns=\"지역명\", values=\"분양가격(㎡)\")"
   ]
  },
  {
   "cell_type": "code",
   "execution_count": 88,
   "id": "795b7cff",
   "metadata": {},
   "outputs": [
    {
     "data": {
      "text/plain": [
       "<AxesSubplot:xlabel='지역명', ylabel='연도'>"
      ]
     },
     "execution_count": 88,
     "metadata": {},
     "output_type": "execute_result"
    },
    {
     "data": {
      "image/png": "[encoded data removed]",
      "text/plain": [
       "<Figure size 432x288 with 2 Axes>"
      ]
     },
     "metadata": {
      "needs_background": "light"
     },
     "output_type": "display_data"
    }
   ],
   "source": [
    "sns.heatmap(h)"
   ]
  },
  {
   "cell_type": "code",
   "execution_count": 90,
   "id": "67358e14",
   "metadata": {},
   "outputs": [
    {
     "data": {
      "text/plain": [
       "<AxesSubplot:xlabel='지역명', ylabel='연도'>"
      ]
     },
     "execution_count": 90,
     "metadata": {},
     "output_type": "execute_result"
    },
    {
     "data": {
      "image/png": "[encoded data removed]",
      "text/plain": [
       "<Figure size 1080x504 with 2 Axes>"
      ]
     },
     "metadata": {
      "needs_background": "light"
     },
     "output_type": "display_data"
    }
   ],
   "source": [
    "plt.figure(figsize=(15, 7))\n",
    "sns.heatmap(h, cmap=\"Blues\", annot=True, fmt=\".0f\")"
   ]
  },
  {
   "cell_type": "code",
   "execution_count": 91,
   "id": "f274d243",
   "metadata": {},
   "outputs": [
    {
     "data": {
      "text/html": [
       "<div>\n",
       "<style scoped>\n",
       "    .dataframe tbody tr th:only-of-type {\n",
       "        vertical-align: middle;\n",
       "    }\n",
       "\n",
       "    .dataframe tbody tr th {\n",
       "        vertical-align: top;\n",
       "    }\n",
       "\n",
       "    .dataframe thead th {\n",
       "        text-align: right;\n",
       "    }\n",
       "</style>\n",
       "<table border=\"1\" class=\"dataframe\">\n",
       "  <thead>\n",
       "    <tr style=\"text-align: right;\">\n",
       "      <th>연도</th>\n",
       "      <th>2015</th>\n",
       "      <th>2016</th>\n",
       "      <th>2017</th>\n",
       "      <th>2018</th>\n",
       "      <th>2019</th>\n",
       "      <th>2020</th>\n",
       "      <th>2021</th>\n",
       "    </tr>\n",
       "    <tr>\n",
       "      <th>지역명</th>\n",
       "      <th></th>\n",
       "      <th></th>\n",
       "      <th></th>\n",
       "      <th></th>\n",
       "      <th></th>\n",
       "      <th></th>\n",
       "      <th></th>\n",
       "    </tr>\n",
       "  </thead>\n",
       "  <tbody>\n",
       "    <tr>\n",
       "      <th>강원</th>\n",
       "      <td>2178.200000</td>\n",
       "      <td>2170.576923</td>\n",
       "      <td>2217.833333</td>\n",
       "      <td>2490.683333</td>\n",
       "      <td>2707.416667</td>\n",
       "      <td>3121.946429</td>\n",
       "      <td>3193.800000</td>\n",
       "    </tr>\n",
       "    <tr>\n",
       "      <th>경기</th>\n",
       "      <td>3351.800000</td>\n",
       "      <td>3540.900000</td>\n",
       "      <td>3726.116667</td>\n",
       "      <td>4320.733333</td>\n",
       "      <td>4747.133333</td>\n",
       "      <td>4577.600000</td>\n",
       "      <td>4455.080000</td>\n",
       "    </tr>\n",
       "    <tr>\n",
       "      <th>경남</th>\n",
       "      <td>2563.400000</td>\n",
       "      <td>2574.766667</td>\n",
       "      <td>2668.666667</td>\n",
       "      <td>2826.566667</td>\n",
       "      <td>3241.701754</td>\n",
       "      <td>3308.870370</td>\n",
       "      <td>3420.960000</td>\n",
       "    </tr>\n",
       "    <tr>\n",
       "      <th>경북</th>\n",
       "      <td>2261.866667</td>\n",
       "      <td>2349.516667</td>\n",
       "      <td>2511.534483</td>\n",
       "      <td>2630.538462</td>\n",
       "      <td>2742.500000</td>\n",
       "      <td>3029.604167</td>\n",
       "      <td>3379.600000</td>\n",
       "    </tr>\n",
       "    <tr>\n",
       "      <th>광주</th>\n",
       "      <td>2399.000000</td>\n",
       "      <td>2785.055556</td>\n",
       "      <td>2909.000000</td>\n",
       "      <td>2886.955556</td>\n",
       "      <td>3670.204545</td>\n",
       "      <td>4062.571429</td>\n",
       "      <td>4155.041667</td>\n",
       "    </tr>\n",
       "    <tr>\n",
       "      <th>대구</th>\n",
       "      <td>2733.000000</td>\n",
       "      <td>3115.766667</td>\n",
       "      <td>3694.537037</td>\n",
       "      <td>3678.561404</td>\n",
       "      <td>4267.166667</td>\n",
       "      <td>4640.666667</td>\n",
       "      <td>4734.000000</td>\n",
       "    </tr>\n",
       "    <tr>\n",
       "      <th>대전</th>\n",
       "      <td>2482.000000</td>\n",
       "      <td>2700.222222</td>\n",
       "      <td>3003.912281</td>\n",
       "      <td>3101.244444</td>\n",
       "      <td>3824.000000</td>\n",
       "      <td>3405.710526</td>\n",
       "      <td>3400.866667</td>\n",
       "    </tr>\n",
       "    <tr>\n",
       "      <th>부산</th>\n",
       "      <td>3144.666667</td>\n",
       "      <td>3255.616667</td>\n",
       "      <td>3526.550000</td>\n",
       "      <td>3906.050000</td>\n",
       "      <td>4102.383333</td>\n",
       "      <td>4046.366667</td>\n",
       "      <td>4158.880000</td>\n",
       "    </tr>\n",
       "    <tr>\n",
       "      <th>서울</th>\n",
       "      <td>6156.266667</td>\n",
       "      <td>6591.950000</td>\n",
       "      <td>6625.483333</td>\n",
       "      <td>7030.983333</td>\n",
       "      <td>8571.766667</td>\n",
       "      <td>9024.550000</td>\n",
       "      <td>8737.080000</td>\n",
       "    </tr>\n",
       "    <tr>\n",
       "      <th>세종</th>\n",
       "      <td>2656.066667</td>\n",
       "      <td>2684.183333</td>\n",
       "      <td>2767.559322</td>\n",
       "      <td>3133.473684</td>\n",
       "      <td>3424.058824</td>\n",
       "      <td>3523.666667</td>\n",
       "      <td>3788.600000</td>\n",
       "    </tr>\n",
       "    <tr>\n",
       "      <th>울산</th>\n",
       "      <td>2838.666667</td>\n",
       "      <td>2903.810345</td>\n",
       "      <td>3221.260870</td>\n",
       "      <td>3103.454545</td>\n",
       "      <td>3095.833333</td>\n",
       "      <td>3890.181818</td>\n",
       "      <td>4306.952381</td>\n",
       "    </tr>\n",
       "    <tr>\n",
       "      <th>인천</th>\n",
       "      <td>3326.066667</td>\n",
       "      <td>3363.350000</td>\n",
       "      <td>3537.100000</td>\n",
       "      <td>3600.464286</td>\n",
       "      <td>4015.083333</td>\n",
       "      <td>4540.300000</td>\n",
       "      <td>4881.160000</td>\n",
       "    </tr>\n",
       "    <tr>\n",
       "      <th>전남</th>\n",
       "      <td>2060.266667</td>\n",
       "      <td>2102.000000</td>\n",
       "      <td>2246.433333</td>\n",
       "      <td>2402.983333</td>\n",
       "      <td>2490.689655</td>\n",
       "      <td>2897.696429</td>\n",
       "      <td>2981.560000</td>\n",
       "    </tr>\n",
       "    <tr>\n",
       "      <th>전북</th>\n",
       "      <td>2154.666667</td>\n",
       "      <td>2092.916667</td>\n",
       "      <td>2244.280702</td>\n",
       "      <td>2477.150000</td>\n",
       "      <td>2585.533333</td>\n",
       "      <td>2593.766667</td>\n",
       "      <td>2571.240000</td>\n",
       "    </tr>\n",
       "    <tr>\n",
       "      <th>제주</th>\n",
       "      <td>2409.416667</td>\n",
       "      <td>2899.236364</td>\n",
       "      <td>3826.830189</td>\n",
       "      <td>3616.960000</td>\n",
       "      <td>3584.384615</td>\n",
       "      <td>4300.871795</td>\n",
       "      <td>6264.352941</td>\n",
       "    </tr>\n",
       "    <tr>\n",
       "      <th>충남</th>\n",
       "      <td>2330.266667</td>\n",
       "      <td>2411.583333</td>\n",
       "      <td>2471.913793</td>\n",
       "      <td>2485.400000</td>\n",
       "      <td>2651.163636</td>\n",
       "      <td>2769.509091</td>\n",
       "      <td>2887.217391</td>\n",
       "    </tr>\n",
       "    <tr>\n",
       "      <th>충북</th>\n",
       "      <td>2069.333333</td>\n",
       "      <td>2161.616667</td>\n",
       "      <td>2261.383333</td>\n",
       "      <td>2469.483333</td>\n",
       "      <td>2415.416667</td>\n",
       "      <td>2533.017241</td>\n",
       "      <td>2668.720000</td>\n",
       "    </tr>\n",
       "  </tbody>\n",
       "</table>\n",
       "</div>"
      ],
      "text/plain": [
       "연도          2015         2016         2017         2018         2019  \\\n",
       "지역명                                                                    \n",
       "강원   2178.200000  2170.576923  2217.833333  2490.683333  2707.416667   \n",
       "경기   3351.800000  3540.900000  3726.116667  4320.733333  4747.133333   \n",
       "경남   2563.400000  2574.766667  2668.666667  2826.566667  3241.701754   \n",
       "경북   2261.866667  2349.516667  2511.534483  2630.538462  2742.500000   \n",
       "광주   2399.000000  2785.055556  2909.000000  2886.955556  3670.204545   \n",
       "대구   2733.000000  3115.766667  3694.537037  3678.561404  4267.166667   \n",
       "대전   2482.000000  2700.222222  3003.912281  3101.244444  3824.000000   \n",
       "부산   3144.666667  3255.616667  3526.550000  3906.050000  4102.383333   \n",
       "서울   6156.266667  6591.950000  6625.483333  7030.983333  8571.766667   \n",
       "세종   2656.066667  2684.183333  2767.559322  3133.473684  3424.058824   \n",
       "울산   2838.666667  2903.810345  3221.260870  3103.454545  3095.833333   \n",
       "인천   3326.066667  3363.350000  3537.100000  3600.464286  4015.083333   \n",
       "전남   2060.266667  2102.000000  2246.433333  2402.983333  2490.689655   \n",
       "전북   2154.666667  2092.916667  2244.280702  2477.150000  2585.533333   \n",
       "제주   2409.416667  2899.236364  3826.830189  3616.960000  3584.384615   \n",
       "충남   2330.266667  2411.583333  2471.913793  2485.400000  2651.163636   \n",
       "충북   2069.333333  2161.616667  2261.383333  2469.483333  2415.416667   \n",
       "\n",
       "연도          2020         2021  \n",
       "지역명                            \n",
       "강원   3121.946429  3193.800000  \n",
       "경기   4577.600000  4455.080000  \n",
       "경남   3308.870370  3420.960000  \n",
       "경북   3029.604167  3379.600000  \n",
       "광주   4062.571429  4155.041667  \n",
       "대구   4640.666667  4734.000000  \n",
       "대전   3405.710526  3400.866667  \n",
       "부산   4046.366667  4158.880000  \n",
       "서울   9024.550000  8737.080000  \n",
       "세종   3523.666667  3788.600000  \n",
       "울산   3890.181818  4306.952381  \n",
       "인천   4540.300000  4881.160000  \n",
       "전남   2897.696429  2981.560000  \n",
       "전북   2593.766667  2571.240000  \n",
       "제주   4300.871795  6264.352941  \n",
       "충남   2769.509091  2887.217391  \n",
       "충북   2533.017241  2668.720000  "
      ]
     },
     "execution_count": 91,
     "metadata": {},
     "output_type": "execute_result"
    }
   ],
   "source": [
    "h.T"
   ]
  },
  {
   "cell_type": "code",
   "execution_count": 92,
   "id": "5850584b",
   "metadata": {},
   "outputs": [
    {
     "data": {
      "text/plain": [
       "<AxesSubplot:xlabel='연도', ylabel='지역명'>"
      ]
     },
     "execution_count": 92,
     "metadata": {},
     "output_type": "execute_result"
    },
    {
     "data": {
      "image/png": "[encoded data removed]",
      "text/plain": [
       "<Figure size 1080x504 with 2 Axes>"
      ]
     },
     "metadata": {
      "needs_background": "light"
     },
     "output_type": "display_data"
    }
   ],
   "source": [
    "plt.figure(figsize=(15, 7))\n",
    "sns.heatmap(h.T, cmap=\"Reds\", annot=True, fmt=\".0f\")"
   ]
  },
  {
   "cell_type": "code",
   "execution_count": null,
   "id": "5f276aec",
   "metadata": {},
   "outputs": [],
   "source": []
  }
 ],
 "metadata": {
  "kernelspec": {
   "display_name": "Python 3",
   "language": "python",
   "name": "python3"
  },
  "language_info": {
   "codemirror_mode": {
    "name": "ipython",
    "version": 3
   },
   "file_extension": ".py",
   "mimetype": "text/x-python",
   "name": "python",
   "nbconvert_exporter": "python",
   "pygments_lexer": "ipython3",
   "version": "3.8.8"
  }
 },
 "nbformat": 4,
 "nbformat_minor": 5
}
