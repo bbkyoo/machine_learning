{
 "cells": [
  {
   "cell_type": "markdown",
   "metadata": {},
   "source": [
    "# Bike Sharing Demand"
   ]
  },
  {
   "cell_type": "markdown",
   "metadata": {},
   "source": [
    "- 도시 자전거 공유 시스템 사용 예측\n",
    "- [캐글](https://www.kaggle.com)의 [Bike Sharing Demand](https://www.kaggle.com/c/bike-sharing-demand)에서 `train.csv`와 `test.csv`를 다운로드\n",
    "- 두 파일을 각각 datasets 디렉토리에 bike_train.csv bike_test.csv로 저장 "
   ]
  },
  {
   "cell_type": "markdown",
   "metadata": {},
   "source": []
  },
  {
   "cell_type": "markdown",
   "metadata": {},
   "source": [
    "- 자전거 대여량을 예측하는 문제\n",
    "- Evaluation : Submissions are evaluated one the Root Mean Squared Logarithmic Error (RMSLE). "
   ]
  },
  {
   "cell_type": "markdown",
   "metadata": {},
   "source": [
    "## 데이터 탐색 및 전처리"
   ]
  },
  {
   "cell_type": "code",
   "execution_count": 1,
   "metadata": {},
   "outputs": [],
   "source": [
    "import numpy as np\n",
    "import pandas as pd\n",
    "import seaborn as sns\n",
    "import matplotlib.pyplot as plt"
   ]
  },
  {
   "cell_type": "code",
   "execution_count": 2,
   "metadata": {},
   "outputs": [],
   "source": [
    "plt.style.use('ggplot')\n",
    "# 스타일 리스트 출력\n",
    "#plt.style.available"
   ]
  },
  {
   "cell_type": "markdown",
   "metadata": {},
   "source": [
    "* [Style 정보](https://matplotlib.org/stable/gallery/style_sheets/style_sheets_reference.html)"
   ]
  },
  {
   "cell_type": "code",
   "execution_count": 3,
   "metadata": {},
   "outputs": [],
   "source": [
    "bike_train = pd.read_csv('datasets/bike_train.csv')\n",
    "bike_test = pd.read_csv('datasets/bike_test.csv')"
   ]
  },
  {
   "cell_type": "code",
   "execution_count": 4,
   "metadata": {},
   "outputs": [
    {
     "data": {
      "text/html": [
       "<div>\n",
       "<style scoped>\n",
       "    .dataframe tbody tr th:only-of-type {\n",
       "        vertical-align: middle;\n",
       "    }\n",
       "\n",
       "    .dataframe tbody tr th {\n",
       "        vertical-align: top;\n",
       "    }\n",
       "\n",
       "    .dataframe thead th {\n",
       "        text-align: right;\n",
       "    }\n",
       "</style>\n",
       "<table border=\"1\" class=\"dataframe\">\n",
       "  <thead>\n",
       "    <tr style=\"text-align: right;\">\n",
       "      <th></th>\n",
       "      <th>datetime</th>\n",
       "      <th>season</th>\n",
       "      <th>holiday</th>\n",
       "      <th>workingday</th>\n",
       "      <th>weather</th>\n",
       "      <th>temp</th>\n",
       "      <th>atemp</th>\n",
       "      <th>humidity</th>\n",
       "      <th>windspeed</th>\n",
       "      <th>casual</th>\n",
       "      <th>registered</th>\n",
       "      <th>count</th>\n",
       "    </tr>\n",
       "  </thead>\n",
       "  <tbody>\n",
       "    <tr>\n",
       "      <th>0</th>\n",
       "      <td>2011-01-01 00:00:00</td>\n",
       "      <td>1</td>\n",
       "      <td>0</td>\n",
       "      <td>0</td>\n",
       "      <td>1</td>\n",
       "      <td>9.84</td>\n",
       "      <td>14.395</td>\n",
       "      <td>81</td>\n",
       "      <td>0.0</td>\n",
       "      <td>3</td>\n",
       "      <td>13</td>\n",
       "      <td>16</td>\n",
       "    </tr>\n",
       "    <tr>\n",
       "      <th>1</th>\n",
       "      <td>2011-01-01 01:00:00</td>\n",
       "      <td>1</td>\n",
       "      <td>0</td>\n",
       "      <td>0</td>\n",
       "      <td>1</td>\n",
       "      <td>9.02</td>\n",
       "      <td>13.635</td>\n",
       "      <td>80</td>\n",
       "      <td>0.0</td>\n",
       "      <td>8</td>\n",
       "      <td>32</td>\n",
       "      <td>40</td>\n",
       "    </tr>\n",
       "    <tr>\n",
       "      <th>2</th>\n",
       "      <td>2011-01-01 02:00:00</td>\n",
       "      <td>1</td>\n",
       "      <td>0</td>\n",
       "      <td>0</td>\n",
       "      <td>1</td>\n",
       "      <td>9.02</td>\n",
       "      <td>13.635</td>\n",
       "      <td>80</td>\n",
       "      <td>0.0</td>\n",
       "      <td>5</td>\n",
       "      <td>27</td>\n",
       "      <td>32</td>\n",
       "    </tr>\n",
       "  </tbody>\n",
       "</table>\n",
       "</div>"
      ],
      "text/plain": [
       "              datetime  season  holiday  workingday  weather  temp   atemp  \\\n",
       "0  2011-01-01 00:00:00       1        0           0        1  9.84  14.395   \n",
       "1  2011-01-01 01:00:00       1        0           0        1  9.02  13.635   \n",
       "2  2011-01-01 02:00:00       1        0           0        1  9.02  13.635   \n",
       "\n",
       "   humidity  windspeed  casual  registered  count  \n",
       "0        81        0.0       3          13     16  \n",
       "1        80        0.0       8          32     40  \n",
       "2        80        0.0       5          27     32  "
      ]
     },
     "execution_count": 4,
     "metadata": {},
     "output_type": "execute_result"
    }
   ],
   "source": [
    "bike_train.head(3)"
   ]
  },
  {
   "cell_type": "markdown",
   "metadata": {},
   "source": [
    "datetime: hourly date + timestamp  \n",
    "season: 1 = 봄, 2 = 여름, 3 = 가을, 4 = 겨울  \n",
    "holiday: 1 = 토, 일요일의 주말을 제외한 국경일 등의 휴일, 0 = 휴일이 아닌 날  \n",
    "workingday: 1 = 토, 일요일의 주말 및 휴일이 아닌 주중, 0 = 주말 및 휴일  \n",
    "weather:  \n",
    "• 1 = 맑음, 약간 구름 낀 흐림  \n",
    "• 2 = 안개, 안개 + 흐림  \n",
    "• 3 = 가벼운 눈, 가벼운 비 + 천둥  \n",
    "• 4 = 심한 눈/비, 천둥/번개  \n",
    "temp: 온도(섭씨)   \n",
    "atemp: 체감온도(섭씨)  \n",
    "humidity: 상대습도  \n",
    "windspeed: 풍속  \n",
    "casual: 사전에 등록되지 않는 사용자가 대여한 횟수  \n",
    "registered: 사전에 등록된 사용자가 대여한 횟수  \n",
    "count: 대여 횟수  "
   ]
  },
  {
   "cell_type": "code",
   "execution_count": 5,
   "metadata": {},
   "outputs": [
    {
     "name": "stdout",
     "output_type": "stream",
     "text": [
      "<class 'pandas.core.frame.DataFrame'>\n",
      "RangeIndex: 10886 entries, 0 to 10885\n",
      "Data columns (total 12 columns):\n",
      " #   Column      Non-Null Count  Dtype  \n",
      "---  ------      --------------  -----  \n",
      " 0   datetime    10886 non-null  object \n",
      " 1   season      10886 non-null  int64  \n",
      " 2   holiday     10886 non-null  int64  \n",
      " 3   workingday  10886 non-null  int64  \n",
      " 4   weather     10886 non-null  int64  \n",
      " 5   temp        10886 non-null  float64\n",
      " 6   atemp       10886 non-null  float64\n",
      " 7   humidity    10886 non-null  int64  \n",
      " 8   windspeed   10886 non-null  float64\n",
      " 9   casual      10886 non-null  int64  \n",
      " 10  registered  10886 non-null  int64  \n",
      " 11  count       10886 non-null  int64  \n",
      "dtypes: float64(3), int64(8), object(1)\n",
      "memory usage: 1020.7+ KB\n"
     ]
    }
   ],
   "source": [
    "bike_train.info()"
   ]
  },
  {
   "cell_type": "markdown",
   "metadata": {},
   "source": [
    "* datetime이 문자열로 되어있음 : datetime 타입으로 변경"
   ]
  },
  {
   "cell_type": "code",
   "execution_count": 6,
   "metadata": {},
   "outputs": [],
   "source": [
    "# 시각화만을 위해 사용할 DataFrame 생성\n",
    "bike = pd.DataFrame()"
   ]
  },
  {
   "cell_type": "code",
   "execution_count": 7,
   "metadata": {},
   "outputs": [],
   "source": [
    "bike['datetime'] = bike_train.datetime.apply(pd.to_datetime)"
   ]
  },
  {
   "cell_type": "markdown",
   "metadata": {},
   "source": [
    "* datetime 타입에서 년, 월, 일, 시간 추출"
   ]
  },
  {
   "cell_type": "code",
   "execution_count": 10,
   "metadata": {},
   "outputs": [],
   "source": [
    "bike['year'] = bike.datetime.apply(lambda x : x.year)\n",
    "bike['month'] = bike.datetime.apply(lambda x : x.month)\n",
    "bike['day'] = bike.datetime.apply(lambda x : x.day)\n",
    "bike['hour'] = bike.datetime.apply(lambda x: x.hour)"
   ]
  },
  {
   "cell_type": "markdown",
   "metadata": {},
   "source": [
    "* 그 외 데이터들 bike에 copy"
   ]
  },
  {
   "cell_type": "code",
   "execution_count": 11,
   "metadata": {},
   "outputs": [],
   "source": [
    "bike[\"season\"] = bike_train[\"season\"] \n",
    "bike[\"weather\"] = bike_train[\"weather\"]\n",
    "bike[\"workingday\"] = bike_train[\"workingday\"] \n",
    "bike[\"count\"] = bike_train[\"count\"] "
   ]
  },
  {
   "cell_type": "code",
   "execution_count": 12,
   "metadata": {},
   "outputs": [],
   "source": [
    "bike[\"atemp\"] = bike_train[\"atemp\"] \n",
    "bike[\"temp\"] = bike_train[\"temp\"] \n",
    "bike[\"humidity\"] = bike_train[\"humidity\"] \n",
    "bike[\"windspeed\"] = bike_train[\"windspeed\"] "
   ]
  },
  {
   "cell_type": "markdown",
   "metadata": {},
   "source": [
    "* 누락데이터 및 데이터 타입 확인"
   ]
  },
  {
   "cell_type": "code",
   "execution_count": 14,
   "metadata": {},
   "outputs": [
    {
     "name": "stdout",
     "output_type": "stream",
     "text": [
      "<class 'pandas.core.frame.DataFrame'>\n",
      "RangeIndex: 10886 entries, 0 to 10885\n",
      "Data columns (total 13 columns):\n",
      " #   Column      Non-Null Count  Dtype         \n",
      "---  ------      --------------  -----         \n",
      " 0   datetime    10886 non-null  datetime64[ns]\n",
      " 1   year        10886 non-null  int64         \n",
      " 2   month       10886 non-null  int64         \n",
      " 3   day         10886 non-null  int64         \n",
      " 4   hour        10886 non-null  int64         \n",
      " 5   season      10886 non-null  int64         \n",
      " 6   weather     10886 non-null  int64         \n",
      " 7   workingday  10886 non-null  int64         \n",
      " 8   count       10886 non-null  int64         \n",
      " 9   atemp       10886 non-null  float64       \n",
      " 10  temp        10886 non-null  float64       \n",
      " 11  humidity    10886 non-null  int64         \n",
      " 12  windspeed   10886 non-null  float64       \n",
      "dtypes: datetime64[ns](1), float64(3), int64(9)\n",
      "memory usage: 1.1 MB\n"
     ]
    }
   ],
   "source": [
    "bike.info()"
   ]
  },
  {
   "cell_type": "code",
   "execution_count": 15,
   "metadata": {},
   "outputs": [
    {
     "data": {
      "text/html": [
       "<div>\n",
       "<style scoped>\n",
       "    .dataframe tbody tr th:only-of-type {\n",
       "        vertical-align: middle;\n",
       "    }\n",
       "\n",
       "    .dataframe tbody tr th {\n",
       "        vertical-align: top;\n",
       "    }\n",
       "\n",
       "    .dataframe thead th {\n",
       "        text-align: right;\n",
       "    }\n",
       "</style>\n",
       "<table border=\"1\" class=\"dataframe\">\n",
       "  <thead>\n",
       "    <tr style=\"text-align: right;\">\n",
       "      <th></th>\n",
       "      <th>datetime</th>\n",
       "      <th>season</th>\n",
       "      <th>holiday</th>\n",
       "      <th>workingday</th>\n",
       "      <th>weather</th>\n",
       "      <th>temp</th>\n",
       "      <th>atemp</th>\n",
       "      <th>humidity</th>\n",
       "      <th>windspeed</th>\n",
       "      <th>casual</th>\n",
       "      <th>registered</th>\n",
       "      <th>count</th>\n",
       "    </tr>\n",
       "  </thead>\n",
       "  <tbody>\n",
       "    <tr>\n",
       "      <th>0</th>\n",
       "      <td>2011-01-01 00:00:00</td>\n",
       "      <td>1</td>\n",
       "      <td>0</td>\n",
       "      <td>0</td>\n",
       "      <td>1</td>\n",
       "      <td>9.84</td>\n",
       "      <td>14.395</td>\n",
       "      <td>81</td>\n",
       "      <td>0.0</td>\n",
       "      <td>3</td>\n",
       "      <td>13</td>\n",
       "      <td>16</td>\n",
       "    </tr>\n",
       "    <tr>\n",
       "      <th>1</th>\n",
       "      <td>2011-01-01 01:00:00</td>\n",
       "      <td>1</td>\n",
       "      <td>0</td>\n",
       "      <td>0</td>\n",
       "      <td>1</td>\n",
       "      <td>9.02</td>\n",
       "      <td>13.635</td>\n",
       "      <td>80</td>\n",
       "      <td>0.0</td>\n",
       "      <td>8</td>\n",
       "      <td>32</td>\n",
       "      <td>40</td>\n",
       "    </tr>\n",
       "    <tr>\n",
       "      <th>2</th>\n",
       "      <td>2011-01-01 02:00:00</td>\n",
       "      <td>1</td>\n",
       "      <td>0</td>\n",
       "      <td>0</td>\n",
       "      <td>1</td>\n",
       "      <td>9.02</td>\n",
       "      <td>13.635</td>\n",
       "      <td>80</td>\n",
       "      <td>0.0</td>\n",
       "      <td>5</td>\n",
       "      <td>27</td>\n",
       "      <td>32</td>\n",
       "    </tr>\n",
       "  </tbody>\n",
       "</table>\n",
       "</div>"
      ],
      "text/plain": [
       "              datetime  season  holiday  workingday  weather  temp   atemp  \\\n",
       "0  2011-01-01 00:00:00       1        0           0        1  9.84  14.395   \n",
       "1  2011-01-01 01:00:00       1        0           0        1  9.02  13.635   \n",
       "2  2011-01-01 02:00:00       1        0           0        1  9.02  13.635   \n",
       "\n",
       "   humidity  windspeed  casual  registered  count  \n",
       "0        81        0.0       3          13     16  \n",
       "1        80        0.0       8          32     40  \n",
       "2        80        0.0       5          27     32  "
      ]
     },
     "execution_count": 15,
     "metadata": {},
     "output_type": "execute_result"
    }
   ],
   "source": [
    "bike_train.head(3)"
   ]
  },
  {
   "cell_type": "markdown",
   "metadata": {},
   "source": [
    "* 열삭제  \n",
    "- count는 casual과 register를 합한 결과, 또한 test.csv에 없는 내용이므로 삭제"
   ]
  },
  {
   "cell_type": "code",
   "execution_count": 16,
   "metadata": {},
   "outputs": [],
   "source": [
    "drop_columns = ['casual','registered']\n",
    "bike_train.drop(drop_columns, axis=1,inplace=True)"
   ]
  },
  {
   "cell_type": "markdown",
   "metadata": {},
   "source": [
    "- 누락값 확인"
   ]
  },
  {
   "cell_type": "code",
   "execution_count": 17,
   "metadata": {},
   "outputs": [
    {
     "data": {
      "text/plain": [
       "datetime      0\n",
       "season        0\n",
       "holiday       0\n",
       "workingday    0\n",
       "weather       0\n",
       "temp          0\n",
       "atemp         0\n",
       "humidity      0\n",
       "windspeed     0\n",
       "count         0\n",
       "dtype: int64"
      ]
     },
     "execution_count": 17,
     "metadata": {},
     "output_type": "execute_result"
    }
   ],
   "source": [
    "bike_train.isnull().sum()"
   ]
  },
  {
   "cell_type": "markdown",
   "metadata": {},
   "source": [
    "- 시간대/계절별 대여량 확인"
   ]
  },
  {
   "cell_type": "code",
   "execution_count": 18,
   "metadata": {
    "scrolled": true
   },
   "outputs": [
    {
     "data": {
      "text/plain": [
       "<AxesSubplot:xlabel='weather', ylabel='count'>"
      ]
     },
     "execution_count": 18,
     "metadata": {},
     "output_type": "execute_result"
    },
    {
     "data": {
      "image/png": "[encoded data removed]",
      "text/plain": [
       "<Figure size 1296x576 with 6 Axes>"
      ]
     },
     "metadata": {},
     "output_type": "display_data"
    }
   ],
   "source": [
    "figure, ((ax1,ax2,ax3), (ax4,ax5,ax6)) = plt.subplots(nrows=2, ncols=3)\n",
    "figure.set_size_inches(18,8)\n",
    "\n",
    "sns.barplot(data=bike, x=\"year\", y=\"count\", ax=ax1)\n",
    "sns.barplot(data=bike, x=\"month\", y=\"count\", ax=ax2)\n",
    "sns.barplot(data=bike, x=\"day\", y=\"count\", ax=ax3)\n",
    "sns.barplot(data=bike, x=\"hour\", y=\"count\", ax=ax4)\n",
    "sns.barplot(data=bike, x=\"season\", y=\"count\", ax=ax5)\n",
    "sns.barplot(data=bike, x=\"weather\", y=\"count\", ax=ax6)\n",
    "#sns.barplot(data=bike, x=\"workingday\", y=\"count\", ax=ax3)"
   ]
  },
  {
   "cell_type": "markdown",
   "metadata": {},
   "source": [
    "* 연도별 대여량은 2011년 보다 2012년이 더 많음\n",
    "* 월별 대여량은 6월에 가장 많고 7~10월도 대여량이 많음. 1월이 가장 적음\n",
    "* 일별대여량은 1일부터 19일까지만 있고 나머지 날짜는 test.csv에 있음. 사용불가\n",
    "* 시간 대 대여량을 보면 출퇴근 시간에 대여량이 많음. 하지만 주말과 나누어 분석해야함\n",
    "* 가을(3)에 대여량 많음\n",
    "* 일하는날(1)에 대여량이 조금 더 많음"
   ]
  },
  {
   "cell_type": "code",
   "execution_count": 19,
   "metadata": {},
   "outputs": [
    {
     "data": {
      "text/plain": [
       "<AxesSubplot:xlabel='hour', ylabel='count'>"
      ]
     },
     "execution_count": 19,
     "metadata": {},
     "output_type": "execute_result"
    },
    {
     "data": {
      "image/png": "[encoded data removed]",
      "text/plain": [
       "<Figure size 576x720 with 2 Axes>"
      ]
     },
     "metadata": {},
     "output_type": "display_data"
    }
   ],
   "source": [
    "fig,(ax1,ax2)= plt.subplots(nrows=2)\n",
    "fig.set_size_inches(8,10)\n",
    "\n",
    "sns.pointplot(data=bike, x=\"hour\", y=\"count\", ax=ax1)\n",
    "sns.pointplot(data=bike, x=\"hour\", y=\"count\", hue=\"workingday\", ax=ax2)"
   ]
  },
  {
   "cell_type": "markdown",
   "metadata": {},
   "source": [
    "* workingday 기준 일하는날은 출퇴근시간에 대여량이 많은반면 휴일에는 오후 시간대에 대여량이 많음"
   ]
  },
  {
   "cell_type": "markdown",
   "metadata": {},
   "source": [
    "* 수치형 데이터 histogram"
   ]
  },
  {
   "cell_type": "code",
   "execution_count": 20,
   "metadata": {},
   "outputs": [
    {
     "data": {
      "text/plain": [
       "<AxesSubplot:xlabel='windspeed', ylabel='Count'>"
      ]
     },
     "execution_count": 20,
     "metadata": {},
     "output_type": "execute_result"
    },
    {
     "data": {
      "image/png": "[encoded data removed]",
      "text/plain": [
       "<Figure size 576x1152 with 4 Axes>"
      ]
     },
     "metadata": {},
     "output_type": "display_data"
    }
   ],
   "source": [
    "figure, (ax1, ax2, ax3, ax4) = plt.subplots(nrows=4)\n",
    "figure.set_size_inches(8,16)\n",
    "\n",
    "sns.histplot(bike[\"atemp\"], ax=ax1)\n",
    "sns.histplot(bike[\"temp\"], ax=ax2)\n",
    "sns.histplot(bike[\"humidity\"], ax=ax3)\n",
    "sns.histplot(bike[\"windspeed\"], ax=ax4)"
   ]
  },
  {
   "cell_type": "markdown",
   "metadata": {},
   "source": [
    "* X와 y로 특성값과 타깃값 분리"
   ]
  },
  {
   "cell_type": "code",
   "execution_count": 22,
   "metadata": {},
   "outputs": [],
   "source": [
    "bike_train_labels = bike_train[\"count\"].copy()\n",
    "bike_train.drop(\"count\", axis=1, inplace=True) "
   ]
  },
  {
   "cell_type": "code",
   "execution_count": 25,
   "metadata": {},
   "outputs": [],
   "source": [
    "from sklearn.base import BaseEstimator, TransformerMixin\n",
    "\n",
    "class DateTimeTransform(BaseEstimator, TransformerMixin):\n",
    "    def __init__(self): # *args 또는 **kargs 없음\n",
    "        pass\n",
    "    def fit(self, X, y=None):\n",
    "        return self  # 아무것도 하지 않습니다\n",
    "    def transform(self, X):\n",
    "        X.datetime = X.datetime.apply(pd.to_datetime)\n",
    "        year = X.datetime.apply(lambda x : x.year)\n",
    "        month = X.datetime.apply(lambda x : x.month)\n",
    "        #day = X.datetime.apply(lambda x : x.day)\n",
    "        hour = X.datetime.apply(lambda x : x.hour)\n",
    "        \n",
    "        return np.c_[year, month, hour]"
   ]
  },
  {
   "cell_type": "code",
   "execution_count": 26,
   "metadata": {},
   "outputs": [],
   "source": [
    "from sklearn.ensemble import RandomForestRegressor"
   ]
  },
  {
   "cell_type": "code",
   "execution_count": 33,
   "metadata": {},
   "outputs": [],
   "source": [
    "from sklearn.base import BaseEstimator, TransformerMixin\n",
    "\n",
    "class WindTransform(BaseEstimator, TransformerMixin):\n",
    "    def __init__(self): # *args 또는 **kargs 없음\n",
    "        self.model = None\n",
    "        \n",
    "    def fit(self, X, y=None): \n",
    "        wind_train = X[~(X[\"windspeed\"] == 0)].copy()\n",
    "        \n",
    "        # 특성과 레이블로 분리\n",
    "        wind_train_labels = wind_train[\"windspeed\"].copy()\n",
    "        wind_train_features = wind_train.drop(\"windspeed\", axis=1) \n",
    "        \n",
    "        # windspeed가 0이 아닌것드로 훈련\n",
    "        forest_reg2 = RandomForestRegressor(n_estimators=100, n_jobs=-1, random_state=42)\n",
    "        forest_reg2.fit(wind_train_features, wind_train_labels)\n",
    "        self.model = forest_reg2\n",
    "        return self  \n",
    "    \n",
    "    def transform(self, X):\n",
    "        wind_test = X[X[\"windspeed\"] == 0].copy()\n",
    "        \n",
    "        wind_test_labels = wind_test[\"windspeed\"].copy()\n",
    "        wind_test_features = wind_test.drop(\"windspeed\", axis=1)      \n",
    "        \n",
    "        wind_predict = self.model.predict(wind_test_features)        \n",
    "        # 예측된 값 원본에 넣어 반환하기\n",
    "        X.loc[X[\"windspeed\"] == 0, \"windspeed\"] = wind_predict        \n",
    "        return np.c_[X]"
   ]
  },
  {
   "cell_type": "code",
   "execution_count": 34,
   "metadata": {},
   "outputs": [
    {
     "data": {
      "text/plain": [
       "array([[2011,    1,    0],\n",
       "       [2011,    1,    1],\n",
       "       [2011,    1,    2],\n",
       "       ...,\n",
       "       [2012,   12,   21],\n",
       "       [2012,   12,   22],\n",
       "       [2012,   12,   23]], dtype=int64)"
      ]
     },
     "execution_count": 34,
     "metadata": {},
     "output_type": "execute_result"
    }
   ],
   "source": [
    "from sklearn.pipeline import Pipeline\n",
    "from sklearn.preprocessing import StandardScaler\n",
    "\n",
    "dt_pipeline = Pipeline([\n",
    "        ('dt', DateTimeTransform()),\n",
    "    ])\n",
    "\n",
    "dt_tr = dt_pipeline.fit_transform(bike_train)\n",
    "dt_tr"
   ]
  },
  {
   "cell_type": "code",
   "execution_count": 35,
   "metadata": {},
   "outputs": [],
   "source": [
    "from sklearn.pipeline import Pipeline\n",
    "from sklearn.impute import SimpleImputer\n",
    "from sklearn.preprocessing import StandardScaler\n",
    "\n",
    "num_pipeline = Pipeline([\n",
    "        ('imputer', SimpleImputer(strategy=\"most_frequent\")),\n",
    "        #('std_scaler', StandardScaler()),\n",
    "    ])"
   ]
  },
  {
   "cell_type": "code",
   "execution_count": 36,
   "metadata": {},
   "outputs": [],
   "source": [
    "from sklearn.preprocessing import OneHotEncoder\n",
    "cat_pipeline = Pipeline([\n",
    "        ('ohe', OneHotEncoder()),\n",
    "    ])"
   ]
  },
  {
   "cell_type": "code",
   "execution_count": 37,
   "metadata": {},
   "outputs": [],
   "source": [
    "from sklearn.compose import ColumnTransformer\n",
    "\n",
    "datetime_attrib = [\"datetime\"]\n",
    "num_attribs = [\"temp\", \"atemp\", \"humidity\", \"windspeed\"]\n",
    "cat_attribs = [\"season\", \"holiday\", \"workingday\", \"weather\"]\n",
    "\n",
    "full_pipeline = ColumnTransformer([\n",
    "        (\"dt\", dt_pipeline, datetime_attrib),\n",
    "        (\"num\", WindTransform(), num_attribs),\n",
    "        #(\"num\", num_pipeline, num_attribs),\n",
    "        #(\"num\", 'drop', num_attribs),    \n",
    "        (\"cat\", cat_pipeline, cat_attribs),\n",
    "        #(\"cat\", 'passthrough', cat_attribs),    \n",
    "    ])"
   ]
  },
  {
   "cell_type": "code",
   "execution_count": 38,
   "metadata": {},
   "outputs": [],
   "source": [
    "bike_train_prepared = full_pipeline.fit_transform(bike_train)"
   ]
  },
  {
   "cell_type": "code",
   "execution_count": 39,
   "metadata": {},
   "outputs": [
    {
     "data": {
      "text/plain": [
       "(10886, 19)"
      ]
     },
     "execution_count": 39,
     "metadata": {},
     "output_type": "execute_result"
    }
   ],
   "source": [
    "bike_train_prepared.shape"
   ]
  },
  {
   "cell_type": "code",
   "execution_count": 40,
   "metadata": {},
   "outputs": [
    {
     "data": {
      "text/plain": [
       "array([[2.011e+03, 1.000e+00, 0.000e+00, ..., 0.000e+00, 0.000e+00,\n",
       "        0.000e+00],\n",
       "       [2.011e+03, 1.000e+00, 1.000e+00, ..., 0.000e+00, 0.000e+00,\n",
       "        0.000e+00],\n",
       "       [2.011e+03, 1.000e+00, 2.000e+00, ..., 0.000e+00, 0.000e+00,\n",
       "        0.000e+00],\n",
       "       ...,\n",
       "       [2.012e+03, 1.200e+01, 2.100e+01, ..., 0.000e+00, 0.000e+00,\n",
       "        0.000e+00],\n",
       "       [2.012e+03, 1.200e+01, 2.200e+01, ..., 0.000e+00, 0.000e+00,\n",
       "        0.000e+00],\n",
       "       [2.012e+03, 1.200e+01, 2.300e+01, ..., 0.000e+00, 0.000e+00,\n",
       "        0.000e+00]])"
      ]
     },
     "execution_count": 40,
     "metadata": {},
     "output_type": "execute_result"
    }
   ],
   "source": [
    "bike_train_prepared"
   ]
  },
  {
   "cell_type": "code",
   "execution_count": 41,
   "metadata": {},
   "outputs": [
    {
     "data": {
      "text/plain": [
       "['year',\n",
       " 'month',\n",
       " 'hour',\n",
       " 'temp',\n",
       " 'atemp',\n",
       " 'humidity',\n",
       " 'windspeed',\n",
       " 'season1',\n",
       " 'season2',\n",
       " 'season3',\n",
       " 'season4',\n",
       " 'holiday1',\n",
       " 'holiday2',\n",
       " 'working1',\n",
       " 'working2',\n",
       " 'weather1',\n",
       " 'weather2',\n",
       " 'weather3',\n",
       " 'weather4']"
      ]
     },
     "execution_count": 41,
     "metadata": {},
     "output_type": "execute_result"
    }
   ],
   "source": [
    "datetime_attribs = [\"year\", \"month\", \"hour\"]\n",
    "season_attribs = [\"season1\", \"season2\", \"season3\", \"season4\"]\n",
    "holiday_attribs = [\"holiday1\", \"holiday2\"]\n",
    "workingday_attribs = [\"working1\", \"working2\"]\n",
    "weather_attribs = [\"weather1\" , \"weather2\" , \"weather3\" , \"weather4\"]\n",
    "cat_attribs = [\"season\", \"holiday\", \"workingday\", \"weather\"]\n",
    "\n",
    "columns =datetime_attribs + num_attribs + season_attribs + holiday_attribs + workingday_attribs + weather_attribs\n",
    "#columns =datetime_attribs + num_attribs + cat_attribs\n",
    "columns # 3 + 4 + 4(season) + 2(holiday) + 2(workingday) + 4(weather)"
   ]
  },
  {
   "cell_type": "code",
   "execution_count": 42,
   "metadata": {},
   "outputs": [
    {
     "data": {
      "text/html": [
       "<div>\n",
       "<style scoped>\n",
       "    .dataframe tbody tr th:only-of-type {\n",
       "        vertical-align: middle;\n",
       "    }\n",
       "\n",
       "    .dataframe tbody tr th {\n",
       "        vertical-align: top;\n",
       "    }\n",
       "\n",
       "    .dataframe thead th {\n",
       "        text-align: right;\n",
       "    }\n",
       "</style>\n",
       "<table border=\"1\" class=\"dataframe\">\n",
       "  <thead>\n",
       "    <tr style=\"text-align: right;\">\n",
       "      <th></th>\n",
       "      <th>year</th>\n",
       "      <th>month</th>\n",
       "      <th>hour</th>\n",
       "      <th>temp</th>\n",
       "      <th>atemp</th>\n",
       "      <th>humidity</th>\n",
       "      <th>windspeed</th>\n",
       "      <th>season1</th>\n",
       "      <th>season2</th>\n",
       "      <th>season3</th>\n",
       "      <th>season4</th>\n",
       "      <th>holiday1</th>\n",
       "      <th>holiday2</th>\n",
       "      <th>working1</th>\n",
       "      <th>working2</th>\n",
       "      <th>weather1</th>\n",
       "      <th>weather2</th>\n",
       "      <th>weather3</th>\n",
       "      <th>weather4</th>\n",
       "    </tr>\n",
       "  </thead>\n",
       "  <tbody>\n",
       "    <tr>\n",
       "      <th>0</th>\n",
       "      <td>2011.0</td>\n",
       "      <td>1.0</td>\n",
       "      <td>0.0</td>\n",
       "      <td>9.84</td>\n",
       "      <td>14.395</td>\n",
       "      <td>81.0</td>\n",
       "      <td>6.510787</td>\n",
       "      <td>1.0</td>\n",
       "      <td>0.0</td>\n",
       "      <td>0.0</td>\n",
       "      <td>0.0</td>\n",
       "      <td>1.0</td>\n",
       "      <td>0.0</td>\n",
       "      <td>1.0</td>\n",
       "      <td>0.0</td>\n",
       "      <td>1.0</td>\n",
       "      <td>0.0</td>\n",
       "      <td>0.0</td>\n",
       "      <td>0.0</td>\n",
       "    </tr>\n",
       "    <tr>\n",
       "      <th>1</th>\n",
       "      <td>2011.0</td>\n",
       "      <td>1.0</td>\n",
       "      <td>1.0</td>\n",
       "      <td>9.02</td>\n",
       "      <td>13.635</td>\n",
       "      <td>80.0</td>\n",
       "      <td>6.013183</td>\n",
       "      <td>1.0</td>\n",
       "      <td>0.0</td>\n",
       "      <td>0.0</td>\n",
       "      <td>0.0</td>\n",
       "      <td>1.0</td>\n",
       "      <td>0.0</td>\n",
       "      <td>1.0</td>\n",
       "      <td>0.0</td>\n",
       "      <td>1.0</td>\n",
       "      <td>0.0</td>\n",
       "      <td>0.0</td>\n",
       "      <td>0.0</td>\n",
       "    </tr>\n",
       "    <tr>\n",
       "      <th>2</th>\n",
       "      <td>2011.0</td>\n",
       "      <td>1.0</td>\n",
       "      <td>2.0</td>\n",
       "      <td>9.02</td>\n",
       "      <td>13.635</td>\n",
       "      <td>80.0</td>\n",
       "      <td>6.013183</td>\n",
       "      <td>1.0</td>\n",
       "      <td>0.0</td>\n",
       "      <td>0.0</td>\n",
       "      <td>0.0</td>\n",
       "      <td>1.0</td>\n",
       "      <td>0.0</td>\n",
       "      <td>1.0</td>\n",
       "      <td>0.0</td>\n",
       "      <td>1.0</td>\n",
       "      <td>0.0</td>\n",
       "      <td>0.0</td>\n",
       "      <td>0.0</td>\n",
       "    </tr>\n",
       "    <tr>\n",
       "      <th>3</th>\n",
       "      <td>2011.0</td>\n",
       "      <td>1.0</td>\n",
       "      <td>3.0</td>\n",
       "      <td>9.84</td>\n",
       "      <td>14.395</td>\n",
       "      <td>75.0</td>\n",
       "      <td>6.289054</td>\n",
       "      <td>1.0</td>\n",
       "      <td>0.0</td>\n",
       "      <td>0.0</td>\n",
       "      <td>0.0</td>\n",
       "      <td>1.0</td>\n",
       "      <td>0.0</td>\n",
       "      <td>1.0</td>\n",
       "      <td>0.0</td>\n",
       "      <td>1.0</td>\n",
       "      <td>0.0</td>\n",
       "      <td>0.0</td>\n",
       "      <td>0.0</td>\n",
       "    </tr>\n",
       "    <tr>\n",
       "      <th>4</th>\n",
       "      <td>2011.0</td>\n",
       "      <td>1.0</td>\n",
       "      <td>4.0</td>\n",
       "      <td>9.84</td>\n",
       "      <td>14.395</td>\n",
       "      <td>75.0</td>\n",
       "      <td>6.289054</td>\n",
       "      <td>1.0</td>\n",
       "      <td>0.0</td>\n",
       "      <td>0.0</td>\n",
       "      <td>0.0</td>\n",
       "      <td>1.0</td>\n",
       "      <td>0.0</td>\n",
       "      <td>1.0</td>\n",
       "      <td>0.0</td>\n",
       "      <td>1.0</td>\n",
       "      <td>0.0</td>\n",
       "      <td>0.0</td>\n",
       "      <td>0.0</td>\n",
       "    </tr>\n",
       "    <tr>\n",
       "      <th>...</th>\n",
       "      <td>...</td>\n",
       "      <td>...</td>\n",
       "      <td>...</td>\n",
       "      <td>...</td>\n",
       "      <td>...</td>\n",
       "      <td>...</td>\n",
       "      <td>...</td>\n",
       "      <td>...</td>\n",
       "      <td>...</td>\n",
       "      <td>...</td>\n",
       "      <td>...</td>\n",
       "      <td>...</td>\n",
       "      <td>...</td>\n",
       "      <td>...</td>\n",
       "      <td>...</td>\n",
       "      <td>...</td>\n",
       "      <td>...</td>\n",
       "      <td>...</td>\n",
       "      <td>...</td>\n",
       "    </tr>\n",
       "    <tr>\n",
       "      <th>10881</th>\n",
       "      <td>2012.0</td>\n",
       "      <td>12.0</td>\n",
       "      <td>19.0</td>\n",
       "      <td>15.58</td>\n",
       "      <td>19.695</td>\n",
       "      <td>50.0</td>\n",
       "      <td>26.002700</td>\n",
       "      <td>0.0</td>\n",
       "      <td>0.0</td>\n",
       "      <td>0.0</td>\n",
       "      <td>1.0</td>\n",
       "      <td>1.0</td>\n",
       "      <td>0.0</td>\n",
       "      <td>0.0</td>\n",
       "      <td>1.0</td>\n",
       "      <td>1.0</td>\n",
       "      <td>0.0</td>\n",
       "      <td>0.0</td>\n",
       "      <td>0.0</td>\n",
       "    </tr>\n",
       "    <tr>\n",
       "      <th>10882</th>\n",
       "      <td>2012.0</td>\n",
       "      <td>12.0</td>\n",
       "      <td>20.0</td>\n",
       "      <td>14.76</td>\n",
       "      <td>17.425</td>\n",
       "      <td>57.0</td>\n",
       "      <td>15.001300</td>\n",
       "      <td>0.0</td>\n",
       "      <td>0.0</td>\n",
       "      <td>0.0</td>\n",
       "      <td>1.0</td>\n",
       "      <td>1.0</td>\n",
       "      <td>0.0</td>\n",
       "      <td>0.0</td>\n",
       "      <td>1.0</td>\n",
       "      <td>1.0</td>\n",
       "      <td>0.0</td>\n",
       "      <td>0.0</td>\n",
       "      <td>0.0</td>\n",
       "    </tr>\n",
       "    <tr>\n",
       "      <th>10883</th>\n",
       "      <td>2012.0</td>\n",
       "      <td>12.0</td>\n",
       "      <td>21.0</td>\n",
       "      <td>13.94</td>\n",
       "      <td>15.910</td>\n",
       "      <td>61.0</td>\n",
       "      <td>15.001300</td>\n",
       "      <td>0.0</td>\n",
       "      <td>0.0</td>\n",
       "      <td>0.0</td>\n",
       "      <td>1.0</td>\n",
       "      <td>1.0</td>\n",
       "      <td>0.0</td>\n",
       "      <td>0.0</td>\n",
       "      <td>1.0</td>\n",
       "      <td>1.0</td>\n",
       "      <td>0.0</td>\n",
       "      <td>0.0</td>\n",
       "      <td>0.0</td>\n",
       "    </tr>\n",
       "    <tr>\n",
       "      <th>10884</th>\n",
       "      <td>2012.0</td>\n",
       "      <td>12.0</td>\n",
       "      <td>22.0</td>\n",
       "      <td>13.94</td>\n",
       "      <td>17.425</td>\n",
       "      <td>61.0</td>\n",
       "      <td>6.003200</td>\n",
       "      <td>0.0</td>\n",
       "      <td>0.0</td>\n",
       "      <td>0.0</td>\n",
       "      <td>1.0</td>\n",
       "      <td>1.0</td>\n",
       "      <td>0.0</td>\n",
       "      <td>0.0</td>\n",
       "      <td>1.0</td>\n",
       "      <td>1.0</td>\n",
       "      <td>0.0</td>\n",
       "      <td>0.0</td>\n",
       "      <td>0.0</td>\n",
       "    </tr>\n",
       "    <tr>\n",
       "      <th>10885</th>\n",
       "      <td>2012.0</td>\n",
       "      <td>12.0</td>\n",
       "      <td>23.0</td>\n",
       "      <td>13.12</td>\n",
       "      <td>16.665</td>\n",
       "      <td>66.0</td>\n",
       "      <td>8.998100</td>\n",
       "      <td>0.0</td>\n",
       "      <td>0.0</td>\n",
       "      <td>0.0</td>\n",
       "      <td>1.0</td>\n",
       "      <td>1.0</td>\n",
       "      <td>0.0</td>\n",
       "      <td>0.0</td>\n",
       "      <td>1.0</td>\n",
       "      <td>1.0</td>\n",
       "      <td>0.0</td>\n",
       "      <td>0.0</td>\n",
       "      <td>0.0</td>\n",
       "    </tr>\n",
       "  </tbody>\n",
       "</table>\n",
       "<p>10886 rows × 19 columns</p>\n",
       "</div>"
      ],
      "text/plain": [
       "         year  month  hour   temp   atemp  humidity  windspeed  season1  \\\n",
       "0      2011.0    1.0   0.0   9.84  14.395      81.0   6.510787      1.0   \n",
       "1      2011.0    1.0   1.0   9.02  13.635      80.0   6.013183      1.0   \n",
       "2      2011.0    1.0   2.0   9.02  13.635      80.0   6.013183      1.0   \n",
       "3      2011.0    1.0   3.0   9.84  14.395      75.0   6.289054      1.0   \n",
       "4      2011.0    1.0   4.0   9.84  14.395      75.0   6.289054      1.0   \n",
       "...       ...    ...   ...    ...     ...       ...        ...      ...   \n",
       "10881  2012.0   12.0  19.0  15.58  19.695      50.0  26.002700      0.0   \n",
       "10882  2012.0   12.0  20.0  14.76  17.425      57.0  15.001300      0.0   \n",
       "10883  2012.0   12.0  21.0  13.94  15.910      61.0  15.001300      0.0   \n",
       "10884  2012.0   12.0  22.0  13.94  17.425      61.0   6.003200      0.0   \n",
       "10885  2012.0   12.0  23.0  13.12  16.665      66.0   8.998100      0.0   \n",
       "\n",
       "       season2  season3  season4  holiday1  holiday2  working1  working2  \\\n",
       "0          0.0      0.0      0.0       1.0       0.0       1.0       0.0   \n",
       "1          0.0      0.0      0.0       1.0       0.0       1.0       0.0   \n",
       "2          0.0      0.0      0.0       1.0       0.0       1.0       0.0   \n",
       "3          0.0      0.0      0.0       1.0       0.0       1.0       0.0   \n",
       "4          0.0      0.0      0.0       1.0       0.0       1.0       0.0   \n",
       "...        ...      ...      ...       ...       ...       ...       ...   \n",
       "10881      0.0      0.0      1.0       1.0       0.0       0.0       1.0   \n",
       "10882      0.0      0.0      1.0       1.0       0.0       0.0       1.0   \n",
       "10883      0.0      0.0      1.0       1.0       0.0       0.0       1.0   \n",
       "10884      0.0      0.0      1.0       1.0       0.0       0.0       1.0   \n",
       "10885      0.0      0.0      1.0       1.0       0.0       0.0       1.0   \n",
       "\n",
       "       weather1  weather2  weather3  weather4  \n",
       "0           1.0       0.0       0.0       0.0  \n",
       "1           1.0       0.0       0.0       0.0  \n",
       "2           1.0       0.0       0.0       0.0  \n",
       "3           1.0       0.0       0.0       0.0  \n",
       "4           1.0       0.0       0.0       0.0  \n",
       "...         ...       ...       ...       ...  \n",
       "10881       1.0       0.0       0.0       0.0  \n",
       "10882       1.0       0.0       0.0       0.0  \n",
       "10883       1.0       0.0       0.0       0.0  \n",
       "10884       1.0       0.0       0.0       0.0  \n",
       "10885       1.0       0.0       0.0       0.0  \n",
       "\n",
       "[10886 rows x 19 columns]"
      ]
     },
     "execution_count": 42,
     "metadata": {},
     "output_type": "execute_result"
    }
   ],
   "source": [
    "bike_prepared_df = pd.DataFrame(bike_train_prepared, columns =columns)\n",
    "bike_prepared_df"
   ]
  },
  {
   "cell_type": "markdown",
   "metadata": {},
   "source": [
    "* 전체 y 타깃값의 분포 확인 (histogram)\n",
    "* 타겟값의 분표가 왜곡된 형태일 경우 정규 분포로 바꿈"
   ]
  },
  {
   "cell_type": "code",
   "execution_count": 43,
   "metadata": {},
   "outputs": [
    {
     "data": {
      "text/plain": [
       "<AxesSubplot:>"
      ]
     },
     "execution_count": 43,
     "metadata": {},
     "output_type": "execute_result"
    },
    {
     "data": {
      "image/png": "[encoded data removed]",
      "text/plain": [
       "<Figure size 432x288 with 1 Axes>"
      ]
     },
     "metadata": {},
     "output_type": "display_data"
    }
   ],
   "source": [
    "bike_train_labels.hist(bins=30)"
   ]
  },
  {
   "cell_type": "markdown",
   "metadata": {},
   "source": [
    "* y 타깃값 로그변환하기"
   ]
  },
  {
   "cell_type": "code",
   "execution_count": 44,
   "metadata": {},
   "outputs": [
    {
     "data": {
      "text/plain": [
       "<AxesSubplot:>"
      ]
     },
     "execution_count": 44,
     "metadata": {},
     "output_type": "execute_result"
    },
    {
     "data": {
      "image/png": "[encoded data removed]",
      "text/plain": [
       "<Figure size 432x288 with 1 Axes>"
      ]
     },
     "metadata": {},
     "output_type": "display_data"
    }
   ],
   "source": [
    "bike_train_labels_log = np.log1p(bike_train_labels)\n",
    "bike_train_labels_log.hist(bins=30)"
   ]
  },
  {
   "cell_type": "markdown",
   "metadata": {},
   "source": [
    "* 로그 변환(log1p())후 왜곡정도가 향상"
   ]
  },
  {
   "cell_type": "markdown",
   "metadata": {},
   "source": [
    "* 훈련세트와 테스트 세트 분리"
   ]
  },
  {
   "cell_type": "markdown",
   "metadata": {},
   "source": [
    "## 모델 선택과 훈련, 예측"
   ]
  },
  {
   "cell_type": "markdown",
   "metadata": {},
   "source": [
    "- 평가(Evaluation)\n",
    "- Submissions are evaluated one the Root Mean Squared Logarithmic Error (RMSLE)."
   ]
  },
  {
   "attachments": {
    "image.png": {
     "image/png": "[encoded data removed]"
    }
   },
   "cell_type": "markdown",
   "metadata": {},
   "source": [
    "Root Mean Squared Logarithmic Error (RMSLE)\n",
    "\n",
    "![image.png](attachment:image.png)"
   ]
  },
  {
   "cell_type": "markdown",
   "metadata": {},
   "source": [
    "* RMSLE"
   ]
  },
  {
   "cell_type": "code",
   "execution_count": 45,
   "metadata": {},
   "outputs": [],
   "source": [
    "from sklearn.metrics import make_scorer\n",
    "# log 값 변환 시 언더플로우 영향으로 log() 가 아닌 log1p() 를 이용하여 RMSLE 계산\n",
    "def rmsle(y, pred, convertExp=True):\n",
    "    if convertExp:\n",
    "        y = np.expm1(y)\n",
    "        pred = np.expm1(pred)\n",
    "    \n",
    "    log_y = np.log1p(y)\n",
    "    log_pred = np.log1p(pred)\n",
    "    squared_error = (log_y - log_pred) ** 2\n",
    "    rmsle = np.sqrt(np.mean(squared_error))\n",
    "    return rmsle\n",
    "rmsle_scorer = make_scorer(rmsle)"
   ]
  },
  {
   "cell_type": "markdown",
   "metadata": {},
   "source": [
    "* 선형 모델 훈련과 예측"
   ]
  },
  {
   "cell_type": "code",
   "execution_count": 46,
   "metadata": {},
   "outputs": [],
   "source": [
    "from sklearn.model_selection import cross_val_score\n",
    "from sklearn.linear_model import LinearRegression\n",
    "from sklearn.ensemble import RandomForestRegressor\n",
    "from sklearn.model_selection import GridSearchCV"
   ]
  },
  {
   "cell_type": "code",
   "execution_count": 47,
   "metadata": {},
   "outputs": [],
   "source": [
    "lr_reg = LinearRegression()"
   ]
  },
  {
   "cell_type": "code",
   "execution_count": 48,
   "metadata": {},
   "outputs": [
    {
     "data": {
      "text/plain": [
       "array([1.0481945 , 0.94205295, 1.08505039, 1.03135503, 1.00203425])"
      ]
     },
     "execution_count": 48,
     "metadata": {},
     "output_type": "execute_result"
    }
   ],
   "source": [
    "scores = cross_val_score(lr_reg, bike_train_prepared, bike_train_labels_log,\n",
    "                         scoring=rmsle_scorer, cv=5)\n",
    "scores"
   ]
  },
  {
   "cell_type": "code",
   "execution_count": 49,
   "metadata": {},
   "outputs": [],
   "source": [
    "## 위와 같은 결과가 나온 이유는 레이블이 이미 log 변환된 상태에서 mse를 구했기 때문에 결과적으로 msle가 나옴"
   ]
  },
  {
   "cell_type": "code",
   "execution_count": 50,
   "metadata": {},
   "outputs": [],
   "source": [
    "# scores = cross_val_score(lr_reg, bike_train_prepared, bike_train_labels_log,\n",
    "#                          scoring='neg_mean_squared_error', cv=5)\n",
    "# np.sqrt(-scores)"
   ]
  },
  {
   "cell_type": "markdown",
   "metadata": {},
   "source": [
    "* https://scikit-learn.org/stable/modules/model_evaluation.html#the-scoring-parameter-defining-model-evaluation-rules"
   ]
  },
  {
   "cell_type": "markdown",
   "metadata": {},
   "source": [
    "* Ridge 모델"
   ]
  },
  {
   "cell_type": "code",
   "execution_count": 51,
   "metadata": {},
   "outputs": [
    {
     "data": {
      "text/plain": [
       "array([1.04806369, 0.94126322, 1.08516805, 1.03103054, 1.00197855])"
      ]
     },
     "execution_count": 51,
     "metadata": {},
     "output_type": "execute_result"
    }
   ],
   "source": [
    "from sklearn.linear_model import Ridge\n",
    "\n",
    "ridge_reg = Ridge(alpha=10)\n",
    "rmsle_scorer = make_scorer(rmsle)\n",
    "scores = cross_val_score(ridge_reg, bike_train_prepared, bike_train_labels_log,\n",
    "                         scoring=rmsle_scorer, cv=5)\n",
    "scores"
   ]
  },
  {
   "cell_type": "markdown",
   "metadata": {},
   "source": [
    "* Ridge 파라미터 튜닝"
   ]
  },
  {
   "cell_type": "code",
   "execution_count": 52,
   "metadata": {},
   "outputs": [
    {
     "data": {
      "text/plain": [
       "GridSearchCV(cv=5, estimator=Ridge(),\n",
       "             param_grid={'alpha': [0.01, 0.1, 1, 2, 3, 4, 10, 30, 100, 200, 300,\n",
       "                                   400, 800, 900, 1000],\n",
       "                         'max_iter': [3000]},\n",
       "             scoring=make_scorer(rmsle, greater_is_better=False))"
      ]
     },
     "execution_count": 52,
     "metadata": {},
     "output_type": "execute_result"
    }
   ],
   "source": [
    "ridge_reg = Ridge()\n",
    "ridge_params_ = { 'max_iter':[3000],'alpha':[0.01, 0.1, 1, 2, 3, 4, 10, 30,100,200,300,400,800,900,1000]}\n",
    "\n",
    "rmsle_scorer = make_scorer(rmsle, greater_is_better=False)\n",
    "\n",
    "grid_search = GridSearchCV( ridge_reg,\n",
    "                          ridge_params_,\n",
    "                          scoring = rmsle_scorer,\n",
    "                          cv=5)\n",
    "\n",
    "grid_search.fit( bike_train_prepared, bike_train_labels_log )"
   ]
  },
  {
   "cell_type": "code",
   "execution_count": 53,
   "metadata": {
    "scrolled": true
   },
   "outputs": [
    {
     "data": {
      "text/plain": [
       "{'alpha': 200, 'max_iter': 3000}"
      ]
     },
     "execution_count": 53,
     "metadata": {},
     "output_type": "execute_result"
    }
   ],
   "source": [
    "grid_search.best_params_"
   ]
  },
  {
   "cell_type": "code",
   "execution_count": 54,
   "metadata": {},
   "outputs": [
    {
     "data": {
      "text/plain": [
       "Ridge(alpha=200, max_iter=3000)"
      ]
     },
     "execution_count": 54,
     "metadata": {},
     "output_type": "execute_result"
    }
   ],
   "source": [
    "grid_search.best_estimator_"
   ]
  },
  {
   "cell_type": "code",
   "execution_count": 55,
   "metadata": {},
   "outputs": [
    {
     "data": {
      "text/plain": [
       "-1.0200864848977367"
      ]
     },
     "execution_count": 55,
     "metadata": {},
     "output_type": "execute_result"
    }
   ],
   "source": [
    "grid_search.best_score_"
   ]
  },
  {
   "cell_type": "code",
   "execution_count": 56,
   "metadata": {},
   "outputs": [
    {
     "name": "stdout",
     "output_type": "stream",
     "text": [
      "1.0217374002913548 {'alpha': 0.01, 'max_iter': 3000}\n",
      "1.0217370085062565 {'alpha': 0.1, 'max_iter': 3000}\n",
      "1.0217238998878024 {'alpha': 1, 'max_iter': 3000}\n",
      "1.0217016903741458 {'alpha': 2, 'max_iter': 3000}\n",
      "1.0216771186869738 {'alpha': 3, 'max_iter': 3000}\n",
      "1.0216517594878842 {'alpha': 4, 'max_iter': 3000}\n",
      "1.021500809159587 {'alpha': 10, 'max_iter': 3000}\n",
      "1.0210757313086252 {'alpha': 30, 'max_iter': 3000}\n",
      "1.020265437313903 {'alpha': 100, 'max_iter': 3000}\n",
      "1.0200864848977367 {'alpha': 200, 'max_iter': 3000}\n",
      "1.0205252166131458 {'alpha': 300, 'max_iter': 3000}\n",
      "1.021326961514008 {'alpha': 400, 'max_iter': 3000}\n",
      "1.0260598928567066 {'alpha': 800, 'max_iter': 3000}\n",
      "1.0273714376843617 {'alpha': 900, 'max_iter': 3000}\n",
      "1.0286834389170818 {'alpha': 1000, 'max_iter': 3000}\n"
     ]
    }
   ],
   "source": [
    "cvres = grid_search.cv_results_\n",
    "\n",
    "for mean_score, params in zip(cvres[\"mean_test_score\"], cvres[\"params\"]):\n",
    "    print(-mean_score, params)"
   ]
  },
  {
   "cell_type": "markdown",
   "metadata": {},
   "source": [
    "* 각 특성의 가중치(lr_reg.coef_) 확인하기 (sns.barplot 이용)"
   ]
  },
  {
   "cell_type": "code",
   "execution_count": 57,
   "metadata": {},
   "outputs": [
    {
     "data": {
      "text/plain": [
       "<AxesSubplot:>"
      ]
     },
     "execution_count": 57,
     "metadata": {},
     "output_type": "execute_result"
    },
    {
     "data": {
      "image/png": "[encoded data removed]",
      "text/plain": [
       "<Figure size 432x288 with 1 Axes>"
      ]
     },
     "metadata": {},
     "output_type": "display_data"
    }
   ],
   "source": [
    "coef = pd.Series(grid_search.best_estimator_.coef_, index=columns)\n",
    "coef_sort = coef.sort_values(ascending=False)\n",
    "sns.barplot(x=coef_sort.values, y=coef_sort.index)"
   ]
  },
  {
   "cell_type": "markdown",
   "metadata": {},
   "source": [
    "* 랜덤 포레스트 모델"
   ]
  },
  {
   "cell_type": "code",
   "execution_count": 58,
   "metadata": {},
   "outputs": [],
   "source": [
    "forest_reg = RandomForestRegressor(n_estimators=100, n_jobs=-1, random_state=42)"
   ]
  },
  {
   "cell_type": "code",
   "execution_count": 59,
   "metadata": {},
   "outputs": [],
   "source": [
    "rmsle_scorer = make_scorer(rmsle)\n",
    "score = cross_val_score(forest_reg, bike_train_prepared, bike_train_labels_log, cv=3, scoring=rmsle_scorer)"
   ]
  },
  {
   "cell_type": "code",
   "execution_count": 60,
   "metadata": {},
   "outputs": [
    {
     "data": {
      "text/plain": [
       "array([0.58308038, 0.63039949, 0.4046042 ])"
      ]
     },
     "execution_count": 60,
     "metadata": {},
     "output_type": "execute_result"
    }
   ],
   "source": [
    "score"
   ]
  },
  {
   "cell_type": "code",
   "execution_count": null,
   "metadata": {},
   "outputs": [],
   "source": [
    "# scores = cross_val_score(forest_reg, bike_train_prepared, bike_train_labels_log, cv=3, scoring=\"neg_mean_squared_error\")\n",
    "# np.sqrt(-scores)"
   ]
  },
  {
   "cell_type": "markdown",
   "metadata": {},
   "source": [
    "* 랜덤 포레스트 파라미터 튜닝"
   ]
  },
  {
   "cell_type": "markdown",
   "metadata": {},
   "source": [
    "* 그리드 탐색"
   ]
  },
  {
   "cell_type": "code",
   "execution_count": 63,
   "metadata": {},
   "outputs": [
    {
     "name": "stdout",
     "output_type": "stream",
     "text": [
      "Wall time: 9min 47s\n"
     ]
    },
    {
     "data": {
      "text/plain": [
       "GridSearchCV(cv=5, estimator=RandomForestRegressor(random_state=42), n_jobs=-1,\n",
       "             param_grid=[{'max_depth': [10, 12, 14, 16, 18],\n",
       "                          'max_features': [12, 14, 16],\n",
       "                          'n_estimators': [100, 200, 300]}],\n",
       "             return_train_score=True,\n",
       "             scoring=make_scorer(rmsle, greater_is_better=False))"
      ]
     },
     "execution_count": 63,
     "metadata": {},
     "output_type": "execute_result"
    }
   ],
   "source": [
    "param_grid = [\n",
    "    #{'n_estimators': [100, 200, 300], 'max_features': [2, 4, 6, 8, 10], 'max_depth' : [4, 6, 8, 10]},\n",
    "    {'n_estimators': [100, 200, 300], 'max_features': [12, 14, 16], 'max_depth' : [10, 12, 14, 16, 18]},\n",
    "    #{'n_estimators': [200], 'max_features': [\"auto\", \"sqrt\"], 'max_depth' : [10, 12, 14]}\n",
    "    #{'bootstrap': [False], 'n_estimators': [3, 10], 'max_features': [2, 3, 4]},\n",
    "  ]\n",
    "rmsle_scorer = make_scorer(rmsle, greater_is_better=False)\n",
    "\n",
    "forest_reg = RandomForestRegressor(random_state=42)\n",
    "\n",
    "grid_search = GridSearchCV(forest_reg, param_grid, cv=5, scoring=rmsle_scorer, \n",
    "                           return_train_score=True, n_jobs=-1)\n",
    "%time grid_search.fit(bike_train_prepared, bike_train_labels_log)"
   ]
  },
  {
   "cell_type": "code",
   "execution_count": 64,
   "metadata": {},
   "outputs": [
    {
     "data": {
      "text/plain": [
       "{'max_depth': 18, 'max_features': 14, 'n_estimators': 200}"
      ]
     },
     "execution_count": 64,
     "metadata": {},
     "output_type": "execute_result"
    }
   ],
   "source": [
    "grid_search.best_params_"
   ]
  },
  {
   "cell_type": "code",
   "execution_count": 65,
   "metadata": {},
   "outputs": [
    {
     "data": {
      "text/plain": [
       "RandomForestRegressor(max_depth=18, max_features=14, n_estimators=200,\n",
       "                      random_state=42)"
      ]
     },
     "execution_count": 65,
     "metadata": {},
     "output_type": "execute_result"
    }
   ],
   "source": [
    "grid_search.best_estimator_"
   ]
  },
  {
   "cell_type": "code",
   "execution_count": 66,
   "metadata": {},
   "outputs": [],
   "source": [
    "cvres = grid_search.cv_results_"
   ]
  },
  {
   "cell_type": "code",
   "execution_count": 67,
   "metadata": {
    "scrolled": true
   },
   "outputs": [
    {
     "name": "stdout",
     "output_type": "stream",
     "text": [
      "0.47824044304835234 {'max_depth': 10, 'max_features': 12, 'n_estimators': 100}\n",
      "0.476555598160137 {'max_depth': 10, 'max_features': 12, 'n_estimators': 200}\n",
      "0.4761395233355941 {'max_depth': 10, 'max_features': 12, 'n_estimators': 300}\n",
      "0.4707188187552598 {'max_depth': 10, 'max_features': 14, 'n_estimators': 100}\n",
      "0.47168652073192946 {'max_depth': 10, 'max_features': 14, 'n_estimators': 200}\n",
      "0.4716686521285395 {'max_depth': 10, 'max_features': 14, 'n_estimators': 300}\n",
      "0.47241699592724906 {'max_depth': 10, 'max_features': 16, 'n_estimators': 100}\n",
      "0.47177933616162654 {'max_depth': 10, 'max_features': 16, 'n_estimators': 200}\n",
      "0.4711677332327344 {'max_depth': 10, 'max_features': 16, 'n_estimators': 300}\n",
      "0.45675683640359327 {'max_depth': 12, 'max_features': 12, 'n_estimators': 100}\n",
      "0.45575094383976095 {'max_depth': 12, 'max_features': 12, 'n_estimators': 200}\n",
      "0.4551289328665578 {'max_depth': 12, 'max_features': 12, 'n_estimators': 300}\n",
      "0.45607345671284055 {'max_depth': 12, 'max_features': 14, 'n_estimators': 100}\n",
      "0.4552467414160934 {'max_depth': 12, 'max_features': 14, 'n_estimators': 200}\n",
      "0.45539994853517385 {'max_depth': 12, 'max_features': 14, 'n_estimators': 300}\n",
      "0.45660643096354575 {'max_depth': 12, 'max_features': 16, 'n_estimators': 100}\n",
      "0.4553392010880331 {'max_depth': 12, 'max_features': 16, 'n_estimators': 200}\n",
      "0.45500243870867096 {'max_depth': 12, 'max_features': 16, 'n_estimators': 300}\n",
      "0.45219739471025333 {'max_depth': 14, 'max_features': 12, 'n_estimators': 100}\n",
      "0.4506488378501354 {'max_depth': 14, 'max_features': 12, 'n_estimators': 200}\n",
      "0.45030338531803443 {'max_depth': 14, 'max_features': 12, 'n_estimators': 300}\n",
      "0.4505294999019034 {'max_depth': 14, 'max_features': 14, 'n_estimators': 100}\n",
      "0.4495113653101718 {'max_depth': 14, 'max_features': 14, 'n_estimators': 200}\n",
      "0.44992520968752636 {'max_depth': 14, 'max_features': 14, 'n_estimators': 300}\n",
      "0.45291334192118915 {'max_depth': 14, 'max_features': 16, 'n_estimators': 100}\n",
      "0.45284354091204104 {'max_depth': 14, 'max_features': 16, 'n_estimators': 200}\n",
      "0.45194758955543585 {'max_depth': 14, 'max_features': 16, 'n_estimators': 300}\n",
      "0.45216638149326205 {'max_depth': 16, 'max_features': 12, 'n_estimators': 100}\n",
      "0.4501790157579433 {'max_depth': 16, 'max_features': 12, 'n_estimators': 200}\n",
      "0.4501023066031086 {'max_depth': 16, 'max_features': 12, 'n_estimators': 300}\n",
      "0.45161523117915375 {'max_depth': 16, 'max_features': 14, 'n_estimators': 100}\n",
      "0.4491419988297444 {'max_depth': 16, 'max_features': 14, 'n_estimators': 200}\n",
      "0.4490997441695824 {'max_depth': 16, 'max_features': 14, 'n_estimators': 300}\n",
      "0.45370528145667766 {'max_depth': 16, 'max_features': 16, 'n_estimators': 100}\n",
      "0.45341069201224016 {'max_depth': 16, 'max_features': 16, 'n_estimators': 200}\n",
      "0.4530352590083978 {'max_depth': 16, 'max_features': 16, 'n_estimators': 300}\n",
      "0.45192222185537057 {'max_depth': 18, 'max_features': 12, 'n_estimators': 100}\n",
      "0.4491309996403746 {'max_depth': 18, 'max_features': 12, 'n_estimators': 200}\n",
      "0.4491766207245235 {'max_depth': 18, 'max_features': 12, 'n_estimators': 300}\n",
      "0.44906192023850594 {'max_depth': 18, 'max_features': 14, 'n_estimators': 100}\n",
      "0.4478426696180019 {'max_depth': 18, 'max_features': 14, 'n_estimators': 200}\n",
      "0.4486136561868797 {'max_depth': 18, 'max_features': 14, 'n_estimators': 300}\n",
      "0.453650828012404 {'max_depth': 18, 'max_features': 16, 'n_estimators': 100}\n",
      "0.45314418133976686 {'max_depth': 18, 'max_features': 16, 'n_estimators': 200}\n",
      "0.452992109565378 {'max_depth': 18, 'max_features': 16, 'n_estimators': 300}\n"
     ]
    }
   ],
   "source": [
    "for mean_score, params in zip(cvres[\"mean_test_score\"], cvres[\"params\"]):\n",
    "    print(-mean_score, params)"
   ]
  },
  {
   "cell_type": "code",
   "execution_count": 68,
   "metadata": {},
   "outputs": [],
   "source": [
    "#final_model = grid_search.best_estimator_"
   ]
  },
  {
   "cell_type": "markdown",
   "metadata": {},
   "source": [
    "* 랜덤 탐색"
   ]
  },
  {
   "cell_type": "code",
   "execution_count": 76,
   "metadata": {},
   "outputs": [
    {
     "data": {
      "text/plain": [
       "RandomizedSearchCV(cv=5, estimator=RandomForestRegressor(random_state=42),\n",
       "                   n_iter=20, n_jobs=-1,\n",
       "                   param_distributions={'max_depth': <scipy.stats._distn_infrastructure.rv_frozen object at 0x0000013C114636A0>,\n",
       "                                        'max_features': <scipy.stats._distn_infrastructure.rv_frozen object at 0x0000013C11463520>,\n",
       "                                        'n_estimators': <scipy.stats._distn_infrastructure.rv_frozen object at 0x0000013C114632B0>},\n",
       "                   random_state=42,\n",
       "                   scoring=make_scorer(rmsle, greater_is_better=False))"
      ]
     },
     "execution_count": 76,
     "metadata": {},
     "output_type": "execute_result"
    }
   ],
   "source": [
    "from sklearn.model_selection import RandomizedSearchCV\n",
    "from scipy.stats import randint\n",
    "\n",
    "param_distribs = {\n",
    "        'n_estimators': randint(low=180, high=220),\n",
    "        'max_features': randint(low=12, high=18),\n",
    "        'max_depth': randint(low=16, high=20),\n",
    "\n",
    "    }\n",
    "rmsle_scorer = make_scorer(rmsle, greater_is_better=False)\n",
    "forest_reg = RandomForestRegressor(random_state=42)\n",
    "rnd_search = RandomizedSearchCV(forest_reg, param_distributions=param_distribs,\n",
    "                                n_iter=20, cv=5, scoring=rmsle_scorer, \n",
    "                                random_state=42, n_jobs=-1)\n",
    "rnd_search.fit(bike_train_prepared, bike_train_labels_log)"
   ]
  },
  {
   "cell_type": "code",
   "execution_count": 77,
   "metadata": {},
   "outputs": [
    {
     "data": {
      "text/plain": [
       "{'max_depth': 18, 'max_features': 14, 'n_estimators': 187}"
      ]
     },
     "execution_count": 77,
     "metadata": {},
     "output_type": "execute_result"
    }
   ],
   "source": [
    "rnd_search.best_params_"
   ]
  },
  {
   "cell_type": "code",
   "execution_count": 78,
   "metadata": {},
   "outputs": [],
   "source": [
    "cvres = rnd_search.cv_results_"
   ]
  },
  {
   "cell_type": "code",
   "execution_count": 79,
   "metadata": {},
   "outputs": [
    {
     "name": "stdout",
     "output_type": "stream",
     "text": [
      "0.45054712324554114 {'max_depth': 18, 'max_features': 15, 'n_estimators': 208}\n",
      "0.4473662555605783 {'max_depth': 18, 'max_features': 14, 'n_estimators': 187}\n",
      "0.4534577086082295 {'max_depth': 16, 'max_features': 16, 'n_estimators': 218}\n",
      "0.45083414189939275 {'max_depth': 17, 'max_features': 14, 'n_estimators': 202}\n",
      "0.44810018225405973 {'max_depth': 18, 'max_features': 14, 'n_estimators': 203}\n",
      "0.4514492008833345 {'max_depth': 16, 'max_features': 15, 'n_estimators': 219}\n",
      "0.4488581376589044 {'max_depth': 19, 'max_features': 14, 'n_estimators': 201}\n",
      "0.4493651148847048 {'max_depth': 16, 'max_features': 13, 'n_estimators': 203}\n",
      "0.454909922925906 {'max_depth': 19, 'max_features': 17, 'n_estimators': 217}\n",
      "0.451542639168076 {'max_depth': 17, 'max_features': 15, 'n_estimators': 200}\n",
      "0.45116689725063114 {'max_depth': 16, 'max_features': 15, 'n_estimators': 201}\n",
      "0.45096931715711436 {'max_depth': 16, 'max_features': 15, 'n_estimators': 204}\n",
      "0.4490915573303062 {'max_depth': 16, 'max_features': 14, 'n_estimators': 207}\n",
      "0.4550725852690555 {'max_depth': 19, 'max_features': 17, 'n_estimators': 182}\n",
      "0.4490293022140827 {'max_depth': 16, 'max_features': 14, 'n_estimators': 186}\n",
      "0.4505521101077741 {'max_depth': 16, 'max_features': 12, 'n_estimators': 218}\n",
      "0.45127525210999914 {'max_depth': 17, 'max_features': 15, 'n_estimators': 204}\n",
      "0.45501837615675794 {'max_depth': 19, 'max_features': 17, 'n_estimators': 188}\n",
      "0.45407277147758657 {'max_depth': 17, 'max_features': 16, 'n_estimators': 181}\n",
      "0.45142928272547617 {'max_depth': 19, 'max_features': 15, 'n_estimators': 186}\n"
     ]
    }
   ],
   "source": [
    "for mean_score, params in zip(cvres[\"mean_test_score\"], cvres[\"params\"]):\n",
    "    print(-mean_score, params)"
   ]
  },
  {
   "cell_type": "markdown",
   "metadata": {},
   "source": [
    "* 특성 중요도"
   ]
  },
  {
   "cell_type": "code",
   "execution_count": 80,
   "metadata": {},
   "outputs": [],
   "source": [
    "feature_importances = rnd_search.best_estimator_.feature_importances_"
   ]
  },
  {
   "cell_type": "code",
   "execution_count": 81,
   "metadata": {},
   "outputs": [
    {
     "data": {
      "text/plain": [
       "[(0.7388659158542674, 'hour'),\n",
       " (0.04446560458453936, 'temp'),\n",
       " (0.041470423819801455, 'atemp'),\n",
       " (0.03127118520567763, 'year'),\n",
       " (0.029187401065254658, 'month'),\n",
       " (0.027308278107092077, 'working1'),\n",
       " (0.025421450968278032, 'humidity'),\n",
       " (0.023076390765631238, 'working2'),\n",
       " (0.011610905520210359, 'windspeed'),\n",
       " (0.009575779184038152, 'season1'),\n",
       " (0.008743139606692242, 'weather3'),\n",
       " (0.0020332748625547957, 'season4'),\n",
       " (0.0017165863286692272, 'weather1'),\n",
       " (0.0012963755435888452, 'weather2'),\n",
       " (0.0011348572126618944, 'holiday2'),\n",
       " (0.0010568977873968654, 'holiday1'),\n",
       " (0.0010070338962610715, 'season2'),\n",
       " (0.0007578633596458821, 'season3'),\n",
       " (6.363277389403257e-07, 'weather4')]"
      ]
     },
     "execution_count": 81,
     "metadata": {},
     "output_type": "execute_result"
    }
   ],
   "source": [
    "sorted(zip(feature_importances, columns), reverse=True)"
   ]
  },
  {
   "cell_type": "markdown",
   "metadata": {},
   "source": [
    "* 배깅 (위에서 랜덤 탐색으로 얻은 최적을 모델 10개를 다시 한번 앙상블)"
   ]
  },
  {
   "cell_type": "code",
   "execution_count": 82,
   "metadata": {},
   "outputs": [],
   "source": [
    "from sklearn.ensemble import BaggingRegressor\n",
    "\n",
    "bag_reg = BaggingRegressor(\n",
    "    rnd_search.best_estimator_, n_estimators=10,\n",
    "    max_samples=1.0, bootstrap=True, n_jobs=-1, random_state=42)"
   ]
  },
  {
   "cell_type": "code",
   "execution_count": 83,
   "metadata": {},
   "outputs": [],
   "source": [
    "final_model = bag_reg"
   ]
  },
  {
   "cell_type": "markdown",
   "metadata": {},
   "source": [
    "## 전체 훈련 세트로 훈련"
   ]
  },
  {
   "cell_type": "code",
   "execution_count": 84,
   "metadata": {},
   "outputs": [
    {
     "data": {
      "text/plain": [
       "BaggingRegressor(base_estimator=RandomForestRegressor(max_depth=18,\n",
       "                                                      max_features=14,\n",
       "                                                      n_estimators=187,\n",
       "                                                      random_state=42),\n",
       "                 n_jobs=-1, random_state=42)"
      ]
     },
     "execution_count": 84,
     "metadata": {},
     "output_type": "execute_result"
    }
   ],
   "source": [
    "final_model.fit(bike_train_prepared, bike_train_labels_log)"
   ]
  },
  {
   "cell_type": "markdown",
   "metadata": {},
   "source": [
    "테스트 데이터 예측"
   ]
  },
  {
   "cell_type": "code",
   "execution_count": 85,
   "metadata": {},
   "outputs": [],
   "source": [
    "bike_test_prepared = full_pipeline.transform(bike_test)\n",
    "final_test_pred = final_model.predict(bike_test_prepared)\n",
    "final_test_pred = np.expm1(final_test_pred)"
   ]
  },
  {
   "cell_type": "markdown",
   "metadata": {},
   "source": [
    "* train 데이터의 정답값과 test 데이터의 예측값 분포 확인"
   ]
  },
  {
   "cell_type": "code",
   "execution_count": 86,
   "metadata": {},
   "outputs": [
    {
     "data": {
      "text/plain": [
       "[Text(0.5, 1.0, 'final_test_pred')]"
      ]
     },
     "execution_count": 86,
     "metadata": {},
     "output_type": "execute_result"
    },
    {
     "data": {
      "image/png": "[encoded data removed]",
      "text/plain": [
       "<Figure size 864x360 with 2 Axes>"
      ]
     },
     "metadata": {},
     "output_type": "display_data"
    }
   ],
   "source": [
    "fig,(ax1,ax2)= plt.subplots(ncols=2)\n",
    "fig.set_size_inches(12,5)\n",
    "\n",
    "sns.histplot(bike_train_labels,ax=ax1,bins=50)\n",
    "ax1.set(title=\"bike_train_labels\")\n",
    "sns.histplot(final_test_pred,ax=ax2,bins=50)\n",
    "ax2.set(title=\"final_test_pred\")"
   ]
  },
  {
   "cell_type": "markdown",
   "metadata": {},
   "source": [
    "Submission"
   ]
  },
  {
   "cell_type": "code",
   "execution_count": 87,
   "metadata": {},
   "outputs": [
    {
     "name": "stdout",
     "output_type": "stream",
     "text": [
      "(6493, 2)\n"
     ]
    },
    {
     "data": {
      "text/html": [
       "<div>\n",
       "<style scoped>\n",
       "    .dataframe tbody tr th:only-of-type {\n",
       "        vertical-align: middle;\n",
       "    }\n",
       "\n",
       "    .dataframe tbody tr th {\n",
       "        vertical-align: top;\n",
       "    }\n",
       "\n",
       "    .dataframe thead th {\n",
       "        text-align: right;\n",
       "    }\n",
       "</style>\n",
       "<table border=\"1\" class=\"dataframe\">\n",
       "  <thead>\n",
       "    <tr style=\"text-align: right;\">\n",
       "      <th></th>\n",
       "      <th>datetime</th>\n",
       "      <th>count</th>\n",
       "    </tr>\n",
       "  </thead>\n",
       "  <tbody>\n",
       "    <tr>\n",
       "      <th>0</th>\n",
       "      <td>2011-01-20 00:00:00</td>\n",
       "      <td>9.486018</td>\n",
       "    </tr>\n",
       "    <tr>\n",
       "      <th>1</th>\n",
       "      <td>2011-01-20 01:00:00</td>\n",
       "      <td>4.659041</td>\n",
       "    </tr>\n",
       "    <tr>\n",
       "      <th>2</th>\n",
       "      <td>2011-01-20 02:00:00</td>\n",
       "      <td>2.923306</td>\n",
       "    </tr>\n",
       "    <tr>\n",
       "      <th>3</th>\n",
       "      <td>2011-01-20 03:00:00</td>\n",
       "      <td>2.813578</td>\n",
       "    </tr>\n",
       "    <tr>\n",
       "      <th>4</th>\n",
       "      <td>2011-01-20 04:00:00</td>\n",
       "      <td>2.451391</td>\n",
       "    </tr>\n",
       "  </tbody>\n",
       "</table>\n",
       "</div>"
      ],
      "text/plain": [
       "              datetime     count\n",
       "0  2011-01-20 00:00:00  9.486018\n",
       "1  2011-01-20 01:00:00  4.659041\n",
       "2  2011-01-20 02:00:00  2.923306\n",
       "3  2011-01-20 03:00:00  2.813578\n",
       "4  2011-01-20 04:00:00  2.451391"
      ]
     },
     "execution_count": 87,
     "metadata": {},
     "output_type": "execute_result"
    }
   ],
   "source": [
    "submission = pd.read_csv(\"datasets/sampleSubmission.csv\")\n",
    "submission\n",
    "\n",
    "submission[\"count\"] = final_test_pred\n",
    "\n",
    "print(submission.shape)\n",
    "submission.head()"
   ]
  },
  {
   "cell_type": "code",
   "execution_count": 88,
   "metadata": {},
   "outputs": [
    {
     "data": {
      "text/html": [
       "<div>\n",
       "<style scoped>\n",
       "    .dataframe tbody tr th:only-of-type {\n",
       "        vertical-align: middle;\n",
       "    }\n",
       "\n",
       "    .dataframe tbody tr th {\n",
       "        vertical-align: top;\n",
       "    }\n",
       "\n",
       "    .dataframe thead th {\n",
       "        text-align: right;\n",
       "    }\n",
       "</style>\n",
       "<table border=\"1\" class=\"dataframe\">\n",
       "  <thead>\n",
       "    <tr style=\"text-align: right;\">\n",
       "      <th></th>\n",
       "      <th>datetime</th>\n",
       "      <th>count</th>\n",
       "    </tr>\n",
       "  </thead>\n",
       "  <tbody>\n",
       "    <tr>\n",
       "      <th>6488</th>\n",
       "      <td>2012-12-31 19:00:00</td>\n",
       "      <td>261.120816</td>\n",
       "    </tr>\n",
       "    <tr>\n",
       "      <th>6489</th>\n",
       "      <td>2012-12-31 20:00:00</td>\n",
       "      <td>190.624795</td>\n",
       "    </tr>\n",
       "    <tr>\n",
       "      <th>6490</th>\n",
       "      <td>2012-12-31 21:00:00</td>\n",
       "      <td>135.701224</td>\n",
       "    </tr>\n",
       "    <tr>\n",
       "      <th>6491</th>\n",
       "      <td>2012-12-31 22:00:00</td>\n",
       "      <td>108.230897</td>\n",
       "    </tr>\n",
       "    <tr>\n",
       "      <th>6492</th>\n",
       "      <td>2012-12-31 23:00:00</td>\n",
       "      <td>70.987251</td>\n",
       "    </tr>\n",
       "  </tbody>\n",
       "</table>\n",
       "</div>"
      ],
      "text/plain": [
       "                 datetime       count\n",
       "6488  2012-12-31 19:00:00  261.120816\n",
       "6489  2012-12-31 20:00:00  190.624795\n",
       "6490  2012-12-31 21:00:00  135.701224\n",
       "6491  2012-12-31 22:00:00  108.230897\n",
       "6492  2012-12-31 23:00:00   70.987251"
      ]
     },
     "execution_count": 88,
     "metadata": {},
     "output_type": "execute_result"
    }
   ],
   "source": [
    "submission.tail()"
   ]
  },
  {
   "cell_type": "code",
   "execution_count": 89,
   "metadata": {},
   "outputs": [],
   "source": [
    "ver = 10"
   ]
  },
  {
   "cell_type": "code",
   "execution_count": 90,
   "metadata": {},
   "outputs": [],
   "source": [
    "submission.to_csv(\"datasets/bike_ver_{0}_submission.csv\".format(ver), index=False)"
   ]
  },
  {
   "cell_type": "code",
   "execution_count": null,
   "metadata": {},
   "outputs": [],
   "source": []
  }
 ],
 "metadata": {
  "kernelspec": {
   "display_name": "Python 3",
   "language": "python",
   "name": "python3"
  },
  "language_info": {
   "codemirror_mode": {
    "name": "ipython",
    "version": 3
   },
   "file_extension": ".py",
   "mimetype": "text/x-python",
   "name": "python",
   "nbconvert_exporter": "python",
   "pygments_lexer": "ipython3",
   "version": "3.8.8"
  },
  "toc": {
   "base_numbering": 1,
   "nav_menu": {},
   "number_sections": true,
   "sideBar": true,
   "skip_h1_title": false,
   "title_cell": "Table of Contents",
   "title_sidebar": "Contents",
   "toc_cell": false,
   "toc_position": {},
   "toc_section_display": true,
   "toc_window_display": true
  },
  "varInspector": {
   "cols": {
    "lenName": 16,
    "lenType": 16,
    "lenVar": 40
   },
   "kernels_config": {
    "python": {
     "delete_cmd_postfix": "",
     "delete_cmd_prefix": "del ",
     "library": "var_list.py",
     "varRefreshCmd": "print(var_dic_list())"
    },
    "r": {
     "delete_cmd_postfix": ") ",
     "delete_cmd_prefix": "rm(",
     "library": "var_list.r",
     "varRefreshCmd": "cat(var_dic_list()) "
    }
   },
   "types_to_exclude": [
    "module",
    "function",
    "builtin_function_or_method",
    "instance",
    "_Feature"
   ],
   "window_display": false
  }
 },
 "nbformat": 4,
 "nbformat_minor": 2
}
