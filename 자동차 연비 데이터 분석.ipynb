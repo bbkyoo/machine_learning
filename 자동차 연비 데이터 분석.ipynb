{
 "cells": [
  {
   "cell_type": "markdown",
   "metadata": {},
   "source": [
    "## 자동차 연비 데이터셋"
   ]
  },
  {
   "cell_type": "markdown",
   "metadata": {},
   "source": [
    "### 데이터 살펴보기"
   ]
  },
  {
   "cell_type": "markdown",
   "metadata": {},
   "source": [
    "* 데이터 적재"
   ]
  },
  {
   "cell_type": "code",
   "execution_count": 32,
   "metadata": {},
   "outputs": [],
   "source": [
    "import pandas as pd"
   ]
  },
  {
   "cell_type": "code",
   "execution_count": 33,
   "metadata": {},
   "outputs": [],
   "source": [
    "df = pd.read_csv('./auto-mpg.csv', header=None)"
   ]
  },
  {
   "cell_type": "markdown",
   "metadata": {},
   "source": [
    "* -- original data loading test--"
   ]
  },
  {
   "cell_type": "code",
   "execution_count": 17,
   "metadata": {},
   "outputs": [],
   "source": [
    "df2 = pd.read_csv('./auto-mpg_o.csv', sep=\"\\s+\", header=None)\n",
    "df2.head()"
   ]
  },
  {
   "cell_type": "code",
   "execution_count": 25,
   "metadata": {},
   "outputs": [
    {
     "data": {
      "text/html": [
       "<div>\n",
       "<style scoped>\n",
       "    .dataframe tbody tr th:only-of-type {\n",
       "        vertical-align: middle;\n",
       "    }\n",
       "\n",
       "    .dataframe tbody tr th {\n",
       "        vertical-align: top;\n",
       "    }\n",
       "\n",
       "    .dataframe thead th {\n",
       "        text-align: right;\n",
       "    }\n",
       "</style>\n",
       "<table border=\"1\" class=\"dataframe\">\n",
       "  <thead>\n",
       "    <tr style=\"text-align: right;\">\n",
       "      <th></th>\n",
       "      <th>0</th>\n",
       "      <th>1</th>\n",
       "      <th>2</th>\n",
       "      <th>3</th>\n",
       "      <th>4</th>\n",
       "      <th>5</th>\n",
       "      <th>6</th>\n",
       "      <th>7</th>\n",
       "      <th>8</th>\n",
       "    </tr>\n",
       "  </thead>\n",
       "  <tbody>\n",
       "    <tr>\n",
       "      <th>0</th>\n",
       "      <td>18.0</td>\n",
       "      <td>8.0</td>\n",
       "      <td>307.0</td>\n",
       "      <td>130.0</td>\n",
       "      <td>3504.0</td>\n",
       "      <td>12.0</td>\n",
       "      <td>70.0</td>\n",
       "      <td>1.0</td>\n",
       "      <td>chevrolet chevelle malibu</td>\n",
       "    </tr>\n",
       "    <tr>\n",
       "      <th>1</th>\n",
       "      <td>15.0</td>\n",
       "      <td>8.0</td>\n",
       "      <td>350.0</td>\n",
       "      <td>165.0</td>\n",
       "      <td>3693.0</td>\n",
       "      <td>11.5</td>\n",
       "      <td>70.0</td>\n",
       "      <td>1.0</td>\n",
       "      <td>buick skylark 320</td>\n",
       "    </tr>\n",
       "    <tr>\n",
       "      <th>2</th>\n",
       "      <td>18.0</td>\n",
       "      <td>8.0</td>\n",
       "      <td>318.0</td>\n",
       "      <td>150.0</td>\n",
       "      <td>3436.0</td>\n",
       "      <td>11.0</td>\n",
       "      <td>70.0</td>\n",
       "      <td>1.0</td>\n",
       "      <td>plymouth satellite</td>\n",
       "    </tr>\n",
       "    <tr>\n",
       "      <th>3</th>\n",
       "      <td>16.0</td>\n",
       "      <td>8.0</td>\n",
       "      <td>304.0</td>\n",
       "      <td>150.0</td>\n",
       "      <td>3433.0</td>\n",
       "      <td>12.0</td>\n",
       "      <td>70.0</td>\n",
       "      <td>1.0</td>\n",
       "      <td>amc rebel sst</td>\n",
       "    </tr>\n",
       "    <tr>\n",
       "      <th>4</th>\n",
       "      <td>17.0</td>\n",
       "      <td>8.0</td>\n",
       "      <td>302.0</td>\n",
       "      <td>140.0</td>\n",
       "      <td>3449.0</td>\n",
       "      <td>10.5</td>\n",
       "      <td>70.0</td>\n",
       "      <td>1.0</td>\n",
       "      <td>ford torino</td>\n",
       "    </tr>\n",
       "  </tbody>\n",
       "</table>\n",
       "</div>"
      ],
      "text/plain": [
       "      0    1      2      3       4     5     6    7                          8\n",
       "0  18.0  8.0  307.0  130.0  3504.0  12.0  70.0  1.0  chevrolet chevelle malibu\n",
       "1  15.0  8.0  350.0  165.0  3693.0  11.5  70.0  1.0          buick skylark 320\n",
       "2  18.0  8.0  318.0  150.0  3436.0  11.0  70.0  1.0         plymouth satellite\n",
       "3  16.0  8.0  304.0  150.0  3433.0  12.0  70.0  1.0              amc rebel sst\n",
       "4  17.0  8.0  302.0  140.0  3449.0  10.5  70.0  1.0                ford torino"
      ]
     },
     "execution_count": 25,
     "metadata": {},
     "output_type": "execute_result"
    }
   ],
   "source": [
    "df3 = pd.read_table('./auto-mpg.data-original.txt', sep=\"\\s+\", header=None)\n",
    "df3.head()"
   ]
  },
  {
   "cell_type": "markdown",
   "metadata": {},
   "source": [
    "* ----     end      -----------"
   ]
  },
  {
   "cell_type": "markdown",
   "metadata": {},
   "source": [
    "* 열 이름을 지정"
   ]
  },
  {
   "cell_type": "code",
   "execution_count": 3,
   "metadata": {},
   "outputs": [],
   "source": [
    "#mpg : 연비\n",
    "#cylinders : 실린더수 \n",
    "#displacement : 배기량\n",
    "#horsepower: 출력\n",
    "#weight : 차중\n",
    "#acceleration : 가속능력\n",
    "#model year : 출시년도\n",
    "#origin : 제조국 1(USA), 2(EU), 3(JPN)\n",
    "#name : 모델명"
   ]
  },
  {
   "cell_type": "code",
   "execution_count": 34,
   "metadata": {},
   "outputs": [],
   "source": [
    "df.columns = ['mpg','cylinders','displacement','horsepower','weight',\n",
    "              'acceleration','model year','origin','name']"
   ]
  },
  {
   "cell_type": "markdown",
   "metadata": {},
   "source": [
    "* 데이터프레임 df의 내용을 일부 확인"
   ]
  },
  {
   "cell_type": "code",
   "execution_count": 31,
   "metadata": {},
   "outputs": [
    {
     "data": {
      "text/html": [
       "<div>\n",
       "<style scoped>\n",
       "    .dataframe tbody tr th:only-of-type {\n",
       "        vertical-align: middle;\n",
       "    }\n",
       "\n",
       "    .dataframe tbody tr th {\n",
       "        vertical-align: top;\n",
       "    }\n",
       "\n",
       "    .dataframe thead th {\n",
       "        text-align: right;\n",
       "    }\n",
       "</style>\n",
       "<table border=\"1\" class=\"dataframe\">\n",
       "  <thead>\n",
       "    <tr style=\"text-align: right;\">\n",
       "      <th></th>\n",
       "      <th>mpg</th>\n",
       "      <th>cylinders</th>\n",
       "      <th>displacement</th>\n",
       "      <th>horsepower</th>\n",
       "      <th>weight</th>\n",
       "      <th>acceleration</th>\n",
       "      <th>model year</th>\n",
       "      <th>origin</th>\n",
       "      <th>name</th>\n",
       "    </tr>\n",
       "  </thead>\n",
       "  <tbody>\n",
       "    <tr>\n",
       "      <th>0</th>\n",
       "      <td>18.0</td>\n",
       "      <td>8</td>\n",
       "      <td>307.0</td>\n",
       "      <td>130.0</td>\n",
       "      <td>3504.0</td>\n",
       "      <td>12.0</td>\n",
       "      <td>70</td>\n",
       "      <td>1</td>\n",
       "      <td>chevrolet chevelle malibu</td>\n",
       "    </tr>\n",
       "    <tr>\n",
       "      <th>1</th>\n",
       "      <td>15.0</td>\n",
       "      <td>8</td>\n",
       "      <td>350.0</td>\n",
       "      <td>165.0</td>\n",
       "      <td>3693.0</td>\n",
       "      <td>11.5</td>\n",
       "      <td>70</td>\n",
       "      <td>1</td>\n",
       "      <td>buick skylark 320</td>\n",
       "    </tr>\n",
       "  </tbody>\n",
       "</table>\n",
       "</div>"
      ],
      "text/plain": [
       "    mpg  cylinders  displacement horsepower  weight  acceleration  model year  \\\n",
       "0  18.0          8         307.0      130.0  3504.0          12.0          70   \n",
       "1  15.0          8         350.0      165.0  3693.0          11.5          70   \n",
       "\n",
       "   origin                       name  \n",
       "0       1  chevrolet chevelle malibu  \n",
       "1       1          buick skylark 320  "
      ]
     },
     "execution_count": 31,
     "metadata": {},
     "output_type": "execute_result"
    }
   ],
   "source": [
    "df.head(2)"
   ]
  },
  {
   "cell_type": "code",
   "execution_count": 32,
   "metadata": {},
   "outputs": [
    {
     "data": {
      "text/html": [
       "<div>\n",
       "<style scoped>\n",
       "    .dataframe tbody tr th:only-of-type {\n",
       "        vertical-align: middle;\n",
       "    }\n",
       "\n",
       "    .dataframe tbody tr th {\n",
       "        vertical-align: top;\n",
       "    }\n",
       "\n",
       "    .dataframe thead th {\n",
       "        text-align: right;\n",
       "    }\n",
       "</style>\n",
       "<table border=\"1\" class=\"dataframe\">\n",
       "  <thead>\n",
       "    <tr style=\"text-align: right;\">\n",
       "      <th></th>\n",
       "      <th>mpg</th>\n",
       "      <th>cylinders</th>\n",
       "      <th>displacement</th>\n",
       "      <th>horsepower</th>\n",
       "      <th>weight</th>\n",
       "      <th>acceleration</th>\n",
       "      <th>model year</th>\n",
       "      <th>origin</th>\n",
       "      <th>name</th>\n",
       "    </tr>\n",
       "  </thead>\n",
       "  <tbody>\n",
       "    <tr>\n",
       "      <th>393</th>\n",
       "      <td>27.0</td>\n",
       "      <td>4</td>\n",
       "      <td>140.0</td>\n",
       "      <td>86.00</td>\n",
       "      <td>2790.0</td>\n",
       "      <td>15.6</td>\n",
       "      <td>82</td>\n",
       "      <td>1</td>\n",
       "      <td>ford mustang gl</td>\n",
       "    </tr>\n",
       "    <tr>\n",
       "      <th>394</th>\n",
       "      <td>44.0</td>\n",
       "      <td>4</td>\n",
       "      <td>97.0</td>\n",
       "      <td>52.00</td>\n",
       "      <td>2130.0</td>\n",
       "      <td>24.6</td>\n",
       "      <td>82</td>\n",
       "      <td>2</td>\n",
       "      <td>vw pickup</td>\n",
       "    </tr>\n",
       "    <tr>\n",
       "      <th>395</th>\n",
       "      <td>32.0</td>\n",
       "      <td>4</td>\n",
       "      <td>135.0</td>\n",
       "      <td>84.00</td>\n",
       "      <td>2295.0</td>\n",
       "      <td>11.6</td>\n",
       "      <td>82</td>\n",
       "      <td>1</td>\n",
       "      <td>dodge rampage</td>\n",
       "    </tr>\n",
       "    <tr>\n",
       "      <th>396</th>\n",
       "      <td>28.0</td>\n",
       "      <td>4</td>\n",
       "      <td>120.0</td>\n",
       "      <td>79.00</td>\n",
       "      <td>2625.0</td>\n",
       "      <td>18.6</td>\n",
       "      <td>82</td>\n",
       "      <td>1</td>\n",
       "      <td>ford ranger</td>\n",
       "    </tr>\n",
       "    <tr>\n",
       "      <th>397</th>\n",
       "      <td>31.0</td>\n",
       "      <td>4</td>\n",
       "      <td>119.0</td>\n",
       "      <td>82.00</td>\n",
       "      <td>2720.0</td>\n",
       "      <td>19.4</td>\n",
       "      <td>82</td>\n",
       "      <td>1</td>\n",
       "      <td>chevy s-10</td>\n",
       "    </tr>\n",
       "  </tbody>\n",
       "</table>\n",
       "</div>"
      ],
      "text/plain": [
       "      mpg  cylinders  displacement horsepower  weight  acceleration  \\\n",
       "393  27.0          4         140.0      86.00  2790.0          15.6   \n",
       "394  44.0          4          97.0      52.00  2130.0          24.6   \n",
       "395  32.0          4         135.0      84.00  2295.0          11.6   \n",
       "396  28.0          4         120.0      79.00  2625.0          18.6   \n",
       "397  31.0          4         119.0      82.00  2720.0          19.4   \n",
       "\n",
       "     model year  origin             name  \n",
       "393          82       1  ford mustang gl  \n",
       "394          82       2        vw pickup  \n",
       "395          82       1    dodge rampage  \n",
       "396          82       1      ford ranger  \n",
       "397          82       1       chevy s-10  "
      ]
     },
     "execution_count": 32,
     "metadata": {},
     "output_type": "execute_result"
    }
   ],
   "source": [
    "df.tail()"
   ]
  },
  {
   "cell_type": "markdown",
   "metadata": {},
   "source": [
    "* df의 모양과 크기 확인"
   ]
  },
  {
   "cell_type": "code",
   "execution_count": 33,
   "metadata": {},
   "outputs": [
    {
     "data": {
      "text/plain": [
       "(398, 9)"
      ]
     },
     "execution_count": 33,
     "metadata": {},
     "output_type": "execute_result"
    }
   ],
   "source": [
    "df.shape"
   ]
  },
  {
   "cell_type": "markdown",
   "metadata": {},
   "source": [
    "* df의 내용 확인"
   ]
  },
  {
   "cell_type": "code",
   "execution_count": 34,
   "metadata": {},
   "outputs": [
    {
     "name": "stdout",
     "output_type": "stream",
     "text": [
      "<class 'pandas.core.frame.DataFrame'>\n",
      "RangeIndex: 398 entries, 0 to 397\n",
      "Data columns (total 9 columns):\n",
      " #   Column        Non-Null Count  Dtype  \n",
      "---  ------        --------------  -----  \n",
      " 0   mpg           398 non-null    float64\n",
      " 1   cylinders     398 non-null    int64  \n",
      " 2   displacement  398 non-null    float64\n",
      " 3   horsepower    398 non-null    object \n",
      " 4   weight        398 non-null    float64\n",
      " 5   acceleration  398 non-null    float64\n",
      " 6   model year    398 non-null    int64  \n",
      " 7   origin        398 non-null    int64  \n",
      " 8   name          398 non-null    object \n",
      "dtypes: float64(4), int64(3), object(2)\n",
      "memory usage: 28.1+ KB\n"
     ]
    }
   ],
   "source": [
    "df.info()"
   ]
  },
  {
   "cell_type": "markdown",
   "metadata": {},
   "source": [
    "* df의 자료형 확인"
   ]
  },
  {
   "cell_type": "code",
   "execution_count": 35,
   "metadata": {},
   "outputs": [
    {
     "data": {
      "text/plain": [
       "mpg             float64\n",
       "cylinders         int64\n",
       "displacement    float64\n",
       "horsepower       object\n",
       "weight          float64\n",
       "acceleration    float64\n",
       "model year        int64\n",
       "origin            int64\n",
       "name             object\n",
       "dtype: object"
      ]
     },
     "execution_count": 35,
     "metadata": {},
     "output_type": "execute_result"
    }
   ],
   "source": [
    "df.dtypes"
   ]
  },
  {
   "cell_type": "markdown",
   "metadata": {},
   "source": [
    "* 시리즈(mpg 열)의 자료형 확인"
   ]
  },
  {
   "cell_type": "code",
   "execution_count": 36,
   "metadata": {},
   "outputs": [
    {
     "data": {
      "text/plain": [
       "dtype('float64')"
      ]
     },
     "execution_count": 36,
     "metadata": {},
     "output_type": "execute_result"
    }
   ],
   "source": [
    "df.mpg.dtypes"
   ]
  },
  {
   "cell_type": "markdown",
   "metadata": {},
   "source": [
    "* df의 기술통계 정보 확인"
   ]
  },
  {
   "cell_type": "code",
   "execution_count": 37,
   "metadata": {},
   "outputs": [
    {
     "data": {
      "text/html": [
       "<div>\n",
       "<style scoped>\n",
       "    .dataframe tbody tr th:only-of-type {\n",
       "        vertical-align: middle;\n",
       "    }\n",
       "\n",
       "    .dataframe tbody tr th {\n",
       "        vertical-align: top;\n",
       "    }\n",
       "\n",
       "    .dataframe thead th {\n",
       "        text-align: right;\n",
       "    }\n",
       "</style>\n",
       "<table border=\"1\" class=\"dataframe\">\n",
       "  <thead>\n",
       "    <tr style=\"text-align: right;\">\n",
       "      <th></th>\n",
       "      <th>mpg</th>\n",
       "      <th>cylinders</th>\n",
       "      <th>displacement</th>\n",
       "      <th>weight</th>\n",
       "      <th>acceleration</th>\n",
       "      <th>model year</th>\n",
       "      <th>origin</th>\n",
       "    </tr>\n",
       "  </thead>\n",
       "  <tbody>\n",
       "    <tr>\n",
       "      <th>count</th>\n",
       "      <td>398.000000</td>\n",
       "      <td>398.000000</td>\n",
       "      <td>398.000000</td>\n",
       "      <td>398.000000</td>\n",
       "      <td>398.000000</td>\n",
       "      <td>398.000000</td>\n",
       "      <td>398.000000</td>\n",
       "    </tr>\n",
       "    <tr>\n",
       "      <th>mean</th>\n",
       "      <td>23.514573</td>\n",
       "      <td>5.454774</td>\n",
       "      <td>193.425879</td>\n",
       "      <td>2970.424623</td>\n",
       "      <td>15.568090</td>\n",
       "      <td>76.010050</td>\n",
       "      <td>1.572864</td>\n",
       "    </tr>\n",
       "    <tr>\n",
       "      <th>std</th>\n",
       "      <td>7.815984</td>\n",
       "      <td>1.701004</td>\n",
       "      <td>104.269838</td>\n",
       "      <td>846.841774</td>\n",
       "      <td>2.757689</td>\n",
       "      <td>3.697627</td>\n",
       "      <td>0.802055</td>\n",
       "    </tr>\n",
       "    <tr>\n",
       "      <th>min</th>\n",
       "      <td>9.000000</td>\n",
       "      <td>3.000000</td>\n",
       "      <td>68.000000</td>\n",
       "      <td>1613.000000</td>\n",
       "      <td>8.000000</td>\n",
       "      <td>70.000000</td>\n",
       "      <td>1.000000</td>\n",
       "    </tr>\n",
       "    <tr>\n",
       "      <th>25%</th>\n",
       "      <td>17.500000</td>\n",
       "      <td>4.000000</td>\n",
       "      <td>104.250000</td>\n",
       "      <td>2223.750000</td>\n",
       "      <td>13.825000</td>\n",
       "      <td>73.000000</td>\n",
       "      <td>1.000000</td>\n",
       "    </tr>\n",
       "    <tr>\n",
       "      <th>50%</th>\n",
       "      <td>23.000000</td>\n",
       "      <td>4.000000</td>\n",
       "      <td>148.500000</td>\n",
       "      <td>2803.500000</td>\n",
       "      <td>15.500000</td>\n",
       "      <td>76.000000</td>\n",
       "      <td>1.000000</td>\n",
       "    </tr>\n",
       "    <tr>\n",
       "      <th>75%</th>\n",
       "      <td>29.000000</td>\n",
       "      <td>8.000000</td>\n",
       "      <td>262.000000</td>\n",
       "      <td>3608.000000</td>\n",
       "      <td>17.175000</td>\n",
       "      <td>79.000000</td>\n",
       "      <td>2.000000</td>\n",
       "    </tr>\n",
       "    <tr>\n",
       "      <th>max</th>\n",
       "      <td>46.600000</td>\n",
       "      <td>8.000000</td>\n",
       "      <td>455.000000</td>\n",
       "      <td>5140.000000</td>\n",
       "      <td>24.800000</td>\n",
       "      <td>82.000000</td>\n",
       "      <td>3.000000</td>\n",
       "    </tr>\n",
       "  </tbody>\n",
       "</table>\n",
       "</div>"
      ],
      "text/plain": [
       "              mpg   cylinders  displacement       weight  acceleration  \\\n",
       "count  398.000000  398.000000    398.000000   398.000000    398.000000   \n",
       "mean    23.514573    5.454774    193.425879  2970.424623     15.568090   \n",
       "std      7.815984    1.701004    104.269838   846.841774      2.757689   \n",
       "min      9.000000    3.000000     68.000000  1613.000000      8.000000   \n",
       "25%     17.500000    4.000000    104.250000  2223.750000     13.825000   \n",
       "50%     23.000000    4.000000    148.500000  2803.500000     15.500000   \n",
       "75%     29.000000    8.000000    262.000000  3608.000000     17.175000   \n",
       "max     46.600000    8.000000    455.000000  5140.000000     24.800000   \n",
       "\n",
       "       model year      origin  \n",
       "count  398.000000  398.000000  \n",
       "mean    76.010050    1.572864  \n",
       "std      3.697627    0.802055  \n",
       "min     70.000000    1.000000  \n",
       "25%     73.000000    1.000000  \n",
       "50%     76.000000    1.000000  \n",
       "75%     79.000000    2.000000  \n",
       "max     82.000000    3.000000  "
      ]
     },
     "execution_count": 37,
     "metadata": {},
     "output_type": "execute_result"
    }
   ],
   "source": [
    "df.describe()"
   ]
  },
  {
   "cell_type": "code",
   "execution_count": null,
   "metadata": {},
   "outputs": [],
   "source": [
    "# include='all' 옵션 사용"
   ]
  },
  {
   "cell_type": "code",
   "execution_count": 38,
   "metadata": {},
   "outputs": [
    {
     "data": {
      "text/html": [
       "<div>\n",
       "<style scoped>\n",
       "    .dataframe tbody tr th:only-of-type {\n",
       "        vertical-align: middle;\n",
       "    }\n",
       "\n",
       "    .dataframe tbody tr th {\n",
       "        vertical-align: top;\n",
       "    }\n",
       "\n",
       "    .dataframe thead th {\n",
       "        text-align: right;\n",
       "    }\n",
       "</style>\n",
       "<table border=\"1\" class=\"dataframe\">\n",
       "  <thead>\n",
       "    <tr style=\"text-align: right;\">\n",
       "      <th></th>\n",
       "      <th>mpg</th>\n",
       "      <th>cylinders</th>\n",
       "      <th>displacement</th>\n",
       "      <th>horsepower</th>\n",
       "      <th>weight</th>\n",
       "      <th>acceleration</th>\n",
       "      <th>model year</th>\n",
       "      <th>origin</th>\n",
       "      <th>name</th>\n",
       "    </tr>\n",
       "  </thead>\n",
       "  <tbody>\n",
       "    <tr>\n",
       "      <th>count</th>\n",
       "      <td>398.000000</td>\n",
       "      <td>398.000000</td>\n",
       "      <td>398.000000</td>\n",
       "      <td>398</td>\n",
       "      <td>398.000000</td>\n",
       "      <td>398.000000</td>\n",
       "      <td>398.000000</td>\n",
       "      <td>398.000000</td>\n",
       "      <td>398</td>\n",
       "    </tr>\n",
       "    <tr>\n",
       "      <th>unique</th>\n",
       "      <td>NaN</td>\n",
       "      <td>NaN</td>\n",
       "      <td>NaN</td>\n",
       "      <td>94</td>\n",
       "      <td>NaN</td>\n",
       "      <td>NaN</td>\n",
       "      <td>NaN</td>\n",
       "      <td>NaN</td>\n",
       "      <td>305</td>\n",
       "    </tr>\n",
       "    <tr>\n",
       "      <th>top</th>\n",
       "      <td>NaN</td>\n",
       "      <td>NaN</td>\n",
       "      <td>NaN</td>\n",
       "      <td>150.0</td>\n",
       "      <td>NaN</td>\n",
       "      <td>NaN</td>\n",
       "      <td>NaN</td>\n",
       "      <td>NaN</td>\n",
       "      <td>ford pinto</td>\n",
       "    </tr>\n",
       "    <tr>\n",
       "      <th>freq</th>\n",
       "      <td>NaN</td>\n",
       "      <td>NaN</td>\n",
       "      <td>NaN</td>\n",
       "      <td>22</td>\n",
       "      <td>NaN</td>\n",
       "      <td>NaN</td>\n",
       "      <td>NaN</td>\n",
       "      <td>NaN</td>\n",
       "      <td>6</td>\n",
       "    </tr>\n",
       "    <tr>\n",
       "      <th>mean</th>\n",
       "      <td>23.514573</td>\n",
       "      <td>5.454774</td>\n",
       "      <td>193.425879</td>\n",
       "      <td>NaN</td>\n",
       "      <td>2970.424623</td>\n",
       "      <td>15.568090</td>\n",
       "      <td>76.010050</td>\n",
       "      <td>1.572864</td>\n",
       "      <td>NaN</td>\n",
       "    </tr>\n",
       "    <tr>\n",
       "      <th>std</th>\n",
       "      <td>7.815984</td>\n",
       "      <td>1.701004</td>\n",
       "      <td>104.269838</td>\n",
       "      <td>NaN</td>\n",
       "      <td>846.841774</td>\n",
       "      <td>2.757689</td>\n",
       "      <td>3.697627</td>\n",
       "      <td>0.802055</td>\n",
       "      <td>NaN</td>\n",
       "    </tr>\n",
       "    <tr>\n",
       "      <th>min</th>\n",
       "      <td>9.000000</td>\n",
       "      <td>3.000000</td>\n",
       "      <td>68.000000</td>\n",
       "      <td>NaN</td>\n",
       "      <td>1613.000000</td>\n",
       "      <td>8.000000</td>\n",
       "      <td>70.000000</td>\n",
       "      <td>1.000000</td>\n",
       "      <td>NaN</td>\n",
       "    </tr>\n",
       "    <tr>\n",
       "      <th>25%</th>\n",
       "      <td>17.500000</td>\n",
       "      <td>4.000000</td>\n",
       "      <td>104.250000</td>\n",
       "      <td>NaN</td>\n",
       "      <td>2223.750000</td>\n",
       "      <td>13.825000</td>\n",
       "      <td>73.000000</td>\n",
       "      <td>1.000000</td>\n",
       "      <td>NaN</td>\n",
       "    </tr>\n",
       "    <tr>\n",
       "      <th>50%</th>\n",
       "      <td>23.000000</td>\n",
       "      <td>4.000000</td>\n",
       "      <td>148.500000</td>\n",
       "      <td>NaN</td>\n",
       "      <td>2803.500000</td>\n",
       "      <td>15.500000</td>\n",
       "      <td>76.000000</td>\n",
       "      <td>1.000000</td>\n",
       "      <td>NaN</td>\n",
       "    </tr>\n",
       "    <tr>\n",
       "      <th>75%</th>\n",
       "      <td>29.000000</td>\n",
       "      <td>8.000000</td>\n",
       "      <td>262.000000</td>\n",
       "      <td>NaN</td>\n",
       "      <td>3608.000000</td>\n",
       "      <td>17.175000</td>\n",
       "      <td>79.000000</td>\n",
       "      <td>2.000000</td>\n",
       "      <td>NaN</td>\n",
       "    </tr>\n",
       "    <tr>\n",
       "      <th>max</th>\n",
       "      <td>46.600000</td>\n",
       "      <td>8.000000</td>\n",
       "      <td>455.000000</td>\n",
       "      <td>NaN</td>\n",
       "      <td>5140.000000</td>\n",
       "      <td>24.800000</td>\n",
       "      <td>82.000000</td>\n",
       "      <td>3.000000</td>\n",
       "      <td>NaN</td>\n",
       "    </tr>\n",
       "  </tbody>\n",
       "</table>\n",
       "</div>"
      ],
      "text/plain": [
       "               mpg   cylinders  displacement horsepower       weight  \\\n",
       "count   398.000000  398.000000    398.000000        398   398.000000   \n",
       "unique         NaN         NaN           NaN         94          NaN   \n",
       "top            NaN         NaN           NaN      150.0          NaN   \n",
       "freq           NaN         NaN           NaN         22          NaN   \n",
       "mean     23.514573    5.454774    193.425879        NaN  2970.424623   \n",
       "std       7.815984    1.701004    104.269838        NaN   846.841774   \n",
       "min       9.000000    3.000000     68.000000        NaN  1613.000000   \n",
       "25%      17.500000    4.000000    104.250000        NaN  2223.750000   \n",
       "50%      23.000000    4.000000    148.500000        NaN  2803.500000   \n",
       "75%      29.000000    8.000000    262.000000        NaN  3608.000000   \n",
       "max      46.600000    8.000000    455.000000        NaN  5140.000000   \n",
       "\n",
       "        acceleration  model year      origin        name  \n",
       "count     398.000000  398.000000  398.000000         398  \n",
       "unique           NaN         NaN         NaN         305  \n",
       "top              NaN         NaN         NaN  ford pinto  \n",
       "freq             NaN         NaN         NaN           6  \n",
       "mean       15.568090   76.010050    1.572864         NaN  \n",
       "std         2.757689    3.697627    0.802055         NaN  \n",
       "min         8.000000   70.000000    1.000000         NaN  \n",
       "25%        13.825000   73.000000    1.000000         NaN  \n",
       "50%        15.500000   76.000000    1.000000         NaN  \n",
       "75%        17.175000   79.000000    2.000000         NaN  \n",
       "max        24.800000   82.000000    3.000000         NaN  "
      ]
     },
     "execution_count": 38,
     "metadata": {},
     "output_type": "execute_result"
    }
   ],
   "source": [
    "df.describe(include='all')"
   ]
  },
  {
   "cell_type": "code",
   "execution_count": null,
   "metadata": {},
   "outputs": [],
   "source": [
    "# name 열의 기술 통계 정보 확인"
   ]
  },
  {
   "cell_type": "code",
   "execution_count": 39,
   "metadata": {},
   "outputs": [
    {
     "data": {
      "text/plain": [
       "count            398\n",
       "unique           305\n",
       "top       ford pinto\n",
       "freq               6\n",
       "Name: name, dtype: object"
      ]
     },
     "execution_count": 39,
     "metadata": {},
     "output_type": "execute_result"
    }
   ],
   "source": [
    "df.name.describe()"
   ]
  },
  {
   "cell_type": "code",
   "execution_count": null,
   "metadata": {},
   "outputs": [],
   "source": [
    "# mpg 열의 기술 통계 정보 확인"
   ]
  },
  {
   "cell_type": "code",
   "execution_count": 40,
   "metadata": {},
   "outputs": [
    {
     "data": {
      "text/plain": [
       "count    398.000000\n",
       "mean      23.514573\n",
       "std        7.815984\n",
       "min        9.000000\n",
       "25%       17.500000\n",
       "50%       23.000000\n",
       "75%       29.000000\n",
       "max       46.600000\n",
       "Name: mpg, dtype: float64"
      ]
     },
     "execution_count": 40,
     "metadata": {},
     "output_type": "execute_result"
    }
   ],
   "source": [
    "df.mpg.describe()"
   ]
  },
  {
   "cell_type": "markdown",
   "metadata": {},
   "source": [
    "### 데이터 개수 확인"
   ]
  },
  {
   "cell_type": "markdown",
   "metadata": {},
   "source": [
    "* df의 각 열이 가지고 있는 원소 개수 확인"
   ]
  },
  {
   "cell_type": "code",
   "execution_count": 41,
   "metadata": {},
   "outputs": [
    {
     "data": {
      "text/plain": [
       "mpg             398\n",
       "cylinders       398\n",
       "displacement    398\n",
       "horsepower      398\n",
       "weight          398\n",
       "acceleration    398\n",
       "model year      398\n",
       "origin          398\n",
       "name            398\n",
       "dtype: int64"
      ]
     },
     "execution_count": 41,
     "metadata": {},
     "output_type": "execute_result"
    }
   ],
   "source": [
    "df.count()"
   ]
  },
  {
   "cell_type": "markdown",
   "metadata": {},
   "source": [
    "* df.count()가 반환하는 객체 타입 출력"
   ]
  },
  {
   "cell_type": "code",
   "execution_count": 42,
   "metadata": {},
   "outputs": [
    {
     "data": {
      "text/plain": [
       "pandas.core.series.Series"
      ]
     },
     "execution_count": 42,
     "metadata": {},
     "output_type": "execute_result"
    }
   ],
   "source": [
    "type(df.count())"
   ]
  },
  {
   "cell_type": "markdown",
   "metadata": {},
   "source": [
    "* df의 특정 열('origin')이 가지고 있는 고유값 확인"
   ]
  },
  {
   "cell_type": "code",
   "execution_count": 43,
   "metadata": {},
   "outputs": [
    {
     "data": {
      "text/plain": [
       "1    249\n",
       "3     79\n",
       "2     70\n",
       "Name: origin, dtype: int64"
      ]
     },
     "execution_count": 43,
     "metadata": {},
     "output_type": "execute_result"
    }
   ],
   "source": [
    "df['origin'].value_counts()"
   ]
  },
  {
   "cell_type": "code",
   "execution_count": null,
   "metadata": {},
   "outputs": [],
   "source": [
    "#df의 특정 열('origin')의 histogram 그리기 - series.hist() 함수"
   ]
  },
  {
   "cell_type": "code",
   "execution_count": null,
   "metadata": {},
   "outputs": [],
   "source": [
    "df['origin'].plot(kind='hist', grid=True)"
   ]
  },
  {
   "cell_type": "code",
   "execution_count": 20,
   "metadata": {},
   "outputs": [
    {
     "data": {
      "text/plain": [
       "<matplotlib.axes._subplots.AxesSubplot at 0x16106c04970>"
      ]
     },
     "execution_count": 20,
     "metadata": {},
     "output_type": "execute_result"
    },
    {
     "data": {
      "image/png": "[encoded data removed]",
      "text/plain": [
       "<Figure size 432x288 with 1 Axes>"
      ]
     },
     "metadata": {
      "needs_background": "light"
     },
     "output_type": "display_data"
    }
   ],
   "source": [
    "df['origin'].hist()"
   ]
  },
  {
   "cell_type": "markdown",
   "metadata": {},
   "source": [
    "### 통계 함수"
   ]
  },
  {
   "cell_type": "markdown",
   "metadata": {},
   "source": [
    "* 평균값"
   ]
  },
  {
   "cell_type": "code",
   "execution_count": 21,
   "metadata": {},
   "outputs": [
    {
     "data": {
      "text/plain": [
       "mpg               23.514573\n",
       "cylinders          5.454774\n",
       "displacement     193.425879\n",
       "weight          2970.424623\n",
       "acceleration      15.568090\n",
       "model year        76.010050\n",
       "origin             1.572864\n",
       "dtype: float64"
      ]
     },
     "execution_count": 21,
     "metadata": {},
     "output_type": "execute_result"
    }
   ],
   "source": [
    "df.mean()"
   ]
  },
  {
   "cell_type": "markdown",
   "metadata": {},
   "source": [
    "* 특정 열('mpg')의 평균값"
   ]
  },
  {
   "cell_type": "code",
   "execution_count": 22,
   "metadata": {},
   "outputs": [
    {
     "data": {
      "text/plain": [
       "23.514572864321615"
      ]
     },
     "execution_count": 22,
     "metadata": {},
     "output_type": "execute_result"
    }
   ],
   "source": [
    "df['mpg'].mean()"
   ]
  },
  {
   "cell_type": "code",
   "execution_count": 23,
   "metadata": {},
   "outputs": [
    {
     "data": {
      "text/plain": [
       "23.514572864321615"
      ]
     },
     "execution_count": 23,
     "metadata": {},
     "output_type": "execute_result"
    }
   ],
   "source": [
    "df.mpg.mean()"
   ]
  },
  {
   "cell_type": "markdown",
   "metadata": {},
   "source": [
    "* 특정 열들('mpg','weight')의 평균값"
   ]
  },
  {
   "cell_type": "code",
   "execution_count": 24,
   "metadata": {},
   "outputs": [
    {
     "data": {
      "text/plain": [
       "mpg         23.514573\n",
       "weight    2970.424623\n",
       "dtype: float64"
      ]
     },
     "execution_count": 24,
     "metadata": {},
     "output_type": "execute_result"
    }
   ],
   "source": [
    "df[['mpg','weight']].mean()"
   ]
  },
  {
   "cell_type": "markdown",
   "metadata": {},
   "source": [
    "* 중간값"
   ]
  },
  {
   "cell_type": "code",
   "execution_count": 25,
   "metadata": {},
   "outputs": [
    {
     "data": {
      "text/plain": [
       "mpg               23.0\n",
       "cylinders          4.0\n",
       "displacement     148.5\n",
       "weight          2803.5\n",
       "acceleration      15.5\n",
       "model year        76.0\n",
       "origin             1.0\n",
       "dtype: float64"
      ]
     },
     "execution_count": 25,
     "metadata": {},
     "output_type": "execute_result"
    }
   ],
   "source": [
    "df.median()"
   ]
  },
  {
   "cell_type": "markdown",
   "metadata": {},
   "source": [
    "* 특정 열('mpg')의 중간값"
   ]
  },
  {
   "cell_type": "code",
   "execution_count": 26,
   "metadata": {},
   "outputs": [
    {
     "data": {
      "text/plain": [
       "23.0"
      ]
     },
     "execution_count": 26,
     "metadata": {},
     "output_type": "execute_result"
    }
   ],
   "source": [
    "df['mpg'].median()"
   ]
  },
  {
   "cell_type": "markdown",
   "metadata": {},
   "source": [
    "* 최대값"
   ]
  },
  {
   "cell_type": "code",
   "execution_count": 27,
   "metadata": {},
   "outputs": [
    {
     "data": {
      "text/plain": [
       "mpg                         46.6\n",
       "cylinders                      8\n",
       "displacement                 455\n",
       "horsepower                     ?\n",
       "weight                      5140\n",
       "acceleration                24.8\n",
       "model year                    82\n",
       "origin                         3\n",
       "name            vw rabbit custom\n",
       "dtype: object"
      ]
     },
     "execution_count": 27,
     "metadata": {},
     "output_type": "execute_result"
    }
   ],
   "source": [
    "df.max()"
   ]
  },
  {
   "cell_type": "markdown",
   "metadata": {},
   "source": [
    "* 특정 열('mpg')의 최대값"
   ]
  },
  {
   "cell_type": "code",
   "execution_count": 28,
   "metadata": {},
   "outputs": [
    {
     "data": {
      "text/plain": [
       "46.6"
      ]
     },
     "execution_count": 28,
     "metadata": {},
     "output_type": "execute_result"
    }
   ],
   "source": [
    "df['mpg'].max()"
   ]
  },
  {
   "cell_type": "markdown",
   "metadata": {},
   "source": [
    "* 최소값"
   ]
  },
  {
   "cell_type": "code",
   "execution_count": 29,
   "metadata": {},
   "outputs": [
    {
     "data": {
      "text/plain": [
       "mpg                                   9\n",
       "cylinders                             3\n",
       "displacement                         68\n",
       "horsepower                        100.0\n",
       "weight                             1613\n",
       "acceleration                          8\n",
       "model year                           70\n",
       "origin                                1\n",
       "name            amc ambassador brougham\n",
       "dtype: object"
      ]
     },
     "execution_count": 29,
     "metadata": {},
     "output_type": "execute_result"
    }
   ],
   "source": [
    "df.min()"
   ]
  },
  {
   "cell_type": "markdown",
   "metadata": {},
   "source": [
    "* 특정 열('mpg')의 최소값"
   ]
  },
  {
   "cell_type": "code",
   "execution_count": 30,
   "metadata": {},
   "outputs": [
    {
     "data": {
      "text/plain": [
       "9.0"
      ]
     },
     "execution_count": 30,
     "metadata": {},
     "output_type": "execute_result"
    }
   ],
   "source": [
    "df['mpg'].min()"
   ]
  },
  {
   "cell_type": "markdown",
   "metadata": {},
   "source": [
    "* 표준편차"
   ]
  },
  {
   "cell_type": "code",
   "execution_count": 31,
   "metadata": {},
   "outputs": [
    {
     "data": {
      "text/plain": [
       "mpg               7.815984\n",
       "cylinders         1.701004\n",
       "displacement    104.269838\n",
       "weight          846.841774\n",
       "acceleration      2.757689\n",
       "model year        3.697627\n",
       "origin            0.802055\n",
       "dtype: float64"
      ]
     },
     "execution_count": 31,
     "metadata": {},
     "output_type": "execute_result"
    }
   ],
   "source": [
    "df.std()"
   ]
  },
  {
   "cell_type": "markdown",
   "metadata": {},
   "source": [
    "* 특정 열('mpg')의 표준편차"
   ]
  },
  {
   "cell_type": "code",
   "execution_count": 32,
   "metadata": {},
   "outputs": [
    {
     "data": {
      "text/plain": [
       "7.815984312565782"
      ]
     },
     "execution_count": 32,
     "metadata": {},
     "output_type": "execute_result"
    }
   ],
   "source": [
    "df['mpg'].std()"
   ]
  },
  {
   "cell_type": "markdown",
   "metadata": {},
   "source": [
    "* 상관계수 "
   ]
  },
  {
   "cell_type": "code",
   "execution_count": 33,
   "metadata": {},
   "outputs": [
    {
     "data": {
      "text/html": [
       "<div>\n",
       "<style scoped>\n",
       "    .dataframe tbody tr th:only-of-type {\n",
       "        vertical-align: middle;\n",
       "    }\n",
       "\n",
       "    .dataframe tbody tr th {\n",
       "        vertical-align: top;\n",
       "    }\n",
       "\n",
       "    .dataframe thead th {\n",
       "        text-align: right;\n",
       "    }\n",
       "</style>\n",
       "<table border=\"1\" class=\"dataframe\">\n",
       "  <thead>\n",
       "    <tr style=\"text-align: right;\">\n",
       "      <th></th>\n",
       "      <th>mpg</th>\n",
       "      <th>cylinders</th>\n",
       "      <th>displacement</th>\n",
       "      <th>weight</th>\n",
       "      <th>acceleration</th>\n",
       "      <th>model year</th>\n",
       "      <th>origin</th>\n",
       "    </tr>\n",
       "  </thead>\n",
       "  <tbody>\n",
       "    <tr>\n",
       "      <th>mpg</th>\n",
       "      <td>1.000000</td>\n",
       "      <td>-0.775396</td>\n",
       "      <td>-0.804203</td>\n",
       "      <td>-0.831741</td>\n",
       "      <td>0.420289</td>\n",
       "      <td>0.579267</td>\n",
       "      <td>0.563450</td>\n",
       "    </tr>\n",
       "    <tr>\n",
       "      <th>cylinders</th>\n",
       "      <td>-0.775396</td>\n",
       "      <td>1.000000</td>\n",
       "      <td>0.950721</td>\n",
       "      <td>0.896017</td>\n",
       "      <td>-0.505419</td>\n",
       "      <td>-0.348746</td>\n",
       "      <td>-0.562543</td>\n",
       "    </tr>\n",
       "    <tr>\n",
       "      <th>displacement</th>\n",
       "      <td>-0.804203</td>\n",
       "      <td>0.950721</td>\n",
       "      <td>1.000000</td>\n",
       "      <td>0.932824</td>\n",
       "      <td>-0.543684</td>\n",
       "      <td>-0.370164</td>\n",
       "      <td>-0.609409</td>\n",
       "    </tr>\n",
       "    <tr>\n",
       "      <th>weight</th>\n",
       "      <td>-0.831741</td>\n",
       "      <td>0.896017</td>\n",
       "      <td>0.932824</td>\n",
       "      <td>1.000000</td>\n",
       "      <td>-0.417457</td>\n",
       "      <td>-0.306564</td>\n",
       "      <td>-0.581024</td>\n",
       "    </tr>\n",
       "    <tr>\n",
       "      <th>acceleration</th>\n",
       "      <td>0.420289</td>\n",
       "      <td>-0.505419</td>\n",
       "      <td>-0.543684</td>\n",
       "      <td>-0.417457</td>\n",
       "      <td>1.000000</td>\n",
       "      <td>0.288137</td>\n",
       "      <td>0.205873</td>\n",
       "    </tr>\n",
       "    <tr>\n",
       "      <th>model year</th>\n",
       "      <td>0.579267</td>\n",
       "      <td>-0.348746</td>\n",
       "      <td>-0.370164</td>\n",
       "      <td>-0.306564</td>\n",
       "      <td>0.288137</td>\n",
       "      <td>1.000000</td>\n",
       "      <td>0.180662</td>\n",
       "    </tr>\n",
       "    <tr>\n",
       "      <th>origin</th>\n",
       "      <td>0.563450</td>\n",
       "      <td>-0.562543</td>\n",
       "      <td>-0.609409</td>\n",
       "      <td>-0.581024</td>\n",
       "      <td>0.205873</td>\n",
       "      <td>0.180662</td>\n",
       "      <td>1.000000</td>\n",
       "    </tr>\n",
       "  </tbody>\n",
       "</table>\n",
       "</div>"
      ],
      "text/plain": [
       "                   mpg  cylinders  displacement    weight  acceleration  \\\n",
       "mpg           1.000000  -0.775396     -0.804203 -0.831741      0.420289   \n",
       "cylinders    -0.775396   1.000000      0.950721  0.896017     -0.505419   \n",
       "displacement -0.804203   0.950721      1.000000  0.932824     -0.543684   \n",
       "weight       -0.831741   0.896017      0.932824  1.000000     -0.417457   \n",
       "acceleration  0.420289  -0.505419     -0.543684 -0.417457      1.000000   \n",
       "model year    0.579267  -0.348746     -0.370164 -0.306564      0.288137   \n",
       "origin        0.563450  -0.562543     -0.609409 -0.581024      0.205873   \n",
       "\n",
       "              model year    origin  \n",
       "mpg             0.579267  0.563450  \n",
       "cylinders      -0.348746 -0.562543  \n",
       "displacement   -0.370164 -0.609409  \n",
       "weight         -0.306564 -0.581024  \n",
       "acceleration    0.288137  0.205873  \n",
       "model year      1.000000  0.180662  \n",
       "origin          0.180662  1.000000  "
      ]
     },
     "execution_count": 33,
     "metadata": {},
     "output_type": "execute_result"
    }
   ],
   "source": [
    "df.corr()"
   ]
  },
  {
   "cell_type": "markdown",
   "metadata": {},
   "source": [
    "* 'mpg'와 'weight'의 상관 계수"
   ]
  },
  {
   "cell_type": "code",
   "execution_count": 34,
   "metadata": {},
   "outputs": [
    {
     "data": {
      "text/html": [
       "<div>\n",
       "<style scoped>\n",
       "    .dataframe tbody tr th:only-of-type {\n",
       "        vertical-align: middle;\n",
       "    }\n",
       "\n",
       "    .dataframe tbody tr th {\n",
       "        vertical-align: top;\n",
       "    }\n",
       "\n",
       "    .dataframe thead th {\n",
       "        text-align: right;\n",
       "    }\n",
       "</style>\n",
       "<table border=\"1\" class=\"dataframe\">\n",
       "  <thead>\n",
       "    <tr style=\"text-align: right;\">\n",
       "      <th></th>\n",
       "      <th>mpg</th>\n",
       "      <th>weight</th>\n",
       "    </tr>\n",
       "  </thead>\n",
       "  <tbody>\n",
       "    <tr>\n",
       "      <th>mpg</th>\n",
       "      <td>1.000000</td>\n",
       "      <td>-0.831741</td>\n",
       "    </tr>\n",
       "    <tr>\n",
       "      <th>weight</th>\n",
       "      <td>-0.831741</td>\n",
       "      <td>1.000000</td>\n",
       "    </tr>\n",
       "  </tbody>\n",
       "</table>\n",
       "</div>"
      ],
      "text/plain": [
       "             mpg    weight\n",
       "mpg     1.000000 -0.831741\n",
       "weight -0.831741  1.000000"
      ]
     },
     "execution_count": 34,
     "metadata": {},
     "output_type": "execute_result"
    }
   ],
   "source": [
    "df[['mpg','weight']].corr()"
   ]
  },
  {
   "cell_type": "code",
   "execution_count": 35,
   "metadata": {},
   "outputs": [
    {
     "data": {
      "text/plain": [
       "<matplotlib.axes._subplots.AxesSubplot at 0x1610738ca30>"
      ]
     },
     "execution_count": 35,
     "metadata": {},
     "output_type": "execute_result"
    },
    {
     "data": {
      "image/png": "[encoded data removed]",
      "text/plain": [
       "<Figure size 432x288 with 1 Axes>"
      ]
     },
     "metadata": {
      "needs_background": "light"
     },
     "output_type": "display_data"
    }
   ],
   "source": [
    "df.plot(kind=\"scatter\", x='weight', y='mpg')"
   ]
  },
  {
   "cell_type": "markdown",
   "metadata": {},
   "source": [
    "### 데이터 전처리"
   ]
  },
  {
   "cell_type": "markdown",
   "metadata": {},
   "source": [
    "* 데이터 구간 분할"
   ]
  },
  {
   "cell_type": "code",
   "execution_count": 1,
   "metadata": {},
   "outputs": [],
   "source": [
    "import pandas as pd\n",
    "import numpy as np\n",
    "\n",
    "df = pd.read_csv('./auto-mpg.csv', header=None)\n",
    "\n",
    "# 열 이름을 지정\n",
    "df.columns = ['mpg','cylinders','displacement','horsepower','weight',\n",
    "              'acceleration','model year','origin','name'] "
   ]
  },
  {
   "cell_type": "code",
   "execution_count": 12,
   "metadata": {},
   "outputs": [
    {
     "name": "stdout",
     "output_type": "stream",
     "text": [
      "<class 'pandas.core.frame.DataFrame'>\n",
      "Int64Index: 392 entries, 0 to 397\n",
      "Data columns (total 9 columns):\n",
      " #   Column        Non-Null Count  Dtype  \n",
      "---  ------        --------------  -----  \n",
      " 0   mpg           392 non-null    float64\n",
      " 1   cylinders     392 non-null    int64  \n",
      " 2   displacement  392 non-null    float64\n",
      " 3   horsepower    392 non-null    float64\n",
      " 4   weight        392 non-null    float64\n",
      " 5   acceleration  392 non-null    float64\n",
      " 6   model year    392 non-null    int64  \n",
      " 7   origin        392 non-null    int64  \n",
      " 8   name          392 non-null    object \n",
      "dtypes: float64(5), int64(3), object(1)\n",
      "memory usage: 30.6+ KB\n"
     ]
    }
   ],
   "source": [
    "df.info()"
   ]
  },
  {
   "cell_type": "code",
   "execution_count": 4,
   "metadata": {},
   "outputs": [
    {
     "data": {
      "text/plain": [
       "0"
      ]
     },
     "execution_count": 4,
     "metadata": {},
     "output_type": "execute_result"
    }
   ],
   "source": [
    "df['horsepower'].isnull().sum()"
   ]
  },
  {
   "cell_type": "code",
   "execution_count": null,
   "metadata": {},
   "outputs": [],
   "source": [
    "# horsepower 열의 누락 데이터('?') 삭제하고 실수형으로 변환"
   ]
  },
  {
   "cell_type": "code",
   "execution_count": 5,
   "metadata": {},
   "outputs": [],
   "source": [
    "# 1. '?'을 np.nan으로 변경\n",
    "df['horsepower'].replace('?', np.nan, inplace=True)"
   ]
  },
  {
   "cell_type": "code",
   "execution_count": 6,
   "metadata": {},
   "outputs": [
    {
     "data": {
      "text/plain": [
       "6"
      ]
     },
     "execution_count": 6,
     "metadata": {},
     "output_type": "execute_result"
    }
   ],
   "source": [
    "df['horsepower'].isnull().sum()"
   ]
  },
  {
   "cell_type": "code",
   "execution_count": 7,
   "metadata": {},
   "outputs": [],
   "source": [
    "# 2. 누락데이터 행을 삭제\n",
    "df.dropna(subset=['horsepower'], axis=0, inplace=True)"
   ]
  },
  {
   "cell_type": "code",
   "execution_count": null,
   "metadata": {},
   "outputs": [],
   "source": [
    "# 3. 문자열을 실수형으로 변환"
   ]
  },
  {
   "cell_type": "code",
   "execution_count": 11,
   "metadata": {},
   "outputs": [],
   "source": [
    "df['horsepower'] = df['horsepower'].astype('float64')"
   ]
  },
  {
   "cell_type": "code",
   "execution_count": 8,
   "metadata": {},
   "outputs": [
    {
     "data": {
      "text/plain": [
       "mpg             392\n",
       "cylinders       392\n",
       "displacement    392\n",
       "horsepower      392\n",
       "weight          392\n",
       "acceleration    392\n",
       "model year      392\n",
       "origin          392\n",
       "name            392\n",
       "dtype: int64"
      ]
     },
     "execution_count": 8,
     "metadata": {},
     "output_type": "execute_result"
    }
   ],
   "source": [
    "df.count()"
   ]
  },
  {
   "cell_type": "code",
   "execution_count": 13,
   "metadata": {},
   "outputs": [
    {
     "data": {
      "text/html": [
       "<div>\n",
       "<style scoped>\n",
       "    .dataframe tbody tr th:only-of-type {\n",
       "        vertical-align: middle;\n",
       "    }\n",
       "\n",
       "    .dataframe tbody tr th {\n",
       "        vertical-align: top;\n",
       "    }\n",
       "\n",
       "    .dataframe thead th {\n",
       "        text-align: right;\n",
       "    }\n",
       "</style>\n",
       "<table border=\"1\" class=\"dataframe\">\n",
       "  <thead>\n",
       "    <tr style=\"text-align: right;\">\n",
       "      <th></th>\n",
       "      <th>mpg</th>\n",
       "      <th>cylinders</th>\n",
       "      <th>displacement</th>\n",
       "      <th>horsepower</th>\n",
       "      <th>weight</th>\n",
       "      <th>acceleration</th>\n",
       "      <th>model year</th>\n",
       "      <th>origin</th>\n",
       "    </tr>\n",
       "  </thead>\n",
       "  <tbody>\n",
       "    <tr>\n",
       "      <th>count</th>\n",
       "      <td>392.000000</td>\n",
       "      <td>392.000000</td>\n",
       "      <td>392.000000</td>\n",
       "      <td>392.000000</td>\n",
       "      <td>392.000000</td>\n",
       "      <td>392.000000</td>\n",
       "      <td>392.000000</td>\n",
       "      <td>392.000000</td>\n",
       "    </tr>\n",
       "    <tr>\n",
       "      <th>mean</th>\n",
       "      <td>23.445918</td>\n",
       "      <td>5.471939</td>\n",
       "      <td>194.411990</td>\n",
       "      <td>104.469388</td>\n",
       "      <td>2977.584184</td>\n",
       "      <td>15.541327</td>\n",
       "      <td>75.979592</td>\n",
       "      <td>1.576531</td>\n",
       "    </tr>\n",
       "    <tr>\n",
       "      <th>std</th>\n",
       "      <td>7.805007</td>\n",
       "      <td>1.705783</td>\n",
       "      <td>104.644004</td>\n",
       "      <td>38.491160</td>\n",
       "      <td>849.402560</td>\n",
       "      <td>2.758864</td>\n",
       "      <td>3.683737</td>\n",
       "      <td>0.805518</td>\n",
       "    </tr>\n",
       "    <tr>\n",
       "      <th>min</th>\n",
       "      <td>9.000000</td>\n",
       "      <td>3.000000</td>\n",
       "      <td>68.000000</td>\n",
       "      <td>46.000000</td>\n",
       "      <td>1613.000000</td>\n",
       "      <td>8.000000</td>\n",
       "      <td>70.000000</td>\n",
       "      <td>1.000000</td>\n",
       "    </tr>\n",
       "    <tr>\n",
       "      <th>25%</th>\n",
       "      <td>17.000000</td>\n",
       "      <td>4.000000</td>\n",
       "      <td>105.000000</td>\n",
       "      <td>75.000000</td>\n",
       "      <td>2225.250000</td>\n",
       "      <td>13.775000</td>\n",
       "      <td>73.000000</td>\n",
       "      <td>1.000000</td>\n",
       "    </tr>\n",
       "    <tr>\n",
       "      <th>50%</th>\n",
       "      <td>22.750000</td>\n",
       "      <td>4.000000</td>\n",
       "      <td>151.000000</td>\n",
       "      <td>93.500000</td>\n",
       "      <td>2803.500000</td>\n",
       "      <td>15.500000</td>\n",
       "      <td>76.000000</td>\n",
       "      <td>1.000000</td>\n",
       "    </tr>\n",
       "    <tr>\n",
       "      <th>75%</th>\n",
       "      <td>29.000000</td>\n",
       "      <td>8.000000</td>\n",
       "      <td>275.750000</td>\n",
       "      <td>126.000000</td>\n",
       "      <td>3614.750000</td>\n",
       "      <td>17.025000</td>\n",
       "      <td>79.000000</td>\n",
       "      <td>2.000000</td>\n",
       "    </tr>\n",
       "    <tr>\n",
       "      <th>max</th>\n",
       "      <td>46.600000</td>\n",
       "      <td>8.000000</td>\n",
       "      <td>455.000000</td>\n",
       "      <td>230.000000</td>\n",
       "      <td>5140.000000</td>\n",
       "      <td>24.800000</td>\n",
       "      <td>82.000000</td>\n",
       "      <td>3.000000</td>\n",
       "    </tr>\n",
       "  </tbody>\n",
       "</table>\n",
       "</div>"
      ],
      "text/plain": [
       "              mpg   cylinders  displacement  horsepower       weight  \\\n",
       "count  392.000000  392.000000    392.000000  392.000000   392.000000   \n",
       "mean    23.445918    5.471939    194.411990  104.469388  2977.584184   \n",
       "std      7.805007    1.705783    104.644004   38.491160   849.402560   \n",
       "min      9.000000    3.000000     68.000000   46.000000  1613.000000   \n",
       "25%     17.000000    4.000000    105.000000   75.000000  2225.250000   \n",
       "50%     22.750000    4.000000    151.000000   93.500000  2803.500000   \n",
       "75%     29.000000    8.000000    275.750000  126.000000  3614.750000   \n",
       "max     46.600000    8.000000    455.000000  230.000000  5140.000000   \n",
       "\n",
       "       acceleration  model year      origin  \n",
       "count    392.000000  392.000000  392.000000  \n",
       "mean      15.541327   75.979592    1.576531  \n",
       "std        2.758864    3.683737    0.805518  \n",
       "min        8.000000   70.000000    1.000000  \n",
       "25%       13.775000   73.000000    1.000000  \n",
       "50%       15.500000   76.000000    1.000000  \n",
       "75%       17.025000   79.000000    2.000000  \n",
       "max       24.800000   82.000000    3.000000  "
      ]
     },
     "execution_count": 13,
     "metadata": {},
     "output_type": "execute_result"
    }
   ],
   "source": [
    "df.describe()"
   ]
  },
  {
   "cell_type": "code",
   "execution_count": null,
   "metadata": {},
   "outputs": [],
   "source": [
    "# 'horsepower' 열에 대해 '저출력', '보통출력', '고출력' 으로 구간을 나누어 새로운 열 만들기 -> df['hp_bin']"
   ]
  },
  {
   "cell_type": "code",
   "execution_count": 20,
   "metadata": {},
   "outputs": [],
   "source": [
    "name = ['저출력', '보통출력', '고출력']"
   ]
  },
  {
   "cell_type": "code",
   "execution_count": 16,
   "metadata": {},
   "outputs": [],
   "source": [
    "#참고\n",
    "count, bin_divider = np.histogram(df['horsepower'], bins=3)"
   ]
  },
  {
   "cell_type": "code",
   "execution_count": 17,
   "metadata": {},
   "outputs": [
    {
     "data": {
      "text/plain": [
       "array([ 46.        , 107.33333333, 168.66666667, 230.        ])"
      ]
     },
     "execution_count": 17,
     "metadata": {},
     "output_type": "execute_result"
    }
   ],
   "source": [
    "bin_divider"
   ]
  },
  {
   "cell_type": "code",
   "execution_count": 18,
   "metadata": {},
   "outputs": [
    {
     "data": {
      "text/plain": [
       "array([257, 103,  32], dtype=int64)"
      ]
     },
     "execution_count": 18,
     "metadata": {},
     "output_type": "execute_result"
    }
   ],
   "source": [
    "count"
   ]
  },
  {
   "cell_type": "code",
   "execution_count": 22,
   "metadata": {},
   "outputs": [],
   "source": [
    "df['hp_bin'] = pd.cut(x=df['horsepower'], bins=3 , labels=name, include_lowest = True )"
   ]
  },
  {
   "cell_type": "code",
   "execution_count": 25,
   "metadata": {},
   "outputs": [
    {
     "data": {
      "text/plain": [
       "저출력     257\n",
       "보통출력    103\n",
       "고출력      32\n",
       "Name: hp_bin, dtype: int64"
      ]
     },
     "execution_count": 25,
     "metadata": {},
     "output_type": "execute_result"
    }
   ],
   "source": [
    "# hp_bin 열에 대해 빈도수 확인하기\n",
    "pd.value_counts(df['hp_bin'])"
   ]
  },
  {
   "cell_type": "markdown",
   "metadata": {},
   "source": [
    "* 더미 변수"
   ]
  },
  {
   "cell_type": "code",
   "execution_count": 26,
   "metadata": {},
   "outputs": [
    {
     "data": {
      "text/plain": [
       "0      보통출력\n",
       "1      보통출력\n",
       "2      보통출력\n",
       "3      보통출력\n",
       "4      보통출력\n",
       "       ... \n",
       "393     저출력\n",
       "394     저출력\n",
       "395     저출력\n",
       "396     저출력\n",
       "397     저출력\n",
       "Name: hp_bin, Length: 392, dtype: category\n",
       "Categories (3, object): ['저출력' < '보통출력' < '고출력']"
      ]
     },
     "execution_count": 26,
     "metadata": {},
     "output_type": "execute_result"
    }
   ],
   "source": [
    "df['hp_bin']"
   ]
  },
  {
   "cell_type": "code",
   "execution_count": 28,
   "metadata": {},
   "outputs": [
    {
     "data": {
      "text/html": [
       "<div>\n",
       "<style scoped>\n",
       "    .dataframe tbody tr th:only-of-type {\n",
       "        vertical-align: middle;\n",
       "    }\n",
       "\n",
       "    .dataframe tbody tr th {\n",
       "        vertical-align: top;\n",
       "    }\n",
       "\n",
       "    .dataframe thead th {\n",
       "        text-align: right;\n",
       "    }\n",
       "</style>\n",
       "<table border=\"1\" class=\"dataframe\">\n",
       "  <thead>\n",
       "    <tr style=\"text-align: right;\">\n",
       "      <th></th>\n",
       "      <th>mpg</th>\n",
       "      <th>cylinders</th>\n",
       "      <th>displacement</th>\n",
       "      <th>horsepower</th>\n",
       "      <th>weight</th>\n",
       "      <th>acceleration</th>\n",
       "      <th>model year</th>\n",
       "      <th>origin</th>\n",
       "      <th>name</th>\n",
       "      <th>hp_bin</th>\n",
       "    </tr>\n",
       "  </thead>\n",
       "  <tbody>\n",
       "    <tr>\n",
       "      <th>0</th>\n",
       "      <td>18.0</td>\n",
       "      <td>8</td>\n",
       "      <td>307.0</td>\n",
       "      <td>130.0</td>\n",
       "      <td>3504.0</td>\n",
       "      <td>12.0</td>\n",
       "      <td>70</td>\n",
       "      <td>1</td>\n",
       "      <td>chevrolet chevelle malibu</td>\n",
       "      <td>보통출력</td>\n",
       "    </tr>\n",
       "    <tr>\n",
       "      <th>1</th>\n",
       "      <td>15.0</td>\n",
       "      <td>8</td>\n",
       "      <td>350.0</td>\n",
       "      <td>165.0</td>\n",
       "      <td>3693.0</td>\n",
       "      <td>11.5</td>\n",
       "      <td>70</td>\n",
       "      <td>1</td>\n",
       "      <td>buick skylark 320</td>\n",
       "      <td>보통출력</td>\n",
       "    </tr>\n",
       "    <tr>\n",
       "      <th>2</th>\n",
       "      <td>18.0</td>\n",
       "      <td>8</td>\n",
       "      <td>318.0</td>\n",
       "      <td>150.0</td>\n",
       "      <td>3436.0</td>\n",
       "      <td>11.0</td>\n",
       "      <td>70</td>\n",
       "      <td>1</td>\n",
       "      <td>plymouth satellite</td>\n",
       "      <td>보통출력</td>\n",
       "    </tr>\n",
       "    <tr>\n",
       "      <th>3</th>\n",
       "      <td>16.0</td>\n",
       "      <td>8</td>\n",
       "      <td>304.0</td>\n",
       "      <td>150.0</td>\n",
       "      <td>3433.0</td>\n",
       "      <td>12.0</td>\n",
       "      <td>70</td>\n",
       "      <td>1</td>\n",
       "      <td>amc rebel sst</td>\n",
       "      <td>보통출력</td>\n",
       "    </tr>\n",
       "    <tr>\n",
       "      <th>4</th>\n",
       "      <td>17.0</td>\n",
       "      <td>8</td>\n",
       "      <td>302.0</td>\n",
       "      <td>140.0</td>\n",
       "      <td>3449.0</td>\n",
       "      <td>10.5</td>\n",
       "      <td>70</td>\n",
       "      <td>1</td>\n",
       "      <td>ford torino</td>\n",
       "      <td>보통출력</td>\n",
       "    </tr>\n",
       "  </tbody>\n",
       "</table>\n",
       "</div>"
      ],
      "text/plain": [
       "    mpg  cylinders  displacement  horsepower  weight  acceleration  \\\n",
       "0  18.0          8         307.0       130.0  3504.0          12.0   \n",
       "1  15.0          8         350.0       165.0  3693.0          11.5   \n",
       "2  18.0          8         318.0       150.0  3436.0          11.0   \n",
       "3  16.0          8         304.0       150.0  3433.0          12.0   \n",
       "4  17.0          8         302.0       140.0  3449.0          10.5   \n",
       "\n",
       "   model year  origin                       name hp_bin  \n",
       "0          70       1  chevrolet chevelle malibu   보통출력  \n",
       "1          70       1          buick skylark 320   보통출력  \n",
       "2          70       1         plymouth satellite   보통출력  \n",
       "3          70       1              amc rebel sst   보통출력  \n",
       "4          70       1                ford torino   보통출력  "
      ]
     },
     "execution_count": 28,
     "metadata": {},
     "output_type": "execute_result"
    }
   ],
   "source": [
    "df.head()"
   ]
  },
  {
   "cell_type": "code",
   "execution_count": 29,
   "metadata": {},
   "outputs": [],
   "source": [
    "dummies = pd.get_dummies(df['hp_bin'])\n",
    "df_dummies = df.iloc[:,:-1].join(dummies)"
   ]
  },
  {
   "cell_type": "code",
   "execution_count": 31,
   "metadata": {},
   "outputs": [
    {
     "data": {
      "text/html": [
       "<div>\n",
       "<style scoped>\n",
       "    .dataframe tbody tr th:only-of-type {\n",
       "        vertical-align: middle;\n",
       "    }\n",
       "\n",
       "    .dataframe tbody tr th {\n",
       "        vertical-align: top;\n",
       "    }\n",
       "\n",
       "    .dataframe thead th {\n",
       "        text-align: right;\n",
       "    }\n",
       "</style>\n",
       "<table border=\"1\" class=\"dataframe\">\n",
       "  <thead>\n",
       "    <tr style=\"text-align: right;\">\n",
       "      <th></th>\n",
       "      <th>mpg</th>\n",
       "      <th>cylinders</th>\n",
       "      <th>displacement</th>\n",
       "      <th>horsepower</th>\n",
       "      <th>weight</th>\n",
       "      <th>acceleration</th>\n",
       "      <th>model year</th>\n",
       "      <th>origin</th>\n",
       "      <th>name</th>\n",
       "      <th>저출력</th>\n",
       "      <th>보통출력</th>\n",
       "      <th>고출력</th>\n",
       "    </tr>\n",
       "  </thead>\n",
       "  <tbody>\n",
       "    <tr>\n",
       "      <th>0</th>\n",
       "      <td>18.0</td>\n",
       "      <td>8</td>\n",
       "      <td>307.0</td>\n",
       "      <td>130.0</td>\n",
       "      <td>3504.0</td>\n",
       "      <td>12.0</td>\n",
       "      <td>70</td>\n",
       "      <td>1</td>\n",
       "      <td>chevrolet chevelle malibu</td>\n",
       "      <td>0</td>\n",
       "      <td>1</td>\n",
       "      <td>0</td>\n",
       "    </tr>\n",
       "    <tr>\n",
       "      <th>1</th>\n",
       "      <td>15.0</td>\n",
       "      <td>8</td>\n",
       "      <td>350.0</td>\n",
       "      <td>165.0</td>\n",
       "      <td>3693.0</td>\n",
       "      <td>11.5</td>\n",
       "      <td>70</td>\n",
       "      <td>1</td>\n",
       "      <td>buick skylark 320</td>\n",
       "      <td>0</td>\n",
       "      <td>1</td>\n",
       "      <td>0</td>\n",
       "    </tr>\n",
       "    <tr>\n",
       "      <th>2</th>\n",
       "      <td>18.0</td>\n",
       "      <td>8</td>\n",
       "      <td>318.0</td>\n",
       "      <td>150.0</td>\n",
       "      <td>3436.0</td>\n",
       "      <td>11.0</td>\n",
       "      <td>70</td>\n",
       "      <td>1</td>\n",
       "      <td>plymouth satellite</td>\n",
       "      <td>0</td>\n",
       "      <td>1</td>\n",
       "      <td>0</td>\n",
       "    </tr>\n",
       "    <tr>\n",
       "      <th>3</th>\n",
       "      <td>16.0</td>\n",
       "      <td>8</td>\n",
       "      <td>304.0</td>\n",
       "      <td>150.0</td>\n",
       "      <td>3433.0</td>\n",
       "      <td>12.0</td>\n",
       "      <td>70</td>\n",
       "      <td>1</td>\n",
       "      <td>amc rebel sst</td>\n",
       "      <td>0</td>\n",
       "      <td>1</td>\n",
       "      <td>0</td>\n",
       "    </tr>\n",
       "    <tr>\n",
       "      <th>4</th>\n",
       "      <td>17.0</td>\n",
       "      <td>8</td>\n",
       "      <td>302.0</td>\n",
       "      <td>140.0</td>\n",
       "      <td>3449.0</td>\n",
       "      <td>10.5</td>\n",
       "      <td>70</td>\n",
       "      <td>1</td>\n",
       "      <td>ford torino</td>\n",
       "      <td>0</td>\n",
       "      <td>1</td>\n",
       "      <td>0</td>\n",
       "    </tr>\n",
       "  </tbody>\n",
       "</table>\n",
       "</div>"
      ],
      "text/plain": [
       "    mpg  cylinders  displacement  horsepower  weight  acceleration  \\\n",
       "0  18.0          8         307.0       130.0  3504.0          12.0   \n",
       "1  15.0          8         350.0       165.0  3693.0          11.5   \n",
       "2  18.0          8         318.0       150.0  3436.0          11.0   \n",
       "3  16.0          8         304.0       150.0  3433.0          12.0   \n",
       "4  17.0          8         302.0       140.0  3449.0          10.5   \n",
       "\n",
       "   model year  origin                       name  저출력  보통출력  고출력  \n",
       "0          70       1  chevrolet chevelle malibu    0     1    0  \n",
       "1          70       1          buick skylark 320    0     1    0  \n",
       "2          70       1         plymouth satellite    0     1    0  \n",
       "3          70       1              amc rebel sst    0     1    0  \n",
       "4          70       1                ford torino    0     1    0  "
      ]
     },
     "execution_count": 31,
     "metadata": {},
     "output_type": "execute_result"
    }
   ],
   "source": [
    "df_dummies.head()"
   ]
  },
  {
   "cell_type": "markdown",
   "metadata": {},
   "source": [
    "* 시각화"
   ]
  },
  {
   "cell_type": "code",
   "execution_count": 44,
   "metadata": {},
   "outputs": [
    {
     "data": {
      "text/plain": [
       "0      18.0\n",
       "1      15.0\n",
       "2      18.0\n",
       "3      16.0\n",
       "4      17.0\n",
       "       ... \n",
       "393    27.0\n",
       "394    44.0\n",
       "395    32.0\n",
       "396    28.0\n",
       "397    31.0\n",
       "Name: mpg, Length: 398, dtype: float64"
      ]
     },
     "execution_count": 44,
     "metadata": {},
     "output_type": "execute_result"
    }
   ],
   "source": [
    "df[\"mpg\"]"
   ]
  },
  {
   "cell_type": "code",
   "execution_count": 45,
   "metadata": {},
   "outputs": [
    {
     "data": {
      "text/plain": [
       "9.0"
      ]
     },
     "execution_count": 45,
     "metadata": {},
     "output_type": "execute_result"
    }
   ],
   "source": [
    "df[\"mpg\"].min()"
   ]
  },
  {
   "cell_type": "code",
   "execution_count": 46,
   "metadata": {},
   "outputs": [
    {
     "data": {
      "text/plain": [
       "46.6"
      ]
     },
     "execution_count": 46,
     "metadata": {},
     "output_type": "execute_result"
    }
   ],
   "source": [
    "df[\"mpg\"].max()"
   ]
  },
  {
   "cell_type": "code",
   "execution_count": 47,
   "metadata": {},
   "outputs": [
    {
     "data": {
      "text/plain": [
       "<AxesSubplot:ylabel='Frequency'>"
      ]
     },
     "execution_count": 47,
     "metadata": {},
     "output_type": "execute_result"
    },
    {
     "data": {
      "image/png": "[encoded data removed]",
      "text/plain": [
       "<Figure size 432x288 with 1 Axes>"
      ]
     },
     "metadata": {
      "needs_background": "light"
     },
     "output_type": "display_data"
    }
   ],
   "source": [
    "df[\"mpg\"].plot(kind = \"hist\")"
   ]
  },
  {
   "cell_type": "code",
   "execution_count": 49,
   "metadata": {},
   "outputs": [
    {
     "data": {
      "text/plain": [
       "<AxesSubplot:ylabel='Frequency'>"
      ]
     },
     "execution_count": 49,
     "metadata": {},
     "output_type": "execute_result"
    },
    {
     "data": {
      "image/png": "[encoded data removed]",
      "text/plain": [
       "<Figure size 432x288 with 1 Axes>"
      ]
     },
     "metadata": {
      "needs_background": "light"
     },
     "output_type": "display_data"
    }
   ],
   "source": [
    "df[\"mpg\"].plot(kind = \"hist\", bins = 50)"
   ]
  },
  {
   "cell_type": "code",
   "execution_count": 50,
   "metadata": {},
   "outputs": [
    {
     "data": {
      "text/plain": [
       "<AxesSubplot:ylabel='Frequency'>"
      ]
     },
     "execution_count": 50,
     "metadata": {},
     "output_type": "execute_result"
    },
    {
     "data": {
      "image/png": "[encoded data removed]",
      "text/plain": [
       "<Figure size 576x288 with 1 Axes>"
      ]
     },
     "metadata": {
      "needs_background": "light"
     },
     "output_type": "display_data"
    }
   ],
   "source": [
    "df[\"mpg\"].plot(kind = \"hist\", bins = 20, color='coral', figsize= (8, 4))"
   ]
  },
  {
   "cell_type": "markdown",
   "metadata": {},
   "source": [
    "* [Color 정보](https://matplotlib.org/3.1.1/tutorials/colors/colors.html)"
   ]
  },
  {
   "cell_type": "code",
   "execution_count": 52,
   "metadata": {},
   "outputs": [],
   "source": [
    "import matplotlib.pyplot as plt"
   ]
  },
  {
   "cell_type": "code",
   "execution_count": 53,
   "metadata": {},
   "outputs": [
    {
     "data": {
      "text/plain": [
       "['Solarize_Light2',\n",
       " '_classic_test_patch',\n",
       " 'bmh',\n",
       " 'classic',\n",
       " 'dark_background',\n",
       " 'fast',\n",
       " 'fivethirtyeight',\n",
       " 'ggplot',\n",
       " 'grayscale',\n",
       " 'seaborn',\n",
       " 'seaborn-bright',\n",
       " 'seaborn-colorblind',\n",
       " 'seaborn-dark',\n",
       " 'seaborn-dark-palette',\n",
       " 'seaborn-darkgrid',\n",
       " 'seaborn-deep',\n",
       " 'seaborn-muted',\n",
       " 'seaborn-notebook',\n",
       " 'seaborn-paper',\n",
       " 'seaborn-pastel',\n",
       " 'seaborn-poster',\n",
       " 'seaborn-talk',\n",
       " 'seaborn-ticks',\n",
       " 'seaborn-white',\n",
       " 'seaborn-whitegrid',\n",
       " 'tableau-colorblind10']"
      ]
     },
     "execution_count": 53,
     "metadata": {},
     "output_type": "execute_result"
    }
   ],
   "source": [
    "plt.style.available"
   ]
  },
  {
   "cell_type": "code",
   "execution_count": 58,
   "metadata": {},
   "outputs": [],
   "source": [
    "plt.style.use('ggplot')  # style 설정"
   ]
  },
  {
   "cell_type": "code",
   "execution_count": 59,
   "metadata": {},
   "outputs": [
    {
     "data": {
      "text/plain": [
       "<AxesSubplot:ylabel='Frequency'>"
      ]
     },
     "execution_count": 59,
     "metadata": {},
     "output_type": "execute_result"
    },
    {
     "data": {
      "image/png": "[encoded data removed]",
      "text/plain": [
       "<Figure size 640x320 with 1 Axes>"
      ]
     },
     "metadata": {},
     "output_type": "display_data"
    }
   ],
   "source": [
    "df[\"mpg\"].plot(kind = \"hist\", bins = 20, color='coral', figsize= (8, 4))"
   ]
  },
  {
   "cell_type": "code",
   "execution_count": 60,
   "metadata": {},
   "outputs": [
    {
     "data": {
      "text/html": [
       "<div>\n",
       "<style scoped>\n",
       "    .dataframe tbody tr th:only-of-type {\n",
       "        vertical-align: middle;\n",
       "    }\n",
       "\n",
       "    .dataframe tbody tr th {\n",
       "        vertical-align: top;\n",
       "    }\n",
       "\n",
       "    .dataframe thead th {\n",
       "        text-align: right;\n",
       "    }\n",
       "</style>\n",
       "<table border=\"1\" class=\"dataframe\">\n",
       "  <thead>\n",
       "    <tr style=\"text-align: right;\">\n",
       "      <th></th>\n",
       "      <th>mpg</th>\n",
       "      <th>weight</th>\n",
       "    </tr>\n",
       "  </thead>\n",
       "  <tbody>\n",
       "    <tr>\n",
       "      <th>mpg</th>\n",
       "      <td>1.000000</td>\n",
       "      <td>-0.831741</td>\n",
       "    </tr>\n",
       "    <tr>\n",
       "      <th>weight</th>\n",
       "      <td>-0.831741</td>\n",
       "      <td>1.000000</td>\n",
       "    </tr>\n",
       "  </tbody>\n",
       "</table>\n",
       "</div>"
      ],
      "text/plain": [
       "             mpg    weight\n",
       "mpg     1.000000 -0.831741\n",
       "weight -0.831741  1.000000"
      ]
     },
     "execution_count": 60,
     "metadata": {},
     "output_type": "execute_result"
    }
   ],
   "source": [
    "df[['mpg','weight']].corr()"
   ]
  },
  {
   "cell_type": "code",
   "execution_count": 61,
   "metadata": {},
   "outputs": [
    {
     "data": {
      "text/plain": [
       "<AxesSubplot:xlabel='weight', ylabel='mpg'>"
      ]
     },
     "execution_count": 61,
     "metadata": {},
     "output_type": "execute_result"
    },
    {
     "data": {
      "image/png": "[encoded data removed]",
      "text/plain": [
       "<Figure size 640x480 with 1 Axes>"
      ]
     },
     "metadata": {},
     "output_type": "display_data"
    }
   ],
   "source": [
    "df.plot(kind=\"scatter\", x='weight', y='mpg')"
   ]
  },
  {
   "cell_type": "code",
   "execution_count": 76,
   "metadata": {},
   "outputs": [
    {
     "data": {
      "text/html": [
       "<div>\n",
       "<style scoped>\n",
       "    .dataframe tbody tr th:only-of-type {\n",
       "        vertical-align: middle;\n",
       "    }\n",
       "\n",
       "    .dataframe tbody tr th {\n",
       "        vertical-align: top;\n",
       "    }\n",
       "\n",
       "    .dataframe thead th {\n",
       "        text-align: right;\n",
       "    }\n",
       "</style>\n",
       "<table border=\"1\" class=\"dataframe\">\n",
       "  <thead>\n",
       "    <tr style=\"text-align: right;\">\n",
       "      <th></th>\n",
       "      <th>mpg</th>\n",
       "      <th>cylinders</th>\n",
       "      <th>displacement</th>\n",
       "      <th>horsepower</th>\n",
       "      <th>weight</th>\n",
       "      <th>acceleration</th>\n",
       "      <th>model year</th>\n",
       "      <th>origin</th>\n",
       "      <th>name</th>\n",
       "    </tr>\n",
       "  </thead>\n",
       "  <tbody>\n",
       "    <tr>\n",
       "      <th>0</th>\n",
       "      <td>18.0</td>\n",
       "      <td>8</td>\n",
       "      <td>307.0</td>\n",
       "      <td>130.0</td>\n",
       "      <td>3504.0</td>\n",
       "      <td>12.0</td>\n",
       "      <td>70</td>\n",
       "      <td>1</td>\n",
       "      <td>chevrolet chevelle malibu</td>\n",
       "    </tr>\n",
       "    <tr>\n",
       "      <th>1</th>\n",
       "      <td>15.0</td>\n",
       "      <td>8</td>\n",
       "      <td>350.0</td>\n",
       "      <td>165.0</td>\n",
       "      <td>3693.0</td>\n",
       "      <td>11.5</td>\n",
       "      <td>70</td>\n",
       "      <td>1</td>\n",
       "      <td>buick skylark 320</td>\n",
       "    </tr>\n",
       "    <tr>\n",
       "      <th>2</th>\n",
       "      <td>18.0</td>\n",
       "      <td>8</td>\n",
       "      <td>318.0</td>\n",
       "      <td>150.0</td>\n",
       "      <td>3436.0</td>\n",
       "      <td>11.0</td>\n",
       "      <td>70</td>\n",
       "      <td>1</td>\n",
       "      <td>plymouth satellite</td>\n",
       "    </tr>\n",
       "    <tr>\n",
       "      <th>3</th>\n",
       "      <td>16.0</td>\n",
       "      <td>8</td>\n",
       "      <td>304.0</td>\n",
       "      <td>150.0</td>\n",
       "      <td>3433.0</td>\n",
       "      <td>12.0</td>\n",
       "      <td>70</td>\n",
       "      <td>1</td>\n",
       "      <td>amc rebel sst</td>\n",
       "    </tr>\n",
       "    <tr>\n",
       "      <th>4</th>\n",
       "      <td>17.0</td>\n",
       "      <td>8</td>\n",
       "      <td>302.0</td>\n",
       "      <td>140.0</td>\n",
       "      <td>3449.0</td>\n",
       "      <td>10.5</td>\n",
       "      <td>70</td>\n",
       "      <td>1</td>\n",
       "      <td>ford torino</td>\n",
       "    </tr>\n",
       "  </tbody>\n",
       "</table>\n",
       "</div>"
      ],
      "text/plain": [
       "    mpg  cylinders  displacement horsepower  weight  acceleration  model year  \\\n",
       "0  18.0          8         307.0      130.0  3504.0          12.0          70   \n",
       "1  15.0          8         350.0      165.0  3693.0          11.5          70   \n",
       "2  18.0          8         318.0      150.0  3436.0          11.0          70   \n",
       "3  16.0          8         304.0      150.0  3433.0          12.0          70   \n",
       "4  17.0          8         302.0      140.0  3449.0          10.5          70   \n",
       "\n",
       "   origin                       name  \n",
       "0       1  chevrolet chevelle malibu  \n",
       "1       1          buick skylark 320  \n",
       "2       1         plymouth satellite  \n",
       "3       1              amc rebel sst  \n",
       "4       1                ford torino  "
      ]
     },
     "execution_count": 76,
     "metadata": {},
     "output_type": "execute_result"
    }
   ],
   "source": [
    "df.head()"
   ]
  },
  {
   "cell_type": "code",
   "execution_count": 77,
   "metadata": {},
   "outputs": [
    {
     "data": {
      "text/plain": [
       "0      8\n",
       "1      8\n",
       "2      8\n",
       "3      8\n",
       "4      8\n",
       "      ..\n",
       "393    4\n",
       "394    4\n",
       "395    4\n",
       "396    4\n",
       "397    4\n",
       "Name: cylinders, Length: 398, dtype: int64"
      ]
     },
     "execution_count": 77,
     "metadata": {},
     "output_type": "execute_result"
    }
   ],
   "source": [
    "df[\"cylinders\"]"
   ]
  },
  {
   "cell_type": "code",
   "execution_count": 84,
   "metadata": {},
   "outputs": [],
   "source": [
    "cylinder_size = df.cylinders/df.cylinders.max() * 300"
   ]
  },
  {
   "cell_type": "code",
   "execution_count": 86,
   "metadata": {},
   "outputs": [
    {
     "data": {
      "text/plain": [
       "0      300.0\n",
       "1      300.0\n",
       "2      300.0\n",
       "3      300.0\n",
       "4      300.0\n",
       "       ...  \n",
       "393    150.0\n",
       "394    150.0\n",
       "395    150.0\n",
       "396    150.0\n",
       "397    150.0\n",
       "Name: cylinders, Length: 398, dtype: float64"
      ]
     },
     "execution_count": 86,
     "metadata": {},
     "output_type": "execute_result"
    }
   ],
   "source": [
    "cylinder_size"
   ]
  },
  {
   "cell_type": "code",
   "execution_count": 117,
   "metadata": {},
   "outputs": [
    {
     "data": {
      "text/plain": [
       "<AxesSubplot:xlabel='weight', ylabel='mpg'>"
      ]
     },
     "execution_count": 117,
     "metadata": {},
     "output_type": "execute_result"
    },
    {
     "data": {
      "image/png": "[encoded data removed]",
      "text/plain": [
       "<Figure size 640x480 with 1 Axes>"
      ]
     },
     "metadata": {},
     "output_type": "display_data"
    }
   ],
   "source": [
    "df.plot(kind=\"scatter\", x='weight', y='mpg', c=\"olive\", s=cylinder_size, alpha=0.3)"
   ]
  },
  {
   "cell_type": "code",
   "execution_count": 90,
   "metadata": {},
   "outputs": [
    {
     "data": {
      "text/plain": [
       "<AxesSubplot:xlabel='weight', ylabel='mpg'>"
      ]
     },
     "execution_count": 90,
     "metadata": {},
     "output_type": "execute_result"
    },
    {
     "data": {
      "image/png": "[encoded data removed]",
      "text/plain": [
       "<Figure size 640x480 with 2 Axes>"
      ]
     },
     "metadata": {},
     "output_type": "display_data"
    }
   ],
   "source": [
    "df.plot(kind=\"scatter\", x='weight', y='mpg', c=cylinder_size, s=50, alpha=0.3, cmap= \"binary\")"
   ]
  },
  {
   "cell_type": "code",
   "execution_count": null,
   "metadata": {},
   "outputs": [],
   "source": [
    "#origin : 제조국 1(USA), 2(EU), 3(JPN)"
   ]
  },
  {
   "cell_type": "code",
   "execution_count": 92,
   "metadata": {},
   "outputs": [
    {
     "data": {
      "text/plain": [
       "1    249\n",
       "3     79\n",
       "2     70\n",
       "Name: origin, dtype: int64"
      ]
     },
     "execution_count": 92,
     "metadata": {},
     "output_type": "execute_result"
    }
   ],
   "source": [
    "df['origin'].value_counts()\n"
   ]
  },
  {
   "cell_type": "code",
   "execution_count": 94,
   "metadata": {},
   "outputs": [
    {
     "data": {
      "text/plain": [
       "origin\n",
       "1    249\n",
       "2     70\n",
       "3     79\n",
       "dtype: int64"
      ]
     },
     "execution_count": 94,
     "metadata": {},
     "output_type": "execute_result"
    }
   ],
   "source": [
    "df.groupby(\"origin\").size()"
   ]
  },
  {
   "cell_type": "code",
   "execution_count": 95,
   "metadata": {},
   "outputs": [],
   "source": [
    "df_origin = pd.DataFrame()\n",
    "df_origin[\"count\"] = df.groupby(\"origin\").size()"
   ]
  },
  {
   "cell_type": "code",
   "execution_count": 96,
   "metadata": {},
   "outputs": [
    {
     "data": {
      "text/plain": [
       "origin\n",
       "1    249\n",
       "2     70\n",
       "3     79\n",
       "Name: count, dtype: int64"
      ]
     },
     "execution_count": 96,
     "metadata": {},
     "output_type": "execute_result"
    }
   ],
   "source": [
    "df_origin[\"count\"]"
   ]
  },
  {
   "cell_type": "code",
   "execution_count": 97,
   "metadata": {},
   "outputs": [
    {
     "data": {
      "text/plain": [
       "<AxesSubplot:ylabel='count'>"
      ]
     },
     "execution_count": 97,
     "metadata": {},
     "output_type": "execute_result"
    },
    {
     "data": {
      "image/png": "[encoded data removed]",
      "text/plain": [
       "<Figure size 640x480 with 1 Axes>"
      ]
     },
     "metadata": {},
     "output_type": "display_data"
    }
   ],
   "source": [
    "df_origin[\"count\"].plot(kind='pie')"
   ]
  },
  {
   "cell_type": "code",
   "execution_count": 113,
   "metadata": {},
   "outputs": [
    {
     "data": {
      "image/png": "[encoded data removed]",
      "text/plain": [
       "<Figure size 800x480 with 1 Axes>"
      ]
     },
     "metadata": {},
     "output_type": "display_data"
    }
   ],
   "source": [
    "df_origin.index = [\"USA\", \"EU\", \"JAPAN\"]\n",
    "df_origin[\"count\"].plot(kind='pie', \n",
    "                        figsize=(10,6), \n",
    "                        startangle=10, \n",
    "                        colors=[\"chocolate\", \"bisque\", \"cadetblue\"],\n",
    "                        autopct = \"%1.1f%%\")\n",
    "\n",
    "plt.title(\"Mode Origin\", size=20)\n",
    "plt.axis(\"equal\")\n",
    "plt.legend(labels=df_origin.index, loc=\"best\")\n",
    "plt.show()"
   ]
  },
  {
   "cell_type": "code",
   "execution_count": 118,
   "metadata": {},
   "outputs": [
    {
     "data": {
      "text/plain": [
       "0       True\n",
       "1       True\n",
       "2       True\n",
       "3       True\n",
       "4       True\n",
       "       ...  \n",
       "393     True\n",
       "394    False\n",
       "395     True\n",
       "396     True\n",
       "397     True\n",
       "Name: origin, Length: 398, dtype: bool"
      ]
     },
     "execution_count": 118,
     "metadata": {},
     "output_type": "execute_result"
    }
   ],
   "source": [
    "df['origin'] == 1"
   ]
  },
  {
   "cell_type": "code",
   "execution_count": 122,
   "metadata": {},
   "outputs": [
    {
     "data": {
      "text/plain": [
       "<AxesSubplot:>"
      ]
     },
     "execution_count": 122,
     "metadata": {},
     "output_type": "execute_result"
    },
    {
     "data": {
      "image/png": "[encoded data removed]",
      "text/plain": [
       "<Figure size 640x480 with 1 Axes>"
      ]
     },
     "metadata": {},
     "output_type": "display_data"
    }
   ],
   "source": [
    "df[df['origin'] == 1][\"mpg\"].plot(kind=\"box\")"
   ]
  },
  {
   "attachments": {
    "image.png": {
     "image/png": "[encoded data removed]"
    }
   },
   "cell_type": "markdown",
   "metadata": {},
   "source": [
    "![image.png](attachment:image.png)"
   ]
  },
  {
   "cell_type": "code",
   "execution_count": 143,
   "metadata": {},
   "outputs": [],
   "source": [
    "%matplotlib inline"
   ]
  },
  {
   "cell_type": "code",
   "execution_count": 141,
   "metadata": {},
   "outputs": [],
   "source": [
    "plt.close(\"All\")"
   ]
  },
  {
   "cell_type": "code",
   "execution_count": 142,
   "metadata": {},
   "outputs": [
    {
     "data": {
      "application/javascript": [
       "/* Put everything inside the global mpl namespace */\n",
       "/* global mpl */\n",
       "window.mpl = {};\n",
       "\n",
       "mpl.get_websocket_type = function () {\n",
       "    if (typeof WebSocket !== 'undefined') {\n",
       "        return WebSocket;\n",
       "    } else if (typeof MozWebSocket !== 'undefined') {\n",
       "        return MozWebSocket;\n",
       "    } else {\n",
       "        alert(\n",
       "            'Your browser does not have WebSocket support. ' +\n",
       "                'Please try Chrome, Safari or Firefox ≥ 6. ' +\n",
       "                'Firefox 4 and 5 are also supported but you ' +\n",
       "                'have to enable WebSockets in about:config.'\n",
       "        );\n",
       "    }\n",
       "};\n",
       "\n",
       "mpl.figure = function (figure_id, websocket, ondownload, parent_element) {\n",
       "    this.id = figure_id;\n",
       "\n",
       "    this.ws = websocket;\n",
       "\n",
       "    this.supports_binary = this.ws.binaryType !== undefined;\n",
       "\n",
       "    if (!this.supports_binary) {\n",
       "        var warnings = document.getElementById('mpl-warnings');\n",
       "        if (warnings) {\n",
       "            warnings.style.display = 'block';\n",
       "            warnings.textContent =\n",
       "                'This browser does not support binary websocket messages. ' +\n",
       "                'Performance may be slow.';\n",
       "        }\n",
       "    }\n",
       "\n",
       "    this.imageObj = new Image();\n",
       "\n",
       "    this.context = undefined;\n",
       "    this.message = undefined;\n",
       "    this.canvas = undefined;\n",
       "    this.rubberband_canvas = undefined;\n",
       "    this.rubberband_context = undefined;\n",
       "    this.format_dropdown = undefined;\n",
       "\n",
       "    this.image_mode = 'full';\n",
       "\n",
       "    this.root = document.createElement('div');\n",
       "    this.root.setAttribute('style', 'display: inline-block');\n",
       "    this._root_extra_style(this.root);\n",
       "\n",
       "    parent_element.appendChild(this.root);\n",
       "\n",
       "    this._init_header(this);\n",
       "    this._init_canvas(this);\n",
       "    this._init_toolbar(this);\n",
       "\n",
       "    var fig = this;\n",
       "\n",
       "    this.waiting = false;\n",
       "\n",
       "    this.ws.onopen = function () {\n",
       "        fig.send_message('supports_binary', { value: fig.supports_binary });\n",
       "        fig.send_message('send_image_mode', {});\n",
       "        if (fig.ratio !== 1) {\n",
       "            fig.send_message('set_dpi_ratio', { dpi_ratio: fig.ratio });\n",
       "        }\n",
       "        fig.send_message('refresh', {});\n",
       "    };\n",
       "\n",
       "    this.imageObj.onload = function () {\n",
       "        if (fig.image_mode === 'full') {\n",
       "            // Full images could contain transparency (where diff images\n",
       "            // almost always do), so we need to clear the canvas so that\n",
       "            // there is no ghosting.\n",
       "            fig.context.clearRect(0, 0, fig.canvas.width, fig.canvas.height);\n",
       "        }\n",
       "        fig.context.drawImage(fig.imageObj, 0, 0);\n",
       "    };\n",
       "\n",
       "    this.imageObj.onunload = function () {\n",
       "        fig.ws.close();\n",
       "    };\n",
       "\n",
       "    this.ws.onmessage = this._make_on_message_function(this);\n",
       "\n",
       "    this.ondownload = ondownload;\n",
       "};\n",
       "\n",
       "mpl.figure.prototype._init_header = function () {\n",
       "    var titlebar = document.createElement('div');\n",
       "    titlebar.classList =\n",
       "        'ui-dialog-titlebar ui-widget-header ui-corner-all ui-helper-clearfix';\n",
       "    var titletext = document.createElement('div');\n",
       "    titletext.classList = 'ui-dialog-title';\n",
       "    titletext.setAttribute(\n",
       "        'style',\n",
       "        'width: 100%; text-align: center; padding: 3px;'\n",
       "    );\n",
       "    titlebar.appendChild(titletext);\n",
       "    this.root.appendChild(titlebar);\n",
       "    this.header = titletext;\n",
       "};\n",
       "\n",
       "mpl.figure.prototype._canvas_extra_style = function (_canvas_div) {};\n",
       "\n",
       "mpl.figure.prototype._root_extra_style = function (_canvas_div) {};\n",
       "\n",
       "mpl.figure.prototype._init_canvas = function () {\n",
       "    var fig = this;\n",
       "\n",
       "    var canvas_div = (this.canvas_div = document.createElement('div'));\n",
       "    canvas_div.setAttribute(\n",
       "        'style',\n",
       "        'border: 1px solid #ddd;' +\n",
       "            'box-sizing: content-box;' +\n",
       "            'clear: both;' +\n",
       "            'min-height: 1px;' +\n",
       "            'min-width: 1px;' +\n",
       "            'outline: 0;' +\n",
       "            'overflow: hidden;' +\n",
       "            'position: relative;' +\n",
       "            'resize: both;'\n",
       "    );\n",
       "\n",
       "    function on_keyboard_event_closure(name) {\n",
       "        return function (event) {\n",
       "            return fig.key_event(event, name);\n",
       "        };\n",
       "    }\n",
       "\n",
       "    canvas_div.addEventListener(\n",
       "        'keydown',\n",
       "        on_keyboard_event_closure('key_press')\n",
       "    );\n",
       "    canvas_div.addEventListener(\n",
       "        'keyup',\n",
       "        on_keyboard_event_closure('key_release')\n",
       "    );\n",
       "\n",
       "    this._canvas_extra_style(canvas_div);\n",
       "    this.root.appendChild(canvas_div);\n",
       "\n",
       "    var canvas = (this.canvas = document.createElement('canvas'));\n",
       "    canvas.classList.add('mpl-canvas');\n",
       "    canvas.setAttribute('style', 'box-sizing: content-box;');\n",
       "\n",
       "    this.context = canvas.getContext('2d');\n",
       "\n",
       "    var backingStore =\n",
       "        this.context.backingStorePixelRatio ||\n",
       "        this.context.webkitBackingStorePixelRatio ||\n",
       "        this.context.mozBackingStorePixelRatio ||\n",
       "        this.context.msBackingStorePixelRatio ||\n",
       "        this.context.oBackingStorePixelRatio ||\n",
       "        this.context.backingStorePixelRatio ||\n",
       "        1;\n",
       "\n",
       "    this.ratio = (window.devicePixelRatio || 1) / backingStore;\n",
       "\n",
       "    var rubberband_canvas = (this.rubberband_canvas = document.createElement(\n",
       "        'canvas'\n",
       "    ));\n",
       "    rubberband_canvas.setAttribute(\n",
       "        'style',\n",
       "        'box-sizing: content-box; position: absolute; left: 0; top: 0; z-index: 1;'\n",
       "    );\n",
       "\n",
       "    // Apply a ponyfill if ResizeObserver is not implemented by browser.\n",
       "    if (this.ResizeObserver === undefined) {\n",
       "        if (window.ResizeObserver !== undefined) {\n",
       "            this.ResizeObserver = window.ResizeObserver;\n",
       "        } else {\n",
       "            var obs = _JSXTOOLS_RESIZE_OBSERVER({});\n",
       "            this.ResizeObserver = obs.ResizeObserver;\n",
       "        }\n",
       "    }\n",
       "\n",
       "    this.resizeObserverInstance = new this.ResizeObserver(function (entries) {\n",
       "        var nentries = entries.length;\n",
       "        for (var i = 0; i < nentries; i++) {\n",
       "            var entry = entries[i];\n",
       "            var width, height;\n",
       "            if (entry.contentBoxSize) {\n",
       "                if (entry.contentBoxSize instanceof Array) {\n",
       "                    // Chrome 84 implements new version of spec.\n",
       "                    width = entry.contentBoxSize[0].inlineSize;\n",
       "                    height = entry.contentBoxSize[0].blockSize;\n",
       "                } else {\n",
       "                    // Firefox implements old version of spec.\n",
       "                    width = entry.contentBoxSize.inlineSize;\n",
       "                    height = entry.contentBoxSize.blockSize;\n",
       "                }\n",
       "            } else {\n",
       "                // Chrome <84 implements even older version of spec.\n",
       "                width = entry.contentRect.width;\n",
       "                height = entry.contentRect.height;\n",
       "            }\n",
       "\n",
       "            // Keep the size of the canvas and rubber band canvas in sync with\n",
       "            // the canvas container.\n",
       "            if (entry.devicePixelContentBoxSize) {\n",
       "                // Chrome 84 implements new version of spec.\n",
       "                canvas.setAttribute(\n",
       "                    'width',\n",
       "                    entry.devicePixelContentBoxSize[0].inlineSize\n",
       "                );\n",
       "                canvas.setAttribute(\n",
       "                    'height',\n",
       "                    entry.devicePixelContentBoxSize[0].blockSize\n",
       "                );\n",
       "            } else {\n",
       "                canvas.setAttribute('width', width * fig.ratio);\n",
       "                canvas.setAttribute('height', height * fig.ratio);\n",
       "            }\n",
       "            canvas.setAttribute(\n",
       "                'style',\n",
       "                'width: ' + width + 'px; height: ' + height + 'px;'\n",
       "            );\n",
       "\n",
       "            rubberband_canvas.setAttribute('width', width);\n",
       "            rubberband_canvas.setAttribute('height', height);\n",
       "\n",
       "            // And update the size in Python. We ignore the initial 0/0 size\n",
       "            // that occurs as the element is placed into the DOM, which should\n",
       "            // otherwise not happen due to the minimum size styling.\n",
       "            if (fig.ws.readyState == 1 && width != 0 && height != 0) {\n",
       "                fig.request_resize(width, height);\n",
       "            }\n",
       "        }\n",
       "    });\n",
       "    this.resizeObserverInstance.observe(canvas_div);\n",
       "\n",
       "    function on_mouse_event_closure(name) {\n",
       "        return function (event) {\n",
       "            return fig.mouse_event(event, name);\n",
       "        };\n",
       "    }\n",
       "\n",
       "    rubberband_canvas.addEventListener(\n",
       "        'mousedown',\n",
       "        on_mouse_event_closure('button_press')\n",
       "    );\n",
       "    rubberband_canvas.addEventListener(\n",
       "        'mouseup',\n",
       "        on_mouse_event_closure('button_release')\n",
       "    );\n",
       "    // Throttle sequential mouse events to 1 every 20ms.\n",
       "    rubberband_canvas.addEventListener(\n",
       "        'mousemove',\n",
       "        on_mouse_event_closure('motion_notify')\n",
       "    );\n",
       "\n",
       "    rubberband_canvas.addEventListener(\n",
       "        'mouseenter',\n",
       "        on_mouse_event_closure('figure_enter')\n",
       "    );\n",
       "    rubberband_canvas.addEventListener(\n",
       "        'mouseleave',\n",
       "        on_mouse_event_closure('figure_leave')\n",
       "    );\n",
       "\n",
       "    canvas_div.addEventListener('wheel', function (event) {\n",
       "        if (event.deltaY < 0) {\n",
       "            event.step = 1;\n",
       "        } else {\n",
       "            event.step = -1;\n",
       "        }\n",
       "        on_mouse_event_closure('scroll')(event);\n",
       "    });\n",
       "\n",
       "    canvas_div.appendChild(canvas);\n",
       "    canvas_div.appendChild(rubberband_canvas);\n",
       "\n",
       "    this.rubberband_context = rubberband_canvas.getContext('2d');\n",
       "    this.rubberband_context.strokeStyle = '#000000';\n",
       "\n",
       "    this._resize_canvas = function (width, height, forward) {\n",
       "        if (forward) {\n",
       "            canvas_div.style.width = width + 'px';\n",
       "            canvas_div.style.height = height + 'px';\n",
       "        }\n",
       "    };\n",
       "\n",
       "    // Disable right mouse context menu.\n",
       "    this.rubberband_canvas.addEventListener('contextmenu', function (_e) {\n",
       "        event.preventDefault();\n",
       "        return false;\n",
       "    });\n",
       "\n",
       "    function set_focus() {\n",
       "        canvas.focus();\n",
       "        canvas_div.focus();\n",
       "    }\n",
       "\n",
       "    window.setTimeout(set_focus, 100);\n",
       "};\n",
       "\n",
       "mpl.figure.prototype._init_toolbar = function () {\n",
       "    var fig = this;\n",
       "\n",
       "    var toolbar = document.createElement('div');\n",
       "    toolbar.classList = 'mpl-toolbar';\n",
       "    this.root.appendChild(toolbar);\n",
       "\n",
       "    function on_click_closure(name) {\n",
       "        return function (_event) {\n",
       "            return fig.toolbar_button_onclick(name);\n",
       "        };\n",
       "    }\n",
       "\n",
       "    function on_mouseover_closure(tooltip) {\n",
       "        return function (event) {\n",
       "            if (!event.currentTarget.disabled) {\n",
       "                return fig.toolbar_button_onmouseover(tooltip);\n",
       "            }\n",
       "        };\n",
       "    }\n",
       "\n",
       "    fig.buttons = {};\n",
       "    var buttonGroup = document.createElement('div');\n",
       "    buttonGroup.classList = 'mpl-button-group';\n",
       "    for (var toolbar_ind in mpl.toolbar_items) {\n",
       "        var name = mpl.toolbar_items[toolbar_ind][0];\n",
       "        var tooltip = mpl.toolbar_items[toolbar_ind][1];\n",
       "        var image = mpl.toolbar_items[toolbar_ind][2];\n",
       "        var method_name = mpl.toolbar_items[toolbar_ind][3];\n",
       "\n",
       "        if (!name) {\n",
       "            /* Instead of a spacer, we start a new button group. */\n",
       "            if (buttonGroup.hasChildNodes()) {\n",
       "                toolbar.appendChild(buttonGroup);\n",
       "            }\n",
       "            buttonGroup = document.createElement('div');\n",
       "            buttonGroup.classList = 'mpl-button-group';\n",
       "            continue;\n",
       "        }\n",
       "\n",
       "        var button = (fig.buttons[name] = document.createElement('button'));\n",
       "        button.classList = 'mpl-widget';\n",
       "        button.setAttribute('role', 'button');\n",
       "        button.setAttribute('aria-disabled', 'false');\n",
       "        button.addEventListener('click', on_click_closure(method_name));\n",
       "        button.addEventListener('mouseover', on_mouseover_closure(tooltip));\n",
       "\n",
       "        var icon_img = document.createElement('img');\n",
       "        icon_img.src = '_images/' + image + '.png';\n",
       "        icon_img.srcset = '_images/' + image + '_large.png 2x';\n",
       "        icon_img.alt = tooltip;\n",
       "        button.appendChild(icon_img);\n",
       "\n",
       "        buttonGroup.appendChild(button);\n",
       "    }\n",
       "\n",
       "    if (buttonGroup.hasChildNodes()) {\n",
       "        toolbar.appendChild(buttonGroup);\n",
       "    }\n",
       "\n",
       "    var fmt_picker = document.createElement('select');\n",
       "    fmt_picker.classList = 'mpl-widget';\n",
       "    toolbar.appendChild(fmt_picker);\n",
       "    this.format_dropdown = fmt_picker;\n",
       "\n",
       "    for (var ind in mpl.extensions) {\n",
       "        var fmt = mpl.extensions[ind];\n",
       "        var option = document.createElement('option');\n",
       "        option.selected = fmt === mpl.default_extension;\n",
       "        option.innerHTML = fmt;\n",
       "        fmt_picker.appendChild(option);\n",
       "    }\n",
       "\n",
       "    var status_bar = document.createElement('span');\n",
       "    status_bar.classList = 'mpl-message';\n",
       "    toolbar.appendChild(status_bar);\n",
       "    this.message = status_bar;\n",
       "};\n",
       "\n",
       "mpl.figure.prototype.request_resize = function (x_pixels, y_pixels) {\n",
       "    // Request matplotlib to resize the figure. Matplotlib will then trigger a resize in the client,\n",
       "    // which will in turn request a refresh of the image.\n",
       "    this.send_message('resize', { width: x_pixels, height: y_pixels });\n",
       "};\n",
       "\n",
       "mpl.figure.prototype.send_message = function (type, properties) {\n",
       "    properties['type'] = type;\n",
       "    properties['figure_id'] = this.id;\n",
       "    this.ws.send(JSON.stringify(properties));\n",
       "};\n",
       "\n",
       "mpl.figure.prototype.send_draw_message = function () {\n",
       "    if (!this.waiting) {\n",
       "        this.waiting = true;\n",
       "        this.ws.send(JSON.stringify({ type: 'draw', figure_id: this.id }));\n",
       "    }\n",
       "};\n",
       "\n",
       "mpl.figure.prototype.handle_save = function (fig, _msg) {\n",
       "    var format_dropdown = fig.format_dropdown;\n",
       "    var format = format_dropdown.options[format_dropdown.selectedIndex].value;\n",
       "    fig.ondownload(fig, format);\n",
       "};\n",
       "\n",
       "mpl.figure.prototype.handle_resize = function (fig, msg) {\n",
       "    var size = msg['size'];\n",
       "    if (size[0] !== fig.canvas.width || size[1] !== fig.canvas.height) {\n",
       "        fig._resize_canvas(size[0], size[1], msg['forward']);\n",
       "        fig.send_message('refresh', {});\n",
       "    }\n",
       "};\n",
       "\n",
       "mpl.figure.prototype.handle_rubberband = function (fig, msg) {\n",
       "    var x0 = msg['x0'] / fig.ratio;\n",
       "    var y0 = (fig.canvas.height - msg['y0']) / fig.ratio;\n",
       "    var x1 = msg['x1'] / fig.ratio;\n",
       "    var y1 = (fig.canvas.height - msg['y1']) / fig.ratio;\n",
       "    x0 = Math.floor(x0) + 0.5;\n",
       "    y0 = Math.floor(y0) + 0.5;\n",
       "    x1 = Math.floor(x1) + 0.5;\n",
       "    y1 = Math.floor(y1) + 0.5;\n",
       "    var min_x = Math.min(x0, x1);\n",
       "    var min_y = Math.min(y0, y1);\n",
       "    var width = Math.abs(x1 - x0);\n",
       "    var height = Math.abs(y1 - y0);\n",
       "\n",
       "    fig.rubberband_context.clearRect(\n",
       "        0,\n",
       "        0,\n",
       "        fig.canvas.width / fig.ratio,\n",
       "        fig.canvas.height / fig.ratio\n",
       "    );\n",
       "\n",
       "    fig.rubberband_context.strokeRect(min_x, min_y, width, height);\n",
       "};\n",
       "\n",
       "mpl.figure.prototype.handle_figure_label = function (fig, msg) {\n",
       "    // Updates the figure title.\n",
       "    fig.header.textContent = msg['label'];\n",
       "};\n",
       "\n",
       "mpl.figure.prototype.handle_cursor = function (fig, msg) {\n",
       "    var cursor = msg['cursor'];\n",
       "    switch (cursor) {\n",
       "        case 0:\n",
       "            cursor = 'pointer';\n",
       "            break;\n",
       "        case 1:\n",
       "            cursor = 'default';\n",
       "            break;\n",
       "        case 2:\n",
       "            cursor = 'crosshair';\n",
       "            break;\n",
       "        case 3:\n",
       "            cursor = 'move';\n",
       "            break;\n",
       "    }\n",
       "    fig.rubberband_canvas.style.cursor = cursor;\n",
       "};\n",
       "\n",
       "mpl.figure.prototype.handle_message = function (fig, msg) {\n",
       "    fig.message.textContent = msg['message'];\n",
       "};\n",
       "\n",
       "mpl.figure.prototype.handle_draw = function (fig, _msg) {\n",
       "    // Request the server to send over a new figure.\n",
       "    fig.send_draw_message();\n",
       "};\n",
       "\n",
       "mpl.figure.prototype.handle_image_mode = function (fig, msg) {\n",
       "    fig.image_mode = msg['mode'];\n",
       "};\n",
       "\n",
       "mpl.figure.prototype.handle_history_buttons = function (fig, msg) {\n",
       "    for (var key in msg) {\n",
       "        if (!(key in fig.buttons)) {\n",
       "            continue;\n",
       "        }\n",
       "        fig.buttons[key].disabled = !msg[key];\n",
       "        fig.buttons[key].setAttribute('aria-disabled', !msg[key]);\n",
       "    }\n",
       "};\n",
       "\n",
       "mpl.figure.prototype.handle_navigate_mode = function (fig, msg) {\n",
       "    if (msg['mode'] === 'PAN') {\n",
       "        fig.buttons['Pan'].classList.add('active');\n",
       "        fig.buttons['Zoom'].classList.remove('active');\n",
       "    } else if (msg['mode'] === 'ZOOM') {\n",
       "        fig.buttons['Pan'].classList.remove('active');\n",
       "        fig.buttons['Zoom'].classList.add('active');\n",
       "    } else {\n",
       "        fig.buttons['Pan'].classList.remove('active');\n",
       "        fig.buttons['Zoom'].classList.remove('active');\n",
       "    }\n",
       "};\n",
       "\n",
       "mpl.figure.prototype.updated_canvas_event = function () {\n",
       "    // Called whenever the canvas gets updated.\n",
       "    this.send_message('ack', {});\n",
       "};\n",
       "\n",
       "// A function to construct a web socket function for onmessage handling.\n",
       "// Called in the figure constructor.\n",
       "mpl.figure.prototype._make_on_message_function = function (fig) {\n",
       "    return function socket_on_message(evt) {\n",
       "        if (evt.data instanceof Blob) {\n",
       "            /* FIXME: We get \"Resource interpreted as Image but\n",
       "             * transferred with MIME type text/plain:\" errors on\n",
       "             * Chrome.  But how to set the MIME type?  It doesn't seem\n",
       "             * to be part of the websocket stream */\n",
       "            evt.data.type = 'image/png';\n",
       "\n",
       "            /* Free the memory for the previous frames */\n",
       "            if (fig.imageObj.src) {\n",
       "                (window.URL || window.webkitURL).revokeObjectURL(\n",
       "                    fig.imageObj.src\n",
       "                );\n",
       "            }\n",
       "\n",
       "            fig.imageObj.src = (window.URL || window.webkitURL).createObjectURL(\n",
       "                evt.data\n",
       "            );\n",
       "            fig.updated_canvas_event();\n",
       "            fig.waiting = false;\n",
       "            return;\n",
       "        } else if (\n",
       "            typeof evt.data === 'string' &&\n",
       "            evt.data.slice(0, 21) === 'data:image/png;base64'\n",
       "        ) {\n",
       "            fig.imageObj.src = evt.data;\n",
       "            fig.updated_canvas_event();\n",
       "            fig.waiting = false;\n",
       "            return;\n",
       "        }\n",
       "\n",
       "        var msg = JSON.parse(evt.data);\n",
       "        var msg_type = msg['type'];\n",
       "\n",
       "        // Call the  \"handle_{type}\" callback, which takes\n",
       "        // the figure and JSON message as its only arguments.\n",
       "        try {\n",
       "            var callback = fig['handle_' + msg_type];\n",
       "        } catch (e) {\n",
       "            console.log(\n",
       "                \"No handler for the '\" + msg_type + \"' message type: \",\n",
       "                msg\n",
       "            );\n",
       "            return;\n",
       "        }\n",
       "\n",
       "        if (callback) {\n",
       "            try {\n",
       "                // console.log(\"Handling '\" + msg_type + \"' message: \", msg);\n",
       "                callback(fig, msg);\n",
       "            } catch (e) {\n",
       "                console.log(\n",
       "                    \"Exception inside the 'handler_\" + msg_type + \"' callback:\",\n",
       "                    e,\n",
       "                    e.stack,\n",
       "                    msg\n",
       "                );\n",
       "            }\n",
       "        }\n",
       "    };\n",
       "};\n",
       "\n",
       "// from http://stackoverflow.com/questions/1114465/getting-mouse-location-in-canvas\n",
       "mpl.findpos = function (e) {\n",
       "    //this section is from http://www.quirksmode.org/js/events_properties.html\n",
       "    var targ;\n",
       "    if (!e) {\n",
       "        e = window.event;\n",
       "    }\n",
       "    if (e.target) {\n",
       "        targ = e.target;\n",
       "    } else if (e.srcElement) {\n",
       "        targ = e.srcElement;\n",
       "    }\n",
       "    if (targ.nodeType === 3) {\n",
       "        // defeat Safari bug\n",
       "        targ = targ.parentNode;\n",
       "    }\n",
       "\n",
       "    // pageX,Y are the mouse positions relative to the document\n",
       "    var boundingRect = targ.getBoundingClientRect();\n",
       "    var x = e.pageX - (boundingRect.left + document.body.scrollLeft);\n",
       "    var y = e.pageY - (boundingRect.top + document.body.scrollTop);\n",
       "\n",
       "    return { x: x, y: y };\n",
       "};\n",
       "\n",
       "/*\n",
       " * return a copy of an object with only non-object keys\n",
       " * we need this to avoid circular references\n",
       " * http://stackoverflow.com/a/24161582/3208463\n",
       " */\n",
       "function simpleKeys(original) {\n",
       "    return Object.keys(original).reduce(function (obj, key) {\n",
       "        if (typeof original[key] !== 'object') {\n",
       "            obj[key] = original[key];\n",
       "        }\n",
       "        return obj;\n",
       "    }, {});\n",
       "}\n",
       "\n",
       "mpl.figure.prototype.mouse_event = function (event, name) {\n",
       "    var canvas_pos = mpl.findpos(event);\n",
       "\n",
       "    if (name === 'button_press') {\n",
       "        this.canvas.focus();\n",
       "        this.canvas_div.focus();\n",
       "    }\n",
       "\n",
       "    var x = canvas_pos.x * this.ratio;\n",
       "    var y = canvas_pos.y * this.ratio;\n",
       "\n",
       "    this.send_message(name, {\n",
       "        x: x,\n",
       "        y: y,\n",
       "        button: event.button,\n",
       "        step: event.step,\n",
       "        guiEvent: simpleKeys(event),\n",
       "    });\n",
       "\n",
       "    /* This prevents the web browser from automatically changing to\n",
       "     * the text insertion cursor when the button is pressed.  We want\n",
       "     * to control all of the cursor setting manually through the\n",
       "     * 'cursor' event from matplotlib */\n",
       "    event.preventDefault();\n",
       "    return false;\n",
       "};\n",
       "\n",
       "mpl.figure.prototype._key_event_extra = function (_event, _name) {\n",
       "    // Handle any extra behaviour associated with a key event\n",
       "};\n",
       "\n",
       "mpl.figure.prototype.key_event = function (event, name) {\n",
       "    // Prevent repeat events\n",
       "    if (name === 'key_press') {\n",
       "        if (event.which === this._key) {\n",
       "            return;\n",
       "        } else {\n",
       "            this._key = event.which;\n",
       "        }\n",
       "    }\n",
       "    if (name === 'key_release') {\n",
       "        this._key = null;\n",
       "    }\n",
       "\n",
       "    var value = '';\n",
       "    if (event.ctrlKey && event.which !== 17) {\n",
       "        value += 'ctrl+';\n",
       "    }\n",
       "    if (event.altKey && event.which !== 18) {\n",
       "        value += 'alt+';\n",
       "    }\n",
       "    if (event.shiftKey && event.which !== 16) {\n",
       "        value += 'shift+';\n",
       "    }\n",
       "\n",
       "    value += 'k';\n",
       "    value += event.which.toString();\n",
       "\n",
       "    this._key_event_extra(event, name);\n",
       "\n",
       "    this.send_message(name, { key: value, guiEvent: simpleKeys(event) });\n",
       "    return false;\n",
       "};\n",
       "\n",
       "mpl.figure.prototype.toolbar_button_onclick = function (name) {\n",
       "    if (name === 'download') {\n",
       "        this.handle_save(this, null);\n",
       "    } else {\n",
       "        this.send_message('toolbar_button', { name: name });\n",
       "    }\n",
       "};\n",
       "\n",
       "mpl.figure.prototype.toolbar_button_onmouseover = function (tooltip) {\n",
       "    this.message.textContent = tooltip;\n",
       "};\n",
       "\n",
       "///////////////// REMAINING CONTENT GENERATED BY embed_js.py /////////////////\n",
       "// prettier-ignore\n",
       "var _JSXTOOLS_RESIZE_OBSERVER=function(A){var t,i=new WeakMap,n=new WeakMap,a=new WeakMap,r=new WeakMap,o=new Set;function s(e){if(!(this instanceof s))throw new TypeError(\"Constructor requires 'new' operator\");i.set(this,e)}function h(){throw new TypeError(\"Function is not a constructor\")}function c(e,t,i,n){e=0 in arguments?Number(arguments[0]):0,t=1 in arguments?Number(arguments[1]):0,i=2 in arguments?Number(arguments[2]):0,n=3 in arguments?Number(arguments[3]):0,this.right=(this.x=this.left=e)+(this.width=i),this.bottom=(this.y=this.top=t)+(this.height=n),Object.freeze(this)}function d(){t=requestAnimationFrame(d);var s=new WeakMap,p=new Set;o.forEach((function(t){r.get(t).forEach((function(i){var r=t instanceof window.SVGElement,o=a.get(t),d=r?0:parseFloat(o.paddingTop),f=r?0:parseFloat(o.paddingRight),l=r?0:parseFloat(o.paddingBottom),u=r?0:parseFloat(o.paddingLeft),g=r?0:parseFloat(o.borderTopWidth),m=r?0:parseFloat(o.borderRightWidth),w=r?0:parseFloat(o.borderBottomWidth),b=u+f,F=d+l,v=(r?0:parseFloat(o.borderLeftWidth))+m,W=g+w,y=r?0:t.offsetHeight-W-t.clientHeight,E=r?0:t.offsetWidth-v-t.clientWidth,R=b+v,z=F+W,M=r?t.width:parseFloat(o.width)-R-E,O=r?t.height:parseFloat(o.height)-z-y;if(n.has(t)){var k=n.get(t);if(k[0]===M&&k[1]===O)return}n.set(t,[M,O]);var S=Object.create(h.prototype);S.target=t,S.contentRect=new c(u,d,M,O),s.has(i)||(s.set(i,[]),p.add(i)),s.get(i).push(S)}))})),p.forEach((function(e){i.get(e).call(e,s.get(e),e)}))}return s.prototype.observe=function(i){if(i instanceof window.Element){r.has(i)||(r.set(i,new Set),o.add(i),a.set(i,window.getComputedStyle(i)));var n=r.get(i);n.has(this)||n.add(this),cancelAnimationFrame(t),t=requestAnimationFrame(d)}},s.prototype.unobserve=function(i){if(i instanceof window.Element&&r.has(i)){var n=r.get(i);n.has(this)&&(n.delete(this),n.size||(r.delete(i),o.delete(i))),n.size||r.delete(i),o.size||cancelAnimationFrame(t)}},A.DOMRectReadOnly=c,A.ResizeObserver=s,A.ResizeObserverEntry=h,A}; // eslint-disable-line\n",
       "mpl.toolbar_items = [[\"Home\", \"Reset original view\", \"fa fa-home icon-home\", \"home\"], [\"Back\", \"Back to previous view\", \"fa fa-arrow-left icon-arrow-left\", \"back\"], [\"Forward\", \"Forward to next view\", \"fa fa-arrow-right icon-arrow-right\", \"forward\"], [\"\", \"\", \"\", \"\"], [\"Pan\", \"Left button pans, Right button zooms\\nx/y fixes axis, CTRL fixes aspect\", \"fa fa-arrows icon-move\", \"pan\"], [\"Zoom\", \"Zoom to rectangle\\nx/y fixes axis, CTRL fixes aspect\", \"fa fa-square-o icon-check-empty\", \"zoom\"], [\"\", \"\", \"\", \"\"], [\"Download\", \"Download plot\", \"fa fa-floppy-o icon-save\", \"download\"]];\n",
       "\n",
       "mpl.extensions = [\"eps\", \"jpeg\", \"pdf\", \"png\", \"ps\", \"raw\", \"svg\", \"tif\"];\n",
       "\n",
       "mpl.default_extension = \"png\";/* global mpl */\n",
       "\n",
       "var comm_websocket_adapter = function (comm) {\n",
       "    // Create a \"websocket\"-like object which calls the given IPython comm\n",
       "    // object with the appropriate methods. Currently this is a non binary\n",
       "    // socket, so there is still some room for performance tuning.\n",
       "    var ws = {};\n",
       "\n",
       "    ws.close = function () {\n",
       "        comm.close();\n",
       "    };\n",
       "    ws.send = function (m) {\n",
       "        //console.log('sending', m);\n",
       "        comm.send(m);\n",
       "    };\n",
       "    // Register the callback with on_msg.\n",
       "    comm.on_msg(function (msg) {\n",
       "        //console.log('receiving', msg['content']['data'], msg);\n",
       "        // Pass the mpl event to the overridden (by mpl) onmessage function.\n",
       "        ws.onmessage(msg['content']['data']);\n",
       "    });\n",
       "    return ws;\n",
       "};\n",
       "\n",
       "mpl.mpl_figure_comm = function (comm, msg) {\n",
       "    // This is the function which gets called when the mpl process\n",
       "    // starts-up an IPython Comm through the \"matplotlib\" channel.\n",
       "\n",
       "    var id = msg.content.data.id;\n",
       "    // Get hold of the div created by the display call when the Comm\n",
       "    // socket was opened in Python.\n",
       "    var element = document.getElementById(id);\n",
       "    var ws_proxy = comm_websocket_adapter(comm);\n",
       "\n",
       "    function ondownload(figure, _format) {\n",
       "        window.open(figure.canvas.toDataURL());\n",
       "    }\n",
       "\n",
       "    var fig = new mpl.figure(id, ws_proxy, ondownload, element);\n",
       "\n",
       "    // Call onopen now - mpl needs it, as it is assuming we've passed it a real\n",
       "    // web socket which is closed, not our websocket->open comm proxy.\n",
       "    ws_proxy.onopen();\n",
       "\n",
       "    fig.parent_element = element;\n",
       "    fig.cell_info = mpl.find_output_cell(\"<div id='\" + id + \"'></div>\");\n",
       "    if (!fig.cell_info) {\n",
       "        console.error('Failed to find cell for figure', id, fig);\n",
       "        return;\n",
       "    }\n",
       "    fig.cell_info[0].output_area.element.on(\n",
       "        'cleared',\n",
       "        { fig: fig },\n",
       "        fig._remove_fig_handler\n",
       "    );\n",
       "};\n",
       "\n",
       "mpl.figure.prototype.handle_close = function (fig, msg) {\n",
       "    var width = fig.canvas.width / fig.ratio;\n",
       "    fig.cell_info[0].output_area.element.off(\n",
       "        'cleared',\n",
       "        fig._remove_fig_handler\n",
       "    );\n",
       "    fig.resizeObserverInstance.unobserve(fig.canvas_div);\n",
       "\n",
       "    // Update the output cell to use the data from the current canvas.\n",
       "    fig.push_to_output();\n",
       "    var dataURL = fig.canvas.toDataURL();\n",
       "    // Re-enable the keyboard manager in IPython - without this line, in FF,\n",
       "    // the notebook keyboard shortcuts fail.\n",
       "    IPython.keyboard_manager.enable();\n",
       "    fig.parent_element.innerHTML =\n",
       "        '<img src=\"' + dataURL + '\" width=\"' + width + '\">';\n",
       "    fig.close_ws(fig, msg);\n",
       "};\n",
       "\n",
       "mpl.figure.prototype.close_ws = function (fig, msg) {\n",
       "    fig.send_message('closing', msg);\n",
       "    // fig.ws.close()\n",
       "};\n",
       "\n",
       "mpl.figure.prototype.push_to_output = function (_remove_interactive) {\n",
       "    // Turn the data on the canvas into data in the output cell.\n",
       "    var width = this.canvas.width / this.ratio;\n",
       "    var dataURL = this.canvas.toDataURL();\n",
       "    this.cell_info[1]['text/html'] =\n",
       "        '<img src=\"' + dataURL + '\" width=\"' + width + '\">';\n",
       "};\n",
       "\n",
       "mpl.figure.prototype.updated_canvas_event = function () {\n",
       "    // Tell IPython that the notebook contents must change.\n",
       "    IPython.notebook.set_dirty(true);\n",
       "    this.send_message('ack', {});\n",
       "    var fig = this;\n",
       "    // Wait a second, then push the new image to the DOM so\n",
       "    // that it is saved nicely (might be nice to debounce this).\n",
       "    setTimeout(function () {\n",
       "        fig.push_to_output();\n",
       "    }, 1000);\n",
       "};\n",
       "\n",
       "mpl.figure.prototype._init_toolbar = function () {\n",
       "    var fig = this;\n",
       "\n",
       "    var toolbar = document.createElement('div');\n",
       "    toolbar.classList = 'btn-toolbar';\n",
       "    this.root.appendChild(toolbar);\n",
       "\n",
       "    function on_click_closure(name) {\n",
       "        return function (_event) {\n",
       "            return fig.toolbar_button_onclick(name);\n",
       "        };\n",
       "    }\n",
       "\n",
       "    function on_mouseover_closure(tooltip) {\n",
       "        return function (event) {\n",
       "            if (!event.currentTarget.disabled) {\n",
       "                return fig.toolbar_button_onmouseover(tooltip);\n",
       "            }\n",
       "        };\n",
       "    }\n",
       "\n",
       "    fig.buttons = {};\n",
       "    var buttonGroup = document.createElement('div');\n",
       "    buttonGroup.classList = 'btn-group';\n",
       "    var button;\n",
       "    for (var toolbar_ind in mpl.toolbar_items) {\n",
       "        var name = mpl.toolbar_items[toolbar_ind][0];\n",
       "        var tooltip = mpl.toolbar_items[toolbar_ind][1];\n",
       "        var image = mpl.toolbar_items[toolbar_ind][2];\n",
       "        var method_name = mpl.toolbar_items[toolbar_ind][3];\n",
       "\n",
       "        if (!name) {\n",
       "            /* Instead of a spacer, we start a new button group. */\n",
       "            if (buttonGroup.hasChildNodes()) {\n",
       "                toolbar.appendChild(buttonGroup);\n",
       "            }\n",
       "            buttonGroup = document.createElement('div');\n",
       "            buttonGroup.classList = 'btn-group';\n",
       "            continue;\n",
       "        }\n",
       "\n",
       "        button = fig.buttons[name] = document.createElement('button');\n",
       "        button.classList = 'btn btn-default';\n",
       "        button.href = '#';\n",
       "        button.title = name;\n",
       "        button.innerHTML = '<i class=\"fa ' + image + ' fa-lg\"></i>';\n",
       "        button.addEventListener('click', on_click_closure(method_name));\n",
       "        button.addEventListener('mouseover', on_mouseover_closure(tooltip));\n",
       "        buttonGroup.appendChild(button);\n",
       "    }\n",
       "\n",
       "    if (buttonGroup.hasChildNodes()) {\n",
       "        toolbar.appendChild(buttonGroup);\n",
       "    }\n",
       "\n",
       "    // Add the status bar.\n",
       "    var status_bar = document.createElement('span');\n",
       "    status_bar.classList = 'mpl-message pull-right';\n",
       "    toolbar.appendChild(status_bar);\n",
       "    this.message = status_bar;\n",
       "\n",
       "    // Add the close button to the window.\n",
       "    var buttongrp = document.createElement('div');\n",
       "    buttongrp.classList = 'btn-group inline pull-right';\n",
       "    button = document.createElement('button');\n",
       "    button.classList = 'btn btn-mini btn-primary';\n",
       "    button.href = '#';\n",
       "    button.title = 'Stop Interaction';\n",
       "    button.innerHTML = '<i class=\"fa fa-power-off icon-remove icon-large\"></i>';\n",
       "    button.addEventListener('click', function (_evt) {\n",
       "        fig.handle_close(fig, {});\n",
       "    });\n",
       "    button.addEventListener(\n",
       "        'mouseover',\n",
       "        on_mouseover_closure('Stop Interaction')\n",
       "    );\n",
       "    buttongrp.appendChild(button);\n",
       "    var titlebar = this.root.querySelector('.ui-dialog-titlebar');\n",
       "    titlebar.insertBefore(buttongrp, titlebar.firstChild);\n",
       "};\n",
       "\n",
       "mpl.figure.prototype._remove_fig_handler = function (event) {\n",
       "    var fig = event.data.fig;\n",
       "    if (event.target !== this) {\n",
       "        // Ignore bubbled events from children.\n",
       "        return;\n",
       "    }\n",
       "    fig.close_ws(fig, {});\n",
       "};\n",
       "\n",
       "mpl.figure.prototype._root_extra_style = function (el) {\n",
       "    el.style.boxSizing = 'content-box'; // override notebook setting of border-box.\n",
       "};\n",
       "\n",
       "mpl.figure.prototype._canvas_extra_style = function (el) {\n",
       "    // this is important to make the div 'focusable\n",
       "    el.setAttribute('tabindex', 0);\n",
       "    // reach out to IPython and tell the keyboard manager to turn it's self\n",
       "    // off when our div gets focus\n",
       "\n",
       "    // location in version 3\n",
       "    if (IPython.notebook.keyboard_manager) {\n",
       "        IPython.notebook.keyboard_manager.register_events(el);\n",
       "    } else {\n",
       "        // location in version 2\n",
       "        IPython.keyboard_manager.register_events(el);\n",
       "    }\n",
       "};\n",
       "\n",
       "mpl.figure.prototype._key_event_extra = function (event, _name) {\n",
       "    var manager = IPython.notebook.keyboard_manager;\n",
       "    if (!manager) {\n",
       "        manager = IPython.keyboard_manager;\n",
       "    }\n",
       "\n",
       "    // Check for shift+enter\n",
       "    if (event.shiftKey && event.which === 13) {\n",
       "        this.canvas_div.blur();\n",
       "        // select the cell after this one\n",
       "        var index = IPython.notebook.find_cell_index(this.cell_info[0]);\n",
       "        IPython.notebook.select(index + 1);\n",
       "    }\n",
       "};\n",
       "\n",
       "mpl.figure.prototype.handle_save = function (fig, _msg) {\n",
       "    fig.ondownload(fig, null);\n",
       "};\n",
       "\n",
       "mpl.find_output_cell = function (html_output) {\n",
       "    // Return the cell and output element which can be found *uniquely* in the notebook.\n",
       "    // Note - this is a bit hacky, but it is done because the \"notebook_saving.Notebook\"\n",
       "    // IPython event is triggered only after the cells have been serialised, which for\n",
       "    // our purposes (turning an active figure into a static one), is too late.\n",
       "    var cells = IPython.notebook.get_cells();\n",
       "    var ncells = cells.length;\n",
       "    for (var i = 0; i < ncells; i++) {\n",
       "        var cell = cells[i];\n",
       "        if (cell.cell_type === 'code') {\n",
       "            for (var j = 0; j < cell.output_area.outputs.length; j++) {\n",
       "                var data = cell.output_area.outputs[j];\n",
       "                if (data.data) {\n",
       "                    // IPython >= 3 moved mimebundle to data attribute of output\n",
       "                    data = data.data;\n",
       "                }\n",
       "                if (data['text/html'] === html_output) {\n",
       "                    return [cell, data, j];\n",
       "                }\n",
       "            }\n",
       "        }\n",
       "    }\n",
       "};\n",
       "\n",
       "// Register the function which deals with the matplotlib target/channel.\n",
       "// The kernel may be null if the page has been refreshed.\n",
       "if (IPython.notebook.kernel !== null) {\n",
       "    IPython.notebook.kernel.comm_manager.register_target(\n",
       "        'matplotlib',\n",
       "        mpl.mpl_figure_comm\n",
       "    );\n",
       "}\n"
      ],
      "text/plain": [
       "<IPython.core.display.Javascript object>"
      ]
     },
     "metadata": {},
     "output_type": "display_data"
    },
    {
     "data": {
      "text/html": [
       "<img src=\"data:image/png;base64,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\" width=\"1500\">"
      ],
      "text/plain": [
       "<IPython.core.display.HTML object>"
      ]
     },
     "metadata": {},
     "output_type": "display_data"
    }
   ],
   "source": [
    "fig = plt.figure(figsize=(15, 5))\n",
    "\n",
    "ax1 = fig.add_subplot(1, 3, 1)\n",
    "ax2 = fig.add_subplot(1, 3, 2)\n",
    "ax3 = fig.add_subplot(1, 3, 3)\n",
    "\n",
    "ax1.boxplot(x=df[df['origin'] == 1][\"mpg\"])\n",
    "ax2.boxplot(x=df[df['origin'] == 2][\"mpg\"])\n",
    "ax3.boxplot(x=df[df['origin'] == 3][\"mpg\"])\n",
    "\n",
    "plt.show()"
   ]
  }
 ],
 "metadata": {
  "kernelspec": {
   "display_name": "Python 3",
   "language": "python",
   "name": "python3"
  },
  "language_info": {
   "codemirror_mode": {
    "name": "ipython",
    "version": 3
   },
   "file_extension": ".py",
   "mimetype": "text/x-python",
   "name": "python",
   "nbconvert_exporter": "python",
   "pygments_lexer": "ipython3",
   "version": "3.8.8"
  },
  "toc": {
   "base_numbering": 1,
   "nav_menu": {},
   "number_sections": true,
   "sideBar": true,
   "skip_h1_title": false,
   "title_cell": "Table of Contents",
   "title_sidebar": "Contents",
   "toc_cell": false,
   "toc_position": {
    "height": "calc(100% - 180px)",
    "left": "10px",
    "top": "150px",
    "width": "243.07px"
   },
   "toc_section_display": true,
   "toc_window_display": false
  },
  "varInspector": {
   "cols": {
    "lenName": 16,
    "lenType": 16,
    "lenVar": 40
   },
   "kernels_config": {
    "python": {
     "delete_cmd_postfix": "",
     "delete_cmd_prefix": "del ",
     "library": "var_list.py",
     "varRefreshCmd": "print(var_dic_list())"
    },
    "r": {
     "delete_cmd_postfix": ") ",
     "delete_cmd_prefix": "rm(",
     "library": "var_list.r",
     "varRefreshCmd": "cat(var_dic_list()) "
    }
   },
   "types_to_exclude": [
    "module",
    "function",
    "builtin_function_or_method",
    "instance",
    "_Feature"
   ],
   "window_display": false
  }
 },
 "nbformat": 4,
 "nbformat_minor": 4
}
